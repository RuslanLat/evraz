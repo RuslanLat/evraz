{
 "cells": [
  {
   "cell_type": "markdown",
   "id": "21290728",
   "metadata": {},
   "source": [
    "## 1. Анализ примера записи данных сигналов"
   ]
  },
  {
   "cell_type": "code",
   "execution_count": 53,
   "id": "a7f9aead",
   "metadata": {},
   "outputs": [],
   "source": [
    "# загрузка библиотеки для работы с json файлами\n",
    "import json"
   ]
  },
  {
   "cell_type": "code",
   "execution_count": 54,
   "id": "1df3aa7f",
   "metadata": {},
   "outputs": [],
   "source": [
    "# загрузка файла с данными сигналов\n",
    "with open('data/example_kafka.json') as f:\n",
    "    example_kafka = json.load(f)"
   ]
  },
  {
   "cell_type": "code",
   "execution_count": 55,
   "id": "861f4064",
   "metadata": {},
   "outputs": [
    {
     "data": {
      "text/plain": [
       "dict_keys(['Timestamp', 'Topic', 'Partition', 'Offset', 'Key', 'Headers', 'Message'])"
      ]
     },
     "execution_count": 55,
     "metadata": {},
     "output_type": "execute_result"
    }
   ],
   "source": [
    "# вывод ключей к данным \n",
    "example_kafka[0].keys()"
   ]
  },
  {
   "cell_type": "code",
   "execution_count": 56,
   "id": "bfa99c12",
   "metadata": {},
   "outputs": [
    {
     "data": {
      "text/plain": [
       "dict_keys(['moment', 'SM_Exgauster\\\\[0:0]', 'SM_Exgauster\\\\[0:1]', 'SM_Exgauster\\\\[0:2]', 'SM_Exgauster\\\\[0:3]', 'SM_Exgauster\\\\[0:4]', 'SM_Exgauster\\\\[0:5]', 'SM_Exgauster\\\\[0:6]', 'SM_Exgauster\\\\[0:7]', 'SM_Exgauster\\\\[0:8]', 'SM_Exgauster\\\\[0:9]', 'SM_Exgauster\\\\[0:10]', 'SM_Exgauster\\\\[0:11]', 'SM_Exgauster\\\\[0:12]', 'SM_Exgauster\\\\[0:13]', 'SM_Exgauster\\\\[0:14]', 'SM_Exgauster\\\\[0:15]', 'SM_Exgauster\\\\[0:16]', 'SM_Exgauster\\\\[0:17]', 'SM_Exgauster\\\\[0:18]', 'SM_Exgauster\\\\[0:19]', 'SM_Exgauster\\\\[0:20]', 'SM_Exgauster\\\\[0:21]', 'SM_Exgauster\\\\[0:22]', 'SM_Exgauster\\\\[0:23]', 'SM_Exgauster\\\\[0:24]', 'SM_Exgauster\\\\[0:25]', 'SM_Exgauster\\\\[0:27]', 'SM_Exgauster\\\\[0:28]', 'SM_Exgauster\\\\[0:29]', 'SM_Exgauster\\\\[0:30]', 'SM_Exgauster\\\\[0:31]', 'SM_Exgauster\\\\[0:32]', 'SM_Exgauster\\\\[0:33]', 'SM_Exgauster\\\\[0:34]', 'SM_Exgauster\\\\[0:35]', 'SM_Exgauster\\\\[0:36]', 'SM_Exgauster\\\\[0:37]', 'SM_Exgauster\\\\[0:41]', 'SM_Exgauster\\\\[0:42]', 'SM_Exgauster\\\\[0:43]', 'SM_Exgauster\\\\[0:44]', 'SM_Exgauster\\\\[0:45]', 'SM_Exgauster\\\\[0:46]', 'SM_Exgauster\\\\[0:47]', 'SM_Exgauster\\\\[0:48]', 'SM_Exgauster\\\\[0:49]', 'SM_Exgauster\\\\[0:50]', 'SM_Exgauster\\\\[0:51]', 'SM_Exgauster\\\\[0:52]', 'SM_Exgauster\\\\[0:53]', 'SM_Exgauster\\\\[0:54]', 'SM_Exgauster\\\\[0:55]', 'SM_Exgauster\\\\[0:56]', 'SM_Exgauster\\\\[0:57]', 'SM_Exgauster\\\\[0:58]', 'SM_Exgauster\\\\[0:59]', 'SM_Exgauster\\\\[0:60]', 'SM_Exgauster\\\\[0:61]', 'SM_Exgauster\\\\[0:62]', 'SM_Exgauster\\\\[0:63]', 'SM_Exgauster\\\\[0:64]', 'SM_Exgauster\\\\[0:65]', 'SM_Exgauster\\\\[0:66]', 'SM_Exgauster\\\\[0:67]', 'SM_Exgauster\\\\[0:68]', 'SM_Exgauster\\\\[0:69]', 'SM_Exgauster\\\\[0:70]', 'SM_Exgauster\\\\[0:71]', 'SM_Exgauster\\\\[0:72]', 'SM_Exgauster\\\\[0:73]', 'SM_Exgauster\\\\[0:74]', 'SM_Exgauster\\\\[0:75]', 'SM_Exgauster\\\\[0:76]', 'SM_Exgauster\\\\[0:77]', 'SM_Exgauster\\\\[0:78]', 'SM_Exgauster\\\\[0:79]', 'SM_Exgauster\\\\[0:80]', 'SM_Exgauster\\\\[0:81]', 'SM_Exgauster\\\\[0:82]', 'SM_Exgauster\\\\[0:83]', 'SM_Exgauster\\\\[0:84]', 'SM_Exgauster\\\\[0:85]', 'SM_Exgauster\\\\[0:86]', 'SM_Exgauster\\\\[0:87]', 'SM_Exgauster\\\\[0:88]', 'SM_Exgauster\\\\[0:89]', 'SM_Exgauster\\\\[0:90]', 'SM_Exgauster\\\\[0:91]', 'SM_Exgauster\\\\[0:92]', 'SM_Exgauster\\\\[0:93]', 'SM_Exgauster\\\\[0:94]', 'SM_Exgauster\\\\[0:95]', 'SM_Exgauster\\\\[0:96]', 'SM_Exgauster\\\\[0:97]', 'SM_Exgauster\\\\[0:98]', 'SM_Exgauster\\\\[0:99]', 'SM_Exgauster\\\\[0:100]', 'SM_Exgauster\\\\[0:101]', 'SM_Exgauster\\\\[0:102]', 'SM_Exgauster\\\\[0:103]', 'SM_Exgauster\\\\[0:104]', 'SM_Exgauster\\\\[0:105]', 'SM_Exgauster\\\\[0:106]', 'SM_Exgauster\\\\[0:107]', 'SM_Exgauster\\\\[0:108]', 'SM_Exgauster\\\\[0:109]', 'SM_Exgauster\\\\[0:110]', 'SM_Exgauster\\\\[0:111]', 'SM_Exgauster\\\\[0:112]', 'SM_Exgauster\\\\[0:113]', 'SM_Exgauster\\\\[0:114]', 'SM_Exgauster\\\\[0:115]', 'SM_Exgauster\\\\[0:116]', 'SM_Exgauster\\\\[0:117]', 'SM_Exgauster\\\\[0:118]', 'SM_Exgauster\\\\[0:119]', 'SM_Exgauster\\\\[0:120]', 'SM_Exgauster\\\\[0:121]', 'SM_Exgauster\\\\[0:122]', 'SM_Exgauster\\\\[0:123]', 'SM_Exgauster\\\\[0:124]', 'SM_Exgauster\\\\[0:125]', 'SM_Exgauster\\\\[0:126]', 'SM_Exgauster\\\\[0:127]', 'SM_Exgauster\\\\[0:128]', 'SM_Exgauster\\\\[0:129]', 'SM_Exgauster\\\\[0:130]', 'SM_Exgauster\\\\[0:131]', 'SM_Exgauster\\\\[0:132]', 'SM_Exgauster\\\\[0:133]', 'SM_Exgauster\\\\[0:134]', 'SM_Exgauster\\\\[0:135]', 'SM_Exgauster\\\\[0:136]', 'SM_Exgauster\\\\[0:137]', 'SM_Exgauster\\\\[0:138]', 'SM_Exgauster\\\\[0:139]', 'SM_Exgauster\\\\[0:140]', 'SM_Exgauster\\\\[0:141]', 'SM_Exgauster\\\\[0:142]', 'SM_Exgauster\\\\[0:143]', 'SM_Exgauster\\\\[0:144]', 'SM_Exgauster\\\\[0:145]', 'SM_Exgauster\\\\[0:146]', 'SM_Exgauster\\\\[0:147]', 'SM_Exgauster\\\\[0:148]', 'SM_Exgauster\\\\[0:149]', 'SM_Exgauster\\\\[0:150]', 'SM_Exgauster\\\\[0:151]', 'SM_Exgauster\\\\[0:152]', 'SM_Exgauster\\\\[0:153]', 'SM_Exgauster\\\\[0:154]', 'SM_Exgauster\\\\[0:155]', 'SM_Exgauster\\\\[0:156]', 'SM_Exgauster\\\\[0:157]', 'SM_Exgauster\\\\[0:158]', 'SM_Exgauster\\\\[0:159]', 'SM_Exgauster\\\\[0:160]', 'SM_Exgauster\\\\[0:161]', 'SM_Exgauster\\\\[0:162]', 'SM_Exgauster\\\\[0:163]', 'SM_Exgauster\\\\[0:164]', 'SM_Exgauster\\\\[0:165]', 'SM_Exgauster\\\\[0:166]', 'SM_Exgauster\\\\[0:167]', 'SM_Exgauster\\\\[0:168]', 'SM_Exgauster\\\\[0:169]', 'SM_Exgauster\\\\[0:170]', 'SM_Exgauster\\\\[0:171]', 'SM_Exgauster\\\\[0:172]', 'SM_Exgauster\\\\[0:173]', 'SM_Exgauster\\\\[0:174]', 'SM_Exgauster\\\\[0:175]', 'SM_Exgauster\\\\[0:176]', 'SM_Exgauster\\\\[0:177]', 'SM_Exgauster\\\\[0:178]', 'SM_Exgauster\\\\[0:179]', 'SM_Exgauster\\\\[0:180]', 'SM_Exgauster\\\\[0:181]', 'SM_Exgauster\\\\[0:182]', 'SM_Exgauster\\\\[0:183]', 'SM_Exgauster\\\\[0:184]', 'SM_Exgauster\\\\[0:185]', 'SM_Exgauster\\\\[0:186]', 'SM_Exgauster\\\\[0:187]', 'SM_Exgauster\\\\[0:188]', 'SM_Exgauster\\\\[0:189]', 'SM_Exgauster\\\\[0:190]', 'SM_Exgauster\\\\[0:191]', 'SM_Exgauster\\\\[0:192]', 'SM_Exgauster\\\\[0:193]', 'SM_Exgauster\\\\[0:194]', 'SM_Exgauster\\\\[0:195]', 'SM_Exgauster\\\\[0:196]', 'SM_Exgauster\\\\[0:197]', 'SM_Exgauster\\\\[0:198]', 'SM_Exgauster\\\\[0:199]', 'SM_Exgauster\\\\[0:200]', 'SM_Exgauster\\\\[0:201]', 'SM_Exgauster\\\\[0:202]', 'SM_Exgauster\\\\[0:203]', 'SM_Exgauster\\\\[0:204]', 'SM_Exgauster\\\\[0:205]', 'SM_Exgauster\\\\[0:206]', 'SM_Exgauster\\\\[0:207]', 'SM_Exgauster\\\\[0:208]', 'SM_Exgauster\\\\[0:209]', 'SM_Exgauster\\\\[0:210]', 'SM_Exgauster\\\\[0:211]', 'SM_Exgauster\\\\[0:212]', 'SM_Exgauster\\\\[0:213]', 'SM_Exgauster\\\\[0:214]', 'SM_Exgauster\\\\[0:215]', 'SM_Exgauster\\\\[0:216]', 'SM_Exgauster\\\\[0:217]', 'SM_Exgauster\\\\[0:218]', 'SM_Exgauster\\\\[0:219]', 'SM_Exgauster\\\\[0:220]', 'SM_Exgauster\\\\[0:221]', 'SM_Exgauster\\\\[0:222]', 'SM_Exgauster\\\\[0:223]', 'SM_Exgauster\\\\[0:224]', 'SM_Exgauster\\\\[0:225]', 'SM_Exgauster\\\\[0:226]', 'SM_Exgauster\\\\[0:227]', 'SM_Exgauster\\\\[0:228]', 'SM_Exgauster\\\\[0:229]', 'SM_Exgauster\\\\[0:230]', 'SM_Exgauster\\\\[0.0]', 'SM_Exgauster\\\\[0.1]', 'SM_Exgauster\\\\[1:0]', 'SM_Exgauster\\\\[1:1]', 'SM_Exgauster\\\\[1:2]', 'SM_Exgauster\\\\[1:3]', 'SM_Exgauster\\\\[1:4]', 'SM_Exgauster\\\\[1:5]', 'SM_Exgauster\\\\[1:6]', 'SM_Exgauster\\\\[1:7]', 'SM_Exgauster\\\\[1:8]', 'SM_Exgauster\\\\[1:9]', 'SM_Exgauster\\\\[1:10]', 'SM_Exgauster\\\\[1:11]', 'SM_Exgauster\\\\[1:12]', 'SM_Exgauster\\\\[1:13]', 'SM_Exgauster\\\\[1.0]', 'SM_Exgauster\\\\[1.1]', 'SM_Exgauster\\\\[1.2]', 'SM_Exgauster\\\\[1.3]', 'SM_Exgauster\\\\[1.4]', 'SM_Exgauster\\\\[1.5]', 'SM_Exgauster\\\\[1.6]', 'SM_Exgauster\\\\[1.7]', 'SM_Exgauster\\\\[1.8]', 'SM_Exgauster\\\\[1.9]', 'SM_Exgauster\\\\[2:0]', 'SM_Exgauster\\\\[2:1]', 'SM_Exgauster\\\\[2:2]', 'SM_Exgauster\\\\[2:3]', 'SM_Exgauster\\\\[2:4]', 'SM_Exgauster\\\\[2:5]', 'SM_Exgauster\\\\[2:6]', 'SM_Exgauster\\\\[2:7]', 'SM_Exgauster\\\\[2:8]', 'SM_Exgauster\\\\[2:9]', 'SM_Exgauster\\\\[2:10]', 'SM_Exgauster\\\\[2:11]', 'SM_Exgauster\\\\[2:12]', 'SM_Exgauster\\\\[2:13]', 'SM_Exgauster\\\\[2:14]', 'SM_Exgauster\\\\[2:15]', 'SM_Exgauster\\\\[2:16]', 'SM_Exgauster\\\\[2:17]', 'SM_Exgauster\\\\[2:18]', 'SM_Exgauster\\\\[2:19]', 'SM_Exgauster\\\\[2:20]', 'SM_Exgauster\\\\[2:21]', 'SM_Exgauster\\\\[2:22]', 'SM_Exgauster\\\\[2:23]', 'SM_Exgauster\\\\[2:24]', 'SM_Exgauster\\\\[2:25]', 'SM_Exgauster\\\\[2:27]', 'SM_Exgauster\\\\[2:28]', 'SM_Exgauster\\\\[2:29]', 'SM_Exgauster\\\\[2:30]', 'SM_Exgauster\\\\[2:31]', 'SM_Exgauster\\\\[2:32]', 'SM_Exgauster\\\\[2:33]', 'SM_Exgauster\\\\[2:34]', 'SM_Exgauster\\\\[2:35]', 'SM_Exgauster\\\\[2:36]', 'SM_Exgauster\\\\[2:37]', 'SM_Exgauster\\\\[2:41]', 'SM_Exgauster\\\\[2:42]', 'SM_Exgauster\\\\[2:43]', 'SM_Exgauster\\\\[2:44]', 'SM_Exgauster\\\\[2:45]', 'SM_Exgauster\\\\[2:46]', 'SM_Exgauster\\\\[2:47]', 'SM_Exgauster\\\\[2:48]', 'SM_Exgauster\\\\[2:49]', 'SM_Exgauster\\\\[2:50]', 'SM_Exgauster\\\\[2:51]', 'SM_Exgauster\\\\[2:52]', 'SM_Exgauster\\\\[2:53]', 'SM_Exgauster\\\\[2:54]', 'SM_Exgauster\\\\[2:55]', 'SM_Exgauster\\\\[2:56]', 'SM_Exgauster\\\\[2:57]', 'SM_Exgauster\\\\[2:58]', 'SM_Exgauster\\\\[2:59]', 'SM_Exgauster\\\\[2:60]', 'SM_Exgauster\\\\[2:61]', 'SM_Exgauster\\\\[2:62]', 'SM_Exgauster\\\\[2:63]', 'SM_Exgauster\\\\[2:64]', 'SM_Exgauster\\\\[2:65]', 'SM_Exgauster\\\\[2:66]', 'SM_Exgauster\\\\[2:67]', 'SM_Exgauster\\\\[2:68]', 'SM_Exgauster\\\\[2:69]', 'SM_Exgauster\\\\[2:70]', 'SM_Exgauster\\\\[2:71]', 'SM_Exgauster\\\\[2:72]', 'SM_Exgauster\\\\[2:73]', 'SM_Exgauster\\\\[2:74]', 'SM_Exgauster\\\\[2:75]', 'SM_Exgauster\\\\[2:76]', 'SM_Exgauster\\\\[2:77]', 'SM_Exgauster\\\\[2:78]', 'SM_Exgauster\\\\[2:79]', 'SM_Exgauster\\\\[2:80]', 'SM_Exgauster\\\\[2:81]', 'SM_Exgauster\\\\[2:82]', 'SM_Exgauster\\\\[2:83]', 'SM_Exgauster\\\\[2:84]', 'SM_Exgauster\\\\[2:85]', 'SM_Exgauster\\\\[2:86]', 'SM_Exgauster\\\\[2:87]', 'SM_Exgauster\\\\[2:88]', 'SM_Exgauster\\\\[2:89]', 'SM_Exgauster\\\\[2:90]', 'SM_Exgauster\\\\[2:91]', 'SM_Exgauster\\\\[2:92]', 'SM_Exgauster\\\\[2:93]', 'SM_Exgauster\\\\[2:94]', 'SM_Exgauster\\\\[2:95]', 'SM_Exgauster\\\\[2:96]', 'SM_Exgauster\\\\[2:97]', 'SM_Exgauster\\\\[2:98]', 'SM_Exgauster\\\\[2:99]', 'SM_Exgauster\\\\[2:100]', 'SM_Exgauster\\\\[2:101]', 'SM_Exgauster\\\\[2:102]', 'SM_Exgauster\\\\[2:103]', 'SM_Exgauster\\\\[2:104]', 'SM_Exgauster\\\\[2:105]', 'SM_Exgauster\\\\[2:106]', 'SM_Exgauster\\\\[2:107]', 'SM_Exgauster\\\\[2:108]', 'SM_Exgauster\\\\[2:109]', 'SM_Exgauster\\\\[2:110]', 'SM_Exgauster\\\\[2:111]', 'SM_Exgauster\\\\[2:112]', 'SM_Exgauster\\\\[2:113]', 'SM_Exgauster\\\\[2:114]', 'SM_Exgauster\\\\[2:115]', 'SM_Exgauster\\\\[2:116]', 'SM_Exgauster\\\\[2:117]', 'SM_Exgauster\\\\[2:118]', 'SM_Exgauster\\\\[2:119]', 'SM_Exgauster\\\\[2:120]', 'SM_Exgauster\\\\[2:121]', 'SM_Exgauster\\\\[2:122]', 'SM_Exgauster\\\\[2:123]', 'SM_Exgauster\\\\[2:124]', 'SM_Exgauster\\\\[2:125]', 'SM_Exgauster\\\\[2:126]', 'SM_Exgauster\\\\[2:127]', 'SM_Exgauster\\\\[2:128]', 'SM_Exgauster\\\\[2:129]', 'SM_Exgauster\\\\[2:130]', 'SM_Exgauster\\\\[2:131]', 'SM_Exgauster\\\\[2:132]', 'SM_Exgauster\\\\[2:133]', 'SM_Exgauster\\\\[2:134]', 'SM_Exgauster\\\\[2:135]', 'SM_Exgauster\\\\[2:136]', 'SM_Exgauster\\\\[2:137]', 'SM_Exgauster\\\\[2:138]', 'SM_Exgauster\\\\[2:139]', 'SM_Exgauster\\\\[2:140]', 'SM_Exgauster\\\\[2:141]', 'SM_Exgauster\\\\[2:142]', 'SM_Exgauster\\\\[2:143]', 'SM_Exgauster\\\\[2:144]', 'SM_Exgauster\\\\[2:145]', 'SM_Exgauster\\\\[2:146]', 'SM_Exgauster\\\\[2:147]', 'SM_Exgauster\\\\[2:148]', 'SM_Exgauster\\\\[2:149]', 'SM_Exgauster\\\\[2:150]', 'SM_Exgauster\\\\[2:151]', 'SM_Exgauster\\\\[2:152]', 'SM_Exgauster\\\\[2:153]', 'SM_Exgauster\\\\[2:154]', 'SM_Exgauster\\\\[2:155]', 'SM_Exgauster\\\\[2:156]', 'SM_Exgauster\\\\[2:157]', 'SM_Exgauster\\\\[2:158]', 'SM_Exgauster\\\\[2:159]', 'SM_Exgauster\\\\[2:160]', 'SM_Exgauster\\\\[2:161]', 'SM_Exgauster\\\\[2:162]', 'SM_Exgauster\\\\[2:163]', 'SM_Exgauster\\\\[2:164]', 'SM_Exgauster\\\\[2:165]', 'SM_Exgauster\\\\[2:166]', 'SM_Exgauster\\\\[2:167]', 'SM_Exgauster\\\\[2:168]', 'SM_Exgauster\\\\[2:169]', 'SM_Exgauster\\\\[2:170]', 'SM_Exgauster\\\\[2:171]', 'SM_Exgauster\\\\[2:172]', 'SM_Exgauster\\\\[2:173]', 'SM_Exgauster\\\\[2:174]', 'SM_Exgauster\\\\[2:175]', 'SM_Exgauster\\\\[2:176]', 'SM_Exgauster\\\\[2:177]', 'SM_Exgauster\\\\[2:178]', 'SM_Exgauster\\\\[2:179]', 'SM_Exgauster\\\\[2:180]', 'SM_Exgauster\\\\[2:181]', 'SM_Exgauster\\\\[2:182]', 'SM_Exgauster\\\\[2:183]', 'SM_Exgauster\\\\[2:184]', 'SM_Exgauster\\\\[2:185]', 'SM_Exgauster\\\\[2:186]', 'SM_Exgauster\\\\[2:187]', 'SM_Exgauster\\\\[2:188]', 'SM_Exgauster\\\\[2:189]', 'SM_Exgauster\\\\[2:190]', 'SM_Exgauster\\\\[2:191]', 'SM_Exgauster\\\\[2:192]', 'SM_Exgauster\\\\[2:193]', 'SM_Exgauster\\\\[2:194]', 'SM_Exgauster\\\\[2:195]', 'SM_Exgauster\\\\[2:196]', 'SM_Exgauster\\\\[2:197]', 'SM_Exgauster\\\\[2:198]', 'SM_Exgauster\\\\[2:199]', 'SM_Exgauster\\\\[2:200]', 'SM_Exgauster\\\\[2:201]', 'SM_Exgauster\\\\[2:202]', 'SM_Exgauster\\\\[2:203]', 'SM_Exgauster\\\\[2:204]', 'SM_Exgauster\\\\[2:205]', 'SM_Exgauster\\\\[2:206]', 'SM_Exgauster\\\\[2:207]', 'SM_Exgauster\\\\[2:208]', 'SM_Exgauster\\\\[2:209]', 'SM_Exgauster\\\\[2:210]', 'SM_Exgauster\\\\[2:211]', 'SM_Exgauster\\\\[2:212]', 'SM_Exgauster\\\\[2:213]', 'SM_Exgauster\\\\[2:214]', 'SM_Exgauster\\\\[2:215]', 'SM_Exgauster\\\\[2:216]', 'SM_Exgauster\\\\[2:217]', 'SM_Exgauster\\\\[2:218]', 'SM_Exgauster\\\\[2:219]', 'SM_Exgauster\\\\[2:220]', 'SM_Exgauster\\\\[2:221]', 'SM_Exgauster\\\\[2:222]', 'SM_Exgauster\\\\[2:223]', 'SM_Exgauster\\\\[2:224]', 'SM_Exgauster\\\\[2:225]', 'SM_Exgauster\\\\[2:226]', 'SM_Exgauster\\\\[2:227]', 'SM_Exgauster\\\\[2:228]', 'SM_Exgauster\\\\[2:229]', 'SM_Exgauster\\\\[2:230]', 'SM_Exgauster\\\\[2:231]', 'SM_Exgauster\\\\[2:232]', 'SM_Exgauster\\\\[2.0]', 'SM_Exgauster\\\\[2.1]', 'SM_Exgauster\\\\[3:0]', 'SM_Exgauster\\\\[3:1]', 'SM_Exgauster\\\\[3:2]', 'SM_Exgauster\\\\[3:3]', 'SM_Exgauster\\\\[3:4]', 'SM_Exgauster\\\\[3:5]', 'SM_Exgauster\\\\[3:6]', 'SM_Exgauster\\\\[3:7]', 'SM_Exgauster\\\\[3:8]', 'SM_Exgauster\\\\[3:9]', 'SM_Exgauster\\\\[3:10]', 'SM_Exgauster\\\\[3:11]', 'SM_Exgauster\\\\[3:12]', 'SM_Exgauster\\\\[3:13]', 'SM_Exgauster\\\\[3:14]', 'SM_Exgauster\\\\[3:15]', 'SM_Exgauster\\\\[3:16]', 'SM_Exgauster\\\\[3:17]', 'SM_Exgauster\\\\[3:18]', 'SM_Exgauster\\\\[3:19]', 'SM_Exgauster\\\\[3:20]', 'SM_Exgauster\\\\[3:21]', 'SM_Exgauster\\\\[3:22]', 'SM_Exgauster\\\\[3:23]', 'SM_Exgauster\\\\[3:24]', 'SM_Exgauster\\\\[3:25]', 'SM_Exgauster\\\\[3:27]', 'SM_Exgauster\\\\[3:28]', 'SM_Exgauster\\\\[3:29]', 'SM_Exgauster\\\\[3:30]', 'SM_Exgauster\\\\[3:31]', 'SM_Exgauster\\\\[3:32]', 'SM_Exgauster\\\\[3:33]', 'SM_Exgauster\\\\[3:34]', 'SM_Exgauster\\\\[3:35]', 'SM_Exgauster\\\\[3:36]', 'SM_Exgauster\\\\[3:37]', 'SM_Exgauster\\\\[3:41]', 'SM_Exgauster\\\\[3:42]', 'SM_Exgauster\\\\[3:43]', 'SM_Exgauster\\\\[3:44]', 'SM_Exgauster\\\\[3:45]', 'SM_Exgauster\\\\[3:46]', 'SM_Exgauster\\\\[3:47]', 'SM_Exgauster\\\\[3:48]', 'SM_Exgauster\\\\[3:49]', 'SM_Exgauster\\\\[3:50]', 'SM_Exgauster\\\\[3:51]', 'SM_Exgauster\\\\[3:52]', 'SM_Exgauster\\\\[3:53]', 'SM_Exgauster\\\\[3:54]', 'SM_Exgauster\\\\[3:55]', 'SM_Exgauster\\\\[3:56]', 'SM_Exgauster\\\\[3:57]', 'SM_Exgauster\\\\[3:58]', 'SM_Exgauster\\\\[3:59]', 'SM_Exgauster\\\\[3:60]', 'SM_Exgauster\\\\[3:61]', 'SM_Exgauster\\\\[3:62]', 'SM_Exgauster\\\\[3:63]', 'SM_Exgauster\\\\[3:64]', 'SM_Exgauster\\\\[3:65]', 'SM_Exgauster\\\\[3:66]', 'SM_Exgauster\\\\[3:67]', 'SM_Exgauster\\\\[3:68]', 'SM_Exgauster\\\\[3:69]', 'SM_Exgauster\\\\[3:70]', 'SM_Exgauster\\\\[3:71]', 'SM_Exgauster\\\\[3:72]', 'SM_Exgauster\\\\[3:73]', 'SM_Exgauster\\\\[3:74]', 'SM_Exgauster\\\\[3:75]', 'SM_Exgauster\\\\[3:76]', 'SM_Exgauster\\\\[3:77]', 'SM_Exgauster\\\\[3:78]', 'SM_Exgauster\\\\[3:79]', 'SM_Exgauster\\\\[3:80]', 'SM_Exgauster\\\\[3:81]', 'SM_Exgauster\\\\[3:82]', 'SM_Exgauster\\\\[3:83]', 'SM_Exgauster\\\\[3:84]', 'SM_Exgauster\\\\[3:85]', 'SM_Exgauster\\\\[3:86]', 'SM_Exgauster\\\\[3:87]', 'SM_Exgauster\\\\[3:88]', 'SM_Exgauster\\\\[3:89]', 'SM_Exgauster\\\\[3:90]', 'SM_Exgauster\\\\[3:91]', 'SM_Exgauster\\\\[3:92]', 'SM_Exgauster\\\\[3:93]', 'SM_Exgauster\\\\[3:94]', 'SM_Exgauster\\\\[3:95]', 'SM_Exgauster\\\\[3:96]', 'SM_Exgauster\\\\[3:97]', 'SM_Exgauster\\\\[3:98]', 'SM_Exgauster\\\\[3:99]', 'SM_Exgauster\\\\[3:100]', 'SM_Exgauster\\\\[3:101]', 'SM_Exgauster\\\\[3:102]', 'SM_Exgauster\\\\[3:103]', 'SM_Exgauster\\\\[3:104]', 'SM_Exgauster\\\\[3:105]', 'SM_Exgauster\\\\[3:106]', 'SM_Exgauster\\\\[3:107]', 'SM_Exgauster\\\\[3:108]', 'SM_Exgauster\\\\[3:109]', 'SM_Exgauster\\\\[3:110]', 'SM_Exgauster\\\\[3:111]', 'SM_Exgauster\\\\[3:112]', 'SM_Exgauster\\\\[3:113]', 'SM_Exgauster\\\\[3:114]', 'SM_Exgauster\\\\[3:115]', 'SM_Exgauster\\\\[3:116]', 'SM_Exgauster\\\\[3:117]', 'SM_Exgauster\\\\[3:118]', 'SM_Exgauster\\\\[3:119]', 'SM_Exgauster\\\\[3:120]', 'SM_Exgauster\\\\[3:121]', 'SM_Exgauster\\\\[3:122]', 'SM_Exgauster\\\\[3:123]', 'SM_Exgauster\\\\[3:124]', 'SM_Exgauster\\\\[3:125]', 'SM_Exgauster\\\\[3:126]', 'SM_Exgauster\\\\[3:127]', 'SM_Exgauster\\\\[3:128]', 'SM_Exgauster\\\\[3:129]', 'SM_Exgauster\\\\[3:130]', 'SM_Exgauster\\\\[3:131]', 'SM_Exgauster\\\\[3:132]', 'SM_Exgauster\\\\[3:133]', 'SM_Exgauster\\\\[3:134]', 'SM_Exgauster\\\\[3:135]', 'SM_Exgauster\\\\[3:136]', 'SM_Exgauster\\\\[3:137]', 'SM_Exgauster\\\\[3:138]', 'SM_Exgauster\\\\[3:139]', 'SM_Exgauster\\\\[3:140]', 'SM_Exgauster\\\\[3:141]', 'SM_Exgauster\\\\[3:142]', 'SM_Exgauster\\\\[3:143]', 'SM_Exgauster\\\\[3:144]', 'SM_Exgauster\\\\[3:145]', 'SM_Exgauster\\\\[3:146]', 'SM_Exgauster\\\\[3:147]', 'SM_Exgauster\\\\[3:148]', 'SM_Exgauster\\\\[3:149]', 'SM_Exgauster\\\\[3:150]', 'SM_Exgauster\\\\[3:151]', 'SM_Exgauster\\\\[3:152]', 'SM_Exgauster\\\\[3:153]', 'SM_Exgauster\\\\[3:154]', 'SM_Exgauster\\\\[3:155]', 'SM_Exgauster\\\\[3:156]', 'SM_Exgauster\\\\[3:157]', 'SM_Exgauster\\\\[3:158]', 'SM_Exgauster\\\\[3:159]', 'SM_Exgauster\\\\[3:160]', 'SM_Exgauster\\\\[3:161]', 'SM_Exgauster\\\\[3:162]', 'SM_Exgauster\\\\[3:163]', 'SM_Exgauster\\\\[3:164]', 'SM_Exgauster\\\\[3:165]', 'SM_Exgauster\\\\[3:166]', 'SM_Exgauster\\\\[3:167]', 'SM_Exgauster\\\\[3:168]', 'SM_Exgauster\\\\[3:169]', 'SM_Exgauster\\\\[3:170]', 'SM_Exgauster\\\\[3:171]', 'SM_Exgauster\\\\[3:172]', 'SM_Exgauster\\\\[3:173]', 'SM_Exgauster\\\\[3:174]', 'SM_Exgauster\\\\[3:175]', 'SM_Exgauster\\\\[3:176]', 'SM_Exgauster\\\\[3:177]', 'SM_Exgauster\\\\[3:178]', 'SM_Exgauster\\\\[3:179]', 'SM_Exgauster\\\\[3:180]', 'SM_Exgauster\\\\[3:181]', 'SM_Exgauster\\\\[3:182]', 'SM_Exgauster\\\\[3:183]', 'SM_Exgauster\\\\[3:184]', 'SM_Exgauster\\\\[3:185]', 'SM_Exgauster\\\\[3:186]', 'SM_Exgauster\\\\[3:187]', 'SM_Exgauster\\\\[3:188]', 'SM_Exgauster\\\\[3:189]', 'SM_Exgauster\\\\[3:190]', 'SM_Exgauster\\\\[3:191]', 'SM_Exgauster\\\\[3:192]', 'SM_Exgauster\\\\[3:193]', 'SM_Exgauster\\\\[3:194]', 'SM_Exgauster\\\\[3:195]', 'SM_Exgauster\\\\[3:196]', 'SM_Exgauster\\\\[3:197]', 'SM_Exgauster\\\\[3:198]', 'SM_Exgauster\\\\[3:199]', 'SM_Exgauster\\\\[3:200]', 'SM_Exgauster\\\\[3:201]', 'SM_Exgauster\\\\[3:202]', 'SM_Exgauster\\\\[3:203]', 'SM_Exgauster\\\\[3:204]', 'SM_Exgauster\\\\[3:205]', 'SM_Exgauster\\\\[3:206]', 'SM_Exgauster\\\\[3:207]', 'SM_Exgauster\\\\[3:208]', 'SM_Exgauster\\\\[3:209]', 'SM_Exgauster\\\\[3:210]', 'SM_Exgauster\\\\[3:211]', 'SM_Exgauster\\\\[3:212]', 'SM_Exgauster\\\\[3:213]', 'SM_Exgauster\\\\[3:214]', 'SM_Exgauster\\\\[3:215]', 'SM_Exgauster\\\\[3:216]', 'SM_Exgauster\\\\[3:217]', 'SM_Exgauster\\\\[3:218]', 'SM_Exgauster\\\\[3:219]', 'SM_Exgauster\\\\[3:220]', 'SM_Exgauster\\\\[3:221]', 'SM_Exgauster\\\\[3:222]', 'SM_Exgauster\\\\[3:223]', 'SM_Exgauster\\\\[3:224]', 'SM_Exgauster\\\\[3:225]', 'SM_Exgauster\\\\[3:226]', 'SM_Exgauster\\\\[3:227]', 'SM_Exgauster\\\\[3:228]', 'SM_Exgauster\\\\[3:229]', 'SM_Exgauster\\\\[3:230]', 'SM_Exgauster\\\\[3.0]', 'SM_Exgauster\\\\[3.1]', 'SM_Exgauster\\\\[4:0]', 'SM_Exgauster\\\\[4:1]', 'SM_Exgauster\\\\[4:3]', 'SM_Exgauster\\\\[4:7]', 'SM_Exgauster\\\\[4:8]', 'SM_Exgauster\\\\[4:10]', 'SM_Exgauster\\\\[4.0]', 'SM_Exgauster\\\\[4.1]', 'SM_Exgauster\\\\[4.2]', 'SM_Exgauster\\\\[4.3]', 'SM_Exgauster\\\\[4.4]', 'SM_Exgauster\\\\[4.5]', 'SM_Exgauster\\\\[4.6]', 'SM_Exgauster\\\\[4.7]', 'SM_Exgauster\\\\[4.8]', 'SM_Exgauster\\\\[4.9]', 'SM_Exgauster\\\\[5:0]', 'SM_Exgauster\\\\[5:1]', 'SM_Exgauster\\\\[5:2]', 'SM_Exgauster\\\\[5:3]', 'SM_Exgauster\\\\[5:4]', 'SM_Exgauster\\\\[5:5]', 'SM_Exgauster\\\\[5:6]', 'SM_Exgauster\\\\[5:7]', 'SM_Exgauster\\\\[5:8]', 'SM_Exgauster\\\\[5:9]', 'SM_Exgauster\\\\[5:10]', 'SM_Exgauster\\\\[5:11]', 'SM_Exgauster\\\\[5:12]', 'SM_Exgauster\\\\[5:13]', 'SM_Exgauster\\\\[5.0]', 'SM_Exgauster\\\\[5.1]', 'SM_Exgauster\\\\[5.2]', 'SM_Exgauster\\\\[5.3]', 'SM_Exgauster\\\\[5.4]', 'SM_Exgauster\\\\[5.5]', 'SM_Exgauster\\\\[5.6]', 'SM_Exgauster\\\\[5.7]', 'SM_Exgauster\\\\[5.8]', 'SM_Exgauster\\\\[5.9]', 'SM_Exgauster\\\\[6:0]', 'SM_Exgauster\\\\[6:1]', 'SM_Exgauster\\\\[6:2]', 'SM_Exgauster\\\\[6.0]', 'SM_Exgauster\\\\[7:0]', 'SM_Exgauster\\\\[7:1]', 'SM_Exgauster\\\\[7:2]', 'SM_Exgauster\\\\[7.0]', 'SM_Exgauster\\\\[8:0]', 'SM_Exgauster\\\\[8:1]', 'SM_Exgauster\\\\[8:2]', 'SM_Exgauster\\\\[8.0]'])"
      ]
     },
     "execution_count": 56,
     "metadata": {},
     "output_type": "execute_result"
    }
   ],
   "source": [
    "# вывод атрибутов значения сигналов\n",
    "example_kafka[0]['Message'].keys()"
   ]
  },
  {
   "cell_type": "code",
   "execution_count": 57,
   "id": "c0bf9c6c",
   "metadata": {},
   "outputs": [
    {
     "data": {
      "text/plain": [
       "766"
      ]
     },
     "execution_count": 57,
     "metadata": {},
     "output_type": "execute_result"
    }
   ],
   "source": [
    "# количество атрибутов значения данных\n",
    "len(example_kafka[0]['Message'].keys())"
   ]
  },
  {
   "cell_type": "markdown",
   "id": "ba29d09a",
   "metadata": {},
   "source": [
    "## 2. Подключение к базе данных"
   ]
  },
  {
   "cell_type": "code",
   "execution_count": 6,
   "id": "18ab8412",
   "metadata": {},
   "outputs": [],
   "source": [
    "#pip install psycopg2"
   ]
  },
  {
   "cell_type": "code",
   "execution_count": 235,
   "id": "bc053621",
   "metadata": {},
   "outputs": [],
   "source": [
    "# загрузка библиотек\n",
    "import psycopg2\n",
    "from psycopg2.extras import Json"
   ]
  },
  {
   "cell_type": "code",
   "execution_count": 236,
   "id": "b538e7d2",
   "metadata": {},
   "outputs": [
    {
     "data": {
      "text/plain": [
       "'2.9.5 (dt dec pq3 ext lo64)'"
      ]
     },
     "execution_count": 236,
     "metadata": {},
     "output_type": "execute_result"
    }
   ],
   "source": [
    "psycopg2.__version__"
   ]
  },
  {
   "cell_type": "code",
   "execution_count": 59,
   "id": "cde2e98d",
   "metadata": {},
   "outputs": [],
   "source": [
    "# загрузка конфигурации доступа к базе данных в облаке\n",
    "with open('DATABASE_URL.txt', 'r') as f:\n",
    "    DATABASE_URL = f.read()"
   ]
  },
  {
   "cell_type": "code",
   "execution_count": 230,
   "id": "2e752208",
   "metadata": {},
   "outputs": [],
   "source": [
    "# создание подключения к базе данны\n",
    "connect = psycopg2.connect(DATABASE_URL)"
   ]
  },
  {
   "cell_type": "code",
   "execution_count": 231,
   "id": "08252f9f",
   "metadata": {},
   "outputs": [],
   "source": [
    "# создание объекта курсора подключения к базе данных\n",
    "cursor = connect.cursor()"
   ]
  },
  {
   "cell_type": "code",
   "execution_count": 62,
   "id": "8463f673",
   "metadata": {},
   "outputs": [],
   "source": [
    "def connect_db(URL):\n",
    "    connect = psycopg2.connect(URL)\n",
    "    cursor = connect.cursor()\n",
    "    return connect, cursor    "
   ]
  },
  {
   "cell_type": "code",
   "execution_count": 46,
   "id": "c0277f34",
   "metadata": {},
   "outputs": [],
   "source": [
    "# загрузка конфигурации доступа к базе данных в облаке\n",
    "#with open('DATABASE_URL_2.txt', 'r') as f:\n",
    "#    DATABASE_URL_2 = f.read()"
   ]
  },
  {
   "cell_type": "code",
   "execution_count": 47,
   "id": "23fd9f4d",
   "metadata": {},
   "outputs": [],
   "source": [
    "# загрузка конфигурации доступа к базе данных в облаке\n",
    "#with open('DATABASE_URL_3.txt', 'r') as f:\n",
    "#    DATABASE_URL_3 = f.read()"
   ]
  },
  {
   "cell_type": "code",
   "execution_count": 48,
   "id": "5f6f56c4",
   "metadata": {},
   "outputs": [],
   "source": [
    "#connect2, cursor2 = connect_db(DATABASE_URL_2)"
   ]
  },
  {
   "cell_type": "code",
   "execution_count": 49,
   "id": "f342d6a3",
   "metadata": {},
   "outputs": [],
   "source": [
    "#connect3, cursor3 = connect_db(DATABASE_URL_3)"
   ]
  },
  {
   "cell_type": "code",
   "execution_count": 338,
   "id": "3917212d",
   "metadata": {},
   "outputs": [],
   "source": [
    "# закрытие подключения к базе данных 'postgres'\n",
    "connect.close()"
   ]
  },
  {
   "cell_type": "markdown",
   "id": "94862952",
   "metadata": {},
   "source": [
    "## 3. Создание схемы Stagen - Storage Layer"
   ]
  },
  {
   "cell_type": "code",
   "execution_count": 69,
   "id": "671c2358",
   "metadata": {},
   "outputs": [],
   "source": [
    "# удаление схемы 'Stagen' если она существует \n",
    "#cursor.execute(\"DROP SCHEMA stg CASCADE;\")\n",
    "#connect.commit() "
   ]
  },
  {
   "cell_type": "code",
   "execution_count": 73,
   "id": "ec00645e",
   "metadata": {},
   "outputs": [],
   "source": [
    "# создание схемы 'Stagen' - Storage Layer\n",
    "cursor.execute(\"CREATE SCHEMA stg;\")\n",
    "connect.commit()  "
   ]
  },
  {
   "cell_type": "markdown",
   "id": "8a8de6b9",
   "metadata": {},
   "source": [
    "### 3.1 Создание таблицы данные сигналов - 'signal_messages_json'"
   ]
  },
  {
   "cell_type": "code",
   "execution_count": 74,
   "id": "925b3bf1",
   "metadata": {},
   "outputs": [],
   "source": [
    "# удаление таблицы 'signal_messages_json' если она существует \n",
    "cursor.execute(\"DROP TABLE IF EXISTS stg.signal_messages_json;\")\n",
    "connect.commit()  "
   ]
  },
  {
   "cell_type": "code",
   "execution_count": 75,
   "id": "98f042b5",
   "metadata": {},
   "outputs": [],
   "source": [
    "# создание таблицы - 'signal_messages_json'\n",
    "cursor.execute(\"CREATE TABLE stg.signal_messages_json( \\\n",
    "                message JSON NOT NULL);\")\n",
    "connect.commit()  "
   ]
  },
  {
   "cell_type": "code",
   "execution_count": 77,
   "id": "25139d29",
   "metadata": {},
   "outputs": [
    {
     "name": "stdout",
     "output_type": "stream",
     "text": [
      "['message']\n"
     ]
    }
   ],
   "source": [
    "# значение атрибутов в таблице 'signal_messages_json'\n",
    "cursor.execute(\"SELECT column_name \\\n",
    "             FROM information_schema.columns \\\n",
    "             WHERE table_name = 'signal_messages_json' AND table_schema = 'stg';\")\n",
    "columnsname = [_[0] for _ in cursor.fetchall()]\n",
    "print(columnsname)"
   ]
  },
  {
   "cell_type": "code",
   "execution_count": 78,
   "id": "66e3d07c",
   "metadata": {},
   "outputs": [],
   "source": [
    "# запись данных в таблицу - 'signal_messages_json'\n",
    "cursor.execute(\"INSERT INTO stg.signal_messages_json( \\\n",
    "                message) \\\n",
    "                VALUES (%s);\", [Json(example_kafka[0])])\n",
    "connect.commit() "
   ]
  },
  {
   "cell_type": "code",
   "execution_count": 83,
   "id": "aa1b9816",
   "metadata": {},
   "outputs": [
    {
     "data": {
      "text/plain": [
       "[({'Timestamp': '2022-12-30T06:00:00.592+00:00',\n",
       "   'Topic': 'zsmk-9433-dev-01',\n",
       "   'Partition': 0,\n",
       "   'Offset': 62501,\n",
       "   'Key': None,\n",
       "   'Headers': {},\n",
       "   'Message': {'moment': '2022-12-30T05:59:25.16886',\n",
       "    'SM_Exgauster\\\\[0:0]': 1.2731481790542603,\n",
       "    'SM_Exgauster\\\\[0:1]': 1.5856481790542603,\n",
       "    'SM_Exgauster\\\\[0:2]': 0.9835540056228638,\n",
       "    'SM_Exgauster\\\\[0:3]': 1.6203702688217163,\n",
       "    'SM_Exgauster\\\\[0:4]': 2.060185194015503,\n",
       "    'SM_Exgauster\\\\[0:5]': 1.1863425970077515,\n",
       "    'SM_Exgauster\\\\[0:6]': 2.9177370071411133,\n",
       "    'SM_Exgauster\\\\[0:7]': 1.9097222089767456,\n",
       "    'SM_Exgauster\\\\[0:8]': 2.9585418701171875,\n",
       "    'SM_Exgauster\\\\[0:9]': 1.3657407760620117,\n",
       "    'SM_Exgauster\\\\[0:10]': 0.8391203880310059,\n",
       "    'SM_Exgauster\\\\[0:11]': 0.8796296119689941,\n",
       "    'SM_Exgauster\\\\[0:12]': 1.2442129850387573,\n",
       "    'SM_Exgauster\\\\[0:13]': 1.359953761100769,\n",
       "    'SM_Exgauster\\\\[0:14]': 0.5324074029922485,\n",
       "    'SM_Exgauster\\\\[0:15]': 0.9780092239379883,\n",
       "    'SM_Exgauster\\\\[0:16]': 1.7303240299224854,\n",
       "    'SM_Exgauster\\\\[0:17]': 1.2152777910232544,\n",
       "    'SM_Exgauster\\\\[0:18]': 1.1689815521240234,\n",
       "    'SM_Exgauster\\\\[0:19]': 1.3946759700775146,\n",
       "    'SM_Exgauster\\\\[0:20]': 2.847222089767456,\n",
       "    'SM_Exgauster\\\\[0:21]': 2.471064805984497,\n",
       "    'SM_Exgauster\\\\[0:22]': 0.9548611044883728,\n",
       "    'SM_Exgauster\\\\[0:23]': 2.1412036418914795,\n",
       "    'SM_Exgauster\\\\[0:24]': 95.58148956298828,\n",
       "    'SM_Exgauster\\\\[0:25]': 108.48148345947266,\n",
       "    'SM_Exgauster\\\\[0:27]': 47.69999694824219,\n",
       "    'SM_Exgauster\\\\[0:28]': 47.399993896484375,\n",
       "    'SM_Exgauster\\\\[0:29]': 44.099998474121094,\n",
       "    'SM_Exgauster\\\\[0:30]': 46.30000305175781,\n",
       "    'SM_Exgauster\\\\[0:31]': 43,\n",
       "    'SM_Exgauster\\\\[0:32]': 40.900001525878906,\n",
       "    'SM_Exgauster\\\\[0:33]': 34.099998474121094,\n",
       "    'SM_Exgauster\\\\[0:34]': 41.29999542236328,\n",
       "    'SM_Exgauster\\\\[0:35]': 37.099998474121094,\n",
       "    'SM_Exgauster\\\\[0:36]': 24.400001525878906,\n",
       "    'SM_Exgauster\\\\[0:37]': 27.100006103515625,\n",
       "    'SM_Exgauster\\\\[0:41]': 37.80000305175781,\n",
       "    'SM_Exgauster\\\\[0:42]': 36.099998474121094,\n",
       "    'SM_Exgauster\\\\[0:43]': 52.100006103515625,\n",
       "    'SM_Exgauster\\\\[0:44]': 51.5,\n",
       "    'SM_Exgauster\\\\[0:45]': 45.5,\n",
       "    'SM_Exgauster\\\\[0:46]': -3276.800048828125,\n",
       "    'SM_Exgauster\\\\[0:47]': 49.599998474121094,\n",
       "    'SM_Exgauster\\\\[0:48]': 46.900001525878906,\n",
       "    'SM_Exgauster\\\\[0:49]': 44.599998474121094,\n",
       "    'SM_Exgauster\\\\[0:50]': 36.79999542236328,\n",
       "    'SM_Exgauster\\\\[0:51]': 46.900001525878906,\n",
       "    'SM_Exgauster\\\\[0:52]': 44,\n",
       "    'SM_Exgauster\\\\[0:53]': 26.20000457763672,\n",
       "    'SM_Exgauster\\\\[0:54]': 23.400001525878906,\n",
       "    'SM_Exgauster\\\\[0:55]': -118.51851654052734,\n",
       "    'SM_Exgauster\\\\[0:56]': -3276.800048828125,\n",
       "    'SM_Exgauster\\\\[0:57]': -3276.800048828125,\n",
       "    'SM_Exgauster\\\\[0:58]': -3276.800048828125,\n",
       "    'SM_Exgauster\\\\[0:59]': 33.099998474121094,\n",
       "    'SM_Exgauster\\\\[0:60]': 41.19999694824219,\n",
       "    'SM_Exgauster\\\\[0:61]': 724.8263549804688,\n",
       "    'SM_Exgauster\\\\[0:62]': 744.3576049804688,\n",
       "    'SM_Exgauster\\\\[0:63]': 75,\n",
       "    'SM_Exgauster\\\\[0:64]': 75,\n",
       "    'SM_Exgauster\\\\[0:65]': 75,\n",
       "    'SM_Exgauster\\\\[0:66]': 75,\n",
       "    'SM_Exgauster\\\\[0:67]': 75,\n",
       "    'SM_Exgauster\\\\[0:68]': 75,\n",
       "    'SM_Exgauster\\\\[0:69]': 75,\n",
       "    'SM_Exgauster\\\\[0:70]': 75,\n",
       "    'SM_Exgauster\\\\[0:71]': 75,\n",
       "    'SM_Exgauster\\\\[0:72]': 0,\n",
       "    'SM_Exgauster\\\\[0:73]': 0,\n",
       "    'SM_Exgauster\\\\[0:74]': 0,\n",
       "    'SM_Exgauster\\\\[0:75]': 0,\n",
       "    'SM_Exgauster\\\\[0:76]': 0,\n",
       "    'SM_Exgauster\\\\[0:77]': 0,\n",
       "    'SM_Exgauster\\\\[0:78]': 0,\n",
       "    'SM_Exgauster\\\\[0:79]': 0,\n",
       "    'SM_Exgauster\\\\[0:80]': 0,\n",
       "    'SM_Exgauster\\\\[0:81]': 65,\n",
       "    'SM_Exgauster\\\\[0:82]': 65,\n",
       "    'SM_Exgauster\\\\[0:83]': 65,\n",
       "    'SM_Exgauster\\\\[0:84]': 65,\n",
       "    'SM_Exgauster\\\\[0:85]': 65,\n",
       "    'SM_Exgauster\\\\[0:86]': 65,\n",
       "    'SM_Exgauster\\\\[0:87]': 65,\n",
       "    'SM_Exgauster\\\\[0:88]': 65,\n",
       "    'SM_Exgauster\\\\[0:89]': 65,\n",
       "    'SM_Exgauster\\\\[0:90]': 0,\n",
       "    'SM_Exgauster\\\\[0:91]': 0,\n",
       "    'SM_Exgauster\\\\[0:92]': 0,\n",
       "    'SM_Exgauster\\\\[0:93]': 0,\n",
       "    'SM_Exgauster\\\\[0:94]': 0,\n",
       "    'SM_Exgauster\\\\[0:95]': 0,\n",
       "    'SM_Exgauster\\\\[0:96]': 0,\n",
       "    'SM_Exgauster\\\\[0:97]': 0,\n",
       "    'SM_Exgauster\\\\[0:98]': 0,\n",
       "    'SM_Exgauster\\\\[0:99]': 75,\n",
       "    'SM_Exgauster\\\\[0:100]': 75,\n",
       "    'SM_Exgauster\\\\[0:101]': 75,\n",
       "    'SM_Exgauster\\\\[0:102]': 75,\n",
       "    'SM_Exgauster\\\\[0:103]': 75,\n",
       "    'SM_Exgauster\\\\[0:104]': 75,\n",
       "    'SM_Exgauster\\\\[0:105]': 75,\n",
       "    'SM_Exgauster\\\\[0:106]': 75,\n",
       "    'SM_Exgauster\\\\[0:107]': 75,\n",
       "    'SM_Exgauster\\\\[0:108]': 0,\n",
       "    'SM_Exgauster\\\\[0:109]': 0,\n",
       "    'SM_Exgauster\\\\[0:110]': 0,\n",
       "    'SM_Exgauster\\\\[0:111]': 0,\n",
       "    'SM_Exgauster\\\\[0:112]': 0,\n",
       "    'SM_Exgauster\\\\[0:113]': 0,\n",
       "    'SM_Exgauster\\\\[0:114]': 0,\n",
       "    'SM_Exgauster\\\\[0:115]': 0,\n",
       "    'SM_Exgauster\\\\[0:116]': 0,\n",
       "    'SM_Exgauster\\\\[0:117]': 65,\n",
       "    'SM_Exgauster\\\\[0:118]': 65,\n",
       "    'SM_Exgauster\\\\[0:119]': 65,\n",
       "    'SM_Exgauster\\\\[0:120]': 65,\n",
       "    'SM_Exgauster\\\\[0:121]': 65,\n",
       "    'SM_Exgauster\\\\[0:122]': 65,\n",
       "    'SM_Exgauster\\\\[0:123]': 65,\n",
       "    'SM_Exgauster\\\\[0:124]': 65,\n",
       "    'SM_Exgauster\\\\[0:125]': 65,\n",
       "    'SM_Exgauster\\\\[0:126]': 0,\n",
       "    'SM_Exgauster\\\\[0:127]': 0,\n",
       "    'SM_Exgauster\\\\[0:128]': 0,\n",
       "    'SM_Exgauster\\\\[0:129]': 0,\n",
       "    'SM_Exgauster\\\\[0:130]': 0,\n",
       "    'SM_Exgauster\\\\[0:131]': 0,\n",
       "    'SM_Exgauster\\\\[0:132]': 0,\n",
       "    'SM_Exgauster\\\\[0:133]': 0,\n",
       "    'SM_Exgauster\\\\[0:134]': 0,\n",
       "    'SM_Exgauster\\\\[0:135]': 7.099999904632568,\n",
       "    'SM_Exgauster\\\\[0:136]': 7.099999904632568,\n",
       "    'SM_Exgauster\\\\[0:137]': 7.099999904632568,\n",
       "    'SM_Exgauster\\\\[0:138]': 7.099999904632568,\n",
       "    'SM_Exgauster\\\\[0:139]': 7.099999904632568,\n",
       "    'SM_Exgauster\\\\[0:140]': 7.099999904632568,\n",
       "    'SM_Exgauster\\\\[0:141]': 10,\n",
       "    'SM_Exgauster\\\\[0:142]': 10,\n",
       "    'SM_Exgauster\\\\[0:143]': 7.099999904632568,\n",
       "    'SM_Exgauster\\\\[0:144]': 10,\n",
       "    'SM_Exgauster\\\\[0:145]': 10,\n",
       "    'SM_Exgauster\\\\[0:146]': 7.099999904632568,\n",
       "    'SM_Exgauster\\\\[0:147]': 0,\n",
       "    'SM_Exgauster\\\\[0:148]': 0,\n",
       "    'SM_Exgauster\\\\[0:149]': 0,\n",
       "    'SM_Exgauster\\\\[0:150]': 0,\n",
       "    'SM_Exgauster\\\\[0:151]': 0,\n",
       "    'SM_Exgauster\\\\[0:152]': 0,\n",
       "    'SM_Exgauster\\\\[0:153]': 0,\n",
       "    'SM_Exgauster\\\\[0:154]': 0,\n",
       "    'SM_Exgauster\\\\[0:155]': 0,\n",
       "    'SM_Exgauster\\\\[0:156]': 0,\n",
       "    'SM_Exgauster\\\\[0:157]': 0,\n",
       "    'SM_Exgauster\\\\[0:158]': 0,\n",
       "    'SM_Exgauster\\\\[0:159]': 4.5,\n",
       "    'SM_Exgauster\\\\[0:160]': 4.5,\n",
       "    'SM_Exgauster\\\\[0:161]': 4.5,\n",
       "    'SM_Exgauster\\\\[0:162]': 4.5,\n",
       "    'SM_Exgauster\\\\[0:163]': 4.5,\n",
       "    'SM_Exgauster\\\\[0:164]': 4.5,\n",
       "    'SM_Exgauster\\\\[0:165]': 4.5,\n",
       "    'SM_Exgauster\\\\[0:166]': 4.5,\n",
       "    'SM_Exgauster\\\\[0:167]': 4.5,\n",
       "    'SM_Exgauster\\\\[0:168]': 4.5,\n",
       "    'SM_Exgauster\\\\[0:169]': 4.5,\n",
       "    'SM_Exgauster\\\\[0:170]': 4.5,\n",
       "    'SM_Exgauster\\\\[0:171]': 0,\n",
       "    'SM_Exgauster\\\\[0:172]': 0,\n",
       "    'SM_Exgauster\\\\[0:173]': 0,\n",
       "    'SM_Exgauster\\\\[0:174]': 0,\n",
       "    'SM_Exgauster\\\\[0:175]': 0,\n",
       "    'SM_Exgauster\\\\[0:176]': 0,\n",
       "    'SM_Exgauster\\\\[0:177]': 0,\n",
       "    'SM_Exgauster\\\\[0:178]': 0,\n",
       "    'SM_Exgauster\\\\[0:179]': 0,\n",
       "    'SM_Exgauster\\\\[0:180]': 0,\n",
       "    'SM_Exgauster\\\\[0:181]': 0,\n",
       "    'SM_Exgauster\\\\[0:182]': 0,\n",
       "    'SM_Exgauster\\\\[0:183]': 7.099999904632568,\n",
       "    'SM_Exgauster\\\\[0:184]': 7.099999904632568,\n",
       "    'SM_Exgauster\\\\[0:185]': 7.099999904632568,\n",
       "    'SM_Exgauster\\\\[0:186]': 7.099999904632568,\n",
       "    'SM_Exgauster\\\\[0:187]': 7.099999904632568,\n",
       "    'SM_Exgauster\\\\[0:188]': 7.099999904632568,\n",
       "    'SM_Exgauster\\\\[0:189]': 10,\n",
       "    'SM_Exgauster\\\\[0:190]': 10,\n",
       "    'SM_Exgauster\\\\[0:191]': 7.099999904632568,\n",
       "    'SM_Exgauster\\\\[0:192]': 10,\n",
       "    'SM_Exgauster\\\\[0:193]': 10,\n",
       "    'SM_Exgauster\\\\[0:194]': 7.099999904632568,\n",
       "    'SM_Exgauster\\\\[0:195]': 0,\n",
       "    'SM_Exgauster\\\\[0:196]': 0,\n",
       "    'SM_Exgauster\\\\[0:197]': 0,\n",
       "    'SM_Exgauster\\\\[0:198]': 0,\n",
       "    'SM_Exgauster\\\\[0:199]': 0,\n",
       "    'SM_Exgauster\\\\[0:200]': 0,\n",
       "    'SM_Exgauster\\\\[0:201]': 0,\n",
       "    'SM_Exgauster\\\\[0:202]': 0,\n",
       "    'SM_Exgauster\\\\[0:203]': 0,\n",
       "    'SM_Exgauster\\\\[0:204]': 0,\n",
       "    'SM_Exgauster\\\\[0:205]': 0,\n",
       "    'SM_Exgauster\\\\[0:206]': 0,\n",
       "    'SM_Exgauster\\\\[0:207]': 4.5,\n",
       "    'SM_Exgauster\\\\[0:208]': 4.5,\n",
       "    'SM_Exgauster\\\\[0:209]': 4.5,\n",
       "    'SM_Exgauster\\\\[0:210]': 4.5,\n",
       "    'SM_Exgauster\\\\[0:211]': 4.5,\n",
       "    'SM_Exgauster\\\\[0:212]': 4.5,\n",
       "    'SM_Exgauster\\\\[0:213]': 4.5,\n",
       "    'SM_Exgauster\\\\[0:214]': 4.5,\n",
       "    'SM_Exgauster\\\\[0:215]': 4.5,\n",
       "    'SM_Exgauster\\\\[0:216]': 4.5,\n",
       "    'SM_Exgauster\\\\[0:217]': 4.5,\n",
       "    'SM_Exgauster\\\\[0:218]': 4.5,\n",
       "    'SM_Exgauster\\\\[0:219]': 0,\n",
       "    'SM_Exgauster\\\\[0:220]': 0,\n",
       "    'SM_Exgauster\\\\[0:221]': 0,\n",
       "    'SM_Exgauster\\\\[0:222]': 0,\n",
       "    'SM_Exgauster\\\\[0:223]': 0,\n",
       "    'SM_Exgauster\\\\[0:224]': 0,\n",
       "    'SM_Exgauster\\\\[0:225]': 0,\n",
       "    'SM_Exgauster\\\\[0:226]': 0,\n",
       "    'SM_Exgauster\\\\[0:227]': 0,\n",
       "    'SM_Exgauster\\\\[0:228]': 0,\n",
       "    'SM_Exgauster\\\\[0:229]': 0,\n",
       "    'SM_Exgauster\\\\[0:230]': 0,\n",
       "    'SM_Exgauster\\\\[0.0]': 1,\n",
       "    'SM_Exgauster\\\\[0.1]': 1,\n",
       "    'SM_Exgauster\\\\[1:0]': 74.19999694824219,\n",
       "    'SM_Exgauster\\\\[1:1]': 0.8289999961853027,\n",
       "    'SM_Exgauster\\\\[1:2]': 1975,\n",
       "    'SM_Exgauster\\\\[1:3]': 1873,\n",
       "    'SM_Exgauster\\\\[1:4]': -3,\n",
       "    'SM_Exgauster\\\\[1:5]': 105,\n",
       "    'SM_Exgauster\\\\[1:6]': 10,\n",
       "    'SM_Exgauster\\\\[1:7]': 81.19999694824219,\n",
       "    'SM_Exgauster\\\\[1:8]': 0.9350000023841858,\n",
       "    'SM_Exgauster\\\\[1:9]': 1870,\n",
       "    'SM_Exgauster\\\\[1:10]': 1705,\n",
       "    'SM_Exgauster\\\\[1:11]': 2,\n",
       "    'SM_Exgauster\\\\[1:12]': 106,\n",
       "    'SM_Exgauster\\\\[1:13]': 10,\n",
       "    'SM_Exgauster\\\\[1.0]': 1,\n",
       "    'SM_Exgauster\\\\[1.1]': 0,\n",
       "    'SM_Exgauster\\\\[1.2]': 1,\n",
       "    'SM_Exgauster\\\\[1.3]': 0,\n",
       "    'SM_Exgauster\\\\[1.4]': 0,\n",
       "    'SM_Exgauster\\\\[1.5]': 1,\n",
       "    'SM_Exgauster\\\\[1.6]': 0,\n",
       "    'SM_Exgauster\\\\[1.7]': 1,\n",
       "    'SM_Exgauster\\\\[1.8]': 0,\n",
       "    'SM_Exgauster\\\\[1.9]': 0,\n",
       "    'SM_Exgauster\\\\[2:0]': 0.0694444477558136,\n",
       "    'SM_Exgauster\\\\[2:1]': 0.08101851493120193,\n",
       "    'SM_Exgauster\\\\[2:2]': 0.0347222238779068,\n",
       "    'SM_Exgauster\\\\[2:3]': 0.011574076488614082,\n",
       "    'SM_Exgauster\\\\[2:4]': 0.028935184702277184,\n",
       "    'SM_Exgauster\\\\[2:5]': 0.0520833358168602,\n",
       "    'SM_Exgauster\\\\[2:6]': 0.05787036940455437,\n",
       "    'SM_Exgauster\\\\[2:7]': 0.15628677606582642,\n",
       "    'SM_Exgauster\\\\[2:8]': 0.08101851493120193,\n",
       "    'SM_Exgauster\\\\[2:9]': 0.04050925746560097,\n",
       "    'SM_Exgauster\\\\[2:10]': 0.10995370149612427,\n",
       "    'SM_Exgauster\\\\[2:11]': 0.04050925746560097,\n",
       "    'SM_Exgauster\\\\[2:12]': 0.11574073880910873,\n",
       "    'SM_Exgauster\\\\[2:13]': 0.08101851493120193,\n",
       "    'SM_Exgauster\\\\[2:14]': 0.0347222238779068,\n",
       "    'SM_Exgauster\\\\[2:15]': 0.0694444477558136,\n",
       "    'SM_Exgauster\\\\[2:16]': 0.028935184702277184,\n",
       "    'SM_Exgauster\\\\[2:17]': 0.0347222238779068,\n",
       "    'SM_Exgauster\\\\[2:18]': 0.05787036940455437,\n",
       "    'SM_Exgauster\\\\[2:19]': 0.10995370149612427,\n",
       "    'SM_Exgauster\\\\[2:20]': -0.173611119389534,\n",
       "    'SM_Exgauster\\\\[2:21]': 0.08101851493120193,\n",
       "    'SM_Exgauster\\\\[2:22]': 0.09259259700775146,\n",
       "    'SM_Exgauster\\\\[2:23]': 0.09259259700775146,\n",
       "    'SM_Exgauster\\\\[2:24]': 97.60023498535156,\n",
       "    'SM_Exgauster\\\\[2:25]': 97.10023498535156,\n",
       "    'SM_Exgauster\\\\[2:27]': 35.29999542236328,\n",
       "    'SM_Exgauster\\\\[2:28]': 34.400001525878906,\n",
       "    'SM_Exgauster\\\\[2:29]': 32.80000305175781,\n",
       "    'SM_Exgauster\\\\[2:30]': 34,\n",
       "    'SM_Exgauster\\\\[2:31]': 31.800003051757812,\n",
       "    'SM_Exgauster\\\\[2:32]': 34.400001525878906,\n",
       "    'SM_Exgauster\\\\[2:33]': 32.70000457763672,\n",
       "    'SM_Exgauster\\\\[2:34]': 34.599998474121094,\n",
       "    'SM_Exgauster\\\\[2:35]': 34.69999694824219,\n",
       "    'SM_Exgauster\\\\[2:36]': 26.000001907348633,\n",
       "    'SM_Exgauster\\\\[2:37]': 25.199996948242188,\n",
       "    'SM_Exgauster\\\\[2:41]': 9.89999771118164,\n",
       "    'SM_Exgauster\\\\[2:42]': 12.199996948242188,\n",
       "    'SM_Exgauster\\\\[2:43]': 30.800003051757812,\n",
       "    'SM_Exgauster\\\\[2:44]': 35.099998474121094,\n",
       "    'SM_Exgauster\\\\[2:45]': 26.800003051757812,\n",
       "    'SM_Exgauster\\\\[2:46]': 56,\n",
       "    'SM_Exgauster\\\\[2:47]': 27.5,\n",
       "    'SM_Exgauster\\\\[2:48]': 26.900001525878906,\n",
       "    'SM_Exgauster\\\\[2:49]': 28.199996948242188,\n",
       "    'SM_Exgauster\\\\[2:50]': 25.400001525878906,\n",
       "    'SM_Exgauster\\\\[2:51]': 28.400001525878906,\n",
       "    'SM_Exgauster\\\\[2:52]': 27.5,\n",
       "    'SM_Exgauster\\\\[2:53]': 25.5,\n",
       "    'SM_Exgauster\\\\[2:54]': 24.699996948242188,\n",
       "    'SM_Exgauster\\\\[2:55]': -118.51851654052734,\n",
       "    'SM_Exgauster\\\\[2:56]': 24.699996948242188,\n",
       "    'SM_Exgauster\\\\[2:57]': 3276.69970703125,\n",
       "    'SM_Exgauster\\\\[2:58]': 3276.69970703125,\n",
       "    'SM_Exgauster\\\\[2:59]': 11.900001525878906,\n",
       "    'SM_Exgauster\\\\[2:60]': 10.10000228881836,\n",
       "    'SM_Exgauster\\\\[2:61]': 10.85069465637207,\n",
       "    'SM_Exgauster\\\\[2:62]': 13.744213104248047,\n",
       "    'SM_Exgauster\\\\[2:63]': 2.1018519401550293,\n",
       "    'SM_Exgauster\\\\[2:64]': 4.252315044403076,\n",
       "    'SM_Exgauster\\\\[2:65]': 75,\n",
       "    'SM_Exgauster\\\\[2:66]': 75,\n",
       "    'SM_Exgauster\\\\[2:67]': 75,\n",
       "    'SM_Exgauster\\\\[2:68]': 75,\n",
       "    'SM_Exgauster\\\\[2:69]': 75,\n",
       "    'SM_Exgauster\\\\[2:70]': 75,\n",
       "    'SM_Exgauster\\\\[2:71]': 75,\n",
       "    'SM_Exgauster\\\\[2:72]': 75,\n",
       "    'SM_Exgauster\\\\[2:73]': 75,\n",
       "    'SM_Exgauster\\\\[2:74]': 0,\n",
       "    'SM_Exgauster\\\\[2:75]': 0,\n",
       "    'SM_Exgauster\\\\[2:76]': 0,\n",
       "    'SM_Exgauster\\\\[2:77]': 0,\n",
       "    'SM_Exgauster\\\\[2:78]': 0,\n",
       "    'SM_Exgauster\\\\[2:79]': 10,\n",
       "    'SM_Exgauster\\\\[2:80]': 0,\n",
       "    'SM_Exgauster\\\\[2:81]': 0,\n",
       "    'SM_Exgauster\\\\[2:82]': 0,\n",
       "    'SM_Exgauster\\\\[2:83]': 65,\n",
       "    'SM_Exgauster\\\\[2:84]': 65,\n",
       "    'SM_Exgauster\\\\[2:85]': 65,\n",
       "    'SM_Exgauster\\\\[2:86]': 65,\n",
       "    'SM_Exgauster\\\\[2:87]': 65,\n",
       "    'SM_Exgauster\\\\[2:88]': 65,\n",
       "    'SM_Exgauster\\\\[2:89]': 65,\n",
       "    'SM_Exgauster\\\\[2:90]': 65,\n",
       "    'SM_Exgauster\\\\[2:91]': 65,\n",
       "    'SM_Exgauster\\\\[2:92]': 0,\n",
       "    'SM_Exgauster\\\\[2:93]': 0,\n",
       "    'SM_Exgauster\\\\[2:94]': 0,\n",
       "    'SM_Exgauster\\\\[2:95]': 0,\n",
       "    'SM_Exgauster\\\\[2:96]': 0,\n",
       "    'SM_Exgauster\\\\[2:97]': 20,\n",
       "    'SM_Exgauster\\\\[2:98]': 0,\n",
       "    'SM_Exgauster\\\\[2:99]': 0,\n",
       "    'SM_Exgauster\\\\[2:100]': 0,\n",
       "    'SM_Exgauster\\\\[2:101]': 75,\n",
       "    'SM_Exgauster\\\\[2:102]': 75,\n",
       "    'SM_Exgauster\\\\[2:103]': 75,\n",
       "    'SM_Exgauster\\\\[2:104]': 75,\n",
       "    'SM_Exgauster\\\\[2:105]': 75,\n",
       "    'SM_Exgauster\\\\[2:106]': 75,\n",
       "    'SM_Exgauster\\\\[2:107]': 75,\n",
       "    'SM_Exgauster\\\\[2:108]': 75,\n",
       "    'SM_Exgauster\\\\[2:109]': 75,\n",
       "    'SM_Exgauster\\\\[2:110]': 0,\n",
       "    'SM_Exgauster\\\\[2:111]': 0,\n",
       "    'SM_Exgauster\\\\[2:112]': 0,\n",
       "    'SM_Exgauster\\\\[2:113]': 0,\n",
       "    'SM_Exgauster\\\\[2:114]': 0,\n",
       "    'SM_Exgauster\\\\[2:115]': 0,\n",
       "    'SM_Exgauster\\\\[2:116]': 0,\n",
       "    'SM_Exgauster\\\\[2:117]': 0,\n",
       "    'SM_Exgauster\\\\[2:118]': 0,\n",
       "    'SM_Exgauster\\\\[2:119]': 65,\n",
       "    'SM_Exgauster\\\\[2:120]': 65,\n",
       "    'SM_Exgauster\\\\[2:121]': 65,\n",
       "    'SM_Exgauster\\\\[2:122]': 65,\n",
       "    'SM_Exgauster\\\\[2:123]': 65,\n",
       "    'SM_Exgauster\\\\[2:124]': 105,\n",
       "    'SM_Exgauster\\\\[2:125]': 65,\n",
       "    'SM_Exgauster\\\\[2:126]': 65,\n",
       "    'SM_Exgauster\\\\[2:127]': 65,\n",
       "    'SM_Exgauster\\\\[2:128]': 0,\n",
       "    'SM_Exgauster\\\\[2:129]': 0,\n",
       "    'SM_Exgauster\\\\[2:130]': 0,\n",
       "    'SM_Exgauster\\\\[2:131]': 0,\n",
       "    'SM_Exgauster\\\\[2:132]': 0,\n",
       "    'SM_Exgauster\\\\[2:133]': 0,\n",
       "    'SM_Exgauster\\\\[2:134]': 0,\n",
       "    'SM_Exgauster\\\\[2:135]': 0,\n",
       "    'SM_Exgauster\\\\[2:136]': 0,\n",
       "    'SM_Exgauster\\\\[2:137]': 7.099999904632568,\n",
       "    'SM_Exgauster\\\\[2:138]': 7.099999904632568,\n",
       "    'SM_Exgauster\\\\[2:139]': 7.099999904632568,\n",
       "    'SM_Exgauster\\\\[2:140]': 7.099999904632568,\n",
       "    'SM_Exgauster\\\\[2:141]': 7.099999904632568,\n",
       "    'SM_Exgauster\\\\[2:142]': 7.099999904632568,\n",
       "    'SM_Exgauster\\\\[2:143]': 7.099999904632568,\n",
       "    'SM_Exgauster\\\\[2:144]': 7.099999904632568,\n",
       "    'SM_Exgauster\\\\[2:145]': 7.099999904632568,\n",
       "    'SM_Exgauster\\\\[2:146]': 7.099999904632568,\n",
       "    'SM_Exgauster\\\\[2:147]': 7.099999904632568,\n",
       "    'SM_Exgauster\\\\[2:148]': 7.099999904632568,\n",
       "    'SM_Exgauster\\\\[2:149]': 0,\n",
       "    'SM_Exgauster\\\\[2:150]': 0,\n",
       "    'SM_Exgauster\\\\[2:151]': 0,\n",
       "    'SM_Exgauster\\\\[2:152]': 0,\n",
       "    'SM_Exgauster\\\\[2:153]': 0,\n",
       "    'SM_Exgauster\\\\[2:154]': 0,\n",
       "    'SM_Exgauster\\\\[2:155]': 0,\n",
       "    'SM_Exgauster\\\\[2:156]': 0,\n",
       "    'SM_Exgauster\\\\[2:157]': 0,\n",
       "    'SM_Exgauster\\\\[2:158]': 0,\n",
       "    'SM_Exgauster\\\\[2:159]': 0,\n",
       "    'SM_Exgauster\\\\[2:160]': 0,\n",
       "    'SM_Exgauster\\\\[2:161]': 4.5,\n",
       "    'SM_Exgauster\\\\[2:162]': 4.5,\n",
       "    'SM_Exgauster\\\\[2:163]': 4.5,\n",
       "    'SM_Exgauster\\\\[2:164]': 4.5,\n",
       "    'SM_Exgauster\\\\[2:165]': 4.5,\n",
       "    'SM_Exgauster\\\\[2:166]': 4.5,\n",
       "    'SM_Exgauster\\\\[2:167]': 4.5,\n",
       "    'SM_Exgauster\\\\[2:168]': 4.5,\n",
       "    'SM_Exgauster\\\\[2:169]': 4.5,\n",
       "    'SM_Exgauster\\\\[2:170]': 4.5,\n",
       "    'SM_Exgauster\\\\[2:171]': 4.5,\n",
       "    'SM_Exgauster\\\\[2:172]': 4.5,\n",
       "    'SM_Exgauster\\\\[2:173]': 0,\n",
       "    'SM_Exgauster\\\\[2:174]': 0,\n",
       "    'SM_Exgauster\\\\[2:175]': 0,\n",
       "    'SM_Exgauster\\\\[2:176]': 0,\n",
       "    'SM_Exgauster\\\\[2:177]': 0,\n",
       "    'SM_Exgauster\\\\[2:178]': 0,\n",
       "    'SM_Exgauster\\\\[2:179]': 0,\n",
       "    'SM_Exgauster\\\\[2:180]': 0,\n",
       "    'SM_Exgauster\\\\[2:181]': 0,\n",
       "    'SM_Exgauster\\\\[2:182]': 0,\n",
       "    'SM_Exgauster\\\\[2:183]': 0,\n",
       "    'SM_Exgauster\\\\[2:184]': 0,\n",
       "    'SM_Exgauster\\\\[2:185]': 7.099999904632568,\n",
       "    'SM_Exgauster\\\\[2:186]': 7.099999904632568,\n",
       "    'SM_Exgauster\\\\[2:187]': 7.099999904632568,\n",
       "    'SM_Exgauster\\\\[2:188]': 7.099999904632568,\n",
       "    'SM_Exgauster\\\\[2:189]': 7.099999904632568,\n",
       "    'SM_Exgauster\\\\[2:190]': 7.099999904632568,\n",
       "    'SM_Exgauster\\\\[2:191]': 10,\n",
       "    'SM_Exgauster\\\\[2:192]': 10,\n",
       "    'SM_Exgauster\\\\[2:193]': 7.099999904632568,\n",
       "    'SM_Exgauster\\\\[2:194]': 10,\n",
       "    'SM_Exgauster\\\\[2:195]': 10,\n",
       "    'SM_Exgauster\\\\[2:196]': 7.099999904632568,\n",
       "    'SM_Exgauster\\\\[2:197]': 0,\n",
       "    'SM_Exgauster\\\\[2:198]': 0,\n",
       "    'SM_Exgauster\\\\[2:199]': 0,\n",
       "    'SM_Exgauster\\\\[2:200]': 0,\n",
       "    'SM_Exgauster\\\\[2:201]': 0,\n",
       "    'SM_Exgauster\\\\[2:202]': 0,\n",
       "    'SM_Exgauster\\\\[2:203]': 0,\n",
       "    'SM_Exgauster\\\\[2:204]': 0,\n",
       "    'SM_Exgauster\\\\[2:205]': 0,\n",
       "    'SM_Exgauster\\\\[2:206]': 0,\n",
       "    'SM_Exgauster\\\\[2:207]': 0,\n",
       "    'SM_Exgauster\\\\[2:208]': 0,\n",
       "    'SM_Exgauster\\\\[2:209]': 4.5,\n",
       "    'SM_Exgauster\\\\[2:210]': 4.5,\n",
       "    'SM_Exgauster\\\\[2:211]': 4.5,\n",
       "    'SM_Exgauster\\\\[2:212]': 4.5,\n",
       "    'SM_Exgauster\\\\[2:213]': 4.5,\n",
       "    'SM_Exgauster\\\\[2:214]': 4.5,\n",
       "    'SM_Exgauster\\\\[2:215]': 4.5,\n",
       "    'SM_Exgauster\\\\[2:216]': 4.5,\n",
       "    'SM_Exgauster\\\\[2:217]': 4.5,\n",
       "    'SM_Exgauster\\\\[2:218]': 4.5,\n",
       "    'SM_Exgauster\\\\[2:219]': 4.5,\n",
       "    'SM_Exgauster\\\\[2:220]': 4.5,\n",
       "    'SM_Exgauster\\\\[2:221]': 0,\n",
       "    'SM_Exgauster\\\\[2:222]': 0,\n",
       "    'SM_Exgauster\\\\[2:223]': 0,\n",
       "    'SM_Exgauster\\\\[2:224]': 0,\n",
       "    'SM_Exgauster\\\\[2:225]': 0,\n",
       "    'SM_Exgauster\\\\[2:226]': 0,\n",
       "    'SM_Exgauster\\\\[2:227]': 0,\n",
       "    'SM_Exgauster\\\\[2:228]': 0,\n",
       "    'SM_Exgauster\\\\[2:229]': 0,\n",
       "    'SM_Exgauster\\\\[2:230]': 0,\n",
       "    'SM_Exgauster\\\\[2:231]': 0,\n",
       "    'SM_Exgauster\\\\[2:232]': 0,\n",
       "    'SM_Exgauster\\\\[2.0]': 0,\n",
       "    'SM_Exgauster\\\\[2.1]': 0,\n",
       "    'SM_Exgauster\\\\[3:0]': 1.238425850868225,\n",
       "    'SM_Exgauster\\\\[3:1]': 0.8622685074806213,\n",
       "    'SM_Exgauster\\\\[3:2]': 0.4050925672054291,\n",
       "    'SM_Exgauster\\\\[3:3]': 1.1111111640930176,\n",
       "    'SM_Exgauster\\\\[3:4]': 1.3252315521240234,\n",
       "    'SM_Exgauster\\\\[3:5]': 1.903935194015503,\n",
       "    'SM_Exgauster\\\\[3:6]': 0.8281415700912476,\n",
       "    'SM_Exgauster\\\\[3:7]': 0.7233796119689941,\n",
       "    'SM_Exgauster\\\\[3:8]': 2.7025463581085205,\n",
       "    'SM_Exgauster\\\\[3:9]': 1.086679220199585,\n",
       "    'SM_Exgauster\\\\[3:10]': 0.5729166865348816,\n",
       "    'SM_Exgauster\\\\[3:11]': 2.2395832538604736,\n",
       "    'SM_Exgauster\\\\[3:12]': 0.8159722089767456,\n",
       "    'SM_Exgauster\\\\[3:13]': 0.6018518805503845,\n",
       "    'SM_Exgauster\\\\[3:14]': 0.21412037312984467,\n",
       "    'SM_Exgauster\\\\[3:15]': 0.7233796119689941,\n",
       "    'SM_Exgauster\\\\[3:16]': 0.5613425970077515,\n",
       "    'SM_Exgauster\\\\[3:17]': 0.8738425970077515,\n",
       "    'SM_Exgauster\\\\[3:18]': 0.5844907760620117,\n",
       "    'SM_Exgauster\\\\[3:19]': 0.5729166865348816,\n",
       "    'SM_Exgauster\\\\[3:20]': 0.9259259104728699,\n",
       "    'SM_Exgauster\\\\[3:21]': 0.47453704476356506,\n",
       "    'SM_Exgauster\\\\[3:22]': 0.38307762145996094,\n",
       "    'SM_Exgauster\\\\[3:23]': 0.7638888955116272,\n",
       "    'SM_Exgauster\\\\[3:24]': 118.74779510498047,\n",
       "    'SM_Exgauster\\\\[3:25]': 100.39213562011719,\n",
       "    'SM_Exgauster\\\\[3:27]': 44.099998474121094,\n",
       "    'SM_Exgauster\\\\[3:28]': 52.69999694824219,\n",
       "    'SM_Exgauster\\\\[3:29]': 44.5,\n",
       "    'SM_Exgauster\\\\[3:30]': 53.400001525878906,\n",
       "    'SM_Exgauster\\\\[3:31]': 49.5,\n",
       "    'SM_Exgauster\\\\[3:32]': 48.400001525878906,\n",
       "    'SM_Exgauster\\\\[3:33]': 35.900001525878906,\n",
       "    'SM_Exgauster\\\\[3:34]': 40.900001525878906,\n",
       "    'SM_Exgauster\\\\[3:35]': 40.19999694824219,\n",
       "    'SM_Exgauster\\\\[3:36]': 24,\n",
       "    'SM_Exgauster\\\\[3:37]': -3276.800048828125,\n",
       "    'SM_Exgauster\\\\[3:41]': 32.5,\n",
       "    'SM_Exgauster\\\\[3:42]': 32.80000305175781,\n",
       "    'SM_Exgauster\\\\[3:43]': 55.20000457763672,\n",
       "    'SM_Exgauster\\\\[3:44]': 50.5,\n",
       "    'SM_Exgauster\\\\[3:45]': 51.90000915527344,\n",
       "    'SM_Exgauster\\\\[3:46]': -3276.800048828125,\n",
       "    'SM_Exgauster\\\\[3:47]': 49.29999542236328,\n",
       "    'SM_Exgauster\\\\[3:48]': 53.79999542236328,\n",
       "    'SM_Exgauster\\\\[3:49]': 48.69999694824219,\n",
       "    'SM_Exgauster\\\\[3:50]': 38.899993896484375,\n",
       "    'SM_Exgauster\\\\[3:51]': 39.400001525878906,\n",
       "    'SM_Exgauster\\\\[3:52]': 36.29999542236328,\n",
       "    'SM_Exgauster\\\\[3:53]': 20,\n",
       "    'SM_Exgauster\\\\[3:54]': -3276.800048828125,\n",
       "    'SM_Exgauster\\\\[3:55]': -3276.800048828125,\n",
       "    'SM_Exgauster\\\\[3:56]': -3276.800048828125,\n",
       "    'SM_Exgauster\\\\[3:57]': -3276.800048828125,\n",
       "    'SM_Exgauster\\\\[3:58]': -3276.800048828125,\n",
       "    'SM_Exgauster\\\\[3:59]': 40.599998474121094,\n",
       "    'SM_Exgauster\\\\[3:60]': 38.70000457763672,\n",
       "    'SM_Exgauster\\\\[3:61]': 724.10302734375,\n",
       "    'SM_Exgauster\\\\[3:62]': 666.2326049804688,\n",
       "    'SM_Exgauster\\\\[3:63]': 75,\n",
       "    'SM_Exgauster\\\\[3:64]': 75,\n",
       "    'SM_Exgauster\\\\[3:65]': 75,\n",
       "    'SM_Exgauster\\\\[3:66]': 75,\n",
       "    'SM_Exgauster\\\\[3:67]': 75,\n",
       "    'SM_Exgauster\\\\[3:68]': 75,\n",
       "    'SM_Exgauster\\\\[3:69]': 75,\n",
       "    'SM_Exgauster\\\\[3:70]': 75,\n",
       "    'SM_Exgauster\\\\[3:71]': 75,\n",
       "    'SM_Exgauster\\\\[3:72]': 0,\n",
       "    'SM_Exgauster\\\\[3:73]': 0,\n",
       "    'SM_Exgauster\\\\[3:74]': 0,\n",
       "    'SM_Exgauster\\\\[3:75]': 0,\n",
       "    'SM_Exgauster\\\\[3:76]': 0,\n",
       "    'SM_Exgauster\\\\[3:77]': 0,\n",
       "    'SM_Exgauster\\\\[3:78]': 0,\n",
       "    'SM_Exgauster\\\\[3:79]': 0,\n",
       "    'SM_Exgauster\\\\[3:80]': 0,\n",
       "    'SM_Exgauster\\\\[3:81]': 65,\n",
       "    'SM_Exgauster\\\\[3:82]': 65,\n",
       "    'SM_Exgauster\\\\[3:83]': 65,\n",
       "    'SM_Exgauster\\\\[3:84]': 65,\n",
       "    'SM_Exgauster\\\\[3:85]': 65,\n",
       "    'SM_Exgauster\\\\[3:86]': 65,\n",
       "    'SM_Exgauster\\\\[3:87]': 65,\n",
       "    'SM_Exgauster\\\\[3:88]': 65,\n",
       "    'SM_Exgauster\\\\[3:89]': 65,\n",
       "    'SM_Exgauster\\\\[3:90]': 0,\n",
       "    'SM_Exgauster\\\\[3:91]': 0,\n",
       "    'SM_Exgauster\\\\[3:92]': 0,\n",
       "    'SM_Exgauster\\\\[3:93]': 0,\n",
       "    'SM_Exgauster\\\\[3:94]': 0,\n",
       "    'SM_Exgauster\\\\[3:95]': 0,\n",
       "    'SM_Exgauster\\\\[3:96]': 0,\n",
       "    'SM_Exgauster\\\\[3:97]': 0,\n",
       "    'SM_Exgauster\\\\[3:98]': 0,\n",
       "    'SM_Exgauster\\\\[3:99]': 75,\n",
       "    'SM_Exgauster\\\\[3:100]': 75,\n",
       "    'SM_Exgauster\\\\[3:101]': 75,\n",
       "    'SM_Exgauster\\\\[3:102]': 75,\n",
       "    'SM_Exgauster\\\\[3:103]': 75,\n",
       "    'SM_Exgauster\\\\[3:104]': 75,\n",
       "    'SM_Exgauster\\\\[3:105]': 75,\n",
       "    'SM_Exgauster\\\\[3:106]': 75,\n",
       "    'SM_Exgauster\\\\[3:107]': 75,\n",
       "    'SM_Exgauster\\\\[3:108]': 0,\n",
       "    'SM_Exgauster\\\\[3:109]': 0,\n",
       "    'SM_Exgauster\\\\[3:110]': 0,\n",
       "    'SM_Exgauster\\\\[3:111]': 0,\n",
       "    'SM_Exgauster\\\\[3:112]': 0,\n",
       "    'SM_Exgauster\\\\[3:113]': 0,\n",
       "    'SM_Exgauster\\\\[3:114]': 0,\n",
       "    'SM_Exgauster\\\\[3:115]': 0,\n",
       "    'SM_Exgauster\\\\[3:116]': 0,\n",
       "    'SM_Exgauster\\\\[3:117]': 65,\n",
       "    'SM_Exgauster\\\\[3:118]': 65,\n",
       "    'SM_Exgauster\\\\[3:119]': 65,\n",
       "    'SM_Exgauster\\\\[3:120]': 65,\n",
       "    'SM_Exgauster\\\\[3:121]': 65,\n",
       "    'SM_Exgauster\\\\[3:122]': 65,\n",
       "    'SM_Exgauster\\\\[3:123]': 65,\n",
       "    'SM_Exgauster\\\\[3:124]': 65,\n",
       "    'SM_Exgauster\\\\[3:125]': 65,\n",
       "    'SM_Exgauster\\\\[3:126]': 0,\n",
       "    'SM_Exgauster\\\\[3:127]': 0,\n",
       "    'SM_Exgauster\\\\[3:128]': 0,\n",
       "    'SM_Exgauster\\\\[3:129]': 0,\n",
       "    'SM_Exgauster\\\\[3:130]': 0,\n",
       "    'SM_Exgauster\\\\[3:131]': 0,\n",
       "    'SM_Exgauster\\\\[3:132]': 0,\n",
       "    'SM_Exgauster\\\\[3:133]': 0,\n",
       "    'SM_Exgauster\\\\[3:134]': 0,\n",
       "    'SM_Exgauster\\\\[3:135]': 7.099999904632568,\n",
       "    'SM_Exgauster\\\\[3:136]': 7.099999904632568,\n",
       "    'SM_Exgauster\\\\[3:137]': 7.099999904632568,\n",
       "    'SM_Exgauster\\\\[3:138]': 7.099999904632568,\n",
       "    'SM_Exgauster\\\\[3:139]': 7.099999904632568,\n",
       "    'SM_Exgauster\\\\[3:140]': 7.099999904632568,\n",
       "    'SM_Exgauster\\\\[3:141]': 7.099999904632568,\n",
       "    'SM_Exgauster\\\\[3:142]': 7.099999904632568,\n",
       "    'SM_Exgauster\\\\[3:143]': 7.099999904632568,\n",
       "    'SM_Exgauster\\\\[3:144]': 7.099999904632568,\n",
       "    'SM_Exgauster\\\\[3:145]': 7.099999904632568,\n",
       "    'SM_Exgauster\\\\[3:146]': 7.099999904632568,\n",
       "    'SM_Exgauster\\\\[3:147]': 0,\n",
       "    'SM_Exgauster\\\\[3:148]': 0,\n",
       "    'SM_Exgauster\\\\[3:149]': 0,\n",
       "    'SM_Exgauster\\\\[3:150]': 0,\n",
       "    'SM_Exgauster\\\\[3:151]': 0,\n",
       "    'SM_Exgauster\\\\[3:152]': 0,\n",
       "    'SM_Exgauster\\\\[3:153]': 0,\n",
       "    'SM_Exgauster\\\\[3:154]': 0,\n",
       "    'SM_Exgauster\\\\[3:155]': 0,\n",
       "    'SM_Exgauster\\\\[3:156]': 0,\n",
       "    'SM_Exgauster\\\\[3:157]': 0,\n",
       "    'SM_Exgauster\\\\[3:158]': 0,\n",
       "    'SM_Exgauster\\\\[3:159]': 4.5,\n",
       "    'SM_Exgauster\\\\[3:160]': 4.5,\n",
       "    'SM_Exgauster\\\\[3:161]': 4.5,\n",
       "    'SM_Exgauster\\\\[3:162]': 4.5,\n",
       "    'SM_Exgauster\\\\[3:163]': 4.5,\n",
       "    'SM_Exgauster\\\\[3:164]': 4.5,\n",
       "    'SM_Exgauster\\\\[3:165]': 4.5,\n",
       "    'SM_Exgauster\\\\[3:166]': 4.5,\n",
       "    'SM_Exgauster\\\\[3:167]': 4.5,\n",
       "    'SM_Exgauster\\\\[3:168]': 4.5,\n",
       "    'SM_Exgauster\\\\[3:169]': 4.5,\n",
       "    'SM_Exgauster\\\\[3:170]': 4.5,\n",
       "    'SM_Exgauster\\\\[3:171]': 0,\n",
       "    'SM_Exgauster\\\\[3:172]': 0,\n",
       "    'SM_Exgauster\\\\[3:173]': 0,\n",
       "    'SM_Exgauster\\\\[3:174]': 0,\n",
       "    'SM_Exgauster\\\\[3:175]': 0,\n",
       "    'SM_Exgauster\\\\[3:176]': 0,\n",
       "    'SM_Exgauster\\\\[3:177]': 0,\n",
       "    'SM_Exgauster\\\\[3:178]': 0,\n",
       "    'SM_Exgauster\\\\[3:179]': 0,\n",
       "    'SM_Exgauster\\\\[3:180]': 0,\n",
       "    'SM_Exgauster\\\\[3:181]': 0,\n",
       "    'SM_Exgauster\\\\[3:182]': 0,\n",
       "    'SM_Exgauster\\\\[3:183]': 7.099999904632568,\n",
       "    'SM_Exgauster\\\\[3:184]': 7.099999904632568,\n",
       "    'SM_Exgauster\\\\[3:185]': 7.099999904632568,\n",
       "    'SM_Exgauster\\\\[3:186]': 7.099999904632568,\n",
       "    'SM_Exgauster\\\\[3:187]': 7.099999904632568,\n",
       "    'SM_Exgauster\\\\[3:188]': 7.099999904632568,\n",
       "    'SM_Exgauster\\\\[3:189]': 14,\n",
       "    'SM_Exgauster\\\\[3:190]': 14,\n",
       "    'SM_Exgauster\\\\[3:191]': 7.099999904632568,\n",
       "    'SM_Exgauster\\\\[3:192]': 14,\n",
       "    'SM_Exgauster\\\\[3:193]': 14,\n",
       "    'SM_Exgauster\\\\[3:194]': 7.099999904632568,\n",
       "    'SM_Exgauster\\\\[3:195]': 0,\n",
       "    'SM_Exgauster\\\\[3:196]': 0,\n",
       "    'SM_Exgauster\\\\[3:197]': 0,\n",
       "    'SM_Exgauster\\\\[3:198]': 0,\n",
       "    'SM_Exgauster\\\\[3:199]': 0,\n",
       "    'SM_Exgauster\\\\[3:200]': 0,\n",
       "    'SM_Exgauster\\\\[3:201]': 0,\n",
       "    'SM_Exgauster\\\\[3:202]': 0,\n",
       "    'SM_Exgauster\\\\[3:203]': 0,\n",
       "    'SM_Exgauster\\\\[3:204]': 0,\n",
       "    'SM_Exgauster\\\\[3:205]': 0,\n",
       "    'SM_Exgauster\\\\[3:206]': 0,\n",
       "    'SM_Exgauster\\\\[3:207]': 4.5,\n",
       "    'SM_Exgauster\\\\[3:208]': 4.5,\n",
       "    'SM_Exgauster\\\\[3:209]': 4.5,\n",
       "    'SM_Exgauster\\\\[3:210]': 4.5,\n",
       "    'SM_Exgauster\\\\[3:211]': 4.5,\n",
       "    'SM_Exgauster\\\\[3:212]': 4.5,\n",
       "    'SM_Exgauster\\\\[3:213]': 4.5,\n",
       "    'SM_Exgauster\\\\[3:214]': 4.5,\n",
       "    'SM_Exgauster\\\\[3:215]': 4.5,\n",
       "    'SM_Exgauster\\\\[3:216]': 4.5,\n",
       "    'SM_Exgauster\\\\[3:217]': 4.5,\n",
       "    'SM_Exgauster\\\\[3:218]': 4.5,\n",
       "    'SM_Exgauster\\\\[3:219]': 0,\n",
       "    'SM_Exgauster\\\\[3:220]': 0,\n",
       "    'SM_Exgauster\\\\[3:221]': 0,\n",
       "    'SM_Exgauster\\\\[3:222]': 0,\n",
       "    'SM_Exgauster\\\\[3:223]': 0,\n",
       "    'SM_Exgauster\\\\[3:224]': 0,\n",
       "    'SM_Exgauster\\\\[3:225]': 0,\n",
       "    'SM_Exgauster\\\\[3:226]': 0,\n",
       "    'SM_Exgauster\\\\[3:227]': 0,\n",
       "    'SM_Exgauster\\\\[3:228]': 0,\n",
       "    'SM_Exgauster\\\\[3:229]': 0,\n",
       "    'SM_Exgauster\\\\[3:230]': 0,\n",
       "    'SM_Exgauster\\\\[3.0]': 1,\n",
       "    'SM_Exgauster\\\\[3.1]': 1,\n",
       "    'SM_Exgauster\\\\[4:0]': 100.49837493896484,\n",
       "    'SM_Exgauster\\\\[4:1]': 0.006164738908410072,\n",
       "    'SM_Exgauster\\\\[4:3]': 0.09738875925540924,\n",
       "    'SM_Exgauster\\\\[4:7]': 93.42591857910156,\n",
       "    'SM_Exgauster\\\\[4:8]': 0.03228858485817909,\n",
       "    'SM_Exgauster\\\\[4:10]': 0.04869437962770462,\n",
       "    'SM_Exgauster\\\\[4.0]': 0,\n",
       "    'SM_Exgauster\\\\[4.1]': 0,\n",
       "    'SM_Exgauster\\\\[4.2]': 0,\n",
       "    'SM_Exgauster\\\\[4.3]': 0,\n",
       "    'SM_Exgauster\\\\[4.4]': 0,\n",
       "    'SM_Exgauster\\\\[4.5]': 0,\n",
       "    'SM_Exgauster\\\\[4.6]': 0,\n",
       "    'SM_Exgauster\\\\[4.7]': 0,\n",
       "    'SM_Exgauster\\\\[4.8]': 0,\n",
       "    'SM_Exgauster\\\\[4.9]': 0,\n",
       "    'SM_Exgauster\\\\[5:0]': 62.70000076293945,\n",
       "    'SM_Exgauster\\\\[5:1]': 744,\n",
       "    'SM_Exgauster\\\\[5:2]': 2067,\n",
       "    'SM_Exgauster\\\\[5:3]': 2044,\n",
       "    'SM_Exgauster\\\\[5:4]': 489,\n",
       "    'SM_Exgauster\\\\[5:5]': 105,\n",
       "    'SM_Exgauster\\\\[5:6]': 10,\n",
       "    'SM_Exgauster\\\\[5:7]': 95.69999694824219,\n",
       "    'SM_Exgauster\\\\[5:8]': 1767,\n",
       "    'SM_Exgauster\\\\[5:9]': 2316,\n",
       "    'SM_Exgauster\\\\[5:10]': 1966,\n",
       "    'SM_Exgauster\\\\[5:11]': 540,\n",
       "    'SM_Exgauster\\\\[5:12]': 106,\n",
       "    'SM_Exgauster\\\\[5:13]': 10,\n",
       "    'SM_Exgauster\\\\[5.0]': 1,\n",
       "    'SM_Exgauster\\\\[5.1]': 1,\n",
       "    'SM_Exgauster\\\\[5.2]': 1,\n",
       "    'SM_Exgauster\\\\[5.3]': 0,\n",
       "    'SM_Exgauster\\\\[5.4]': 0,\n",
       "    'SM_Exgauster\\\\[5.5]': 1,\n",
       "    'SM_Exgauster\\\\[5.6]': 1,\n",
       "    'SM_Exgauster\\\\[5.7]': 1,\n",
       "    'SM_Exgauster\\\\[5.8]': 0,\n",
       "    'SM_Exgauster\\\\[5.9]': 0,\n",
       "    'SM_Exgauster\\\\[6:0]': 9.765933990478516,\n",
       "    'SM_Exgauster\\\\[6:1]': 94.68058776855469,\n",
       "    'SM_Exgauster\\\\[6:2]': 4.4481220129455323e-07,\n",
       "    'SM_Exgauster\\\\[6.0]': 0,\n",
       "    'SM_Exgauster\\\\[7:0]': 606.91552734375,\n",
       "    'SM_Exgauster\\\\[7:1]': 122.64163970947266,\n",
       "    'SM_Exgauster\\\\[7:2]': 3.398988723754883,\n",
       "    'SM_Exgauster\\\\[7.0]': 1,\n",
       "    'SM_Exgauster\\\\[8:0]': 569.3367309570312,\n",
       "    'SM_Exgauster\\\\[8:1]': 122.43224334716797,\n",
       "    'SM_Exgauster\\\\[8:2]': 3.7390384674072266,\n",
       "    'SM_Exgauster\\\\[8.0]': 1}},)]"
      ]
     },
     "execution_count": 83,
     "metadata": {},
     "output_type": "execute_result"
    }
   ],
   "source": [
    "# проверка записи данных в таблицу 'signal_messages_json'\n",
    "cursor.execute(\"SELECT * FROM stg.signal_messages_json LIMIT 5;\")\n",
    "cursor.fetchall()"
   ]
  },
  {
   "cell_type": "code",
   "execution_count": 84,
   "id": "f2d10b4d",
   "metadata": {},
   "outputs": [
    {
     "data": {
      "text/plain": [
       "[('2022-12-30T06:00:00.592+00:00', 'zsmk-9433-dev-01')]"
      ]
     },
     "execution_count": 84,
     "metadata": {},
     "output_type": "execute_result"
    }
   ],
   "source": [
    "# вывод времени записи данных - 'Timestamp' и имя топика - 'Topic'\n",
    "cursor.execute(\"SELECT message -> 'Timestamp' AS Timestamp, \\\n",
    "                       message -> 'Topic' AS Topic \\\n",
    "                FROM stg.signal_messages_json;\")\n",
    "cursor.fetchall()"
   ]
  },
  {
   "cell_type": "code",
   "execution_count": 85,
   "id": "be5ef3ff",
   "metadata": {},
   "outputs": [
    {
     "data": {
      "text/plain": [
       "[('2022-12-30T05:59:25.16886', '1.3657407760620117')]"
      ]
     },
     "execution_count": 85,
     "metadata": {},
     "output_type": "execute_result"
    }
   ],
   "source": [
    "# вывод времени сигнала - 'moment' и значение уставки для сигнала - 'SM_Exgauster\\\\[0:9]'\n",
    "cursor.execute(\"SELECT message -> 'Message' ->>  'moment' AS moment, \\\n",
    "                       message -> 'Message' ->>  'SM_Exgauster\\\\[0:9]' AS SM_Exgauster_0_9 \\\n",
    "                FROM stg.signal_messages_json;\")\n",
    "cursor.fetchall()"
   ]
  },
  {
   "cell_type": "code",
   "execution_count": 86,
   "id": "2365998e",
   "metadata": {},
   "outputs": [
    {
     "data": {
      "text/plain": [
       "[({'moment': '2022-12-30T05:59:25.16886',\n",
       "   'SM_Exgauster\\\\[0:0]': 1.2731481790542603,\n",
       "   'SM_Exgauster\\\\[0:1]': 1.5856481790542603,\n",
       "   'SM_Exgauster\\\\[0:2]': 0.9835540056228638,\n",
       "   'SM_Exgauster\\\\[0:3]': 1.6203702688217163,\n",
       "   'SM_Exgauster\\\\[0:4]': 2.060185194015503,\n",
       "   'SM_Exgauster\\\\[0:5]': 1.1863425970077515,\n",
       "   'SM_Exgauster\\\\[0:6]': 2.9177370071411133,\n",
       "   'SM_Exgauster\\\\[0:7]': 1.9097222089767456,\n",
       "   'SM_Exgauster\\\\[0:8]': 2.9585418701171875,\n",
       "   'SM_Exgauster\\\\[0:9]': 1.3657407760620117,\n",
       "   'SM_Exgauster\\\\[0:10]': 0.8391203880310059,\n",
       "   'SM_Exgauster\\\\[0:11]': 0.8796296119689941,\n",
       "   'SM_Exgauster\\\\[0:12]': 1.2442129850387573,\n",
       "   'SM_Exgauster\\\\[0:13]': 1.359953761100769,\n",
       "   'SM_Exgauster\\\\[0:14]': 0.5324074029922485,\n",
       "   'SM_Exgauster\\\\[0:15]': 0.9780092239379883,\n",
       "   'SM_Exgauster\\\\[0:16]': 1.7303240299224854,\n",
       "   'SM_Exgauster\\\\[0:17]': 1.2152777910232544,\n",
       "   'SM_Exgauster\\\\[0:18]': 1.1689815521240234,\n",
       "   'SM_Exgauster\\\\[0:19]': 1.3946759700775146,\n",
       "   'SM_Exgauster\\\\[0:20]': 2.847222089767456,\n",
       "   'SM_Exgauster\\\\[0:21]': 2.471064805984497,\n",
       "   'SM_Exgauster\\\\[0:22]': 0.9548611044883728,\n",
       "   'SM_Exgauster\\\\[0:23]': 2.1412036418914795,\n",
       "   'SM_Exgauster\\\\[0:24]': 95.58148956298828,\n",
       "   'SM_Exgauster\\\\[0:25]': 108.48148345947266,\n",
       "   'SM_Exgauster\\\\[0:27]': 47.69999694824219,\n",
       "   'SM_Exgauster\\\\[0:28]': 47.399993896484375,\n",
       "   'SM_Exgauster\\\\[0:29]': 44.099998474121094,\n",
       "   'SM_Exgauster\\\\[0:30]': 46.30000305175781,\n",
       "   'SM_Exgauster\\\\[0:31]': 43,\n",
       "   'SM_Exgauster\\\\[0:32]': 40.900001525878906,\n",
       "   'SM_Exgauster\\\\[0:33]': 34.099998474121094,\n",
       "   'SM_Exgauster\\\\[0:34]': 41.29999542236328,\n",
       "   'SM_Exgauster\\\\[0:35]': 37.099998474121094,\n",
       "   'SM_Exgauster\\\\[0:36]': 24.400001525878906,\n",
       "   'SM_Exgauster\\\\[0:37]': 27.100006103515625,\n",
       "   'SM_Exgauster\\\\[0:41]': 37.80000305175781,\n",
       "   'SM_Exgauster\\\\[0:42]': 36.099998474121094,\n",
       "   'SM_Exgauster\\\\[0:43]': 52.100006103515625,\n",
       "   'SM_Exgauster\\\\[0:44]': 51.5,\n",
       "   'SM_Exgauster\\\\[0:45]': 45.5,\n",
       "   'SM_Exgauster\\\\[0:46]': -3276.800048828125,\n",
       "   'SM_Exgauster\\\\[0:47]': 49.599998474121094,\n",
       "   'SM_Exgauster\\\\[0:48]': 46.900001525878906,\n",
       "   'SM_Exgauster\\\\[0:49]': 44.599998474121094,\n",
       "   'SM_Exgauster\\\\[0:50]': 36.79999542236328,\n",
       "   'SM_Exgauster\\\\[0:51]': 46.900001525878906,\n",
       "   'SM_Exgauster\\\\[0:52]': 44,\n",
       "   'SM_Exgauster\\\\[0:53]': 26.20000457763672,\n",
       "   'SM_Exgauster\\\\[0:54]': 23.400001525878906,\n",
       "   'SM_Exgauster\\\\[0:55]': -118.51851654052734,\n",
       "   'SM_Exgauster\\\\[0:56]': -3276.800048828125,\n",
       "   'SM_Exgauster\\\\[0:57]': -3276.800048828125,\n",
       "   'SM_Exgauster\\\\[0:58]': -3276.800048828125,\n",
       "   'SM_Exgauster\\\\[0:59]': 33.099998474121094,\n",
       "   'SM_Exgauster\\\\[0:60]': 41.19999694824219,\n",
       "   'SM_Exgauster\\\\[0:61]': 724.8263549804688,\n",
       "   'SM_Exgauster\\\\[0:62]': 744.3576049804688,\n",
       "   'SM_Exgauster\\\\[0:63]': 75,\n",
       "   'SM_Exgauster\\\\[0:64]': 75,\n",
       "   'SM_Exgauster\\\\[0:65]': 75,\n",
       "   'SM_Exgauster\\\\[0:66]': 75,\n",
       "   'SM_Exgauster\\\\[0:67]': 75,\n",
       "   'SM_Exgauster\\\\[0:68]': 75,\n",
       "   'SM_Exgauster\\\\[0:69]': 75,\n",
       "   'SM_Exgauster\\\\[0:70]': 75,\n",
       "   'SM_Exgauster\\\\[0:71]': 75,\n",
       "   'SM_Exgauster\\\\[0:72]': 0,\n",
       "   'SM_Exgauster\\\\[0:73]': 0,\n",
       "   'SM_Exgauster\\\\[0:74]': 0,\n",
       "   'SM_Exgauster\\\\[0:75]': 0,\n",
       "   'SM_Exgauster\\\\[0:76]': 0,\n",
       "   'SM_Exgauster\\\\[0:77]': 0,\n",
       "   'SM_Exgauster\\\\[0:78]': 0,\n",
       "   'SM_Exgauster\\\\[0:79]': 0,\n",
       "   'SM_Exgauster\\\\[0:80]': 0,\n",
       "   'SM_Exgauster\\\\[0:81]': 65,\n",
       "   'SM_Exgauster\\\\[0:82]': 65,\n",
       "   'SM_Exgauster\\\\[0:83]': 65,\n",
       "   'SM_Exgauster\\\\[0:84]': 65,\n",
       "   'SM_Exgauster\\\\[0:85]': 65,\n",
       "   'SM_Exgauster\\\\[0:86]': 65,\n",
       "   'SM_Exgauster\\\\[0:87]': 65,\n",
       "   'SM_Exgauster\\\\[0:88]': 65,\n",
       "   'SM_Exgauster\\\\[0:89]': 65,\n",
       "   'SM_Exgauster\\\\[0:90]': 0,\n",
       "   'SM_Exgauster\\\\[0:91]': 0,\n",
       "   'SM_Exgauster\\\\[0:92]': 0,\n",
       "   'SM_Exgauster\\\\[0:93]': 0,\n",
       "   'SM_Exgauster\\\\[0:94]': 0,\n",
       "   'SM_Exgauster\\\\[0:95]': 0,\n",
       "   'SM_Exgauster\\\\[0:96]': 0,\n",
       "   'SM_Exgauster\\\\[0:97]': 0,\n",
       "   'SM_Exgauster\\\\[0:98]': 0,\n",
       "   'SM_Exgauster\\\\[0:99]': 75,\n",
       "   'SM_Exgauster\\\\[0:100]': 75,\n",
       "   'SM_Exgauster\\\\[0:101]': 75,\n",
       "   'SM_Exgauster\\\\[0:102]': 75,\n",
       "   'SM_Exgauster\\\\[0:103]': 75,\n",
       "   'SM_Exgauster\\\\[0:104]': 75,\n",
       "   'SM_Exgauster\\\\[0:105]': 75,\n",
       "   'SM_Exgauster\\\\[0:106]': 75,\n",
       "   'SM_Exgauster\\\\[0:107]': 75,\n",
       "   'SM_Exgauster\\\\[0:108]': 0,\n",
       "   'SM_Exgauster\\\\[0:109]': 0,\n",
       "   'SM_Exgauster\\\\[0:110]': 0,\n",
       "   'SM_Exgauster\\\\[0:111]': 0,\n",
       "   'SM_Exgauster\\\\[0:112]': 0,\n",
       "   'SM_Exgauster\\\\[0:113]': 0,\n",
       "   'SM_Exgauster\\\\[0:114]': 0,\n",
       "   'SM_Exgauster\\\\[0:115]': 0,\n",
       "   'SM_Exgauster\\\\[0:116]': 0,\n",
       "   'SM_Exgauster\\\\[0:117]': 65,\n",
       "   'SM_Exgauster\\\\[0:118]': 65,\n",
       "   'SM_Exgauster\\\\[0:119]': 65,\n",
       "   'SM_Exgauster\\\\[0:120]': 65,\n",
       "   'SM_Exgauster\\\\[0:121]': 65,\n",
       "   'SM_Exgauster\\\\[0:122]': 65,\n",
       "   'SM_Exgauster\\\\[0:123]': 65,\n",
       "   'SM_Exgauster\\\\[0:124]': 65,\n",
       "   'SM_Exgauster\\\\[0:125]': 65,\n",
       "   'SM_Exgauster\\\\[0:126]': 0,\n",
       "   'SM_Exgauster\\\\[0:127]': 0,\n",
       "   'SM_Exgauster\\\\[0:128]': 0,\n",
       "   'SM_Exgauster\\\\[0:129]': 0,\n",
       "   'SM_Exgauster\\\\[0:130]': 0,\n",
       "   'SM_Exgauster\\\\[0:131]': 0,\n",
       "   'SM_Exgauster\\\\[0:132]': 0,\n",
       "   'SM_Exgauster\\\\[0:133]': 0,\n",
       "   'SM_Exgauster\\\\[0:134]': 0,\n",
       "   'SM_Exgauster\\\\[0:135]': 7.099999904632568,\n",
       "   'SM_Exgauster\\\\[0:136]': 7.099999904632568,\n",
       "   'SM_Exgauster\\\\[0:137]': 7.099999904632568,\n",
       "   'SM_Exgauster\\\\[0:138]': 7.099999904632568,\n",
       "   'SM_Exgauster\\\\[0:139]': 7.099999904632568,\n",
       "   'SM_Exgauster\\\\[0:140]': 7.099999904632568,\n",
       "   'SM_Exgauster\\\\[0:141]': 10,\n",
       "   'SM_Exgauster\\\\[0:142]': 10,\n",
       "   'SM_Exgauster\\\\[0:143]': 7.099999904632568,\n",
       "   'SM_Exgauster\\\\[0:144]': 10,\n",
       "   'SM_Exgauster\\\\[0:145]': 10,\n",
       "   'SM_Exgauster\\\\[0:146]': 7.099999904632568,\n",
       "   'SM_Exgauster\\\\[0:147]': 0,\n",
       "   'SM_Exgauster\\\\[0:148]': 0,\n",
       "   'SM_Exgauster\\\\[0:149]': 0,\n",
       "   'SM_Exgauster\\\\[0:150]': 0,\n",
       "   'SM_Exgauster\\\\[0:151]': 0,\n",
       "   'SM_Exgauster\\\\[0:152]': 0,\n",
       "   'SM_Exgauster\\\\[0:153]': 0,\n",
       "   'SM_Exgauster\\\\[0:154]': 0,\n",
       "   'SM_Exgauster\\\\[0:155]': 0,\n",
       "   'SM_Exgauster\\\\[0:156]': 0,\n",
       "   'SM_Exgauster\\\\[0:157]': 0,\n",
       "   'SM_Exgauster\\\\[0:158]': 0,\n",
       "   'SM_Exgauster\\\\[0:159]': 4.5,\n",
       "   'SM_Exgauster\\\\[0:160]': 4.5,\n",
       "   'SM_Exgauster\\\\[0:161]': 4.5,\n",
       "   'SM_Exgauster\\\\[0:162]': 4.5,\n",
       "   'SM_Exgauster\\\\[0:163]': 4.5,\n",
       "   'SM_Exgauster\\\\[0:164]': 4.5,\n",
       "   'SM_Exgauster\\\\[0:165]': 4.5,\n",
       "   'SM_Exgauster\\\\[0:166]': 4.5,\n",
       "   'SM_Exgauster\\\\[0:167]': 4.5,\n",
       "   'SM_Exgauster\\\\[0:168]': 4.5,\n",
       "   'SM_Exgauster\\\\[0:169]': 4.5,\n",
       "   'SM_Exgauster\\\\[0:170]': 4.5,\n",
       "   'SM_Exgauster\\\\[0:171]': 0,\n",
       "   'SM_Exgauster\\\\[0:172]': 0,\n",
       "   'SM_Exgauster\\\\[0:173]': 0,\n",
       "   'SM_Exgauster\\\\[0:174]': 0,\n",
       "   'SM_Exgauster\\\\[0:175]': 0,\n",
       "   'SM_Exgauster\\\\[0:176]': 0,\n",
       "   'SM_Exgauster\\\\[0:177]': 0,\n",
       "   'SM_Exgauster\\\\[0:178]': 0,\n",
       "   'SM_Exgauster\\\\[0:179]': 0,\n",
       "   'SM_Exgauster\\\\[0:180]': 0,\n",
       "   'SM_Exgauster\\\\[0:181]': 0,\n",
       "   'SM_Exgauster\\\\[0:182]': 0,\n",
       "   'SM_Exgauster\\\\[0:183]': 7.099999904632568,\n",
       "   'SM_Exgauster\\\\[0:184]': 7.099999904632568,\n",
       "   'SM_Exgauster\\\\[0:185]': 7.099999904632568,\n",
       "   'SM_Exgauster\\\\[0:186]': 7.099999904632568,\n",
       "   'SM_Exgauster\\\\[0:187]': 7.099999904632568,\n",
       "   'SM_Exgauster\\\\[0:188]': 7.099999904632568,\n",
       "   'SM_Exgauster\\\\[0:189]': 10,\n",
       "   'SM_Exgauster\\\\[0:190]': 10,\n",
       "   'SM_Exgauster\\\\[0:191]': 7.099999904632568,\n",
       "   'SM_Exgauster\\\\[0:192]': 10,\n",
       "   'SM_Exgauster\\\\[0:193]': 10,\n",
       "   'SM_Exgauster\\\\[0:194]': 7.099999904632568,\n",
       "   'SM_Exgauster\\\\[0:195]': 0,\n",
       "   'SM_Exgauster\\\\[0:196]': 0,\n",
       "   'SM_Exgauster\\\\[0:197]': 0,\n",
       "   'SM_Exgauster\\\\[0:198]': 0,\n",
       "   'SM_Exgauster\\\\[0:199]': 0,\n",
       "   'SM_Exgauster\\\\[0:200]': 0,\n",
       "   'SM_Exgauster\\\\[0:201]': 0,\n",
       "   'SM_Exgauster\\\\[0:202]': 0,\n",
       "   'SM_Exgauster\\\\[0:203]': 0,\n",
       "   'SM_Exgauster\\\\[0:204]': 0,\n",
       "   'SM_Exgauster\\\\[0:205]': 0,\n",
       "   'SM_Exgauster\\\\[0:206]': 0,\n",
       "   'SM_Exgauster\\\\[0:207]': 4.5,\n",
       "   'SM_Exgauster\\\\[0:208]': 4.5,\n",
       "   'SM_Exgauster\\\\[0:209]': 4.5,\n",
       "   'SM_Exgauster\\\\[0:210]': 4.5,\n",
       "   'SM_Exgauster\\\\[0:211]': 4.5,\n",
       "   'SM_Exgauster\\\\[0:212]': 4.5,\n",
       "   'SM_Exgauster\\\\[0:213]': 4.5,\n",
       "   'SM_Exgauster\\\\[0:214]': 4.5,\n",
       "   'SM_Exgauster\\\\[0:215]': 4.5,\n",
       "   'SM_Exgauster\\\\[0:216]': 4.5,\n",
       "   'SM_Exgauster\\\\[0:217]': 4.5,\n",
       "   'SM_Exgauster\\\\[0:218]': 4.5,\n",
       "   'SM_Exgauster\\\\[0:219]': 0,\n",
       "   'SM_Exgauster\\\\[0:220]': 0,\n",
       "   'SM_Exgauster\\\\[0:221]': 0,\n",
       "   'SM_Exgauster\\\\[0:222]': 0,\n",
       "   'SM_Exgauster\\\\[0:223]': 0,\n",
       "   'SM_Exgauster\\\\[0:224]': 0,\n",
       "   'SM_Exgauster\\\\[0:225]': 0,\n",
       "   'SM_Exgauster\\\\[0:226]': 0,\n",
       "   'SM_Exgauster\\\\[0:227]': 0,\n",
       "   'SM_Exgauster\\\\[0:228]': 0,\n",
       "   'SM_Exgauster\\\\[0:229]': 0,\n",
       "   'SM_Exgauster\\\\[0:230]': 0,\n",
       "   'SM_Exgauster\\\\[0.0]': 1,\n",
       "   'SM_Exgauster\\\\[0.1]': 1,\n",
       "   'SM_Exgauster\\\\[1:0]': 74.19999694824219,\n",
       "   'SM_Exgauster\\\\[1:1]': 0.8289999961853027,\n",
       "   'SM_Exgauster\\\\[1:2]': 1975,\n",
       "   'SM_Exgauster\\\\[1:3]': 1873,\n",
       "   'SM_Exgauster\\\\[1:4]': -3,\n",
       "   'SM_Exgauster\\\\[1:5]': 105,\n",
       "   'SM_Exgauster\\\\[1:6]': 10,\n",
       "   'SM_Exgauster\\\\[1:7]': 81.19999694824219,\n",
       "   'SM_Exgauster\\\\[1:8]': 0.9350000023841858,\n",
       "   'SM_Exgauster\\\\[1:9]': 1870,\n",
       "   'SM_Exgauster\\\\[1:10]': 1705,\n",
       "   'SM_Exgauster\\\\[1:11]': 2,\n",
       "   'SM_Exgauster\\\\[1:12]': 106,\n",
       "   'SM_Exgauster\\\\[1:13]': 10,\n",
       "   'SM_Exgauster\\\\[1.0]': 1,\n",
       "   'SM_Exgauster\\\\[1.1]': 0,\n",
       "   'SM_Exgauster\\\\[1.2]': 1,\n",
       "   'SM_Exgauster\\\\[1.3]': 0,\n",
       "   'SM_Exgauster\\\\[1.4]': 0,\n",
       "   'SM_Exgauster\\\\[1.5]': 1,\n",
       "   'SM_Exgauster\\\\[1.6]': 0,\n",
       "   'SM_Exgauster\\\\[1.7]': 1,\n",
       "   'SM_Exgauster\\\\[1.8]': 0,\n",
       "   'SM_Exgauster\\\\[1.9]': 0,\n",
       "   'SM_Exgauster\\\\[2:0]': 0.0694444477558136,\n",
       "   'SM_Exgauster\\\\[2:1]': 0.08101851493120193,\n",
       "   'SM_Exgauster\\\\[2:2]': 0.0347222238779068,\n",
       "   'SM_Exgauster\\\\[2:3]': 0.011574076488614082,\n",
       "   'SM_Exgauster\\\\[2:4]': 0.028935184702277184,\n",
       "   'SM_Exgauster\\\\[2:5]': 0.0520833358168602,\n",
       "   'SM_Exgauster\\\\[2:6]': 0.05787036940455437,\n",
       "   'SM_Exgauster\\\\[2:7]': 0.15628677606582642,\n",
       "   'SM_Exgauster\\\\[2:8]': 0.08101851493120193,\n",
       "   'SM_Exgauster\\\\[2:9]': 0.04050925746560097,\n",
       "   'SM_Exgauster\\\\[2:10]': 0.10995370149612427,\n",
       "   'SM_Exgauster\\\\[2:11]': 0.04050925746560097,\n",
       "   'SM_Exgauster\\\\[2:12]': 0.11574073880910873,\n",
       "   'SM_Exgauster\\\\[2:13]': 0.08101851493120193,\n",
       "   'SM_Exgauster\\\\[2:14]': 0.0347222238779068,\n",
       "   'SM_Exgauster\\\\[2:15]': 0.0694444477558136,\n",
       "   'SM_Exgauster\\\\[2:16]': 0.028935184702277184,\n",
       "   'SM_Exgauster\\\\[2:17]': 0.0347222238779068,\n",
       "   'SM_Exgauster\\\\[2:18]': 0.05787036940455437,\n",
       "   'SM_Exgauster\\\\[2:19]': 0.10995370149612427,\n",
       "   'SM_Exgauster\\\\[2:20]': -0.173611119389534,\n",
       "   'SM_Exgauster\\\\[2:21]': 0.08101851493120193,\n",
       "   'SM_Exgauster\\\\[2:22]': 0.09259259700775146,\n",
       "   'SM_Exgauster\\\\[2:23]': 0.09259259700775146,\n",
       "   'SM_Exgauster\\\\[2:24]': 97.60023498535156,\n",
       "   'SM_Exgauster\\\\[2:25]': 97.10023498535156,\n",
       "   'SM_Exgauster\\\\[2:27]': 35.29999542236328,\n",
       "   'SM_Exgauster\\\\[2:28]': 34.400001525878906,\n",
       "   'SM_Exgauster\\\\[2:29]': 32.80000305175781,\n",
       "   'SM_Exgauster\\\\[2:30]': 34,\n",
       "   'SM_Exgauster\\\\[2:31]': 31.800003051757812,\n",
       "   'SM_Exgauster\\\\[2:32]': 34.400001525878906,\n",
       "   'SM_Exgauster\\\\[2:33]': 32.70000457763672,\n",
       "   'SM_Exgauster\\\\[2:34]': 34.599998474121094,\n",
       "   'SM_Exgauster\\\\[2:35]': 34.69999694824219,\n",
       "   'SM_Exgauster\\\\[2:36]': 26.000001907348633,\n",
       "   'SM_Exgauster\\\\[2:37]': 25.199996948242188,\n",
       "   'SM_Exgauster\\\\[2:41]': 9.89999771118164,\n",
       "   'SM_Exgauster\\\\[2:42]': 12.199996948242188,\n",
       "   'SM_Exgauster\\\\[2:43]': 30.800003051757812,\n",
       "   'SM_Exgauster\\\\[2:44]': 35.099998474121094,\n",
       "   'SM_Exgauster\\\\[2:45]': 26.800003051757812,\n",
       "   'SM_Exgauster\\\\[2:46]': 56,\n",
       "   'SM_Exgauster\\\\[2:47]': 27.5,\n",
       "   'SM_Exgauster\\\\[2:48]': 26.900001525878906,\n",
       "   'SM_Exgauster\\\\[2:49]': 28.199996948242188,\n",
       "   'SM_Exgauster\\\\[2:50]': 25.400001525878906,\n",
       "   'SM_Exgauster\\\\[2:51]': 28.400001525878906,\n",
       "   'SM_Exgauster\\\\[2:52]': 27.5,\n",
       "   'SM_Exgauster\\\\[2:53]': 25.5,\n",
       "   'SM_Exgauster\\\\[2:54]': 24.699996948242188,\n",
       "   'SM_Exgauster\\\\[2:55]': -118.51851654052734,\n",
       "   'SM_Exgauster\\\\[2:56]': 24.699996948242188,\n",
       "   'SM_Exgauster\\\\[2:57]': 3276.69970703125,\n",
       "   'SM_Exgauster\\\\[2:58]': 3276.69970703125,\n",
       "   'SM_Exgauster\\\\[2:59]': 11.900001525878906,\n",
       "   'SM_Exgauster\\\\[2:60]': 10.10000228881836,\n",
       "   'SM_Exgauster\\\\[2:61]': 10.85069465637207,\n",
       "   'SM_Exgauster\\\\[2:62]': 13.744213104248047,\n",
       "   'SM_Exgauster\\\\[2:63]': 2.1018519401550293,\n",
       "   'SM_Exgauster\\\\[2:64]': 4.252315044403076,\n",
       "   'SM_Exgauster\\\\[2:65]': 75,\n",
       "   'SM_Exgauster\\\\[2:66]': 75,\n",
       "   'SM_Exgauster\\\\[2:67]': 75,\n",
       "   'SM_Exgauster\\\\[2:68]': 75,\n",
       "   'SM_Exgauster\\\\[2:69]': 75,\n",
       "   'SM_Exgauster\\\\[2:70]': 75,\n",
       "   'SM_Exgauster\\\\[2:71]': 75,\n",
       "   'SM_Exgauster\\\\[2:72]': 75,\n",
       "   'SM_Exgauster\\\\[2:73]': 75,\n",
       "   'SM_Exgauster\\\\[2:74]': 0,\n",
       "   'SM_Exgauster\\\\[2:75]': 0,\n",
       "   'SM_Exgauster\\\\[2:76]': 0,\n",
       "   'SM_Exgauster\\\\[2:77]': 0,\n",
       "   'SM_Exgauster\\\\[2:78]': 0,\n",
       "   'SM_Exgauster\\\\[2:79]': 10,\n",
       "   'SM_Exgauster\\\\[2:80]': 0,\n",
       "   'SM_Exgauster\\\\[2:81]': 0,\n",
       "   'SM_Exgauster\\\\[2:82]': 0,\n",
       "   'SM_Exgauster\\\\[2:83]': 65,\n",
       "   'SM_Exgauster\\\\[2:84]': 65,\n",
       "   'SM_Exgauster\\\\[2:85]': 65,\n",
       "   'SM_Exgauster\\\\[2:86]': 65,\n",
       "   'SM_Exgauster\\\\[2:87]': 65,\n",
       "   'SM_Exgauster\\\\[2:88]': 65,\n",
       "   'SM_Exgauster\\\\[2:89]': 65,\n",
       "   'SM_Exgauster\\\\[2:90]': 65,\n",
       "   'SM_Exgauster\\\\[2:91]': 65,\n",
       "   'SM_Exgauster\\\\[2:92]': 0,\n",
       "   'SM_Exgauster\\\\[2:93]': 0,\n",
       "   'SM_Exgauster\\\\[2:94]': 0,\n",
       "   'SM_Exgauster\\\\[2:95]': 0,\n",
       "   'SM_Exgauster\\\\[2:96]': 0,\n",
       "   'SM_Exgauster\\\\[2:97]': 20,\n",
       "   'SM_Exgauster\\\\[2:98]': 0,\n",
       "   'SM_Exgauster\\\\[2:99]': 0,\n",
       "   'SM_Exgauster\\\\[2:100]': 0,\n",
       "   'SM_Exgauster\\\\[2:101]': 75,\n",
       "   'SM_Exgauster\\\\[2:102]': 75,\n",
       "   'SM_Exgauster\\\\[2:103]': 75,\n",
       "   'SM_Exgauster\\\\[2:104]': 75,\n",
       "   'SM_Exgauster\\\\[2:105]': 75,\n",
       "   'SM_Exgauster\\\\[2:106]': 75,\n",
       "   'SM_Exgauster\\\\[2:107]': 75,\n",
       "   'SM_Exgauster\\\\[2:108]': 75,\n",
       "   'SM_Exgauster\\\\[2:109]': 75,\n",
       "   'SM_Exgauster\\\\[2:110]': 0,\n",
       "   'SM_Exgauster\\\\[2:111]': 0,\n",
       "   'SM_Exgauster\\\\[2:112]': 0,\n",
       "   'SM_Exgauster\\\\[2:113]': 0,\n",
       "   'SM_Exgauster\\\\[2:114]': 0,\n",
       "   'SM_Exgauster\\\\[2:115]': 0,\n",
       "   'SM_Exgauster\\\\[2:116]': 0,\n",
       "   'SM_Exgauster\\\\[2:117]': 0,\n",
       "   'SM_Exgauster\\\\[2:118]': 0,\n",
       "   'SM_Exgauster\\\\[2:119]': 65,\n",
       "   'SM_Exgauster\\\\[2:120]': 65,\n",
       "   'SM_Exgauster\\\\[2:121]': 65,\n",
       "   'SM_Exgauster\\\\[2:122]': 65,\n",
       "   'SM_Exgauster\\\\[2:123]': 65,\n",
       "   'SM_Exgauster\\\\[2:124]': 105,\n",
       "   'SM_Exgauster\\\\[2:125]': 65,\n",
       "   'SM_Exgauster\\\\[2:126]': 65,\n",
       "   'SM_Exgauster\\\\[2:127]': 65,\n",
       "   'SM_Exgauster\\\\[2:128]': 0,\n",
       "   'SM_Exgauster\\\\[2:129]': 0,\n",
       "   'SM_Exgauster\\\\[2:130]': 0,\n",
       "   'SM_Exgauster\\\\[2:131]': 0,\n",
       "   'SM_Exgauster\\\\[2:132]': 0,\n",
       "   'SM_Exgauster\\\\[2:133]': 0,\n",
       "   'SM_Exgauster\\\\[2:134]': 0,\n",
       "   'SM_Exgauster\\\\[2:135]': 0,\n",
       "   'SM_Exgauster\\\\[2:136]': 0,\n",
       "   'SM_Exgauster\\\\[2:137]': 7.099999904632568,\n",
       "   'SM_Exgauster\\\\[2:138]': 7.099999904632568,\n",
       "   'SM_Exgauster\\\\[2:139]': 7.099999904632568,\n",
       "   'SM_Exgauster\\\\[2:140]': 7.099999904632568,\n",
       "   'SM_Exgauster\\\\[2:141]': 7.099999904632568,\n",
       "   'SM_Exgauster\\\\[2:142]': 7.099999904632568,\n",
       "   'SM_Exgauster\\\\[2:143]': 7.099999904632568,\n",
       "   'SM_Exgauster\\\\[2:144]': 7.099999904632568,\n",
       "   'SM_Exgauster\\\\[2:145]': 7.099999904632568,\n",
       "   'SM_Exgauster\\\\[2:146]': 7.099999904632568,\n",
       "   'SM_Exgauster\\\\[2:147]': 7.099999904632568,\n",
       "   'SM_Exgauster\\\\[2:148]': 7.099999904632568,\n",
       "   'SM_Exgauster\\\\[2:149]': 0,\n",
       "   'SM_Exgauster\\\\[2:150]': 0,\n",
       "   'SM_Exgauster\\\\[2:151]': 0,\n",
       "   'SM_Exgauster\\\\[2:152]': 0,\n",
       "   'SM_Exgauster\\\\[2:153]': 0,\n",
       "   'SM_Exgauster\\\\[2:154]': 0,\n",
       "   'SM_Exgauster\\\\[2:155]': 0,\n",
       "   'SM_Exgauster\\\\[2:156]': 0,\n",
       "   'SM_Exgauster\\\\[2:157]': 0,\n",
       "   'SM_Exgauster\\\\[2:158]': 0,\n",
       "   'SM_Exgauster\\\\[2:159]': 0,\n",
       "   'SM_Exgauster\\\\[2:160]': 0,\n",
       "   'SM_Exgauster\\\\[2:161]': 4.5,\n",
       "   'SM_Exgauster\\\\[2:162]': 4.5,\n",
       "   'SM_Exgauster\\\\[2:163]': 4.5,\n",
       "   'SM_Exgauster\\\\[2:164]': 4.5,\n",
       "   'SM_Exgauster\\\\[2:165]': 4.5,\n",
       "   'SM_Exgauster\\\\[2:166]': 4.5,\n",
       "   'SM_Exgauster\\\\[2:167]': 4.5,\n",
       "   'SM_Exgauster\\\\[2:168]': 4.5,\n",
       "   'SM_Exgauster\\\\[2:169]': 4.5,\n",
       "   'SM_Exgauster\\\\[2:170]': 4.5,\n",
       "   'SM_Exgauster\\\\[2:171]': 4.5,\n",
       "   'SM_Exgauster\\\\[2:172]': 4.5,\n",
       "   'SM_Exgauster\\\\[2:173]': 0,\n",
       "   'SM_Exgauster\\\\[2:174]': 0,\n",
       "   'SM_Exgauster\\\\[2:175]': 0,\n",
       "   'SM_Exgauster\\\\[2:176]': 0,\n",
       "   'SM_Exgauster\\\\[2:177]': 0,\n",
       "   'SM_Exgauster\\\\[2:178]': 0,\n",
       "   'SM_Exgauster\\\\[2:179]': 0,\n",
       "   'SM_Exgauster\\\\[2:180]': 0,\n",
       "   'SM_Exgauster\\\\[2:181]': 0,\n",
       "   'SM_Exgauster\\\\[2:182]': 0,\n",
       "   'SM_Exgauster\\\\[2:183]': 0,\n",
       "   'SM_Exgauster\\\\[2:184]': 0,\n",
       "   'SM_Exgauster\\\\[2:185]': 7.099999904632568,\n",
       "   'SM_Exgauster\\\\[2:186]': 7.099999904632568,\n",
       "   'SM_Exgauster\\\\[2:187]': 7.099999904632568,\n",
       "   'SM_Exgauster\\\\[2:188]': 7.099999904632568,\n",
       "   'SM_Exgauster\\\\[2:189]': 7.099999904632568,\n",
       "   'SM_Exgauster\\\\[2:190]': 7.099999904632568,\n",
       "   'SM_Exgauster\\\\[2:191]': 10,\n",
       "   'SM_Exgauster\\\\[2:192]': 10,\n",
       "   'SM_Exgauster\\\\[2:193]': 7.099999904632568,\n",
       "   'SM_Exgauster\\\\[2:194]': 10,\n",
       "   'SM_Exgauster\\\\[2:195]': 10,\n",
       "   'SM_Exgauster\\\\[2:196]': 7.099999904632568,\n",
       "   'SM_Exgauster\\\\[2:197]': 0,\n",
       "   'SM_Exgauster\\\\[2:198]': 0,\n",
       "   'SM_Exgauster\\\\[2:199]': 0,\n",
       "   'SM_Exgauster\\\\[2:200]': 0,\n",
       "   'SM_Exgauster\\\\[2:201]': 0,\n",
       "   'SM_Exgauster\\\\[2:202]': 0,\n",
       "   'SM_Exgauster\\\\[2:203]': 0,\n",
       "   'SM_Exgauster\\\\[2:204]': 0,\n",
       "   'SM_Exgauster\\\\[2:205]': 0,\n",
       "   'SM_Exgauster\\\\[2:206]': 0,\n",
       "   'SM_Exgauster\\\\[2:207]': 0,\n",
       "   'SM_Exgauster\\\\[2:208]': 0,\n",
       "   'SM_Exgauster\\\\[2:209]': 4.5,\n",
       "   'SM_Exgauster\\\\[2:210]': 4.5,\n",
       "   'SM_Exgauster\\\\[2:211]': 4.5,\n",
       "   'SM_Exgauster\\\\[2:212]': 4.5,\n",
       "   'SM_Exgauster\\\\[2:213]': 4.5,\n",
       "   'SM_Exgauster\\\\[2:214]': 4.5,\n",
       "   'SM_Exgauster\\\\[2:215]': 4.5,\n",
       "   'SM_Exgauster\\\\[2:216]': 4.5,\n",
       "   'SM_Exgauster\\\\[2:217]': 4.5,\n",
       "   'SM_Exgauster\\\\[2:218]': 4.5,\n",
       "   'SM_Exgauster\\\\[2:219]': 4.5,\n",
       "   'SM_Exgauster\\\\[2:220]': 4.5,\n",
       "   'SM_Exgauster\\\\[2:221]': 0,\n",
       "   'SM_Exgauster\\\\[2:222]': 0,\n",
       "   'SM_Exgauster\\\\[2:223]': 0,\n",
       "   'SM_Exgauster\\\\[2:224]': 0,\n",
       "   'SM_Exgauster\\\\[2:225]': 0,\n",
       "   'SM_Exgauster\\\\[2:226]': 0,\n",
       "   'SM_Exgauster\\\\[2:227]': 0,\n",
       "   'SM_Exgauster\\\\[2:228]': 0,\n",
       "   'SM_Exgauster\\\\[2:229]': 0,\n",
       "   'SM_Exgauster\\\\[2:230]': 0,\n",
       "   'SM_Exgauster\\\\[2:231]': 0,\n",
       "   'SM_Exgauster\\\\[2:232]': 0,\n",
       "   'SM_Exgauster\\\\[2.0]': 0,\n",
       "   'SM_Exgauster\\\\[2.1]': 0,\n",
       "   'SM_Exgauster\\\\[3:0]': 1.238425850868225,\n",
       "   'SM_Exgauster\\\\[3:1]': 0.8622685074806213,\n",
       "   'SM_Exgauster\\\\[3:2]': 0.4050925672054291,\n",
       "   'SM_Exgauster\\\\[3:3]': 1.1111111640930176,\n",
       "   'SM_Exgauster\\\\[3:4]': 1.3252315521240234,\n",
       "   'SM_Exgauster\\\\[3:5]': 1.903935194015503,\n",
       "   'SM_Exgauster\\\\[3:6]': 0.8281415700912476,\n",
       "   'SM_Exgauster\\\\[3:7]': 0.7233796119689941,\n",
       "   'SM_Exgauster\\\\[3:8]': 2.7025463581085205,\n",
       "   'SM_Exgauster\\\\[3:9]': 1.086679220199585,\n",
       "   'SM_Exgauster\\\\[3:10]': 0.5729166865348816,\n",
       "   'SM_Exgauster\\\\[3:11]': 2.2395832538604736,\n",
       "   'SM_Exgauster\\\\[3:12]': 0.8159722089767456,\n",
       "   'SM_Exgauster\\\\[3:13]': 0.6018518805503845,\n",
       "   'SM_Exgauster\\\\[3:14]': 0.21412037312984467,\n",
       "   'SM_Exgauster\\\\[3:15]': 0.7233796119689941,\n",
       "   'SM_Exgauster\\\\[3:16]': 0.5613425970077515,\n",
       "   'SM_Exgauster\\\\[3:17]': 0.8738425970077515,\n",
       "   'SM_Exgauster\\\\[3:18]': 0.5844907760620117,\n",
       "   'SM_Exgauster\\\\[3:19]': 0.5729166865348816,\n",
       "   'SM_Exgauster\\\\[3:20]': 0.9259259104728699,\n",
       "   'SM_Exgauster\\\\[3:21]': 0.47453704476356506,\n",
       "   'SM_Exgauster\\\\[3:22]': 0.38307762145996094,\n",
       "   'SM_Exgauster\\\\[3:23]': 0.7638888955116272,\n",
       "   'SM_Exgauster\\\\[3:24]': 118.74779510498047,\n",
       "   'SM_Exgauster\\\\[3:25]': 100.39213562011719,\n",
       "   'SM_Exgauster\\\\[3:27]': 44.099998474121094,\n",
       "   'SM_Exgauster\\\\[3:28]': 52.69999694824219,\n",
       "   'SM_Exgauster\\\\[3:29]': 44.5,\n",
       "   'SM_Exgauster\\\\[3:30]': 53.400001525878906,\n",
       "   'SM_Exgauster\\\\[3:31]': 49.5,\n",
       "   'SM_Exgauster\\\\[3:32]': 48.400001525878906,\n",
       "   'SM_Exgauster\\\\[3:33]': 35.900001525878906,\n",
       "   'SM_Exgauster\\\\[3:34]': 40.900001525878906,\n",
       "   'SM_Exgauster\\\\[3:35]': 40.19999694824219,\n",
       "   'SM_Exgauster\\\\[3:36]': 24,\n",
       "   'SM_Exgauster\\\\[3:37]': -3276.800048828125,\n",
       "   'SM_Exgauster\\\\[3:41]': 32.5,\n",
       "   'SM_Exgauster\\\\[3:42]': 32.80000305175781,\n",
       "   'SM_Exgauster\\\\[3:43]': 55.20000457763672,\n",
       "   'SM_Exgauster\\\\[3:44]': 50.5,\n",
       "   'SM_Exgauster\\\\[3:45]': 51.90000915527344,\n",
       "   'SM_Exgauster\\\\[3:46]': -3276.800048828125,\n",
       "   'SM_Exgauster\\\\[3:47]': 49.29999542236328,\n",
       "   'SM_Exgauster\\\\[3:48]': 53.79999542236328,\n",
       "   'SM_Exgauster\\\\[3:49]': 48.69999694824219,\n",
       "   'SM_Exgauster\\\\[3:50]': 38.899993896484375,\n",
       "   'SM_Exgauster\\\\[3:51]': 39.400001525878906,\n",
       "   'SM_Exgauster\\\\[3:52]': 36.29999542236328,\n",
       "   'SM_Exgauster\\\\[3:53]': 20,\n",
       "   'SM_Exgauster\\\\[3:54]': -3276.800048828125,\n",
       "   'SM_Exgauster\\\\[3:55]': -3276.800048828125,\n",
       "   'SM_Exgauster\\\\[3:56]': -3276.800048828125,\n",
       "   'SM_Exgauster\\\\[3:57]': -3276.800048828125,\n",
       "   'SM_Exgauster\\\\[3:58]': -3276.800048828125,\n",
       "   'SM_Exgauster\\\\[3:59]': 40.599998474121094,\n",
       "   'SM_Exgauster\\\\[3:60]': 38.70000457763672,\n",
       "   'SM_Exgauster\\\\[3:61]': 724.10302734375,\n",
       "   'SM_Exgauster\\\\[3:62]': 666.2326049804688,\n",
       "   'SM_Exgauster\\\\[3:63]': 75,\n",
       "   'SM_Exgauster\\\\[3:64]': 75,\n",
       "   'SM_Exgauster\\\\[3:65]': 75,\n",
       "   'SM_Exgauster\\\\[3:66]': 75,\n",
       "   'SM_Exgauster\\\\[3:67]': 75,\n",
       "   'SM_Exgauster\\\\[3:68]': 75,\n",
       "   'SM_Exgauster\\\\[3:69]': 75,\n",
       "   'SM_Exgauster\\\\[3:70]': 75,\n",
       "   'SM_Exgauster\\\\[3:71]': 75,\n",
       "   'SM_Exgauster\\\\[3:72]': 0,\n",
       "   'SM_Exgauster\\\\[3:73]': 0,\n",
       "   'SM_Exgauster\\\\[3:74]': 0,\n",
       "   'SM_Exgauster\\\\[3:75]': 0,\n",
       "   'SM_Exgauster\\\\[3:76]': 0,\n",
       "   'SM_Exgauster\\\\[3:77]': 0,\n",
       "   'SM_Exgauster\\\\[3:78]': 0,\n",
       "   'SM_Exgauster\\\\[3:79]': 0,\n",
       "   'SM_Exgauster\\\\[3:80]': 0,\n",
       "   'SM_Exgauster\\\\[3:81]': 65,\n",
       "   'SM_Exgauster\\\\[3:82]': 65,\n",
       "   'SM_Exgauster\\\\[3:83]': 65,\n",
       "   'SM_Exgauster\\\\[3:84]': 65,\n",
       "   'SM_Exgauster\\\\[3:85]': 65,\n",
       "   'SM_Exgauster\\\\[3:86]': 65,\n",
       "   'SM_Exgauster\\\\[3:87]': 65,\n",
       "   'SM_Exgauster\\\\[3:88]': 65,\n",
       "   'SM_Exgauster\\\\[3:89]': 65,\n",
       "   'SM_Exgauster\\\\[3:90]': 0,\n",
       "   'SM_Exgauster\\\\[3:91]': 0,\n",
       "   'SM_Exgauster\\\\[3:92]': 0,\n",
       "   'SM_Exgauster\\\\[3:93]': 0,\n",
       "   'SM_Exgauster\\\\[3:94]': 0,\n",
       "   'SM_Exgauster\\\\[3:95]': 0,\n",
       "   'SM_Exgauster\\\\[3:96]': 0,\n",
       "   'SM_Exgauster\\\\[3:97]': 0,\n",
       "   'SM_Exgauster\\\\[3:98]': 0,\n",
       "   'SM_Exgauster\\\\[3:99]': 75,\n",
       "   'SM_Exgauster\\\\[3:100]': 75,\n",
       "   'SM_Exgauster\\\\[3:101]': 75,\n",
       "   'SM_Exgauster\\\\[3:102]': 75,\n",
       "   'SM_Exgauster\\\\[3:103]': 75,\n",
       "   'SM_Exgauster\\\\[3:104]': 75,\n",
       "   'SM_Exgauster\\\\[3:105]': 75,\n",
       "   'SM_Exgauster\\\\[3:106]': 75,\n",
       "   'SM_Exgauster\\\\[3:107]': 75,\n",
       "   'SM_Exgauster\\\\[3:108]': 0,\n",
       "   'SM_Exgauster\\\\[3:109]': 0,\n",
       "   'SM_Exgauster\\\\[3:110]': 0,\n",
       "   'SM_Exgauster\\\\[3:111]': 0,\n",
       "   'SM_Exgauster\\\\[3:112]': 0,\n",
       "   'SM_Exgauster\\\\[3:113]': 0,\n",
       "   'SM_Exgauster\\\\[3:114]': 0,\n",
       "   'SM_Exgauster\\\\[3:115]': 0,\n",
       "   'SM_Exgauster\\\\[3:116]': 0,\n",
       "   'SM_Exgauster\\\\[3:117]': 65,\n",
       "   'SM_Exgauster\\\\[3:118]': 65,\n",
       "   'SM_Exgauster\\\\[3:119]': 65,\n",
       "   'SM_Exgauster\\\\[3:120]': 65,\n",
       "   'SM_Exgauster\\\\[3:121]': 65,\n",
       "   'SM_Exgauster\\\\[3:122]': 65,\n",
       "   'SM_Exgauster\\\\[3:123]': 65,\n",
       "   'SM_Exgauster\\\\[3:124]': 65,\n",
       "   'SM_Exgauster\\\\[3:125]': 65,\n",
       "   'SM_Exgauster\\\\[3:126]': 0,\n",
       "   'SM_Exgauster\\\\[3:127]': 0,\n",
       "   'SM_Exgauster\\\\[3:128]': 0,\n",
       "   'SM_Exgauster\\\\[3:129]': 0,\n",
       "   'SM_Exgauster\\\\[3:130]': 0,\n",
       "   'SM_Exgauster\\\\[3:131]': 0,\n",
       "   'SM_Exgauster\\\\[3:132]': 0,\n",
       "   'SM_Exgauster\\\\[3:133]': 0,\n",
       "   'SM_Exgauster\\\\[3:134]': 0,\n",
       "   'SM_Exgauster\\\\[3:135]': 7.099999904632568,\n",
       "   'SM_Exgauster\\\\[3:136]': 7.099999904632568,\n",
       "   'SM_Exgauster\\\\[3:137]': 7.099999904632568,\n",
       "   'SM_Exgauster\\\\[3:138]': 7.099999904632568,\n",
       "   'SM_Exgauster\\\\[3:139]': 7.099999904632568,\n",
       "   'SM_Exgauster\\\\[3:140]': 7.099999904632568,\n",
       "   'SM_Exgauster\\\\[3:141]': 7.099999904632568,\n",
       "   'SM_Exgauster\\\\[3:142]': 7.099999904632568,\n",
       "   'SM_Exgauster\\\\[3:143]': 7.099999904632568,\n",
       "   'SM_Exgauster\\\\[3:144]': 7.099999904632568,\n",
       "   'SM_Exgauster\\\\[3:145]': 7.099999904632568,\n",
       "   'SM_Exgauster\\\\[3:146]': 7.099999904632568,\n",
       "   'SM_Exgauster\\\\[3:147]': 0,\n",
       "   'SM_Exgauster\\\\[3:148]': 0,\n",
       "   'SM_Exgauster\\\\[3:149]': 0,\n",
       "   'SM_Exgauster\\\\[3:150]': 0,\n",
       "   'SM_Exgauster\\\\[3:151]': 0,\n",
       "   'SM_Exgauster\\\\[3:152]': 0,\n",
       "   'SM_Exgauster\\\\[3:153]': 0,\n",
       "   'SM_Exgauster\\\\[3:154]': 0,\n",
       "   'SM_Exgauster\\\\[3:155]': 0,\n",
       "   'SM_Exgauster\\\\[3:156]': 0,\n",
       "   'SM_Exgauster\\\\[3:157]': 0,\n",
       "   'SM_Exgauster\\\\[3:158]': 0,\n",
       "   'SM_Exgauster\\\\[3:159]': 4.5,\n",
       "   'SM_Exgauster\\\\[3:160]': 4.5,\n",
       "   'SM_Exgauster\\\\[3:161]': 4.5,\n",
       "   'SM_Exgauster\\\\[3:162]': 4.5,\n",
       "   'SM_Exgauster\\\\[3:163]': 4.5,\n",
       "   'SM_Exgauster\\\\[3:164]': 4.5,\n",
       "   'SM_Exgauster\\\\[3:165]': 4.5,\n",
       "   'SM_Exgauster\\\\[3:166]': 4.5,\n",
       "   'SM_Exgauster\\\\[3:167]': 4.5,\n",
       "   'SM_Exgauster\\\\[3:168]': 4.5,\n",
       "   'SM_Exgauster\\\\[3:169]': 4.5,\n",
       "   'SM_Exgauster\\\\[3:170]': 4.5,\n",
       "   'SM_Exgauster\\\\[3:171]': 0,\n",
       "   'SM_Exgauster\\\\[3:172]': 0,\n",
       "   'SM_Exgauster\\\\[3:173]': 0,\n",
       "   'SM_Exgauster\\\\[3:174]': 0,\n",
       "   'SM_Exgauster\\\\[3:175]': 0,\n",
       "   'SM_Exgauster\\\\[3:176]': 0,\n",
       "   'SM_Exgauster\\\\[3:177]': 0,\n",
       "   'SM_Exgauster\\\\[3:178]': 0,\n",
       "   'SM_Exgauster\\\\[3:179]': 0,\n",
       "   'SM_Exgauster\\\\[3:180]': 0,\n",
       "   'SM_Exgauster\\\\[3:181]': 0,\n",
       "   'SM_Exgauster\\\\[3:182]': 0,\n",
       "   'SM_Exgauster\\\\[3:183]': 7.099999904632568,\n",
       "   'SM_Exgauster\\\\[3:184]': 7.099999904632568,\n",
       "   'SM_Exgauster\\\\[3:185]': 7.099999904632568,\n",
       "   'SM_Exgauster\\\\[3:186]': 7.099999904632568,\n",
       "   'SM_Exgauster\\\\[3:187]': 7.099999904632568,\n",
       "   'SM_Exgauster\\\\[3:188]': 7.099999904632568,\n",
       "   'SM_Exgauster\\\\[3:189]': 14,\n",
       "   'SM_Exgauster\\\\[3:190]': 14,\n",
       "   'SM_Exgauster\\\\[3:191]': 7.099999904632568,\n",
       "   'SM_Exgauster\\\\[3:192]': 14,\n",
       "   'SM_Exgauster\\\\[3:193]': 14,\n",
       "   'SM_Exgauster\\\\[3:194]': 7.099999904632568,\n",
       "   'SM_Exgauster\\\\[3:195]': 0,\n",
       "   'SM_Exgauster\\\\[3:196]': 0,\n",
       "   'SM_Exgauster\\\\[3:197]': 0,\n",
       "   'SM_Exgauster\\\\[3:198]': 0,\n",
       "   'SM_Exgauster\\\\[3:199]': 0,\n",
       "   'SM_Exgauster\\\\[3:200]': 0,\n",
       "   'SM_Exgauster\\\\[3:201]': 0,\n",
       "   'SM_Exgauster\\\\[3:202]': 0,\n",
       "   'SM_Exgauster\\\\[3:203]': 0,\n",
       "   'SM_Exgauster\\\\[3:204]': 0,\n",
       "   'SM_Exgauster\\\\[3:205]': 0,\n",
       "   'SM_Exgauster\\\\[3:206]': 0,\n",
       "   'SM_Exgauster\\\\[3:207]': 4.5,\n",
       "   'SM_Exgauster\\\\[3:208]': 4.5,\n",
       "   'SM_Exgauster\\\\[3:209]': 4.5,\n",
       "   'SM_Exgauster\\\\[3:210]': 4.5,\n",
       "   'SM_Exgauster\\\\[3:211]': 4.5,\n",
       "   'SM_Exgauster\\\\[3:212]': 4.5,\n",
       "   'SM_Exgauster\\\\[3:213]': 4.5,\n",
       "   'SM_Exgauster\\\\[3:214]': 4.5,\n",
       "   'SM_Exgauster\\\\[3:215]': 4.5,\n",
       "   'SM_Exgauster\\\\[3:216]': 4.5,\n",
       "   'SM_Exgauster\\\\[3:217]': 4.5,\n",
       "   'SM_Exgauster\\\\[3:218]': 4.5,\n",
       "   'SM_Exgauster\\\\[3:219]': 0,\n",
       "   'SM_Exgauster\\\\[3:220]': 0,\n",
       "   'SM_Exgauster\\\\[3:221]': 0,\n",
       "   'SM_Exgauster\\\\[3:222]': 0,\n",
       "   'SM_Exgauster\\\\[3:223]': 0,\n",
       "   'SM_Exgauster\\\\[3:224]': 0,\n",
       "   'SM_Exgauster\\\\[3:225]': 0,\n",
       "   'SM_Exgauster\\\\[3:226]': 0,\n",
       "   'SM_Exgauster\\\\[3:227]': 0,\n",
       "   'SM_Exgauster\\\\[3:228]': 0,\n",
       "   'SM_Exgauster\\\\[3:229]': 0,\n",
       "   'SM_Exgauster\\\\[3:230]': 0,\n",
       "   'SM_Exgauster\\\\[3.0]': 1,\n",
       "   'SM_Exgauster\\\\[3.1]': 1,\n",
       "   'SM_Exgauster\\\\[4:0]': 100.49837493896484,\n",
       "   'SM_Exgauster\\\\[4:1]': 0.006164738908410072,\n",
       "   'SM_Exgauster\\\\[4:3]': 0.09738875925540924,\n",
       "   'SM_Exgauster\\\\[4:7]': 93.42591857910156,\n",
       "   'SM_Exgauster\\\\[4:8]': 0.03228858485817909,\n",
       "   'SM_Exgauster\\\\[4:10]': 0.04869437962770462,\n",
       "   'SM_Exgauster\\\\[4.0]': 0,\n",
       "   'SM_Exgauster\\\\[4.1]': 0,\n",
       "   'SM_Exgauster\\\\[4.2]': 0,\n",
       "   'SM_Exgauster\\\\[4.3]': 0,\n",
       "   'SM_Exgauster\\\\[4.4]': 0,\n",
       "   'SM_Exgauster\\\\[4.5]': 0,\n",
       "   'SM_Exgauster\\\\[4.6]': 0,\n",
       "   'SM_Exgauster\\\\[4.7]': 0,\n",
       "   'SM_Exgauster\\\\[4.8]': 0,\n",
       "   'SM_Exgauster\\\\[4.9]': 0,\n",
       "   'SM_Exgauster\\\\[5:0]': 62.70000076293945,\n",
       "   'SM_Exgauster\\\\[5:1]': 744,\n",
       "   'SM_Exgauster\\\\[5:2]': 2067,\n",
       "   'SM_Exgauster\\\\[5:3]': 2044,\n",
       "   'SM_Exgauster\\\\[5:4]': 489,\n",
       "   'SM_Exgauster\\\\[5:5]': 105,\n",
       "   'SM_Exgauster\\\\[5:6]': 10,\n",
       "   'SM_Exgauster\\\\[5:7]': 95.69999694824219,\n",
       "   'SM_Exgauster\\\\[5:8]': 1767,\n",
       "   'SM_Exgauster\\\\[5:9]': 2316,\n",
       "   'SM_Exgauster\\\\[5:10]': 1966,\n",
       "   'SM_Exgauster\\\\[5:11]': 540,\n",
       "   'SM_Exgauster\\\\[5:12]': 106,\n",
       "   'SM_Exgauster\\\\[5:13]': 10,\n",
       "   'SM_Exgauster\\\\[5.0]': 1,\n",
       "   'SM_Exgauster\\\\[5.1]': 1,\n",
       "   'SM_Exgauster\\\\[5.2]': 1,\n",
       "   'SM_Exgauster\\\\[5.3]': 0,\n",
       "   'SM_Exgauster\\\\[5.4]': 0,\n",
       "   'SM_Exgauster\\\\[5.5]': 1,\n",
       "   'SM_Exgauster\\\\[5.6]': 1,\n",
       "   'SM_Exgauster\\\\[5.7]': 1,\n",
       "   'SM_Exgauster\\\\[5.8]': 0,\n",
       "   'SM_Exgauster\\\\[5.9]': 0,\n",
       "   'SM_Exgauster\\\\[6:0]': 9.765933990478516,\n",
       "   'SM_Exgauster\\\\[6:1]': 94.68058776855469,\n",
       "   'SM_Exgauster\\\\[6:2]': 4.4481220129455323e-07,\n",
       "   'SM_Exgauster\\\\[6.0]': 0,\n",
       "   'SM_Exgauster\\\\[7:0]': 606.91552734375,\n",
       "   'SM_Exgauster\\\\[7:1]': 122.64163970947266,\n",
       "   'SM_Exgauster\\\\[7:2]': 3.398988723754883,\n",
       "   'SM_Exgauster\\\\[7.0]': 1,\n",
       "   'SM_Exgauster\\\\[8:0]': 569.3367309570312,\n",
       "   'SM_Exgauster\\\\[8:1]': 122.43224334716797,\n",
       "   'SM_Exgauster\\\\[8:2]': 3.7390384674072266,\n",
       "   'SM_Exgauster\\\\[8.0]': 1},)]"
      ]
     },
     "execution_count": 86,
     "metadata": {},
     "output_type": "execute_result"
    }
   ],
   "source": [
    "# вывод всех данных по записи данных сигналов - 'Message'\n",
    "cursor.execute(\"SELECT message -> 'Message' AS Message \\\n",
    "                FROM stg.signal_messages_json;\")\n",
    "cursor.fetchall()"
   ]
  },
  {
   "cell_type": "code",
   "execution_count": 87,
   "id": "2945a76a",
   "metadata": {},
   "outputs": [
    {
     "data": {
      "text/plain": [
       "[('moment',),\n",
       " ('SM_Exgauster\\\\[0:0]',),\n",
       " ('SM_Exgauster\\\\[0:1]',),\n",
       " ('SM_Exgauster\\\\[0:2]',),\n",
       " ('SM_Exgauster\\\\[0:3]',),\n",
       " ('SM_Exgauster\\\\[0:4]',),\n",
       " ('SM_Exgauster\\\\[0:5]',)]"
      ]
     },
     "execution_count": 87,
     "metadata": {},
     "output_type": "execute_result"
    }
   ],
   "source": [
    "# значение атрибутов в данных сигналов - 'Message'\n",
    "cursor.execute(\"SELECT json_object_keys (message ->'Message') \\\n",
    "                FROM stg.signal_messages_json;\")\n",
    "message_keys = cursor.fetchall()\n",
    "message_keys[:7]"
   ]
  },
  {
   "cell_type": "code",
   "execution_count": 88,
   "id": "57d339a6",
   "metadata": {},
   "outputs": [
    {
     "data": {
      "text/plain": [
       "(766, 766)"
      ]
     },
     "execution_count": 88,
     "metadata": {},
     "output_type": "execute_result"
    }
   ],
   "source": [
    "# проверка соответствия исходным данным\n",
    "len(example_kafka[0]['Message'].keys()), len(message_keys)"
   ]
  },
  {
   "cell_type": "markdown",
   "id": "a5be0bdd",
   "metadata": {},
   "source": [
    "Данные записаны **без потерь**"
   ]
  },
  {
   "cell_type": "code",
   "execution_count": 89,
   "id": "39fbb759",
   "metadata": {},
   "outputs": [
    {
     "data": {
      "text/plain": [
       "[('signal_messages_json',)]"
      ]
     },
     "execution_count": 89,
     "metadata": {},
     "output_type": "execute_result"
    }
   ],
   "source": [
    "# вывод наименований таблиц схемы 'Stagen'\n",
    "cursor.execute(\"SELECT table_name FROM information_schema.tables \\\n",
    "             WHERE table_schema = 'stg';\")\n",
    "cursor.fetchall()"
   ]
  },
  {
   "cell_type": "markdown",
   "id": "f65a3b98",
   "metadata": {},
   "source": [
    "# 4. Создание схемы Bl model - Storage Layer"
   ]
  },
  {
   "cell_type": "code",
   "execution_count": 90,
   "id": "c31b8c78",
   "metadata": {},
   "outputs": [],
   "source": [
    "# удаление схемы 'Bl model' если она существует \n",
    "#cursor.execute(\"DROP SCHEMA blm CASCADE;\")\n",
    "#connect.commit()"
   ]
  },
  {
   "cell_type": "code",
   "execution_count": 91,
   "id": "23dab998",
   "metadata": {},
   "outputs": [],
   "source": [
    "# создание схемы 'Bl model' - Storage Layer\n",
    "cursor.execute(\"CREATE SCHEMA blm;\")\n",
    "connect.commit()  "
   ]
  },
  {
   "cell_type": "markdown",
   "id": "0a762fab",
   "metadata": {},
   "source": [
    "## 4.1 Анализ данных уставок сигналов"
   ]
  },
  {
   "cell_type": "code",
   "execution_count": 92,
   "id": "73cb65d7",
   "metadata": {},
   "outputs": [],
   "source": [
    "# загрузка библиотек\n",
    "import pandas as pd\n",
    "import numpy as np"
   ]
  },
  {
   "cell_type": "code",
   "execution_count": 93,
   "id": "09126e0c",
   "metadata": {},
   "outputs": [
    {
     "data": {
      "text/html": [
       "<div>\n",
       "<style scoped>\n",
       "    .dataframe tbody tr th:only-of-type {\n",
       "        vertical-align: middle;\n",
       "    }\n",
       "\n",
       "    .dataframe tbody tr th {\n",
       "        vertical-align: top;\n",
       "    }\n",
       "\n",
       "    .dataframe thead th {\n",
       "        text-align: right;\n",
       "    }\n",
       "</style>\n",
       "<table border=\"1\" class=\"dataframe\">\n",
       "  <thead>\n",
       "    <tr style=\"text-align: right;\">\n",
       "      <th></th>\n",
       "      <th>place</th>\n",
       "      <th>type</th>\n",
       "      <th>comment</th>\n",
       "      <th>exhauster</th>\n",
       "      <th>active</th>\n",
       "    </tr>\n",
       "  </thead>\n",
       "  <tbody>\n",
       "    <tr>\n",
       "      <th>0</th>\n",
       "      <td>SM_Exgauster\\[0:0]</td>\n",
       "      <td>analog</td>\n",
       "      <td>Горизонтал вибрация подшипника №1. Эксгаустер №3</td>\n",
       "      <td>3.0</td>\n",
       "      <td>1</td>\n",
       "    </tr>\n",
       "    <tr>\n",
       "      <th>1</th>\n",
       "      <td>SM_Exgauster\\[0:1]</td>\n",
       "      <td>analog</td>\n",
       "      <td>Вертикал вибрация подшипника №1. Эксгаустер №3</td>\n",
       "      <td>3.0</td>\n",
       "      <td>1</td>\n",
       "    </tr>\n",
       "    <tr>\n",
       "      <th>2</th>\n",
       "      <td>SM_Exgauster\\[0:2]</td>\n",
       "      <td>analog</td>\n",
       "      <td>Осевая вибрация подшипника №1. Эксгаустер №3</td>\n",
       "      <td>3.0</td>\n",
       "      <td>1</td>\n",
       "    </tr>\n",
       "    <tr>\n",
       "      <th>3</th>\n",
       "      <td>SM_Exgauster\\[0:3]</td>\n",
       "      <td>analog</td>\n",
       "      <td>Горизонтал вибрация подшипника №2. Эксгаустер №3</td>\n",
       "      <td>3.0</td>\n",
       "      <td>1</td>\n",
       "    </tr>\n",
       "    <tr>\n",
       "      <th>4</th>\n",
       "      <td>SM_Exgauster\\[0:4]</td>\n",
       "      <td>analog</td>\n",
       "      <td>Вертикал вибрация подшипника №2. Эксгаустер №3</td>\n",
       "      <td>3.0</td>\n",
       "      <td>1</td>\n",
       "    </tr>\n",
       "  </tbody>\n",
       "</table>\n",
       "</div>"
      ],
      "text/plain": [
       "                place    type  \\\n",
       "0  SM_Exgauster\\[0:0]  analog   \n",
       "1  SM_Exgauster\\[0:1]  analog   \n",
       "2  SM_Exgauster\\[0:2]  analog   \n",
       "3  SM_Exgauster\\[0:3]  analog   \n",
       "4  SM_Exgauster\\[0:4]  analog   \n",
       "\n",
       "                                            comment  exhauster  active  \n",
       "0  Горизонтал вибрация подшипника №1. Эксгаустер №3        3.0       1  \n",
       "1    Вертикал вибрация подшипника №1. Эксгаустер №3        3.0       1  \n",
       "2      Осевая вибрация подшипника №1. Эксгаустер №3        3.0       1  \n",
       "3  Горизонтал вибрация подшипника №2. Эксгаустер №3        3.0       1  \n",
       "4    Вертикал вибрация подшипника №2. Эксгаустер №3        3.0       1  "
      ]
     },
     "execution_count": 93,
     "metadata": {},
     "output_type": "execute_result"
    }
   ],
   "source": [
    "# загрузка данных уставок сигналов\n",
    "signals_kafka  = pd.read_csv('data/signals_kafka.csv')\n",
    "signals_kafka.head()"
   ]
  },
  {
   "cell_type": "code",
   "execution_count": 94,
   "id": "662cfea2",
   "metadata": {},
   "outputs": [
    {
     "data": {
      "text/plain": [
       "place         0\n",
       "type          0\n",
       "comment       0\n",
       "exhauster    12\n",
       "active        0\n",
       "dtype: int64"
      ]
     },
     "execution_count": 94,
     "metadata": {},
     "output_type": "execute_result"
    }
   ],
   "source": [
    "# проверка на наличие пропусков\n",
    "signals_kafka.isna().sum()"
   ]
  },
  {
   "cell_type": "markdown",
   "id": "00031781",
   "metadata": {},
   "source": [
    "Имеется **12** пропусков в данных **'exhauster'** - эксгаустера"
   ]
  },
  {
   "cell_type": "code",
   "execution_count": 95,
   "id": "e03ab1ec",
   "metadata": {},
   "outputs": [
    {
     "data": {
      "text/html": [
       "<div>\n",
       "<style scoped>\n",
       "    .dataframe tbody tr th:only-of-type {\n",
       "        vertical-align: middle;\n",
       "    }\n",
       "\n",
       "    .dataframe tbody tr th {\n",
       "        vertical-align: top;\n",
       "    }\n",
       "\n",
       "    .dataframe thead th {\n",
       "        text-align: right;\n",
       "    }\n",
       "</style>\n",
       "<table border=\"1\" class=\"dataframe\">\n",
       "  <thead>\n",
       "    <tr style=\"text-align: right;\">\n",
       "      <th></th>\n",
       "      <th>place</th>\n",
       "      <th>type</th>\n",
       "      <th>comment</th>\n",
       "      <th>exhauster</th>\n",
       "      <th>active</th>\n",
       "    </tr>\n",
       "  </thead>\n",
       "  <tbody>\n",
       "    <tr>\n",
       "      <th>770</th>\n",
       "      <td>SM_Exgauster\\[6:0]</td>\n",
       "      <td>analog</td>\n",
       "      <td>Разрежение в общем коллекторе</td>\n",
       "      <td>NaN</td>\n",
       "      <td>1</td>\n",
       "    </tr>\n",
       "    <tr>\n",
       "      <th>771</th>\n",
       "      <td>SM_Exgauster\\[6:1]</td>\n",
       "      <td>analog</td>\n",
       "      <td>Температура в общем коллекторе</td>\n",
       "      <td>NaN</td>\n",
       "      <td>1</td>\n",
       "    </tr>\n",
       "    <tr>\n",
       "      <th>772</th>\n",
       "      <td>SM_Exgauster\\[6:2]</td>\n",
       "      <td>analog</td>\n",
       "      <td>Скорость агломашины</td>\n",
       "      <td>NaN</td>\n",
       "      <td>1</td>\n",
       "    </tr>\n",
       "    <tr>\n",
       "      <th>773</th>\n",
       "      <td>SM_Exgauster\\[6.0]</td>\n",
       "      <td>digital</td>\n",
       "      <td>Работа агломашины №1</td>\n",
       "      <td>NaN</td>\n",
       "      <td>1</td>\n",
       "    </tr>\n",
       "    <tr>\n",
       "      <th>774</th>\n",
       "      <td>SM_Exgauster\\[7:0]</td>\n",
       "      <td>analog</td>\n",
       "      <td>Разрежение в общем коллекторе</td>\n",
       "      <td>NaN</td>\n",
       "      <td>1</td>\n",
       "    </tr>\n",
       "    <tr>\n",
       "      <th>775</th>\n",
       "      <td>SM_Exgauster\\[7:1]</td>\n",
       "      <td>analog</td>\n",
       "      <td>Температура в общем коллекторе</td>\n",
       "      <td>NaN</td>\n",
       "      <td>1</td>\n",
       "    </tr>\n",
       "    <tr>\n",
       "      <th>776</th>\n",
       "      <td>SM_Exgauster\\[7:2]</td>\n",
       "      <td>analog</td>\n",
       "      <td>Скорость агломашины</td>\n",
       "      <td>NaN</td>\n",
       "      <td>1</td>\n",
       "    </tr>\n",
       "    <tr>\n",
       "      <th>777</th>\n",
       "      <td>SM_Exgauster\\[7.0]</td>\n",
       "      <td>digital</td>\n",
       "      <td>Работа агломашины №2</td>\n",
       "      <td>NaN</td>\n",
       "      <td>1</td>\n",
       "    </tr>\n",
       "    <tr>\n",
       "      <th>778</th>\n",
       "      <td>SM_Exgauster\\[8:0]</td>\n",
       "      <td>analog</td>\n",
       "      <td>Разрежение в общем коллекторе</td>\n",
       "      <td>NaN</td>\n",
       "      <td>1</td>\n",
       "    </tr>\n",
       "    <tr>\n",
       "      <th>779</th>\n",
       "      <td>SM_Exgauster\\[8:1]</td>\n",
       "      <td>analog</td>\n",
       "      <td>Температура в общем коллекторе</td>\n",
       "      <td>NaN</td>\n",
       "      <td>1</td>\n",
       "    </tr>\n",
       "    <tr>\n",
       "      <th>780</th>\n",
       "      <td>SM_Exgauster\\[8:2]</td>\n",
       "      <td>analog</td>\n",
       "      <td>Скорость агломашины</td>\n",
       "      <td>NaN</td>\n",
       "      <td>1</td>\n",
       "    </tr>\n",
       "    <tr>\n",
       "      <th>781</th>\n",
       "      <td>SM_Exgauster\\[8.0]</td>\n",
       "      <td>digital</td>\n",
       "      <td>Работа агломашины №3</td>\n",
       "      <td>NaN</td>\n",
       "      <td>1</td>\n",
       "    </tr>\n",
       "  </tbody>\n",
       "</table>\n",
       "</div>"
      ],
      "text/plain": [
       "                  place     type                         comment  exhauster  \\\n",
       "770  SM_Exgauster\\[6:0]   analog   Разрежение в общем коллекторе        NaN   \n",
       "771  SM_Exgauster\\[6:1]   analog  Температура в общем коллекторе        NaN   \n",
       "772  SM_Exgauster\\[6:2]   analog             Скорость агломашины        NaN   \n",
       "773  SM_Exgauster\\[6.0]  digital            Работа агломашины №1        NaN   \n",
       "774  SM_Exgauster\\[7:0]   analog   Разрежение в общем коллекторе        NaN   \n",
       "775  SM_Exgauster\\[7:1]   analog  Температура в общем коллекторе        NaN   \n",
       "776  SM_Exgauster\\[7:2]   analog             Скорость агломашины        NaN   \n",
       "777  SM_Exgauster\\[7.0]  digital            Работа агломашины №2        NaN   \n",
       "778  SM_Exgauster\\[8:0]   analog   Разрежение в общем коллекторе        NaN   \n",
       "779  SM_Exgauster\\[8:1]   analog  Температура в общем коллекторе        NaN   \n",
       "780  SM_Exgauster\\[8:2]   analog             Скорость агломашины        NaN   \n",
       "781  SM_Exgauster\\[8.0]  digital            Работа агломашины №3        NaN   \n",
       "\n",
       "     active  \n",
       "770       1  \n",
       "771       1  \n",
       "772       1  \n",
       "773       1  \n",
       "774       1  \n",
       "775       1  \n",
       "776       1  \n",
       "777       1  \n",
       "778       1  \n",
       "779       1  \n",
       "780       1  \n",
       "781       1  "
      ]
     },
     "execution_count": 95,
     "metadata": {},
     "output_type": "execute_result"
    }
   ],
   "source": [
    "# вывод строк с пропущенными значениями\n",
    "signals_kafka[signals_kafka['exhauster'].isna()]"
   ]
  },
  {
   "cell_type": "markdown",
   "id": "9369286d",
   "metadata": {},
   "source": [
    "Исходя из контектста значения уставок **'comment**' показатели **не относятся** к какому либо **эксгаустеру**"
   ]
  },
  {
   "cell_type": "code",
   "execution_count": 96,
   "id": "c8661e16",
   "metadata": {},
   "outputs": [],
   "source": [
    "# заполнение пропусков\n",
    "signals_kafka['exhauster'] = signals_kafka['exhauster'].fillna(-1)"
   ]
  },
  {
   "cell_type": "code",
   "execution_count": 97,
   "id": "891250e3",
   "metadata": {},
   "outputs": [
    {
     "data": {
      "text/plain": [
       " 1.0    129\n",
       " 2.0    129\n",
       " 3.0    128\n",
       " 4.0    128\n",
       " 5.0    128\n",
       " 6.0    128\n",
       "-1.0     12\n",
       "Name: exhauster, dtype: int64"
      ]
     },
     "execution_count": 97,
     "metadata": {},
     "output_type": "execute_result"
    }
   ],
   "source": [
    "# подтверждение гипотезы\n",
    "signals_kafka['exhauster'].value_counts(dropna=False)"
   ]
  },
  {
   "cell_type": "markdown",
   "id": "bdb73009",
   "metadata": {},
   "source": [
    "### 4.2 Создание таблицы уставки сигналов - 'signal_settings'"
   ]
  },
  {
   "cell_type": "code",
   "execution_count": 98,
   "id": "63898ce3",
   "metadata": {},
   "outputs": [],
   "source": [
    "# удаление таблицы 'signal_settings' если она существует \n",
    "cursor.execute(\"DROP TABLE IF EXISTS blm.signal_settings;\")\n",
    "connect.commit()  "
   ]
  },
  {
   "cell_type": "code",
   "execution_count": 99,
   "id": "9d8b9198",
   "metadata": {},
   "outputs": [
    {
     "data": {
      "text/plain": [
       "Index(['place', 'type', 'comment', 'exhauster', 'active'], dtype='object')"
      ]
     },
     "execution_count": 99,
     "metadata": {},
     "output_type": "execute_result"
    }
   ],
   "source": [
    "# атрибуты уставок сигналов\n",
    "signals_kafka.columns"
   ]
  },
  {
   "cell_type": "code",
   "execution_count": 100,
   "id": "06d89a6a",
   "metadata": {},
   "outputs": [],
   "source": [
    "# создание таблицы - 'signal_settings'\n",
    "cursor.execute(\"CREATE TABLE blm.signal_settings( \\\n",
    "                signal_settings_id INTEGER PRIMARY KEY GENERATED BY DEFAULT AS IDENTITY, \\\n",
    "                place TEXT UNIQUE NOT NULL, \\\n",
    "                type TEXT NOT NULL, \\\n",
    "                comment TEXT NOT NULL, \\\n",
    "                exhauster INTEGER, \\\n",
    "                active INTEGER NOT NULL);\")\n",
    "connect.commit()  "
   ]
  },
  {
   "cell_type": "code",
   "execution_count": 101,
   "id": "5b16379c",
   "metadata": {},
   "outputs": [
    {
     "name": "stdout",
     "output_type": "stream",
     "text": [
      "['signal_settings_id', 'place', 'type', 'comment', 'exhauster', 'active']\n"
     ]
    }
   ],
   "source": [
    "# значение атрибутов в таблице 'signal_settings'\n",
    "cursor.execute(\"SELECT column_name \\\n",
    "             FROM information_schema.columns \\\n",
    "             WHERE table_name = 'signal_settings' AND table_schema = 'blm';\")\n",
    "columnsname = [_[0] for _ in cursor.fetchall()]\n",
    "print(columnsname)"
   ]
  },
  {
   "cell_type": "code",
   "execution_count": 103,
   "id": "5e12a318",
   "metadata": {},
   "outputs": [
    {
     "data": {
      "text/plain": [
       "array([['SM_Exgauster\\\\[0:0]', 'analog',\n",
       "        'Горизонтал вибрация подшипника №1. Эксгаустер №3', 3.0, 1],\n",
       "       ['SM_Exgauster\\\\[0:1]', 'analog',\n",
       "        'Вертикал вибрация подшипника №1. Эксгаустер №3', 3.0, 1],\n",
       "       ['SM_Exgauster\\\\[0:2]', 'analog',\n",
       "        'Осевая вибрация подшипника №1. Эксгаустер №3', 3.0, 1],\n",
       "       ['SM_Exgauster\\\\[0:3]', 'analog',\n",
       "        'Горизонтал вибрация подшипника №2. Эксгаустер №3', 3.0, 1],\n",
       "       ['SM_Exgauster\\\\[0:4]', 'analog',\n",
       "        'Вертикал вибрация подшипника №2. Эксгаустер №3', 3.0, 1]],\n",
       "      dtype=object)"
      ]
     },
     "execution_count": 103,
     "metadata": {},
     "output_type": "execute_result"
    }
   ],
   "source": [
    "# данные для записи в таблицу 'signal_settings'\n",
    "signal_settings = signals_kafka.values\n",
    "signal_settings[:5]"
   ]
  },
  {
   "cell_type": "code",
   "execution_count": 104,
   "id": "4b7dd2d8",
   "metadata": {},
   "outputs": [],
   "source": [
    "# запись данных в таблицу  - 'signal_settings'\n",
    "cursor.executemany(\"INSERT INTO blm.signal_settings( \\\n",
    "                    place, type, comment, exhauster, active) \\\n",
    "                    VALUES (%s, %s, %s, %s, %s);\", signal_settings)\n",
    "connect.commit() "
   ]
  },
  {
   "cell_type": "code",
   "execution_count": 105,
   "id": "266b21bc",
   "metadata": {},
   "outputs": [
    {
     "data": {
      "text/html": [
       "<div>\n",
       "<style scoped>\n",
       "    .dataframe tbody tr th:only-of-type {\n",
       "        vertical-align: middle;\n",
       "    }\n",
       "\n",
       "    .dataframe tbody tr th {\n",
       "        vertical-align: top;\n",
       "    }\n",
       "\n",
       "    .dataframe thead th {\n",
       "        text-align: right;\n",
       "    }\n",
       "</style>\n",
       "<table border=\"1\" class=\"dataframe\">\n",
       "  <thead>\n",
       "    <tr style=\"text-align: right;\">\n",
       "      <th></th>\n",
       "      <th>signal_settings_id</th>\n",
       "      <th>place</th>\n",
       "      <th>type</th>\n",
       "      <th>comment</th>\n",
       "      <th>exhauster</th>\n",
       "      <th>active</th>\n",
       "    </tr>\n",
       "  </thead>\n",
       "  <tbody>\n",
       "    <tr>\n",
       "      <th>0</th>\n",
       "      <td>1</td>\n",
       "      <td>SM_Exgauster\\[0:0]</td>\n",
       "      <td>analog</td>\n",
       "      <td>Горизонтал вибрация подшипника №1. Эксгаустер №3</td>\n",
       "      <td>3</td>\n",
       "      <td>1</td>\n",
       "    </tr>\n",
       "    <tr>\n",
       "      <th>1</th>\n",
       "      <td>2</td>\n",
       "      <td>SM_Exgauster\\[0:1]</td>\n",
       "      <td>analog</td>\n",
       "      <td>Вертикал вибрация подшипника №1. Эксгаустер №3</td>\n",
       "      <td>3</td>\n",
       "      <td>1</td>\n",
       "    </tr>\n",
       "    <tr>\n",
       "      <th>2</th>\n",
       "      <td>3</td>\n",
       "      <td>SM_Exgauster\\[0:2]</td>\n",
       "      <td>analog</td>\n",
       "      <td>Осевая вибрация подшипника №1. Эксгаустер №3</td>\n",
       "      <td>3</td>\n",
       "      <td>1</td>\n",
       "    </tr>\n",
       "    <tr>\n",
       "      <th>3</th>\n",
       "      <td>4</td>\n",
       "      <td>SM_Exgauster\\[0:3]</td>\n",
       "      <td>analog</td>\n",
       "      <td>Горизонтал вибрация подшипника №2. Эксгаустер №3</td>\n",
       "      <td>3</td>\n",
       "      <td>1</td>\n",
       "    </tr>\n",
       "    <tr>\n",
       "      <th>4</th>\n",
       "      <td>5</td>\n",
       "      <td>SM_Exgauster\\[0:4]</td>\n",
       "      <td>analog</td>\n",
       "      <td>Вертикал вибрация подшипника №2. Эксгаустер №3</td>\n",
       "      <td>3</td>\n",
       "      <td>1</td>\n",
       "    </tr>\n",
       "  </tbody>\n",
       "</table>\n",
       "</div>"
      ],
      "text/plain": [
       "   signal_settings_id               place    type  \\\n",
       "0                   1  SM_Exgauster\\[0:0]  analog   \n",
       "1                   2  SM_Exgauster\\[0:1]  analog   \n",
       "2                   3  SM_Exgauster\\[0:2]  analog   \n",
       "3                   4  SM_Exgauster\\[0:3]  analog   \n",
       "4                   5  SM_Exgauster\\[0:4]  analog   \n",
       "\n",
       "                                            comment  exhauster  active  \n",
       "0  Горизонтал вибрация подшипника №1. Эксгаустер №3          3       1  \n",
       "1    Вертикал вибрация подшипника №1. Эксгаустер №3          3       1  \n",
       "2      Осевая вибрация подшипника №1. Эксгаустер №3          3       1  \n",
       "3  Горизонтал вибрация подшипника №2. Эксгаустер №3          3       1  \n",
       "4    Вертикал вибрация подшипника №2. Эксгаустер №3          3       1  "
      ]
     },
     "execution_count": 105,
     "metadata": {},
     "output_type": "execute_result"
    }
   ],
   "source": [
    "# проверка записи данных в таблицу 'signal_settings'\n",
    "cursor.execute(\"SELECT * FROM blm.signal_settings LIMIT 5;\")\n",
    "rows = cursor.fetchall()\n",
    "cursor.execute(\"SELECT column_name, ordinal_position \\\n",
    "                FROM information_schema.columns \\\n",
    "                WHERE table_name = 'signal_settings' AND table_schema = 'blm' \\\n",
    "                ORDER BY ordinal_position;\")\n",
    "columnsname = [_[0] for _ in cursor.fetchall()]\n",
    "df = pd.DataFrame(rows, columns=columnsname)\n",
    "df"
   ]
  },
  {
   "cell_type": "code",
   "execution_count": 106,
   "id": "d049705d",
   "metadata": {},
   "outputs": [
    {
     "data": {
      "text/plain": [
       "(782,)"
      ]
     },
     "execution_count": 106,
     "metadata": {},
     "output_type": "execute_result"
    }
   ],
   "source": [
    "# проверка записи данных в таблицу - 'signal_settings'\n",
    "cursor.execute(\"SELECT COUNT(*) \\\n",
    "                FROM blm.signal_settings;\")\n",
    "cursor.fetchone()"
   ]
  },
  {
   "cell_type": "code",
   "execution_count": 107,
   "id": "2cc6c239",
   "metadata": {},
   "outputs": [
    {
     "data": {
      "text/plain": [
       "(782, 5)"
      ]
     },
     "execution_count": 107,
     "metadata": {},
     "output_type": "execute_result"
    }
   ],
   "source": [
    "signals_kafka.shape"
   ]
  },
  {
   "cell_type": "markdown",
   "id": "c40abd50",
   "metadata": {},
   "source": [
    "## 4.3 Анализ маппинга сигналов"
   ]
  },
  {
   "cell_type": "code",
   "execution_count": 108,
   "id": "a6d063aa",
   "metadata": {},
   "outputs": [],
   "source": [
    "# загрузка исходного файла\n",
    "xl = pd.ExcelFile('data/Маппинг сигналов.xlsx')"
   ]
  },
  {
   "cell_type": "code",
   "execution_count": 109,
   "id": "7f7cacf4",
   "metadata": {},
   "outputs": [
    {
     "data": {
      "text/plain": [
       "['Эксгаустер № 1 (У-171)',\n",
       " 'Эксгаустер № 2 (У-172)',\n",
       " 'Эксгаустер № 3 (Ф-171)',\n",
       " 'Эксгаустер № 4 (Ф-172)',\n",
       " 'Эксгаустер № 5 (X-171)',\n",
       " 'Эксгаустер № 6 (X-172)',\n",
       " 'Лист1']"
      ]
     },
     "execution_count": 109,
     "metadata": {},
     "output_type": "execute_result"
    }
   ],
   "source": [
    "# вывод наименования листов\n",
    "sheet_names = xl.sheet_names\n",
    "sheet_names"
   ]
  },
  {
   "cell_type": "code",
   "execution_count": 110,
   "id": "1a5b35ff",
   "metadata": {},
   "outputs": [
    {
     "data": {
      "text/html": [
       "<div>\n",
       "<style scoped>\n",
       "    .dataframe tbody tr th:only-of-type {\n",
       "        vertical-align: middle;\n",
       "    }\n",
       "\n",
       "    .dataframe tbody tr th {\n",
       "        vertical-align: top;\n",
       "    }\n",
       "\n",
       "    .dataframe thead th {\n",
       "        text-align: right;\n",
       "    }\n",
       "</style>\n",
       "<table border=\"1\" class=\"dataframe\">\n",
       "  <thead>\n",
       "    <tr style=\"text-align: right;\">\n",
       "      <th></th>\n",
       "      <th>Сигнал</th>\n",
       "      <th>Unnamed: 1</th>\n",
       "      <th>Unnamed: 2</th>\n",
       "      <th>Unnamed: 3</th>\n",
       "      <th>Код сигнала в Kafka</th>\n",
       "      <th>Название</th>\n",
       "      <th>Тип сигнала</th>\n",
       "      <th>Активность в ibaHD</th>\n",
       "    </tr>\n",
       "  </thead>\n",
       "  <tbody>\n",
       "    <tr>\n",
       "      <th>0</th>\n",
       "      <td>Подшипник 1</td>\n",
       "      <td>Температура нагрева</td>\n",
       "      <td>Температура</td>\n",
       "      <td>temperature</td>\n",
       "      <td>SM_Exgauster\\[2:27]</td>\n",
       "      <td>Температура нагрева подшипника №1 (ротора прив...</td>\n",
       "      <td>analog</td>\n",
       "      <td>1</td>\n",
       "    </tr>\n",
       "    <tr>\n",
       "      <th>1</th>\n",
       "      <td>NaN</td>\n",
       "      <td>NaN</td>\n",
       "      <td>Уставки</td>\n",
       "      <td>alarm_max</td>\n",
       "      <td>SM_Exgauster\\[2:65]</td>\n",
       "      <td>Уставка аварийная max ТП т1 Эксгаустер №1</td>\n",
       "      <td>analog</td>\n",
       "      <td>1</td>\n",
       "    </tr>\n",
       "    <tr>\n",
       "      <th>2</th>\n",
       "      <td>NaN</td>\n",
       "      <td>NaN</td>\n",
       "      <td>NaN</td>\n",
       "      <td>alarm_min</td>\n",
       "      <td>SM_Exgauster\\[2:74]</td>\n",
       "      <td>Уставка аварийная min ТП т1 Эксгаустер №1</td>\n",
       "      <td>analog</td>\n",
       "      <td>1</td>\n",
       "    </tr>\n",
       "    <tr>\n",
       "      <th>3</th>\n",
       "      <td>NaN</td>\n",
       "      <td>NaN</td>\n",
       "      <td>NaN</td>\n",
       "      <td>warning_max</td>\n",
       "      <td>SM_Exgauster\\[2:83]</td>\n",
       "      <td>Уставка предупредительная max ТП т1 Эксгаустер №1</td>\n",
       "      <td>analog</td>\n",
       "      <td>1</td>\n",
       "    </tr>\n",
       "    <tr>\n",
       "      <th>4</th>\n",
       "      <td>NaN</td>\n",
       "      <td>NaN</td>\n",
       "      <td>NaN</td>\n",
       "      <td>warning_min</td>\n",
       "      <td>SM_Exgauster\\[2:92]</td>\n",
       "      <td>Уставка предупредительная min ТП т1 Эксгаустер №1</td>\n",
       "      <td>analog</td>\n",
       "      <td>1</td>\n",
       "    </tr>\n",
       "  </tbody>\n",
       "</table>\n",
       "</div>"
      ],
      "text/plain": [
       "        Сигнал           Unnamed: 1   Unnamed: 2   Unnamed: 3  \\\n",
       "0  Подшипник 1  Температура нагрева  Температура  temperature   \n",
       "1          NaN                  NaN      Уставки    alarm_max   \n",
       "2          NaN                  NaN          NaN    alarm_min   \n",
       "3          NaN                  NaN          NaN  warning_max   \n",
       "4          NaN                  NaN          NaN  warning_min   \n",
       "\n",
       "   Код сигнала в Kafka                                           Название  \\\n",
       "0  SM_Exgauster\\[2:27]  Температура нагрева подшипника №1 (ротора прив...   \n",
       "1  SM_Exgauster\\[2:65]          Уставка аварийная max ТП т1 Эксгаустер №1   \n",
       "2  SM_Exgauster\\[2:74]          Уставка аварийная min ТП т1 Эксгаустер №1   \n",
       "3  SM_Exgauster\\[2:83]  Уставка предупредительная max ТП т1 Эксгаустер №1   \n",
       "4  SM_Exgauster\\[2:92]  Уставка предупредительная min ТП т1 Эксгаустер №1   \n",
       "\n",
       "  Тип сигнала  Активность в ibaHD  \n",
       "0      analog                   1  \n",
       "1      analog                   1  \n",
       "2      analog                   1  \n",
       "3      analog                   1  \n",
       "4      analog                   1  "
      ]
     },
     "execution_count": 110,
     "metadata": {},
     "output_type": "execute_result"
    }
   ],
   "source": [
    "# загрузка данных маппинга 'Эксгаустер № 1 (У-171)'\n",
    "mapping_signals = pd.read_excel('data/Маппинг сигналов.xlsx', sheet_name=0)\n",
    "mapping_signals.head()"
   ]
  },
  {
   "cell_type": "code",
   "execution_count": 111,
   "id": "1c02a75c",
   "metadata": {},
   "outputs": [
    {
     "data": {
      "text/html": [
       "<div>\n",
       "<style scoped>\n",
       "    .dataframe tbody tr th:only-of-type {\n",
       "        vertical-align: middle;\n",
       "    }\n",
       "\n",
       "    .dataframe tbody tr th {\n",
       "        vertical-align: top;\n",
       "    }\n",
       "\n",
       "    .dataframe thead th {\n",
       "        text-align: right;\n",
       "    }\n",
       "</style>\n",
       "<table border=\"1\" class=\"dataframe\">\n",
       "  <thead>\n",
       "    <tr style=\"text-align: right;\">\n",
       "      <th></th>\n",
       "      <th>Сигнал</th>\n",
       "      <th>Unnamed: 1</th>\n",
       "      <th>Unnamed: 2</th>\n",
       "      <th>Unnamed: 3</th>\n",
       "      <th>Код сигнала в Kafka</th>\n",
       "      <th>Название</th>\n",
       "      <th>Тип сигнала</th>\n",
       "      <th>Активность в ibaHD</th>\n",
       "    </tr>\n",
       "  </thead>\n",
       "  <tbody>\n",
       "    <tr>\n",
       "      <th>0</th>\n",
       "      <td>Подшипник 1</td>\n",
       "      <td>Температура нагрева</td>\n",
       "      <td>Температура</td>\n",
       "      <td>temperature</td>\n",
       "      <td>SM_Exgauster\\[2:27]</td>\n",
       "      <td>Температура нагрева подшипника №1 (ротора прив...</td>\n",
       "      <td>analog</td>\n",
       "      <td>1</td>\n",
       "    </tr>\n",
       "    <tr>\n",
       "      <th>1</th>\n",
       "      <td>Подшипник 1</td>\n",
       "      <td>Температура нагрева</td>\n",
       "      <td>Уставки</td>\n",
       "      <td>alarm_max</td>\n",
       "      <td>SM_Exgauster\\[2:65]</td>\n",
       "      <td>Уставка аварийная max ТП т1 Эксгаустер №1</td>\n",
       "      <td>analog</td>\n",
       "      <td>1</td>\n",
       "    </tr>\n",
       "    <tr>\n",
       "      <th>2</th>\n",
       "      <td>Подшипник 1</td>\n",
       "      <td>Температура нагрева</td>\n",
       "      <td>Уставки</td>\n",
       "      <td>alarm_min</td>\n",
       "      <td>SM_Exgauster\\[2:74]</td>\n",
       "      <td>Уставка аварийная min ТП т1 Эксгаустер №1</td>\n",
       "      <td>analog</td>\n",
       "      <td>1</td>\n",
       "    </tr>\n",
       "    <tr>\n",
       "      <th>3</th>\n",
       "      <td>Подшипник 1</td>\n",
       "      <td>Температура нагрева</td>\n",
       "      <td>Уставки</td>\n",
       "      <td>warning_max</td>\n",
       "      <td>SM_Exgauster\\[2:83]</td>\n",
       "      <td>Уставка предупредительная max ТП т1 Эксгаустер №1</td>\n",
       "      <td>analog</td>\n",
       "      <td>1</td>\n",
       "    </tr>\n",
       "    <tr>\n",
       "      <th>4</th>\n",
       "      <td>Подшипник 1</td>\n",
       "      <td>Температура нагрева</td>\n",
       "      <td>Уставки</td>\n",
       "      <td>warning_min</td>\n",
       "      <td>SM_Exgauster\\[2:92]</td>\n",
       "      <td>Уставка предупредительная min ТП т1 Эксгаустер №1</td>\n",
       "      <td>analog</td>\n",
       "      <td>1</td>\n",
       "    </tr>\n",
       "  </tbody>\n",
       "</table>\n",
       "</div>"
      ],
      "text/plain": [
       "        Сигнал           Unnamed: 1   Unnamed: 2   Unnamed: 3  \\\n",
       "0  Подшипник 1  Температура нагрева  Температура  temperature   \n",
       "1  Подшипник 1  Температура нагрева      Уставки    alarm_max   \n",
       "2  Подшипник 1  Температура нагрева      Уставки    alarm_min   \n",
       "3  Подшипник 1  Температура нагрева      Уставки  warning_max   \n",
       "4  Подшипник 1  Температура нагрева      Уставки  warning_min   \n",
       "\n",
       "   Код сигнала в Kafka                                           Название  \\\n",
       "0  SM_Exgauster\\[2:27]  Температура нагрева подшипника №1 (ротора прив...   \n",
       "1  SM_Exgauster\\[2:65]          Уставка аварийная max ТП т1 Эксгаустер №1   \n",
       "2  SM_Exgauster\\[2:74]          Уставка аварийная min ТП т1 Эксгаустер №1   \n",
       "3  SM_Exgauster\\[2:83]  Уставка предупредительная max ТП т1 Эксгаустер №1   \n",
       "4  SM_Exgauster\\[2:92]  Уставка предупредительная min ТП т1 Эксгаустер №1   \n",
       "\n",
       "  Тип сигнала  Активность в ibaHD  \n",
       "0      analog                   1  \n",
       "1      analog                   1  \n",
       "2      analog                   1  \n",
       "3      analog                   1  \n",
       "4      analog                   1  "
      ]
     },
     "execution_count": 111,
     "metadata": {},
     "output_type": "execute_result"
    }
   ],
   "source": [
    "# заполнение пропусков предыдущим значением\n",
    "mapping_signals = mapping_signals.fillna(method='ffill')\n",
    "mapping_signals.head()"
   ]
  },
  {
   "cell_type": "code",
   "execution_count": 112,
   "id": "e172938f",
   "metadata": {},
   "outputs": [],
   "source": [
    "# переименование атрибутов\n",
    "mapping_signals.columns = ['Механизм', 'Сигнал', 'Показатель', 'Измерение', \\\n",
    "       'Код_сигнала_в_Kafka', 'Название', 'Тип_сигнала', 'Активность_в_ibaHD']"
   ]
  },
  {
   "cell_type": "code",
   "execution_count": 113,
   "id": "0ada6a55",
   "metadata": {},
   "outputs": [
    {
     "data": {
      "text/plain": [
       "Механизм               0\n",
       "Сигнал                 0\n",
       "Показатель             0\n",
       "Измерение              0\n",
       "Код_сигнала_в_Kafka    0\n",
       "Название               0\n",
       "Тип_сигнала            0\n",
       "Активность_в_ibaHD     0\n",
       "dtype: int64"
      ]
     },
     "execution_count": 113,
     "metadata": {},
     "output_type": "execute_result"
    }
   ],
   "source": [
    "# проверка на наличие пропусков\n",
    "mapping_signals.isna().sum()"
   ]
  },
  {
   "cell_type": "code",
   "execution_count": 114,
   "id": "dab5304b",
   "metadata": {},
   "outputs": [
    {
     "data": {
      "text/plain": [
       "Механизм      [Подшипник 1, Подшипник 2, Подшипник 3, Подшип...\n",
       "Сигнал             [Температура нагрева, Вибрация, Масло, Вода]\n",
       "Показатель    [Температура, Уставки, Осевая, Горизонтальная,...\n",
       "Измерение     [temperature, alarm_max, alarm_min, warning_ma...\n",
       "dtype: object"
      ]
     },
     "execution_count": 114,
     "metadata": {},
     "output_type": "execute_result"
    }
   ],
   "source": [
    "# уникальные значения атрибутов\n",
    "mapping_signals[['Механизм', 'Сигнал', 'Показатель', 'Измерение']].apply(pd.unique)"
   ]
  },
  {
   "cell_type": "code",
   "execution_count": 115,
   "id": "2776f0d8",
   "metadata": {},
   "outputs": [
    {
     "data": {
      "text/plain": [
       "Механизм      15\n",
       "Сигнал         4\n",
       "Показатель     5\n",
       "Измерение     21\n",
       "dtype: int64"
      ]
     },
     "execution_count": 115,
     "metadata": {},
     "output_type": "execute_result"
    }
   ],
   "source": [
    "# количество уникальных значений по атрибутам\n",
    "mapping_signals[['Механизм', 'Сигнал', 'Показатель', 'Измерение']].apply(lambda x: x.nunique())"
   ]
  },
  {
   "cell_type": "code",
   "execution_count": 119,
   "id": "b8af843a",
   "metadata": {},
   "outputs": [
    {
     "data": {
      "text/plain": [
       "array(['Температура', 'Уставки', 'Осевая', 'Горизонтальная',\n",
       "       'Вертикальная'], dtype=object)"
      ]
     },
     "execution_count": 119,
     "metadata": {},
     "output_type": "execute_result"
    }
   ],
   "source": [
    "# отбор показателей для парсинга\n",
    "mapping_signals['Показатель'].unique()"
   ]
  },
  {
   "cell_type": "code",
   "execution_count": 121,
   "id": "82faabdb",
   "metadata": {},
   "outputs": [
    {
     "data": {
      "text/plain": [
       "0      SM_Exgauster\\[2:27]\n",
       "5       SM_Exgauster\\[2:2]\n",
       "10      SM_Exgauster\\[2:0]\n",
       "15      SM_Exgauster\\[2:1]\n",
       "20     SM_Exgauster\\[2:28]\n",
       "25      SM_Exgauster\\[2:5]\n",
       "30      SM_Exgauster\\[2:3]\n",
       "35      SM_Exgauster\\[2:4]\n",
       "40     SM_Exgauster\\[2:29]\n",
       "45     SM_Exgauster\\[2:30]\n",
       "50     SM_Exgauster\\[2:31]\n",
       "55     SM_Exgauster\\[2:32]\n",
       "60     SM_Exgauster\\[2:33]\n",
       "65      SM_Exgauster\\[2:8]\n",
       "70      SM_Exgauster\\[2:6]\n",
       "75      SM_Exgauster\\[2:7]\n",
       "80     SM_Exgauster\\[2:34]\n",
       "85     SM_Exgauster\\[2:11]\n",
       "90      SM_Exgauster\\[2:9]\n",
       "95     SM_Exgauster\\[2:10]\n",
       "100    SM_Exgauster\\[2:35]\n",
       "Name: Код_сигнала_в_Kafka, dtype: object"
      ]
     },
     "execution_count": 121,
     "metadata": {},
     "output_type": "execute_result"
    }
   ],
   "source": [
    "# отбор показателей для парсинга\n",
    "mapping_signals.query(\"Показатель != 'Уставки'\")['Код_сигнала_в_Kafka']"
   ]
  },
  {
   "cell_type": "markdown",
   "id": "ea8c165c",
   "metadata": {},
   "source": [
    "## 4.4 Создание таблицы эксгаустеры - 'exhausters'"
   ]
  },
  {
   "cell_type": "code",
   "execution_count": 122,
   "id": "09af0f6e",
   "metadata": {},
   "outputs": [],
   "source": [
    "# создание таблицы - 'exhausters'\n",
    "cursor.execute(\"CREATE TABLE blm.exhausters( \\\n",
    "                exhauster_id INTEGER PRIMARY KEY GENERATED BY DEFAULT AS IDENTITY, \\\n",
    "                exhauster_name TEXT UNIQUE NOT NULL);\")\n",
    "connect.commit() "
   ]
  },
  {
   "cell_type": "code",
   "execution_count": 123,
   "id": "65f297ff",
   "metadata": {},
   "outputs": [
    {
     "data": {
      "text/plain": [
       "array([['Эксгаустер № 1 (У-171)'],\n",
       "       ['Эксгаустер № 2 (У-172)'],\n",
       "       ['Эксгаустер № 3 (Ф-171)'],\n",
       "       ['Эксгаустер № 4 (Ф-172)'],\n",
       "       ['Эксгаустер № 5 (X-171)'],\n",
       "       ['Эксгаустер № 6 (X-172)']], dtype='<U22')"
      ]
     },
     "execution_count": 123,
     "metadata": {},
     "output_type": "execute_result"
    }
   ],
   "source": [
    "# данные для записи в таблицу 'exhausters'\n",
    "exhausters = np.array(sheet_names[:-1]).reshape(-1,1)\n",
    "exhausters"
   ]
  },
  {
   "cell_type": "code",
   "execution_count": 124,
   "id": "02f24a37",
   "metadata": {},
   "outputs": [],
   "source": [
    "# запись данных в таблицу  - 'exhausters'\n",
    "cursor.executemany(\"INSERT INTO blm.exhausters( \\\n",
    "                    exhauster_name) \\\n",
    "                    VALUES (%s);\", exhausters)\n",
    "connect.commit() "
   ]
  },
  {
   "cell_type": "code",
   "execution_count": 125,
   "id": "fc44aea9",
   "metadata": {},
   "outputs": [
    {
     "data": {
      "text/plain": [
       "[(1, 'Эксгаустер № 1 (У-171)'),\n",
       " (2, 'Эксгаустер № 2 (У-172)'),\n",
       " (3, 'Эксгаустер № 3 (Ф-171)'),\n",
       " (4, 'Эксгаустер № 4 (Ф-172)'),\n",
       " (5, 'Эксгаустер № 5 (X-171)'),\n",
       " (6, 'Эксгаустер № 6 (X-172)')]"
      ]
     },
     "execution_count": 125,
     "metadata": {},
     "output_type": "execute_result"
    }
   ],
   "source": [
    "# проверка записи данных в таблицу 'exhausters'\n",
    "cursor.execute(\"SELECT * FROM blm.exhausters;\")\n",
    "cursor.fetchall()"
   ]
  },
  {
   "cell_type": "markdown",
   "id": "af5e6e99",
   "metadata": {},
   "source": [
    "## 4.5 Создание таблицы механизмы - 'mechanisms'"
   ]
  },
  {
   "cell_type": "code",
   "execution_count": 126,
   "id": "94d1ddba",
   "metadata": {},
   "outputs": [],
   "source": [
    "# создание таблицы - 'mechanisms'\n",
    "cursor.execute(\"CREATE TABLE blm.mechanisms( \\\n",
    "                mechanism_id INTEGER PRIMARY KEY GENERATED BY DEFAULT AS IDENTITY, \\\n",
    "                mechanism_name TEXT UNIQUE NOT NULL);\")\n",
    "connect.commit() "
   ]
  },
  {
   "cell_type": "code",
   "execution_count": 127,
   "id": "f2d225f7",
   "metadata": {},
   "outputs": [
    {
     "data": {
      "text/plain": [
       "array([['Подшипник 1'],\n",
       "       ['Подшипник 2'],\n",
       "       ['Подшипник 3'],\n",
       "       ['Подшипник 4'],\n",
       "       ['Подшипник 5']], dtype=object)"
      ]
     },
     "execution_count": 127,
     "metadata": {},
     "output_type": "execute_result"
    }
   ],
   "source": [
    "# данные для записи в таблицу 'mechanisms'\n",
    "mechanism_names = mapping_signals[['Механизм']].drop_duplicates().values\n",
    "mechanism_names[:5]"
   ]
  },
  {
   "cell_type": "code",
   "execution_count": 128,
   "id": "7de9dc99",
   "metadata": {},
   "outputs": [],
   "source": [
    "# запись данных в таблицу  - 'mechanisms'\n",
    "cursor.executemany(\"INSERT INTO blm.mechanisms( \\\n",
    "                    mechanism_name) \\\n",
    "                    VALUES (%s);\", mechanism_names)\n",
    "connect.commit() "
   ]
  },
  {
   "cell_type": "code",
   "execution_count": 129,
   "id": "4284314c",
   "metadata": {},
   "outputs": [
    {
     "data": {
      "text/plain": [
       "[(1, 'Подшипник 1'),\n",
       " (2, 'Подшипник 2'),\n",
       " (3, 'Подшипник 3'),\n",
       " (4, 'Подшипник 4'),\n",
       " (5, 'Подшипник 5'),\n",
       " (6, 'Подшипник 6'),\n",
       " (7, 'Подшипник 7'),\n",
       " (8, 'Подшипник 8'),\n",
       " (9, 'Подшипник 9'),\n",
       " (10, 'Охладитель'),\n",
       " (11, 'Газовый коллектор'),\n",
       " (12, 'Положение задвижки'),\n",
       " (13, 'Главный привод'),\n",
       " (14, 'Маслосистема'),\n",
       " (15, 'Работа эксгаустера')]"
      ]
     },
     "execution_count": 129,
     "metadata": {},
     "output_type": "execute_result"
    }
   ],
   "source": [
    "# проверка записи данных в таблицу 'mechanisms'\n",
    "cursor.execute(\"SELECT * FROM blm.mechanisms;\")\n",
    "cursor.fetchall()"
   ]
  },
  {
   "cell_type": "markdown",
   "id": "a824dfa5",
   "metadata": {},
   "source": [
    "## 4.6 Создание таблицы сигналы - 'signals'"
   ]
  },
  {
   "cell_type": "code",
   "execution_count": 130,
   "id": "281ed581",
   "metadata": {},
   "outputs": [],
   "source": [
    "# удаление таблицы 'mechanisms' если она существует \n",
    "cursor.execute(\"DROP TABLE IF EXISTS blm.signals;\")\n",
    "connect.commit() "
   ]
  },
  {
   "cell_type": "code",
   "execution_count": 131,
   "id": "372799e6",
   "metadata": {},
   "outputs": [],
   "source": [
    "# создание таблицы - 'mechanisms'\n",
    "cursor.execute(\"CREATE TABLE blm.signals( \\\n",
    "                 signal_id INTEGER PRIMARY KEY GENERATED BY DEFAULT AS IDENTITY, \\\n",
    "                 signal_name TEXT UNIQUE NOT NULL);\")\n",
    "connect.commit()"
   ]
  },
  {
   "cell_type": "code",
   "execution_count": 132,
   "id": "e81fa5ad",
   "metadata": {},
   "outputs": [
    {
     "data": {
      "text/plain": [
       "array([['Температура нагрева'],\n",
       "       ['Вибрация'],\n",
       "       ['Масло'],\n",
       "       ['Вода']], dtype=object)"
      ]
     },
     "execution_count": 132,
     "metadata": {},
     "output_type": "execute_result"
    }
   ],
   "source": [
    "# данные для записи в таблицу 'signals'\n",
    "signal_names = mapping_signals[['Сигнал']].drop_duplicates().values\n",
    "signal_names[:5]"
   ]
  },
  {
   "cell_type": "code",
   "execution_count": 133,
   "id": "1e0d1862",
   "metadata": {},
   "outputs": [],
   "source": [
    "# запись данных в таблицу - 'signals'\n",
    "cursor.executemany(\"INSERT INTO blm.signals( \\\n",
    "                    signal_name) \\\n",
    "                    VALUES (%s);\", signal_names)\n",
    "connect.commit()"
   ]
  },
  {
   "cell_type": "code",
   "execution_count": 134,
   "id": "d5432bd2",
   "metadata": {},
   "outputs": [
    {
     "data": {
      "text/plain": [
       "[(1, 'Температура нагрева'), (2, 'Вибрация'), (3, 'Масло'), (4, 'Вода')]"
      ]
     },
     "execution_count": 134,
     "metadata": {},
     "output_type": "execute_result"
    }
   ],
   "source": [
    "# проверка записи данных в таблицу 'mechanisms'\n",
    "cursor.execute(\"SELECT * FROM blm.signals;\")\n",
    "cursor.fetchall()"
   ]
  },
  {
   "cell_type": "markdown",
   "id": "0913cf18",
   "metadata": {},
   "source": [
    "## 4.7 Создание таблицы показатели - 'marks'"
   ]
  },
  {
   "cell_type": "code",
   "execution_count": 135,
   "id": "68444211",
   "metadata": {},
   "outputs": [],
   "source": [
    "# создание таблицы - 'marks'\n",
    "cursor.execute(\"CREATE TABLE blm.marks( \\\n",
    "                 mark_id INTEGER PRIMARY KEY GENERATED BY DEFAULT AS IDENTITY, \\\n",
    "                 mark_name TEXT UNIQUE NOT NULL);\")\n",
    "connect.commit()"
   ]
  },
  {
   "cell_type": "code",
   "execution_count": 136,
   "id": "675b5187",
   "metadata": {},
   "outputs": [
    {
     "data": {
      "text/plain": [
       "array([['Температура'],\n",
       "       ['Уставки'],\n",
       "       ['Осевая'],\n",
       "       ['Горизонтальная'],\n",
       "       ['Вертикальная']], dtype=object)"
      ]
     },
     "execution_count": 136,
     "metadata": {},
     "output_type": "execute_result"
    }
   ],
   "source": [
    "# данные для записи в таблицу 'marks'\n",
    "mark_names = mapping_signals[['Показатель']].drop_duplicates().values\n",
    "mark_names[:5]"
   ]
  },
  {
   "cell_type": "code",
   "execution_count": 137,
   "id": "9158b80f",
   "metadata": {},
   "outputs": [],
   "source": [
    "# запись данных в таблицу  - 'marks'\n",
    "cursor.executemany(\"INSERT INTO blm.marks( \\\n",
    "                    mark_name) \\\n",
    "                    VALUES (%s);\", mark_names)\n",
    "connect.commit()"
   ]
  },
  {
   "cell_type": "code",
   "execution_count": 138,
   "id": "b213a34e",
   "metadata": {},
   "outputs": [
    {
     "data": {
      "text/plain": [
       "[(1, 'Температура'),\n",
       " (2, 'Уставки'),\n",
       " (3, 'Осевая'),\n",
       " (4, 'Горизонтальная'),\n",
       " (5, 'Вертикальная')]"
      ]
     },
     "execution_count": 138,
     "metadata": {},
     "output_type": "execute_result"
    }
   ],
   "source": [
    "# проверка записи данных в таблицу 'marks'\n",
    "cursor.execute(\"SELECT * FROM blm.marks;\")\n",
    "cursor.fetchall()"
   ]
  },
  {
   "cell_type": "markdown",
   "id": "7f5a537c",
   "metadata": {},
   "source": [
    "## 4.8 Создание таблицы измерения - 'measurings'"
   ]
  },
  {
   "cell_type": "code",
   "execution_count": 139,
   "id": "dea7b8dd",
   "metadata": {},
   "outputs": [],
   "source": [
    "# создание таблицы - 'measurings'\n",
    "cursor.execute(\"CREATE TABLE blm.measurings( \\\n",
    "                 measuring_id INTEGER PRIMARY KEY GENERATED BY DEFAULT AS IDENTITY, \\\n",
    "                 measuring_name TEXT UNIQUE NOT NULL);\")\n",
    "connect.commit()"
   ]
  },
  {
   "cell_type": "code",
   "execution_count": 140,
   "id": "a229a8c4",
   "metadata": {},
   "outputs": [
    {
     "data": {
      "text/plain": [
       "array([['temperature'],\n",
       "       ['alarm_max'],\n",
       "       ['alarm_min'],\n",
       "       ['warning_max'],\n",
       "       ['warning_min']], dtype=object)"
      ]
     },
     "execution_count": 140,
     "metadata": {},
     "output_type": "execute_result"
    }
   ],
   "source": [
    "# данные для записи в таблицу 'measurings'\n",
    "measuring_names = mapping_signals[['Измерение']].drop_duplicates().values\n",
    "measuring_names[:5]"
   ]
  },
  {
   "cell_type": "code",
   "execution_count": 141,
   "id": "9ca6f75b",
   "metadata": {},
   "outputs": [],
   "source": [
    "# запись данных в таблицу - 'measurings'\n",
    "cursor.executemany(\"INSERT INTO blm.measurings( \\\n",
    "                    measuring_name) \\\n",
    "                    VALUES (%s);\", measuring_names)\n",
    "connect.commit()"
   ]
  },
  {
   "cell_type": "code",
   "execution_count": 142,
   "id": "0e5129c7",
   "metadata": {},
   "outputs": [
    {
     "data": {
      "text/plain": [
       "[(1, 'temperature'),\n",
       " (2, 'alarm_max'),\n",
       " (3, 'alarm_min'),\n",
       " (4, 'warning_max'),\n",
       " (5, 'warning_min')]"
      ]
     },
     "execution_count": 142,
     "metadata": {},
     "output_type": "execute_result"
    }
   ],
   "source": [
    "# проверка записи данных в таблицу 'measurings'\n",
    "cursor.execute(\"SELECT * FROM blm.measurings LIMIT 5;\")\n",
    "cursor.fetchall()"
   ]
  },
  {
   "cell_type": "code",
   "execution_count": 143,
   "id": "ccb4c5db",
   "metadata": {},
   "outputs": [],
   "source": [
    "# проверка соответствия данных на уникальность"
   ]
  },
  {
   "cell_type": "code",
   "execution_count": 144,
   "id": "dfc72728",
   "metadata": {},
   "outputs": [
    {
     "data": {
      "text/plain": [
       "[(782, 782)]"
      ]
     },
     "execution_count": 144,
     "metadata": {},
     "output_type": "execute_result"
    }
   ],
   "source": [
    "cursor.execute(\"SELECT COUNT(DISTINCT(place)), COUNT(place) FROM blm.signal_settings;\")\n",
    "cursor.fetchall()"
   ]
  },
  {
   "cell_type": "code",
   "execution_count": 145,
   "id": "fec64ff9",
   "metadata": {},
   "outputs": [
    {
     "data": {
      "text/plain": [
       "(121, (121,))"
      ]
     },
     "execution_count": 145,
     "metadata": {},
     "output_type": "execute_result"
    }
   ],
   "source": [
    "mapping_signals['Код_сигнала_в_Kafka'].nunique(), mapping_signals['Код_сигнала_в_Kafka'].shape"
   ]
  },
  {
   "cell_type": "code",
   "execution_count": 146,
   "id": "3c14d353",
   "metadata": {},
   "outputs": [
    {
     "data": {
      "text/plain": [
       "284"
      ]
     },
     "execution_count": 146,
     "metadata": {},
     "output_type": "execute_result"
    }
   ],
   "source": [
    "# получение индекса сигнала 'signal_id' для случайного значения 'Код_сигнала_в_Kafka'\n",
    "cursor.execute(\"SELECT signal_settings_id FROM blm.signal_settings WHERE place = (%s);\", \\\n",
    "               (mapping_signals['Код_сигнала_в_Kafka'].sample(1).item(),))\n",
    "cursor.fetchone()[0]"
   ]
  },
  {
   "cell_type": "code",
   "execution_count": 147,
   "id": "aae043bd",
   "metadata": {},
   "outputs": [
    {
     "data": {
      "text/plain": [
       "(284,\n",
       " 'SM_Exgauster\\\\[2:28]',\n",
       " 'analog',\n",
       " 'Температура нагрева подшипника №2 (ротора привода эксгаустера №1)',\n",
       " 1,\n",
       " 1)"
      ]
     },
     "execution_count": 147,
     "metadata": {},
     "output_type": "execute_result"
    }
   ],
   "source": [
    "# получение индекса сигнала 'signal_id' для случайного значения 'Код_сигнала_в_Kafka'\n",
    "cursor.execute(\"SELECT * FROM blm.signal_settings WHERE signal_settings_id = 284;\")\n",
    "cursor.fetchone()"
   ]
  },
  {
   "cell_type": "code",
   "execution_count": 148,
   "id": "b96225f4",
   "metadata": {},
   "outputs": [
    {
     "data": {
      "text/html": [
       "<div>\n",
       "<style scoped>\n",
       "    .dataframe tbody tr th:only-of-type {\n",
       "        vertical-align: middle;\n",
       "    }\n",
       "\n",
       "    .dataframe tbody tr th {\n",
       "        vertical-align: top;\n",
       "    }\n",
       "\n",
       "    .dataframe thead th {\n",
       "        text-align: right;\n",
       "    }\n",
       "</style>\n",
       "<table border=\"1\" class=\"dataframe\">\n",
       "  <thead>\n",
       "    <tr style=\"text-align: right;\">\n",
       "      <th></th>\n",
       "      <th>Механизм</th>\n",
       "      <th>Сигнал</th>\n",
       "      <th>Показатель</th>\n",
       "      <th>Измерение</th>\n",
       "      <th>Код_сигнала_в_Kafka</th>\n",
       "      <th>Название</th>\n",
       "      <th>Тип_сигнала</th>\n",
       "      <th>Активность_в_ibaHD</th>\n",
       "    </tr>\n",
       "  </thead>\n",
       "  <tbody>\n",
       "    <tr>\n",
       "      <th>96</th>\n",
       "      <td>Подшипник 8</td>\n",
       "      <td>Вибрация</td>\n",
       "      <td>Уставки</td>\n",
       "      <td>alarm_max</td>\n",
       "      <td>SM_Exgauster\\[2:147]</td>\n",
       "      <td>Уставка аварийная max ВВ 8т Эксгаустер №1</td>\n",
       "      <td>analog</td>\n",
       "      <td>1</td>\n",
       "    </tr>\n",
       "  </tbody>\n",
       "</table>\n",
       "</div>"
      ],
      "text/plain": [
       "       Механизм    Сигнал Показатель  Измерение   Код_сигнала_в_Kafka  \\\n",
       "96  Подшипник 8  Вибрация    Уставки  alarm_max  SM_Exgauster\\[2:147]   \n",
       "\n",
       "                                     Название Тип_сигнала  Активность_в_ibaHD  \n",
       "96  Уставка аварийная max ВВ 8т Эксгаустер №1      analog                   1  "
      ]
     },
     "execution_count": 148,
     "metadata": {},
     "output_type": "execute_result"
    }
   ],
   "source": [
    "# проверка соответствия данных\n",
    "mapping_signals.query(\"Код_сигнала_в_Kafka == 'SM_Exgauster\\\\[2:147]'\")"
   ]
  },
  {
   "cell_type": "markdown",
   "id": "eef7909d",
   "metadata": {},
   "source": [
    "## 4.9 Создание таблицы маппинг сигналов - 'mapping_signals'"
   ]
  },
  {
   "cell_type": "code",
   "execution_count": 149,
   "id": "15b09cf0",
   "metadata": {},
   "outputs": [
    {
     "data": {
      "text/plain": [
       "Index(['Механизм', 'Сигнал', 'Показатель', 'Измерение', 'Код_сигнала_в_Kafka',\n",
       "       'Название', 'Тип_сигнала', 'Активность_в_ibaHD'],\n",
       "      dtype='object')"
      ]
     },
     "execution_count": 149,
     "metadata": {},
     "output_type": "execute_result"
    }
   ],
   "source": [
    "# значение атрибутов в исходном файле\n",
    "mapping_signals.columns"
   ]
  },
  {
   "cell_type": "code",
   "execution_count": 150,
   "id": "e5c884fb",
   "metadata": {},
   "outputs": [],
   "source": [
    "# создание таблицы - 'mapping_signals'\n",
    "cursor.execute(\"CREATE TABLE blm.mapping_signals( \\\n",
    "                 mapping_signals_id INTEGER PRIMARY KEY GENERATED BY DEFAULT AS IDENTITY, \\\n",
    "                 mechanism_id INTEGER NOT NULL, \\\n",
    "                 signal_id INTEGER NOT NULL, \\\n",
    "                 mark_id INTEGER NOT NULL, \\\n",
    "                 measuring_id INTEGER NOT NULL, \\\n",
    "                 signal_settings_id INTEGER NOT NULL);\")\n",
    "connect.commit()"
   ]
  },
  {
   "cell_type": "code",
   "execution_count": 151,
   "id": "51b71472",
   "metadata": {},
   "outputs": [],
   "source": [
    "# функция записи данных в таблицу - 'mapping_signals'\n",
    "def insert_mapping_signals(data):\n",
    "    \n",
    "    mechanism_name, signal_name, mark_name, measuring_name, place = data     \n",
    "    cursor.execute(\"SELECT mechanism_id FROM blm.mechanisms WHERE mechanism_name = (%s);\", \\\n",
    "               (mechanism_name,))\n",
    "    mechanism_id = cursor.fetchone()[0]\n",
    "    cursor.execute(\"SELECT signal_id FROM blm.signals WHERE signal_name = (%s);\", \\\n",
    "               (signal_name,))\n",
    "    signal_id = cursor.fetchone()[0]\n",
    "    cursor.execute(\"SELECT mark_id FROM blm.marks WHERE mark_name = (%s);\", \\\n",
    "               (mark_name,))\n",
    "    mark_id = cursor.fetchone()[0]\n",
    "    cursor.execute(\"SELECT measuring_id FROM blm.measurings WHERE measuring_name = (%s);\", \\\n",
    "               (measuring_name,))\n",
    "    measuring_id = cursor.fetchone()[0]\n",
    "    cursor.execute(\"SELECT signal_settings_id FROM blm.signal_settings WHERE place = (%s);\", \\\n",
    "               (place,))\n",
    "    signal_settings_id = cursor.fetchone()[0]\n",
    "    cursor.execute(\"INSERT INTO blm.mapping_signals( \\\n",
    "                    mechanism_id, signal_id, mark_id, measuring_id, signal_settings_id) \\\n",
    "                    VALUES (%s, %s, %s, %s, %s);\", \\\n",
    "                    (mechanism_id, signal_id, mark_id, measuring_id, signal_settings_id))\n",
    "    connect.commit()"
   ]
  },
  {
   "cell_type": "code",
   "execution_count": 153,
   "id": "5fec5e46",
   "metadata": {},
   "outputs": [
    {
     "name": "stdout",
     "output_type": "stream",
     "text": [
      "Wall time: 9min 38s\n"
     ]
    }
   ],
   "source": [
    "%%time\n",
    "# запись данных в таблицу - 'mapping_signals'\n",
    "for i, row in mapping_signals.iloc[:,:5].iterrows():\n",
    "    data = row.tolist()\n",
    "    insert_mapping_signals(data)"
   ]
  },
  {
   "cell_type": "code",
   "execution_count": 155,
   "id": "52f610b7",
   "metadata": {},
   "outputs": [
    {
     "data": {
      "text/plain": [
       "[(1, 1, 1, 1, 1, 283), (2, 1, 1, 2, 2, 321), (3, 1, 1, 2, 3, 330)]"
      ]
     },
     "execution_count": 155,
     "metadata": {},
     "output_type": "execute_result"
    }
   ],
   "source": [
    "# проверка записи данных в таблицу 'mapping_signals'\n",
    "cursor.execute(\"SELECT * FROM blm.mapping_signals LIMIT 3;\")\n",
    "cursor.fetchall()"
   ]
  },
  {
   "cell_type": "code",
   "execution_count": 156,
   "id": "71839d67",
   "metadata": {},
   "outputs": [
    {
     "data": {
      "text/plain": [
       "(121,)"
      ]
     },
     "execution_count": 156,
     "metadata": {},
     "output_type": "execute_result"
    }
   ],
   "source": [
    "# проверка записи данных в таблицу 'mapping_signals'\n",
    "cursor.execute(\"SELECT COUNT(*) FROM blm.mapping_signals;\")\n",
    "cursor.fetchone()"
   ]
  },
  {
   "cell_type": "code",
   "execution_count": 157,
   "id": "d21b3b41",
   "metadata": {},
   "outputs": [
    {
     "data": {
      "text/plain": [
       "(121, 8)"
      ]
     },
     "execution_count": 157,
     "metadata": {},
     "output_type": "execute_result"
    }
   ],
   "source": [
    "mapping_signals.shape"
   ]
  },
  {
   "cell_type": "code",
   "execution_count": 158,
   "id": "a4b0dbe2",
   "metadata": {},
   "outputs": [],
   "source": [
    "# функция записи данных в таблицу - 'mapping_signals'\n",
    "def open_data_xlsx(path, sheet_name):\n",
    "    \n",
    "    mapping_signals = pd.read_excel(path, sheet_name=sheet_name, usecols=[0, 1, 2, 3, 4])\n",
    "    mapping_signals = mapping_signals.fillna(method='ffill')\n",
    "    mapping_signals.columns = ['Механизм', 'Сигнал', 'Показатель', \\\n",
    "                               'Измерение', 'Код_сигнала_в_Kafka']\n",
    "    for i, row in mapping_signals.iterrows():\n",
    "        data = row.tolist()\n",
    "        mechanism_name, signal_name, mark_name, measuring_name, place = data\n",
    "        try:\n",
    "            cursor.execute(\"SELECT mechanism_id FROM blm.mechanisms WHERE mechanism_name = (%s);\", \\\n",
    "               (mechanism_name,))\n",
    "            mechanism_id = cursor.fetchone()[0]\n",
    "        except:\n",
    "            # запись данных в таблицу  - 'mechanisms'\n",
    "            cursor.execute(\"INSERT INTO blm.mechanisms( \\\n",
    "                            mechanism_name) \\\n",
    "                            VALUES (%s);\", (mechanism_names,))\n",
    "            connect.commit()\n",
    "            cursor.execute(\"SELECT mechanism_id FROM blm.mechanisms WHERE mechanism_name = (%s);\", \\\n",
    "               (mechanism_name,))\n",
    "            mechanism_id = cursor.fetchone()[0]\n",
    "        try:\n",
    "            cursor.execute(\"SELECT signal_id FROM blm.signals WHERE signal_name = (%s);\", \\\n",
    "               (signal_name,))\n",
    "            signal_id = cursor.fetchone()[0]\n",
    "        except:    \n",
    "            # запись данных в таблицу - 'signals'\n",
    "            cursor.execute(\"INSERT INTO blm.signals( \\\n",
    "                            signal_name) \\\n",
    "                            VALUES (%s);\", (signal_names,))\n",
    "            connect.commit()\n",
    "            cursor.execute(\"SELECT signal_id FROM blm.signals WHERE signal_name = (%s);\", \\\n",
    "               (signal_name,))\n",
    "            signal_id = cursor.fetchone()[0]\n",
    "        try:\n",
    "            cursor.execute(\"SELECT mark_id FROM blm.marks WHERE mark_name = (%s);\", \\\n",
    "               (mark_name,))\n",
    "            mark_id = cursor.fetchone()[0]\n",
    "        except:    \n",
    "            # запись данных в таблицу  - 'marks'\n",
    "            cursor.execute(\"INSERT INTO blm.marks( \\\n",
    "                            mark_name) \\\n",
    "                            VALUES (%s);\", (mark_names,))\n",
    "            connect.commit()\n",
    "            cursor.execute(\"SELECT mark_id FROM blm.marks WHERE mark_name = (%s);\", \\\n",
    "               (mark_name,))\n",
    "            mark_id = cursor.fetchone()[0]\n",
    "        try:\n",
    "            cursor.execute(\"SELECT measuring_id FROM blm.measurings WHERE measuring_name = (%s);\", \\\n",
    "               (measuring_name,))\n",
    "            measuring_id = cursor.fetchone()[0]\n",
    "        except:    \n",
    "            # запись данных в таблицу - 'measurings'\n",
    "            cursor.execute(\"INSERT INTO blm.measurings( \\\n",
    "                            measuring_name) \\\n",
    "                            VALUES (%s);\", (measuring_names,))\n",
    "            connect.commit()\n",
    "            cursor.execute(\"SELECT measuring_id FROM blm.measurings WHERE measuring_name = (%s);\", \\\n",
    "                           (measuring_name,))\n",
    "            measuring_id = cursor.fetchone()[0]\n",
    "            \n",
    "        cursor.execute(\"SELECT signal_settings_id FROM blm.signal_settings WHERE place = (%s);\", \\\n",
    "               (place,))\n",
    "        signal_settings_id = cursor.fetchone()[0]\n",
    "        \n",
    "        cursor.execute(\"INSERT INTO blm.mapping_signals( \\\n",
    "                    mechanism_id, signal_id, mark_id, measuring_id, signal_settings_id) \\\n",
    "                    VALUES (%s, %s, %s, %s, %s);\", \\\n",
    "                    (mechanism_id, signal_id, mark_id, measuring_id, signal_settings_id))\n",
    "        connect.commit()"
   ]
  },
  {
   "cell_type": "code",
   "execution_count": 161,
   "id": "0ddf76d8",
   "metadata": {},
   "outputs": [],
   "source": [
    "# путь к файлу с данными маппинга сигналов\n",
    "path = 'data/Маппинг сигналов.xlsx'"
   ]
  },
  {
   "cell_type": "code",
   "execution_count": 162,
   "id": "d93b2178",
   "metadata": {},
   "outputs": [
    {
     "name": "stdout",
     "output_type": "stream",
     "text": [
      "Wall time: 29min 25s\n"
     ]
    }
   ],
   "source": [
    "%%time\n",
    "# запись данных в таблицу - 'mapping_signals'\n",
    "for sheet_name in sheet_names[1:-1]:\n",
    "    open_data_xlsx(path, sheet_name)"
   ]
  },
  {
   "cell_type": "code",
   "execution_count": 163,
   "id": "72ff0cb0",
   "metadata": {},
   "outputs": [
    {
     "data": {
      "text/plain": [
       "(726,)"
      ]
     },
     "execution_count": 163,
     "metadata": {},
     "output_type": "execute_result"
    }
   ],
   "source": [
    "# проверка записи данных в таблицу 'mapping_signals'\n",
    "cursor.execute(\"SELECT COUNT(*) FROM blm.mapping_signals;\")\n",
    "cursor.fetchone()"
   ]
  },
  {
   "cell_type": "code",
   "execution_count": 164,
   "id": "3458261d",
   "metadata": {},
   "outputs": [
    {
     "data": {
      "text/plain": [
       "['Эксгаустер № 1 (У-171)',\n",
       " 'Эксгаустер № 2 (У-172)',\n",
       " 'Эксгаустер № 3 (Ф-171)',\n",
       " 'Эксгаустер № 4 (Ф-172)',\n",
       " 'Эксгаустер № 5 (X-171)',\n",
       " 'Эксгаустер № 6 (X-172)',\n",
       " 'Лист1']"
      ]
     },
     "execution_count": 164,
     "metadata": {},
     "output_type": "execute_result"
    }
   ],
   "source": [
    "# вывод наименования листов\n",
    "sheet_names"
   ]
  },
  {
   "cell_type": "code",
   "execution_count": 165,
   "id": "16a9fdc2",
   "metadata": {},
   "outputs": [
    {
     "data": {
      "text/plain": [
       "726"
      ]
     },
     "execution_count": 165,
     "metadata": {},
     "output_type": "execute_result"
    }
   ],
   "source": [
    "# проверка записи данных в таблицу 'mapping_signals'\n",
    "count = 0\n",
    "for sheet in sheet_names[:-1]:\n",
    "    mapping_signals = pd.read_excel(path, sheet_name=sheet, usecols=[0, 1, 2, 3, 4])\n",
    "    count += mapping_signals.shape[0]\n",
    "count"
   ]
  },
  {
   "cell_type": "code",
   "execution_count": 166,
   "id": "661a16c5",
   "metadata": {},
   "outputs": [
    {
     "data": {
      "text/plain": [
       "[('Вертикальная',),\n",
       " ('Уставки',),\n",
       " ('Горизонтальная',),\n",
       " ('Осевая',),\n",
       " ('Температура',)]"
      ]
     },
     "execution_count": 166,
     "metadata": {},
     "output_type": "execute_result"
    }
   ],
   "source": [
    "# отбор показателей для парсинга\n",
    "cursor.execute(\"SELECT DISTINCT(mark_name) \\\n",
    "                FROM blm.mapping_signals \\\n",
    "                INNER JOIN blm.marks USING(mark_id);\")\n",
    "cursor.fetchall()"
   ]
  },
  {
   "cell_type": "code",
   "execution_count": 170,
   "id": "e6109aed",
   "metadata": {},
   "outputs": [],
   "source": [
    "# отбор показателей для парсинга\n",
    "cursor.execute(\"SELECT place \\\n",
    "                FROM blm.mapping_signals \\\n",
    "                INNER JOIN blm.marks USING(mark_id) \\\n",
    "                INNER JOIN blm.signal_settings USING(signal_settings_id) \\\n",
    "                WHERE mark_name != 'Уставки';\")\n",
    "place_list = cursor.fetchall()"
   ]
  },
  {
   "cell_type": "code",
   "execution_count": 171,
   "id": "73b363e7",
   "metadata": {},
   "outputs": [
    {
     "data": {
      "text/plain": [
       "126"
      ]
     },
     "execution_count": 171,
     "metadata": {},
     "output_type": "execute_result"
    }
   ],
   "source": [
    "# количество атрибутов сигнала\n",
    "len(place_list)"
   ]
  },
  {
   "cell_type": "code",
   "execution_count": 174,
   "id": "6384ecb2",
   "metadata": {},
   "outputs": [
    {
     "data": {
      "text/plain": [
       "['SM_Exgauster\\\\[2:27]',\n",
       " 'SM_Exgauster\\\\[2:2]',\n",
       " 'SM_Exgauster\\\\[2:0]',\n",
       " 'SM_Exgauster\\\\[2:1]',\n",
       " 'SM_Exgauster\\\\[2:28]']"
      ]
     },
     "execution_count": 174,
     "metadata": {},
     "output_type": "execute_result"
    }
   ],
   "source": [
    "# извлечение значений\n",
    "place_list = [_[0] for _ in place_list]\n",
    "place_list[:5]"
   ]
  },
  {
   "cell_type": "code",
   "execution_count": 186,
   "id": "046836bc",
   "metadata": {},
   "outputs": [
    {
     "data": {
      "text/plain": [
       "array(['moment', 'SM_Exgauster\\\\[0:0]', 'SM_Exgauster\\\\[0:1]',\n",
       "       'SM_Exgauster\\\\[0:2]', 'SM_Exgauster\\\\[0:3]',\n",
       "       'SM_Exgauster\\\\[0:4]', 'SM_Exgauster\\\\[0:5]',\n",
       "       'SM_Exgauster\\\\[0:6]', 'SM_Exgauster\\\\[0:7]',\n",
       "       'SM_Exgauster\\\\[0:8]'], dtype='<U20')"
      ]
     },
     "execution_count": 186,
     "metadata": {},
     "output_type": "execute_result"
    }
   ],
   "source": [
    "# вывод атрибутов значения сигналов и преобразование в массив\n",
    "places = np.array(list(example_kafka[0]['Message'].keys()))\n",
    "places[:10]"
   ]
  },
  {
   "cell_type": "code",
   "execution_count": 187,
   "id": "6dbc9746",
   "metadata": {},
   "outputs": [
    {
     "data": {
      "text/html": [
       "<div>\n",
       "<style scoped>\n",
       "    .dataframe tbody tr th:only-of-type {\n",
       "        vertical-align: middle;\n",
       "    }\n",
       "\n",
       "    .dataframe tbody tr th {\n",
       "        vertical-align: top;\n",
       "    }\n",
       "\n",
       "    .dataframe thead th {\n",
       "        text-align: right;\n",
       "    }\n",
       "</style>\n",
       "<table border=\"1\" class=\"dataframe\">\n",
       "  <thead>\n",
       "    <tr style=\"text-align: right;\">\n",
       "      <th></th>\n",
       "      <th>place</th>\n",
       "    </tr>\n",
       "  </thead>\n",
       "  <tbody>\n",
       "    <tr>\n",
       "      <th>0</th>\n",
       "      <td>moment</td>\n",
       "    </tr>\n",
       "    <tr>\n",
       "      <th>1</th>\n",
       "      <td>SM_Exgauster\\[0:0]</td>\n",
       "    </tr>\n",
       "    <tr>\n",
       "      <th>2</th>\n",
       "      <td>SM_Exgauster\\[0:1]</td>\n",
       "    </tr>\n",
       "    <tr>\n",
       "      <th>3</th>\n",
       "      <td>SM_Exgauster\\[0:2]</td>\n",
       "    </tr>\n",
       "    <tr>\n",
       "      <th>4</th>\n",
       "      <td>SM_Exgauster\\[0:3]</td>\n",
       "    </tr>\n",
       "  </tbody>\n",
       "</table>\n",
       "</div>"
      ],
      "text/plain": [
       "                place\n",
       "0              moment\n",
       "1  SM_Exgauster\\[0:0]\n",
       "2  SM_Exgauster\\[0:1]\n",
       "3  SM_Exgauster\\[0:2]\n",
       "4  SM_Exgauster\\[0:3]"
      ]
     },
     "execution_count": 187,
     "metadata": {},
     "output_type": "execute_result"
    }
   ],
   "source": [
    "# преобразование в DataFrame\n",
    "places_df = pd.DataFrame(places.reshape(-1, 1), columns=['place'])\n",
    "places_df.head()"
   ]
  },
  {
   "cell_type": "code",
   "execution_count": 190,
   "id": "1a9b1278",
   "metadata": {},
   "outputs": [
    {
     "data": {
      "text/plain": [
       "(array([  1,   2,   3,   4,   5,   6,   7,   8,   9,  10,  11,  12,  13,\n",
       "         14,  15,  16,  17,  18,  19,  20,  21,  22,  23,  24,  27,  28,\n",
       "         29,  30,  31,  32,  33,  34,  35,  40,  41,  42,  44,  45,  46,\n",
       "         47,  48,  49, 254, 255, 256, 257, 258, 259, 260, 261, 262, 263,\n",
       "        264, 265, 266, 267, 268, 269, 270, 271, 272, 273, 274, 275, 276,\n",
       "        277, 280, 281, 282, 283, 284, 285, 286, 287, 288, 293, 294, 295,\n",
       "        297, 298, 299, 300, 301, 302, 485, 486, 487, 488, 489, 490, 491,\n",
       "        492, 493, 494, 495, 496, 497, 498, 499, 500, 501, 502, 503, 504,\n",
       "        505, 506, 507, 508, 511, 512, 513, 514, 515, 516, 517, 518, 519,\n",
       "        524, 525, 526, 528, 529, 530, 531, 532, 533], dtype=int64),)"
      ]
     },
     "execution_count": 190,
     "metadata": {},
     "output_type": "execute_result"
    }
   ],
   "source": [
    "# индексы атрибутов для парсинга\n",
    "place_index = np.where(places_df['place'].isin(place_list))\n",
    "place_index[:6]"
   ]
  },
  {
   "cell_type": "markdown",
   "id": "3c091e83",
   "metadata": {},
   "source": [
    "## 4.10 Создание таблицы календарь - 'calendar'"
   ]
  },
  {
   "cell_type": "code",
   "execution_count": 194,
   "id": "7d2d9c6a",
   "metadata": {},
   "outputs": [
    {
     "data": {
      "text/plain": [
       "dict_keys(['Timestamp', 'Topic', 'Partition', 'Offset', 'Key', 'Headers', 'Message'])"
      ]
     },
     "execution_count": 194,
     "metadata": {},
     "output_type": "execute_result"
    }
   ],
   "source": [
    "# вывод ключей к данным \n",
    "example_kafka[0].keys()"
   ]
  },
  {
   "cell_type": "code",
   "execution_count": 197,
   "id": "a249bc36",
   "metadata": {},
   "outputs": [
    {
     "data": {
      "text/plain": [
       "['moment',\n",
       " 'SM_Exgauster\\\\[0:0]',\n",
       " 'SM_Exgauster\\\\[0:1]',\n",
       " 'SM_Exgauster\\\\[0:2]',\n",
       " 'SM_Exgauster\\\\[0:3]']"
      ]
     },
     "execution_count": 197,
     "metadata": {},
     "output_type": "execute_result"
    }
   ],
   "source": [
    "list(example_kafka[0]['Message'].keys())[:5]"
   ]
  },
  {
   "cell_type": "code",
   "execution_count": 232,
   "id": "c6d0c5e8",
   "metadata": {},
   "outputs": [],
   "source": [
    "# удаление таблицы 'calendar' если она существует \n",
    "cursor.execute(\"DROP TABLE IF EXISTS blm.calendar;\")\n",
    "connect.commit()  "
   ]
  },
  {
   "cell_type": "code",
   "execution_count": 233,
   "id": "c0a21adc",
   "metadata": {},
   "outputs": [],
   "source": [
    "# создание таблицы - 'calendar' UNIQUE\n",
    "cursor.execute(\"CREATE TABLE blm.calendar( \\\n",
    "                 off_set INTEGER PRIMARY KEY, \\\n",
    "                 timestamp TEXT NOT NULL, \\\n",
    "                 moment DATE NOT NULL);\")\n",
    "connect.commit()"
   ]
  },
  {
   "cell_type": "markdown",
   "id": "f465aced",
   "metadata": {},
   "source": [
    "## 4.11 Создание таблицы показателей сигналов -  'moment_signals'"
   ]
  },
  {
   "cell_type": "code",
   "execution_count": 191,
   "id": "5d8079eb",
   "metadata": {},
   "outputs": [
    {
     "data": {
      "text/plain": [
       "dict_keys(['Timestamp', 'Topic', 'Partition', 'Offset', 'Key', 'Headers', 'Message'])"
      ]
     },
     "execution_count": 191,
     "metadata": {},
     "output_type": "execute_result"
    }
   ],
   "source": [
    "# вывод ключей к данным \n",
    "example_kafka[0].keys()"
   ]
  },
  {
   "cell_type": "code",
   "execution_count": 192,
   "id": "d3acfa3a",
   "metadata": {},
   "outputs": [],
   "source": [
    "# атрибуты эксгаутеров\n",
    "#SM_Exgauster = ['SM_Exgauster_' + i.split('\\\\')[-1][1:-1].replace(':', '_').replace('.', '') \n",
    "#                + ' NUMERIC'\n",
    "#                for i in list(example_kafka[0]['Message'].keys())[1:]]\n",
    "#SM_Exgauster[:4]"
   ]
  },
  {
   "cell_type": "code",
   "execution_count": 226,
   "id": "05b9b34f",
   "metadata": {},
   "outputs": [],
   "source": [
    "# удаление таблицы 'moment_signals' если она существует \n",
    "cursor.execute(\"DROP TABLE IF EXISTS blm.moment_signals;\")\n",
    "connect.commit()  "
   ]
  },
  {
   "cell_type": "code",
   "execution_count": 198,
   "id": "1378e4fc",
   "metadata": {},
   "outputs": [],
   "source": [
    "# запрос на  создание таблицы - 'moment_signals'\n",
    "#query = f\"\"\"CREATE TABLE blm.moment_signals( \\\n",
    "#                 off_set INTEGER PRIMARY KEY, \\\n",
    "#                 signal_settings_id INTEGER NOT NULL, \\\n",
    "#                 moment DATE NOT NULL, {\", \".join(map(str, SM_Exgauster))});\"\"\""
   ]
  },
  {
   "cell_type": "code",
   "execution_count": 246,
   "id": "62312338",
   "metadata": {},
   "outputs": [],
   "source": [
    "# создание таблицы - 'moment_signals'\n",
    "#cursor.execute(query)\n",
    "#connect.commit()"
   ]
  },
  {
   "cell_type": "code",
   "execution_count": 227,
   "id": "8c20d902",
   "metadata": {},
   "outputs": [],
   "source": [
    "# создание таблицы - 'moment_signals'\n",
    "cursor.execute(\"CREATE TABLE blm.moment_signals( \\\n",
    "                 off_set INTEGER NOT NULL, \\\n",
    "                 signal_settings_id INTEGER NOT NULL, \\\n",
    "                 value NUMERIC NOT NULL);\")\n",
    "connect.commit()"
   ]
  },
  {
   "cell_type": "code",
   "execution_count": 228,
   "id": "5ba6da50",
   "metadata": {},
   "outputs": [
    {
     "name": "stdout",
     "output_type": "stream",
     "text": [
      "['off_set', 'signal_settings_id', 'value']\n"
     ]
    }
   ],
   "source": [
    "# значение атрибутов в таблице 'moment_signals'\n",
    "cursor.execute(\"SELECT column_name \\\n",
    "             FROM information_schema.columns \\\n",
    "             WHERE table_name = 'moment_signals' AND table_schema = 'blm';\")\n",
    "columnsname = [_[0] for _ in cursor.fetchall()]\n",
    "print(columnsname)"
   ]
  },
  {
   "cell_type": "code",
   "execution_count": 280,
   "id": "ce5c0854",
   "metadata": {},
   "outputs": [],
   "source": [
    "# запись в таблицу 'moment_signals'\n",
    "#cursor.execute(f\"INSERT INTO blm.moment_signals VALUES ({str(moment_signals)[1:-1]});\")\n",
    "#connect.commit()"
   ]
  },
  {
   "cell_type": "code",
   "execution_count": 201,
   "id": "6c343186",
   "metadata": {},
   "outputs": [],
   "source": [
    "# проверка записи данных в таблицу 'moment_signals'\n",
    "#cursor.execute(\"SELECT * FROM blm.moment_signals;\")\n",
    "#cursor.fetchone()"
   ]
  },
  {
   "cell_type": "code",
   "execution_count": 293,
   "id": "29d037bd",
   "metadata": {},
   "outputs": [],
   "source": [
    "# функция записи данных в таблицу 'moment_signals'\n",
    "def insert_moment_signals(data):\n",
    "    \n",
    "    timestamp = data['Timestamp']\n",
    "    partition = data['Partition']\n",
    "    off_set = data['Offset']\n",
    "    Message = data['Message']\n",
    "    moment = Message['moment']\n",
    "    data = [timestamp, partition, off_set, moment] + list(Message.values())[1:]\n",
    "    cursor.execute(f\"INSERT INTO blm.moment_signals VALUES ({str(data)[1:-1]});\")\n",
    "    connect.commit()"
   ]
  },
  {
   "cell_type": "code",
   "execution_count": 202,
   "id": "3a730e35",
   "metadata": {},
   "outputs": [],
   "source": [
    "#len(example_kafka)"
   ]
  },
  {
   "cell_type": "code",
   "execution_count": 203,
   "id": "270bbecc",
   "metadata": {},
   "outputs": [],
   "source": [
    "# запись данных в таблицу 'moment_signals'\n",
    "#%%time\n",
    "#for example in example_kafka[1:]:\n",
    "#    insert_moment_signals(example)"
   ]
  },
  {
   "cell_type": "code",
   "execution_count": 204,
   "id": "2ecace4b",
   "metadata": {},
   "outputs": [],
   "source": [
    "# проверка записи данных в таблицу 'moment_signals'\n",
    "#cursor.execute(\"SELECT COUNT(*) FROM blm.moment_signals;\")\n",
    "#cursor.fetchone()"
   ]
  },
  {
   "cell_type": "code",
   "execution_count": 205,
   "id": "60b296ad",
   "metadata": {},
   "outputs": [
    {
     "data": {
      "text/plain": [
       "[('measurings',),\n",
       " ('mapping_signals',),\n",
       " ('calendar',),\n",
       " ('moment_signals',),\n",
       " ('signal_settings',),\n",
       " ('exhausters',),\n",
       " ('mechanisms',),\n",
       " ('signals',),\n",
       " ('marks',)]"
      ]
     },
     "execution_count": 205,
     "metadata": {},
     "output_type": "execute_result"
    }
   ],
   "source": [
    "# вывод наименований таблиц схемы 'Bl model' - Storage Layer\n",
    "cursor.execute(\"SELECT table_name FROM information_schema.tables \\\n",
    "                WHERE table_schema = 'blm';\")\n",
    "cursor.fetchall()"
   ]
  },
  {
   "cell_type": "markdown",
   "id": "167e4198",
   "metadata": {},
   "source": [
    "# 5. ETL 'Stagen' & 'Bl model' - Storage Layer"
   ]
  },
  {
   "cell_type": "code",
   "execution_count": null,
   "id": "c29841c5",
   "metadata": {},
   "outputs": [],
   "source": [
    "#connect, cursor = connect_db(DATABASE_URL)"
   ]
  },
  {
   "cell_type": "code",
   "execution_count": 345,
   "id": "9853b967",
   "metadata": {},
   "outputs": [],
   "source": [
    "# создание схемы 'Bl model' - Storage Layer\n",
    "#cursor3.execute(\"CREATE SCHEMA blm;\")\n",
    "#connect3.commit()  "
   ]
  },
  {
   "cell_type": "code",
   "execution_count": 26,
   "id": "6cf73267",
   "metadata": {},
   "outputs": [],
   "source": [
    "# удаление таблицы 'mechanisms' если она существует \n",
    "#cursor3.execute(\"DROP TABLE IF EXISTS blm.moment_signals;\")\n",
    "#connect3.commit() "
   ]
  },
  {
   "cell_type": "code",
   "execution_count": 32,
   "id": "74a5fe8a",
   "metadata": {},
   "outputs": [],
   "source": [
    "# запрос на  создание таблицы - 'moment_signals'\n",
    "#query = f\"\"\"CREATE TABLE blm.moment_signals( \\\n",
    "#                 timestamp TEXT PRIMARY KEY, \\\n",
    "#                 partition TEXT NOT NULL, \\\n",
    "#                 off_set TEXT NOT NULL, \\\n",
    "#                 moment DATE NOT NULL, {\", \".join(map(str, SM_Exgauster))});\"\"\""
   ]
  },
  {
   "cell_type": "code",
   "execution_count": 33,
   "id": "ec16abe6",
   "metadata": {},
   "outputs": [],
   "source": [
    "# создание таблицы - 'moment_signals'\n",
    "#cursor3.execute(query)\n",
    "#connect3.commit()"
   ]
  },
  {
   "cell_type": "code",
   "execution_count": 206,
   "id": "fb7ad933",
   "metadata": {},
   "outputs": [],
   "source": [
    "# значение атрибутов в таблице 'moment_signals'\n",
    "#cursor3.execute(\"SELECT column_name \\\n",
    "#             FROM information_schema.columns \\\n",
    "#             WHERE table_name = 'moment_signals' AND table_schema = 'blm';\")\n",
    "#columnsname = [_[0] for _ in cursor3.fetchall()]\n",
    "#print(columnsname)"
   ]
  },
  {
   "cell_type": "code",
   "execution_count": 207,
   "id": "03b3c4eb",
   "metadata": {},
   "outputs": [],
   "source": [
    "# данные для записи в таблицу 'measurings'\n",
    "#cursor2.execute(\"SELECT * FROM stg.signal_messages;\")\n",
    "#rows = cursor2.fetchall()"
   ]
  },
  {
   "cell_type": "code",
   "execution_count": 23,
   "id": "836ff224",
   "metadata": {},
   "outputs": [],
   "source": [
    "# функция записи данных в таблицу 'measurings'\n",
    "def insert_moment_signals(data):\n",
    "    \n",
    "    timestamp = data[0][3]\n",
    "    partition = data[0][1]\n",
    "    off_set = data[0][-2]\n",
    "    Message = data[0][6]\n",
    "    moment = Message['moment']\n",
    "    data = [timestamp, partition, off_set, moment] + list(Message.values())[1:]\n",
    "    cursor3.execute(f\"INSERT INTO blm.moment_signals VALUES ({str(data)[1:-1]});\")\n",
    "    connect3.commit()"
   ]
  },
  {
   "cell_type": "code",
   "execution_count": 208,
   "id": "978d1ade",
   "metadata": {},
   "outputs": [],
   "source": [
    "# запись данных в таблицу 'measurings'\n",
    "#%%time\n",
    "#for row in rows:\n",
    "#    try:\n",
    "#        insert_moment_signals(row)\n",
    "#    except:\n",
    "#        print('Закончилось место в облаке')\n",
    "#        break"
   ]
  },
  {
   "cell_type": "code",
   "execution_count": 209,
   "id": "256196d4",
   "metadata": {},
   "outputs": [],
   "source": [
    "# проверка записи данных в таблицу 'measurings'\n",
    "#cursor3.execute(\"SELECT COUNT(*) FROM blm.moment_signals;\")\n",
    "#cursor3.fetchone()"
   ]
  },
  {
   "cell_type": "code",
   "execution_count": 234,
   "id": "33bc78ce",
   "metadata": {},
   "outputs": [],
   "source": [
    "# закрытие подключения к базе данных 'postgres'\n",
    "connect.close()\n",
    "#connect2.close()\n",
    "#connect3.close()"
   ]
  },
  {
   "cell_type": "code",
   "execution_count": null,
   "id": "70a00e25",
   "metadata": {},
   "outputs": [],
   "source": []
  }
 ],
 "metadata": {
  "kernelspec": {
   "display_name": "Python 3 (ipykernel)",
   "language": "python",
   "name": "python3"
  },
  "language_info": {
   "codemirror_mode": {
    "name": "ipython",
    "version": 3
   },
   "file_extension": ".py",
   "mimetype": "text/x-python",
   "name": "python",
   "nbconvert_exporter": "python",
   "pygments_lexer": "ipython3",
   "version": "3.9.7"
  }
 },
 "nbformat": 4,
 "nbformat_minor": 5
}
