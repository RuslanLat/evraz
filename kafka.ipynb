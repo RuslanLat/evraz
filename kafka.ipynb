{
 "cells": [
  {
   "cell_type": "markdown",
   "id": "185b7181",
   "metadata": {},
   "source": [
    "## Python (kafka-python)"
   ]
  },
  {
   "cell_type": "code",
   "execution_count": null,
   "id": "3d2f8ad5",
   "metadata": {},
   "outputs": [],
   "source": [
    "#pip install kafka-python  "
   ]
  },
  {
   "cell_type": "code",
   "execution_count": 2,
   "id": "dd94c85b",
   "metadata": {},
   "outputs": [],
   "source": [
    "# загрузка библиотек\n",
    "from kafka import KafkaConsumer\n",
    "from kafka import TopicPartition\n",
    "from datetime import datetime\n",
    "from json import loads"
   ]
  },
  {
   "cell_type": "markdown",
   "id": "c81fbe8d",
   "metadata": {},
   "source": [
    "bootstrap_servers:\n",
    "* 'rc1a-b5e65f36lm3an1d5.mdb.yandexcloud.net:9091'\n",
    "* 'rc1a-2ar1hqnl386tvq7k.mdb.yandexcloud.net:9091'"
   ]
  },
  {
   "cell_type": "code",
   "execution_count": 3,
   "id": "101b567c",
   "metadata": {},
   "outputs": [],
   "source": [
    "# создание объекта подключения к Kafka\n",
    "consumer = KafkaConsumer(\n",
    "    'zsmk-9433-dev-01',\n",
    "    group_id='40+', max_poll_interval_ms=100,\n",
    "    auto_offset_reset='earliest', enable_auto_commit=False,\n",
    "    bootstrap_servers='rc1a-b5e65f36lm3an1d5.mdb.yandexcloud.net:9091',\n",
    "    security_protocol='SASL_SSL',\n",
    "    sasl_mechanism='SCRAM-SHA-512',\n",
    "    sasl_plain_username='9433_reader',\n",
    "    sasl_plain_password='eUIpgWu0PWTJaTrjhjQD3.hoyhntiK',\n",
    "    ssl_cafile=\"C:/Users/Ruslan/.kafka/YandexCA.crt\",\n",
    "    value_deserializer=lambda x: loads(x.decode('utf-8')))"
   ]
  },
  {
   "cell_type": "code",
   "execution_count": 4,
   "id": "1f71489a",
   "metadata": {},
   "outputs": [],
   "source": [
    "# reset подключения к Kafka\n",
    "consumer = KafkaConsumer(group_id='40+',\n",
    "    bootstrap_servers='rc1a-b5e65f36lm3an1d5.mdb.yandexcloud.net:9091',\n",
    "    security_protocol='SASL_SSL',\n",
    "    sasl_mechanism='SCRAM-SHA-512',\n",
    "    sasl_plain_username='9433_reader',\n",
    "    sasl_plain_password='eUIpgWu0PWTJaTrjhjQD3.hoyhntiK',\n",
    "    ssl_cafile=\"C:/Users/Ruslan/.kafka/YandexCA.crt\",\n",
    "    value_deserializer=lambda x: loads(x.decode('utf-8')))\n",
    "tp = TopicPartition('zsmk-9433-dev-01', 0)\n",
    "consumer.assign([tp])\n",
    "consumer.seek(tp, 10)\n",
    "consumer.commit()"
   ]
  },
  {
   "cell_type": "code",
   "execution_count": 12,
   "id": "825c45e1",
   "metadata": {},
   "outputs": [
    {
     "name": "stdout",
     "output_type": "stream",
     "text": [
      "ConsumerRecord(topic='zsmk-9433-dev-01', partition=0, offset=10, timestamp=1674628980582, timestamp_type=0, key=None, value={'moment': '2023-01-25T06:42:25.125007', 'SM_Exgauster\\\\[0:0]': 1.296296238899231, 'SM_Exgauster\\\\[0:1]': 1.7071759700775146, 'SM_Exgauster\\\\[0:2]': 0.9758716225624084, 'SM_Exgauster\\\\[0:3]': 1.6319444179534912, 'SM_Exgauster\\\\[0:4]': 2.089120388031006, 'SM_Exgauster\\\\[0:5]': 1.4293981790542603, 'SM_Exgauster\\\\[0:6]': 2.0194244384765625, 'SM_Exgauster\\\\[0:7]': 1.5393518209457397, 'SM_Exgauster\\\\[0:8]': 1.5221766233444214, 'SM_Exgauster\\\\[0:9]': 1.736111044883728, 'SM_Exgauster\\\\[0:10]': 0.9895833730697632, 'SM_Exgauster\\\\[0:11]': 1.0243055820465088, 'SM_Exgauster\\\\[0:12]': 1.2442129850387573, 'SM_Exgauster\\\\[0:13]': 1.5046297311782837, 'SM_Exgauster\\\\[0:14]': 0.4166666865348816, 'SM_Exgauster\\\\[0:15]': 1.0069444179534912, 'SM_Exgauster\\\\[0:16]': 1.9907407760620117, 'SM_Exgauster\\\\[0:17]': 1.3946759700775146, 'SM_Exgauster\\\\[0:18]': 0.5902777910232544, 'SM_Exgauster\\\\[0:19]': 0.434027761220932, 'SM_Exgauster\\\\[0:20]': 1.533564805984497, 'SM_Exgauster\\\\[0:21]': 0.27199074625968933, 'SM_Exgauster\\\\[0:22]': -0.0173611119389534, 'SM_Exgauster\\\\[0:23]': 0.3298611044883728, 'SM_Exgauster\\\\[0:24]': 108.14144134521484, 'SM_Exgauster\\\\[0:25]': 117.14144134521484, 'SM_Exgauster\\\\[0:27]': 48.0, 'SM_Exgauster\\\\[0:28]': 48.0, 'SM_Exgauster\\\\[0:29]': 43.400001525878906, 'SM_Exgauster\\\\[0:30]': 45.70000457763672, 'SM_Exgauster\\\\[0:31]': 42.400001525878906, 'SM_Exgauster\\\\[0:32]': 40.5, 'SM_Exgauster\\\\[0:33]': 35.099998474121094, 'SM_Exgauster\\\\[0:34]': 42.79999542236328, 'SM_Exgauster\\\\[0:35]': 41.0, 'SM_Exgauster\\\\[0:36]': 23.699996948242188, 'SM_Exgauster\\\\[0:37]': 25.800003051757812, 'SM_Exgauster\\\\[0:41]': 37.80000305175781, 'SM_Exgauster\\\\[0:42]': 35.599998474121094, 'SM_Exgauster\\\\[0:43]': 52.400001525878906, 'SM_Exgauster\\\\[0:44]': 54.0, 'SM_Exgauster\\\\[0:45]': 45.900001525878906, 'SM_Exgauster\\\\[0:46]': -3276.800048828125, 'SM_Exgauster\\\\[0:47]': 49.80000305175781, 'SM_Exgauster\\\\[0:48]': 46.69999694824219, 'SM_Exgauster\\\\[0:49]': 44.400001525878906, 'SM_Exgauster\\\\[0:50]': 33.20000457763672, 'SM_Exgauster\\\\[0:51]': 49.400001525878906, 'SM_Exgauster\\\\[0:52]': 45.099998474121094, 'SM_Exgauster\\\\[0:53]': 24.900001525878906, 'SM_Exgauster\\\\[0:54]': 22.599998474121094, 'SM_Exgauster\\\\[0:55]': -118.51851654052734, 'SM_Exgauster\\\\[0:56]': -3276.800048828125, 'SM_Exgauster\\\\[0:57]': -3276.800048828125, 'SM_Exgauster\\\\[0:58]': -3276.800048828125, 'SM_Exgauster\\\\[0:59]': 33.80000305175781, 'SM_Exgauster\\\\[0:60]': 41.0, 'SM_Exgauster\\\\[0:61]': 759.5486450195312, 'SM_Exgauster\\\\[0:62]': 780.526611328125, 'SM_Exgauster\\\\[0:63]': 75.0, 'SM_Exgauster\\\\[0:64]': 75.0, 'SM_Exgauster\\\\[0:65]': 75.0, 'SM_Exgauster\\\\[0:66]': 75.0, 'SM_Exgauster\\\\[0:67]': 75.0, 'SM_Exgauster\\\\[0:68]': 75.0, 'SM_Exgauster\\\\[0:69]': 75.0, 'SM_Exgauster\\\\[0:70]': 75.0, 'SM_Exgauster\\\\[0:71]': 75.0, 'SM_Exgauster\\\\[0:72]': 0.0, 'SM_Exgauster\\\\[0:73]': 0.0, 'SM_Exgauster\\\\[0:74]': 0.0, 'SM_Exgauster\\\\[0:75]': 0.0, 'SM_Exgauster\\\\[0:76]': 0.0, 'SM_Exgauster\\\\[0:77]': 0.0, 'SM_Exgauster\\\\[0:78]': 0.0, 'SM_Exgauster\\\\[0:79]': 0.0, 'SM_Exgauster\\\\[0:80]': 0.0, 'SM_Exgauster\\\\[0:81]': 65.0, 'SM_Exgauster\\\\[0:82]': 65.0, 'SM_Exgauster\\\\[0:83]': 65.0, 'SM_Exgauster\\\\[0:84]': 65.0, 'SM_Exgauster\\\\[0:85]': 65.0, 'SM_Exgauster\\\\[0:86]': 65.0, 'SM_Exgauster\\\\[0:87]': 65.0, 'SM_Exgauster\\\\[0:88]': 65.0, 'SM_Exgauster\\\\[0:89]': 65.0, 'SM_Exgauster\\\\[0:90]': 0.0, 'SM_Exgauster\\\\[0:91]': 0.0, 'SM_Exgauster\\\\[0:92]': 0.0, 'SM_Exgauster\\\\[0:93]': 0.0, 'SM_Exgauster\\\\[0:94]': 0.0, 'SM_Exgauster\\\\[0:95]': 0.0, 'SM_Exgauster\\\\[0:96]': 0.0, 'SM_Exgauster\\\\[0:97]': 0.0, 'SM_Exgauster\\\\[0:98]': 0.0, 'SM_Exgauster\\\\[0:99]': 75.0, 'SM_Exgauster\\\\[0:100]': 75.0, 'SM_Exgauster\\\\[0:101]': 75.0, 'SM_Exgauster\\\\[0:102]': 75.0, 'SM_Exgauster\\\\[0:103]': 75.0, 'SM_Exgauster\\\\[0:104]': 75.0, 'SM_Exgauster\\\\[0:105]': 75.0, 'SM_Exgauster\\\\[0:106]': 75.0, 'SM_Exgauster\\\\[0:107]': 75.0, 'SM_Exgauster\\\\[0:108]': 0.0, 'SM_Exgauster\\\\[0:109]': 0.0, 'SM_Exgauster\\\\[0:110]': 0.0, 'SM_Exgauster\\\\[0:111]': 0.0, 'SM_Exgauster\\\\[0:112]': 0.0, 'SM_Exgauster\\\\[0:113]': 0.0, 'SM_Exgauster\\\\[0:114]': 0.0, 'SM_Exgauster\\\\[0:115]': 0.0, 'SM_Exgauster\\\\[0:116]': 0.0, 'SM_Exgauster\\\\[0:117]': 65.0, 'SM_Exgauster\\\\[0:118]': 65.0, 'SM_Exgauster\\\\[0:119]': 65.0, 'SM_Exgauster\\\\[0:120]': 65.0, 'SM_Exgauster\\\\[0:121]': 65.0, 'SM_Exgauster\\\\[0:122]': 65.0, 'SM_Exgauster\\\\[0:123]': 65.0, 'SM_Exgauster\\\\[0:124]': 65.0, 'SM_Exgauster\\\\[0:125]': 65.0, 'SM_Exgauster\\\\[0:126]': 0.0, 'SM_Exgauster\\\\[0:127]': 0.0, 'SM_Exgauster\\\\[0:128]': 0.0, 'SM_Exgauster\\\\[0:129]': 0.0, 'SM_Exgauster\\\\[0:130]': 0.0, 'SM_Exgauster\\\\[0:131]': 0.0, 'SM_Exgauster\\\\[0:132]': 0.0, 'SM_Exgauster\\\\[0:133]': 0.0, 'SM_Exgauster\\\\[0:134]': 0.0, 'SM_Exgauster\\\\[0:135]': 7.099999904632568, 'SM_Exgauster\\\\[0:136]': 7.099999904632568, 'SM_Exgauster\\\\[0:137]': 7.099999904632568, 'SM_Exgauster\\\\[0:138]': 7.099999904632568, 'SM_Exgauster\\\\[0:139]': 7.099999904632568, 'SM_Exgauster\\\\[0:140]': 7.099999904632568, 'SM_Exgauster\\\\[0:141]': 7.099999904632568, 'SM_Exgauster\\\\[0:142]': 7.099999904632568, 'SM_Exgauster\\\\[0:143]': 7.099999904632568, 'SM_Exgauster\\\\[0:144]': 7.099999904632568, 'SM_Exgauster\\\\[0:145]': 7.099999904632568, 'SM_Exgauster\\\\[0:146]': 7.099999904632568, 'SM_Exgauster\\\\[0:147]': 0.0, 'SM_Exgauster\\\\[0:148]': 0.0, 'SM_Exgauster\\\\[0:149]': 0.0, 'SM_Exgauster\\\\[0:150]': 0.0, 'SM_Exgauster\\\\[0:151]': 0.0, 'SM_Exgauster\\\\[0:152]': 0.0, 'SM_Exgauster\\\\[0:153]': 0.0, 'SM_Exgauster\\\\[0:154]': 0.0, 'SM_Exgauster\\\\[0:155]': 0.0, 'SM_Exgauster\\\\[0:156]': 0.0, 'SM_Exgauster\\\\[0:157]': 0.0, 'SM_Exgauster\\\\[0:158]': 0.0, 'SM_Exgauster\\\\[0:159]': 4.5, 'SM_Exgauster\\\\[0:160]': 4.5, 'SM_Exgauster\\\\[0:161]': 4.5, 'SM_Exgauster\\\\[0:162]': 4.5, 'SM_Exgauster\\\\[0:163]': 4.5, 'SM_Exgauster\\\\[0:164]': 4.5, 'SM_Exgauster\\\\[0:165]': 4.5, 'SM_Exgauster\\\\[0:166]': 4.5, 'SM_Exgauster\\\\[0:167]': 4.5, 'SM_Exgauster\\\\[0:168]': 4.5, 'SM_Exgauster\\\\[0:169]': 4.5, 'SM_Exgauster\\\\[0:170]': 4.5, 'SM_Exgauster\\\\[0:171]': 0.0, 'SM_Exgauster\\\\[0:172]': 0.0, 'SM_Exgauster\\\\[0:173]': 0.0, 'SM_Exgauster\\\\[0:174]': 0.0, 'SM_Exgauster\\\\[0:175]': 0.0, 'SM_Exgauster\\\\[0:176]': 0.0, 'SM_Exgauster\\\\[0:177]': 0.0, 'SM_Exgauster\\\\[0:178]': 0.0, 'SM_Exgauster\\\\[0:179]': 0.0, 'SM_Exgauster\\\\[0:180]': 0.0, 'SM_Exgauster\\\\[0:181]': 0.0, 'SM_Exgauster\\\\[0:182]': 0.0, 'SM_Exgauster\\\\[0:183]': 7.099999904632568, 'SM_Exgauster\\\\[0:184]': 7.099999904632568, 'SM_Exgauster\\\\[0:185]': 7.099999904632568, 'SM_Exgauster\\\\[0:186]': 7.099999904632568, 'SM_Exgauster\\\\[0:187]': 7.099999904632568, 'SM_Exgauster\\\\[0:188]': 7.099999904632568, 'SM_Exgauster\\\\[0:189]': 7.099999904632568, 'SM_Exgauster\\\\[0:190]': 7.099999904632568, 'SM_Exgauster\\\\[0:191]': 7.099999904632568, 'SM_Exgauster\\\\[0:192]': 7.099999904632568, 'SM_Exgauster\\\\[0:193]': 7.099999904632568, 'SM_Exgauster\\\\[0:194]': 7.099999904632568, 'SM_Exgauster\\\\[0:195]': 0.0, 'SM_Exgauster\\\\[0:196]': 0.0, 'SM_Exgauster\\\\[0:197]': 0.0, 'SM_Exgauster\\\\[0:198]': 0.0, 'SM_Exgauster\\\\[0:199]': 0.0, 'SM_Exgauster\\\\[0:200]': 0.0, 'SM_Exgauster\\\\[0:201]': 0.0, 'SM_Exgauster\\\\[0:202]': 0.0, 'SM_Exgauster\\\\[0:203]': 0.0, 'SM_Exgauster\\\\[0:204]': 0.0, 'SM_Exgauster\\\\[0:205]': 0.0, 'SM_Exgauster\\\\[0:206]': 0.0, 'SM_Exgauster\\\\[0:207]': 4.5, 'SM_Exgauster\\\\[0:208]': 4.5, 'SM_Exgauster\\\\[0:209]': 4.5, 'SM_Exgauster\\\\[0:210]': 4.5, 'SM_Exgauster\\\\[0:211]': 4.5, 'SM_Exgauster\\\\[0:212]': 4.5, 'SM_Exgauster\\\\[0:213]': 4.5, 'SM_Exgauster\\\\[0:214]': 4.5, 'SM_Exgauster\\\\[0:215]': 4.5, 'SM_Exgauster\\\\[0:216]': 4.5, 'SM_Exgauster\\\\[0:217]': 4.5, 'SM_Exgauster\\\\[0:218]': 4.5, 'SM_Exgauster\\\\[0:219]': 0.0, 'SM_Exgauster\\\\[0:220]': 0.0, 'SM_Exgauster\\\\[0:221]': 0.0, 'SM_Exgauster\\\\[0:222]': 0.0, 'SM_Exgauster\\\\[0:223]': 0.0, 'SM_Exgauster\\\\[0:224]': 0.0, 'SM_Exgauster\\\\[0:225]': 0.0, 'SM_Exgauster\\\\[0:226]': 0.0, 'SM_Exgauster\\\\[0:227]': 0.0, 'SM_Exgauster\\\\[0:228]': 0.0, 'SM_Exgauster\\\\[0:229]': 0.0, 'SM_Exgauster\\\\[0:230]': 0.0, 'SM_Exgauster\\\\[0.0]': 1.0, 'SM_Exgauster\\\\[0.1]': 1.0, 'SM_Exgauster\\\\[1:0]': 73.19999694824219, 'SM_Exgauster\\\\[1:1]': 0.824999988079071, 'SM_Exgauster\\\\[1:2]': 1703.0, 'SM_Exgauster\\\\[1:3]': 1854.0, 'SM_Exgauster\\\\[1:4]': -2.0, 'SM_Exgauster\\\\[1:5]': 107.0, 'SM_Exgauster\\\\[1:6]': 10.0, 'SM_Exgauster\\\\[1:7]': 74.9000015258789, 'SM_Exgauster\\\\[1:8]': 0.9100000262260437, 'SM_Exgauster\\\\[1:9]': 1864.0, 'SM_Exgauster\\\\[1:10]': 1901.0, 'SM_Exgauster\\\\[1:11]': 2.0, 'SM_Exgauster\\\\[1:12]': 106.0, 'SM_Exgauster\\\\[1:13]': 10.0, 'SM_Exgauster\\\\[1.0]': 1.0, 'SM_Exgauster\\\\[1.1]': 0.0, 'SM_Exgauster\\\\[1.2]': 1.0, 'SM_Exgauster\\\\[1.3]': 0.0, 'SM_Exgauster\\\\[1.4]': 0.0, 'SM_Exgauster\\\\[1.5]': 1.0, 'SM_Exgauster\\\\[1.6]': 0.0, 'SM_Exgauster\\\\[1.7]': 1.0, 'SM_Exgauster\\\\[1.8]': 0.0, 'SM_Exgauster\\\\[1.9]': 0.0, 'SM_Exgauster\\\\[2:0]': 0.5729166865348816, 'SM_Exgauster\\\\[2:1]': 0.27199074625968933, 'SM_Exgauster\\\\[2:2]': 0.3819444477558136, 'SM_Exgauster\\\\[2:3]': 0.7814379334449768, 'SM_Exgauster\\\\[2:4]': 0.5787037014961243, 'SM_Exgauster\\\\[2:5]': 0.2256944477558136, 'SM_Exgauster\\\\[2:6]': 1.4178240299224854, 'SM_Exgauster\\\\[2:7]': 2.091796636581421, 'SM_Exgauster\\\\[2:8]': 2.1412036418914795, 'SM_Exgauster\\\\[2:9]': 1.5277777910232544, 'SM_Exgauster\\\\[2:10]': 1.0358796119689941, 'SM_Exgauster\\\\[2:11]': 2.471064805984497, 'SM_Exgauster\\\\[2:12]': 1.267361044883728, 'SM_Exgauster\\\\[2:13]': 1.8171297311782837, 'SM_Exgauster\\\\[2:14]': 2.5462963581085205, 'SM_Exgauster\\\\[2:15]': 1.064814805984497, 'SM_Exgauster\\\\[2:16]': 1.8229167461395264, 'SM_Exgauster\\\\[2:17]': 1.938657522201538, 'SM_Exgauster\\\\[2:18]': 0.37037038803100586, 'SM_Exgauster\\\\[2:19]': 0.41087961196899414, 'SM_Exgauster\\\\[2:20]': 0.32407405972480774, 'SM_Exgauster\\\\[2:21]': 0.78125, 'SM_Exgauster\\\\[2:22]': 0.45717594027519226, 'SM_Exgauster\\\\[2:23]': 0.7175925970077515, 'SM_Exgauster\\\\[2:24]': 110.24698638916016, 'SM_Exgauster\\\\[2:25]': 111.94699096679688, 'SM_Exgauster\\\\[2:27]': 62.80000305175781, 'SM_Exgauster\\\\[2:28]': 56.50000762939453, 'SM_Exgauster\\\\[2:29]': 48.19999694824219, 'SM_Exgauster\\\\[2:30]': 51.19999694824219, 'SM_Exgauster\\\\[2:31]': 41.399993896484375, 'SM_Exgauster\\\\[2:32]': 41.5, 'SM_Exgauster\\\\[2:33]': 38.0, 'SM_Exgauster\\\\[2:34]': 42.5, 'SM_Exgauster\\\\[2:35]': 42.69999694824219, 'SM_Exgauster\\\\[2:36]': 24.899999618530273, 'SM_Exgauster\\\\[2:37]': 25.800003051757812, 'SM_Exgauster\\\\[2:41]': 30.29999542236328, 'SM_Exgauster\\\\[2:42]': 33.20000457763672, 'SM_Exgauster\\\\[2:43]': 54.20000457763672, 'SM_Exgauster\\\\[2:44]': 64.5, 'SM_Exgauster\\\\[2:45]': 46.0, 'SM_Exgauster\\\\[2:46]': 56.0, 'SM_Exgauster\\\\[2:47]': 45.30000305175781, 'SM_Exgauster\\\\[2:48]': 36.69999694824219, 'SM_Exgauster\\\\[2:49]': 36.900001525878906, 'SM_Exgauster\\\\[2:50]': 33.20000457763672, 'SM_Exgauster\\\\[2:51]': 39.30000305175781, 'SM_Exgauster\\\\[2:52]': 49.80000305175781, 'SM_Exgauster\\\\[2:53]': 24.599998474121094, 'SM_Exgauster\\\\[2:54]': 25.0, 'SM_Exgauster\\\\[2:55]': -118.51851654052734, 'SM_Exgauster\\\\[2:56]': 25.0, 'SM_Exgauster\\\\[2:57]': 3276.69970703125, 'SM_Exgauster\\\\[2:58]': 3276.69970703125, 'SM_Exgauster\\\\[2:59]': 26.20000457763672, 'SM_Exgauster\\\\[2:60]': 30.599998474121094, 'SM_Exgauster\\\\[2:61]': 753.7615966796875, 'SM_Exgauster\\\\[2:62]': 744.3576049804688, 'SM_Exgauster\\\\[2:63]': 1.8645833730697632, 'SM_Exgauster\\\\[2:64]': 1.846064805984497, 'SM_Exgauster\\\\[2:65]': 75.0, 'SM_Exgauster\\\\[2:66]': 75.0, 'SM_Exgauster\\\\[2:67]': 75.0, 'SM_Exgauster\\\\[2:68]': 75.0, 'SM_Exgauster\\\\[2:69]': 75.0, 'SM_Exgauster\\\\[2:70]': 75.0, 'SM_Exgauster\\\\[2:71]': 75.0, 'SM_Exgauster\\\\[2:72]': 75.0, 'SM_Exgauster\\\\[2:73]': 75.0, 'SM_Exgauster\\\\[2:74]': 0.0, 'SM_Exgauster\\\\[2:75]': 0.0, 'SM_Exgauster\\\\[2:76]': 0.0, 'SM_Exgauster\\\\[2:77]': 0.0, 'SM_Exgauster\\\\[2:78]': 0.0, 'SM_Exgauster\\\\[2:79]': 10.0, 'SM_Exgauster\\\\[2:80]': 0.0, 'SM_Exgauster\\\\[2:81]': 0.0, 'SM_Exgauster\\\\[2:82]': 0.0, 'SM_Exgauster\\\\[2:83]': 65.0, 'SM_Exgauster\\\\[2:84]': 65.0, 'SM_Exgauster\\\\[2:85]': 65.0, 'SM_Exgauster\\\\[2:86]': 65.0, 'SM_Exgauster\\\\[2:87]': 65.0, 'SM_Exgauster\\\\[2:88]': 65.0, 'SM_Exgauster\\\\[2:89]': 65.0, 'SM_Exgauster\\\\[2:90]': 65.0, 'SM_Exgauster\\\\[2:91]': 65.0, 'SM_Exgauster\\\\[2:92]': 0.0, 'SM_Exgauster\\\\[2:93]': 0.0, 'SM_Exgauster\\\\[2:94]': 0.0, 'SM_Exgauster\\\\[2:95]': 0.0, 'SM_Exgauster\\\\[2:96]': 0.0, 'SM_Exgauster\\\\[2:97]': 20.0, 'SM_Exgauster\\\\[2:98]': 0.0, 'SM_Exgauster\\\\[2:99]': 0.0, 'SM_Exgauster\\\\[2:100]': 0.0, 'SM_Exgauster\\\\[2:101]': 75.0, 'SM_Exgauster\\\\[2:102]': 75.0, 'SM_Exgauster\\\\[2:103]': 75.0, 'SM_Exgauster\\\\[2:104]': 75.0, 'SM_Exgauster\\\\[2:105]': 75.0, 'SM_Exgauster\\\\[2:106]': 75.0, 'SM_Exgauster\\\\[2:107]': 75.0, 'SM_Exgauster\\\\[2:108]': 75.0, 'SM_Exgauster\\\\[2:109]': 75.0, 'SM_Exgauster\\\\[2:110]': 0.0, 'SM_Exgauster\\\\[2:111]': 0.0, 'SM_Exgauster\\\\[2:112]': 0.0, 'SM_Exgauster\\\\[2:113]': 0.0, 'SM_Exgauster\\\\[2:114]': 0.0, 'SM_Exgauster\\\\[2:115]': 0.0, 'SM_Exgauster\\\\[2:116]': 0.0, 'SM_Exgauster\\\\[2:117]': 0.0, 'SM_Exgauster\\\\[2:118]': 0.0, 'SM_Exgauster\\\\[2:119]': 65.0, 'SM_Exgauster\\\\[2:120]': 65.0, 'SM_Exgauster\\\\[2:121]': 65.0, 'SM_Exgauster\\\\[2:122]': 65.0, 'SM_Exgauster\\\\[2:123]': 65.0, 'SM_Exgauster\\\\[2:124]': 105.0, 'SM_Exgauster\\\\[2:125]': 65.0, 'SM_Exgauster\\\\[2:126]': 65.0, 'SM_Exgauster\\\\[2:127]': 65.0, 'SM_Exgauster\\\\[2:128]': 0.0, 'SM_Exgauster\\\\[2:129]': 0.0, 'SM_Exgauster\\\\[2:130]': 0.0, 'SM_Exgauster\\\\[2:131]': 0.0, 'SM_Exgauster\\\\[2:132]': 0.0, 'SM_Exgauster\\\\[2:133]': 0.0, 'SM_Exgauster\\\\[2:134]': 0.0, 'SM_Exgauster\\\\[2:135]': 0.0, 'SM_Exgauster\\\\[2:136]': 0.0, 'SM_Exgauster\\\\[2:137]': 7.099999904632568, 'SM_Exgauster\\\\[2:138]': 7.099999904632568, 'SM_Exgauster\\\\[2:139]': 7.099999904632568, 'SM_Exgauster\\\\[2:140]': 7.099999904632568, 'SM_Exgauster\\\\[2:141]': 7.099999904632568, 'SM_Exgauster\\\\[2:142]': 7.099999904632568, 'SM_Exgauster\\\\[2:143]': 7.099999904632568, 'SM_Exgauster\\\\[2:144]': 7.099999904632568, 'SM_Exgauster\\\\[2:145]': 7.099999904632568, 'SM_Exgauster\\\\[2:146]': 7.099999904632568, 'SM_Exgauster\\\\[2:147]': 7.099999904632568, 'SM_Exgauster\\\\[2:148]': 7.099999904632568, 'SM_Exgauster\\\\[2:149]': 0.0, 'SM_Exgauster\\\\[2:150]': 0.0, 'SM_Exgauster\\\\[2:151]': 0.0, 'SM_Exgauster\\\\[2:152]': 0.0, 'SM_Exgauster\\\\[2:153]': 0.0, 'SM_Exgauster\\\\[2:154]': 0.0, 'SM_Exgauster\\\\[2:155]': 0.0, 'SM_Exgauster\\\\[2:156]': 0.0, 'SM_Exgauster\\\\[2:157]': 0.0, 'SM_Exgauster\\\\[2:158]': 0.0, 'SM_Exgauster\\\\[2:159]': 0.0, 'SM_Exgauster\\\\[2:160]': 0.0, 'SM_Exgauster\\\\[2:161]': 4.5, 'SM_Exgauster\\\\[2:162]': 4.5, 'SM_Exgauster\\\\[2:163]': 4.5, 'SM_Exgauster\\\\[2:164]': 4.5, 'SM_Exgauster\\\\[2:165]': 4.5, 'SM_Exgauster\\\\[2:166]': 4.5, 'SM_Exgauster\\\\[2:167]': 4.5, 'SM_Exgauster\\\\[2:168]': 4.5, 'SM_Exgauster\\\\[2:169]': 4.5, 'SM_Exgauster\\\\[2:170]': 4.5, 'SM_Exgauster\\\\[2:171]': 4.5, 'SM_Exgauster\\\\[2:172]': 4.5, 'SM_Exgauster\\\\[2:173]': 0.0, 'SM_Exgauster\\\\[2:174]': 0.0, 'SM_Exgauster\\\\[2:175]': 0.0, 'SM_Exgauster\\\\[2:176]': 0.0, 'SM_Exgauster\\\\[2:177]': 0.0, 'SM_Exgauster\\\\[2:178]': 0.0, 'SM_Exgauster\\\\[2:179]': 0.0, 'SM_Exgauster\\\\[2:180]': 0.0, 'SM_Exgauster\\\\[2:181]': 0.0, 'SM_Exgauster\\\\[2:182]': 0.0, 'SM_Exgauster\\\\[2:183]': 0.0, 'SM_Exgauster\\\\[2:184]': 0.0, 'SM_Exgauster\\\\[2:185]': 7.099999904632568, 'SM_Exgauster\\\\[2:186]': 7.099999904632568, 'SM_Exgauster\\\\[2:187]': 7.099999904632568, 'SM_Exgauster\\\\[2:188]': 7.099999904632568, 'SM_Exgauster\\\\[2:189]': 7.099999904632568, 'SM_Exgauster\\\\[2:190]': 7.099999904632568, 'SM_Exgauster\\\\[2:191]': 10.0, 'SM_Exgauster\\\\[2:192]': 10.0, 'SM_Exgauster\\\\[2:193]': 7.099999904632568, 'SM_Exgauster\\\\[2:194]': 10.0, 'SM_Exgauster\\\\[2:195]': 10.0, 'SM_Exgauster\\\\[2:196]': 7.099999904632568, 'SM_Exgauster\\\\[2:197]': 0.0, 'SM_Exgauster\\\\[2:198]': 0.0, 'SM_Exgauster\\\\[2:199]': 0.0, 'SM_Exgauster\\\\[2:200]': 0.0, 'SM_Exgauster\\\\[2:201]': 0.0, 'SM_Exgauster\\\\[2:202]': 0.0, 'SM_Exgauster\\\\[2:203]': 0.0, 'SM_Exgauster\\\\[2:204]': 0.0, 'SM_Exgauster\\\\[2:205]': 0.0, 'SM_Exgauster\\\\[2:206]': 0.0, 'SM_Exgauster\\\\[2:207]': 0.0, 'SM_Exgauster\\\\[2:208]': 0.0, 'SM_Exgauster\\\\[2:209]': 4.5, 'SM_Exgauster\\\\[2:210]': 4.5, 'SM_Exgauster\\\\[2:211]': 4.5, 'SM_Exgauster\\\\[2:212]': 4.5, 'SM_Exgauster\\\\[2:213]': 4.5, 'SM_Exgauster\\\\[2:214]': 4.5, 'SM_Exgauster\\\\[2:215]': 4.5, 'SM_Exgauster\\\\[2:216]': 4.5, 'SM_Exgauster\\\\[2:217]': 4.5, 'SM_Exgauster\\\\[2:218]': 4.5, 'SM_Exgauster\\\\[2:219]': 4.5, 'SM_Exgauster\\\\[2:220]': 4.5, 'SM_Exgauster\\\\[2:221]': 0.0, 'SM_Exgauster\\\\[2:222]': 0.0, 'SM_Exgauster\\\\[2:223]': 0.0, 'SM_Exgauster\\\\[2:224]': 0.0, 'SM_Exgauster\\\\[2:225]': 0.0, 'SM_Exgauster\\\\[2:226]': 0.0, 'SM_Exgauster\\\\[2:227]': 0.0, 'SM_Exgauster\\\\[2:228]': 0.0, 'SM_Exgauster\\\\[2:229]': 0.0, 'SM_Exgauster\\\\[2:230]': 0.0, 'SM_Exgauster\\\\[2:231]': 0.0, 'SM_Exgauster\\\\[2:232]': 0.0, 'SM_Exgauster\\\\[2.0]': 1.0, 'SM_Exgauster\\\\[2.1]': 1.0, 'SM_Exgauster\\\\[3:0]': 0.028935184702277184, 'SM_Exgauster\\\\[3:1]': 0.023148149251937866, 'SM_Exgauster\\\\[3:2]': 0.0520833358168602, 'SM_Exgauster\\\\[3:3]': 0.0057870373129844666, 'SM_Exgauster\\\\[3:4]': 0.05787036940455437, 'SM_Exgauster\\\\[3:5]': 0.0694444477558136, 'SM_Exgauster\\\\[3:6]': 0.08214156329631805, 'SM_Exgauster\\\\[3:7]': 0.10995370149612427, 'SM_Exgauster\\\\[3:8]': 0.1388888955116272, 'SM_Exgauster\\\\[3:9]': 0.06214072182774544, 'SM_Exgauster\\\\[3:10]': 0.06365740299224854, 'SM_Exgauster\\\\[3:11]': 0.15625, 'SM_Exgauster\\\\[3:12]': 0.028935184702277184, 'SM_Exgauster\\\\[3:13]': 0.0347222238779068, 'SM_Exgauster\\\\[3:14]': 0.011574074625968933, 'SM_Exgauster\\\\[3:15]': 0.028935184702277184, 'SM_Exgauster\\\\[3:16]': 0.0520833358168602, 'SM_Exgauster\\\\[3:17]': 0.05787036940455437, 'SM_Exgauster\\\\[3:18]': 0.086805559694767, 'SM_Exgauster\\\\[3:19]': 0.10995370149612427, 'SM_Exgauster\\\\[3:20]': 0.09837962687015533, 'SM_Exgauster\\\\[3:21]': 0.0347222238779068, 'SM_Exgauster\\\\[3:22]': 0.04398595914244652, 'SM_Exgauster\\\\[3:23]': 0.0520833358168602, 'SM_Exgauster\\\\[3:24]': -4.238165378570557, 'SM_Exgauster\\\\[3:25]': 15.56782341003418, 'SM_Exgauster\\\\[3:27]': 16.399993896484375, 'SM_Exgauster\\\\[3:28]': 16.699996948242188, 'SM_Exgauster\\\\[3:29]': 3.5000038146972656, 'SM_Exgauster\\\\[3:30]': 24.5, 'SM_Exgauster\\\\[3:31]': 21.599998474121094, 'SM_Exgauster\\\\[3:32]': 23.0, 'SM_Exgauster\\\\[3:33]': 3.200000762939453, 'SM_Exgauster\\\\[3:34]': -0.5, 'SM_Exgauster\\\\[3:35]': -0.5, 'SM_Exgauster\\\\[3:36]': 22.899993896484375, 'SM_Exgauster\\\\[3:37]': -3276.800048828125, 'SM_Exgauster\\\\[3:41]': 8.799999237060547, 'SM_Exgauster\\\\[3:42]': 8.89999771118164, 'SM_Exgauster\\\\[3:43]': 19.199996948242188, 'SM_Exgauster\\\\[3:44]': 22.899993896484375, 'SM_Exgauster\\\\[3:45]': 29.79999542236328, 'SM_Exgauster\\\\[3:46]': -3276.800048828125, 'SM_Exgauster\\\\[3:47]': 26.20000457763672, 'SM_Exgauster\\\\[3:48]': 30.099998474121094, 'SM_Exgauster\\\\[3:49]': 28.5, 'SM_Exgauster\\\\[3:50]': 15.199996948242188, 'SM_Exgauster\\\\[3:51]': 16.699996948242188, 'SM_Exgauster\\\\[3:52]': 19.300003051757812, 'SM_Exgauster\\\\[3:53]': 20.599998474121094, 'SM_Exgauster\\\\[3:54]': -3276.800048828125, 'SM_Exgauster\\\\[3:55]': -3276.800048828125, 'SM_Exgauster\\\\[3:56]': -3276.800048828125, 'SM_Exgauster\\\\[3:57]': -3276.800048828125, 'SM_Exgauster\\\\[3:58]': -3276.800048828125, 'SM_Exgauster\\\\[3:59]': 12.300003051757812, 'SM_Exgauster\\\\[3:60]': 1.3000030517578125, 'SM_Exgauster\\\\[3:61]': -25.31828498840332, 'SM_Exgauster\\\\[3:62]': -17.36111068725586, 'SM_Exgauster\\\\[3:63]': 75.0, 'SM_Exgauster\\\\[3:64]': 75.0, 'SM_Exgauster\\\\[3:65]': 75.0, 'SM_Exgauster\\\\[3:66]': 75.0, 'SM_Exgauster\\\\[3:67]': 75.0, 'SM_Exgauster\\\\[3:68]': 75.0, 'SM_Exgauster\\\\[3:69]': 75.0, 'SM_Exgauster\\\\[3:70]': 75.0, 'SM_Exgauster\\\\[3:71]': 75.0, 'SM_Exgauster\\\\[3:72]': 0.0, 'SM_Exgauster\\\\[3:73]': 0.0, 'SM_Exgauster\\\\[3:74]': 0.0, 'SM_Exgauster\\\\[3:75]': 0.0, 'SM_Exgauster\\\\[3:76]': 0.0, 'SM_Exgauster\\\\[3:77]': 0.0, 'SM_Exgauster\\\\[3:78]': 0.0, 'SM_Exgauster\\\\[3:79]': 0.0, 'SM_Exgauster\\\\[3:80]': 0.0, 'SM_Exgauster\\\\[3:81]': 65.0, 'SM_Exgauster\\\\[3:82]': 65.0, 'SM_Exgauster\\\\[3:83]': 65.0, 'SM_Exgauster\\\\[3:84]': 65.0, 'SM_Exgauster\\\\[3:85]': 65.0, 'SM_Exgauster\\\\[3:86]': 65.0, 'SM_Exgauster\\\\[3:87]': 65.0, 'SM_Exgauster\\\\[3:88]': 65.0, 'SM_Exgauster\\\\[3:89]': 65.0, 'SM_Exgauster\\\\[3:90]': 0.0, 'SM_Exgauster\\\\[3:91]': 0.0, 'SM_Exgauster\\\\[3:92]': 0.0, 'SM_Exgauster\\\\[3:93]': 0.0, 'SM_Exgauster\\\\[3:94]': 0.0, 'SM_Exgauster\\\\[3:95]': 0.0, 'SM_Exgauster\\\\[3:96]': 0.0, 'SM_Exgauster\\\\[3:97]': 0.0, 'SM_Exgauster\\\\[3:98]': 0.0, 'SM_Exgauster\\\\[3:99]': 75.0, 'SM_Exgauster\\\\[3:100]': 75.0, 'SM_Exgauster\\\\[3:101]': 75.0, 'SM_Exgauster\\\\[3:102]': 75.0, 'SM_Exgauster\\\\[3:103]': 75.0, 'SM_Exgauster\\\\[3:104]': 75.0, 'SM_Exgauster\\\\[3:105]': 75.0, 'SM_Exgauster\\\\[3:106]': 75.0, 'SM_Exgauster\\\\[3:107]': 75.0, 'SM_Exgauster\\\\[3:108]': 0.0, 'SM_Exgauster\\\\[3:109]': 0.0, 'SM_Exgauster\\\\[3:110]': 0.0, 'SM_Exgauster\\\\[3:111]': 0.0, 'SM_Exgauster\\\\[3:112]': 0.0, 'SM_Exgauster\\\\[3:113]': 0.0, 'SM_Exgauster\\\\[3:114]': 0.0, 'SM_Exgauster\\\\[3:115]': 0.0, 'SM_Exgauster\\\\[3:116]': 0.0, 'SM_Exgauster\\\\[3:117]': 65.0, 'SM_Exgauster\\\\[3:118]': 65.0, 'SM_Exgauster\\\\[3:119]': 65.0, 'SM_Exgauster\\\\[3:120]': 65.0, 'SM_Exgauster\\\\[3:121]': 65.0, 'SM_Exgauster\\\\[3:122]': 65.0, 'SM_Exgauster\\\\[3:123]': 65.0, 'SM_Exgauster\\\\[3:124]': 65.0, 'SM_Exgauster\\\\[3:125]': 65.0, 'SM_Exgauster\\\\[3:126]': 0.0, 'SM_Exgauster\\\\[3:127]': 0.0, 'SM_Exgauster\\\\[3:128]': 0.0, 'SM_Exgauster\\\\[3:129]': 0.0, 'SM_Exgauster\\\\[3:130]': 0.0, 'SM_Exgauster\\\\[3:131]': 0.0, 'SM_Exgauster\\\\[3:132]': 0.0, 'SM_Exgauster\\\\[3:133]': 0.0, 'SM_Exgauster\\\\[3:134]': 0.0, 'SM_Exgauster\\\\[3:135]': 7.099999904632568, 'SM_Exgauster\\\\[3:136]': 7.099999904632568, 'SM_Exgauster\\\\[3:137]': 7.099999904632568, 'SM_Exgauster\\\\[3:138]': 7.099999904632568, 'SM_Exgauster\\\\[3:139]': 7.099999904632568, 'SM_Exgauster\\\\[3:140]': 7.099999904632568, 'SM_Exgauster\\\\[3:141]': 7.099999904632568, 'SM_Exgauster\\\\[3:142]': 7.099999904632568, 'SM_Exgauster\\\\[3:143]': 7.099999904632568, 'SM_Exgauster\\\\[3:144]': 7.099999904632568, 'SM_Exgauster\\\\[3:145]': 7.099999904632568, 'SM_Exgauster\\\\[3:146]': 7.099999904632568, 'SM_Exgauster\\\\[3:147]': 0.0, 'SM_Exgauster\\\\[3:148]': 0.0, 'SM_Exgauster\\\\[3:149]': 0.0, 'SM_Exgauster\\\\[3:150]': 0.0, 'SM_Exgauster\\\\[3:151]': 0.0, 'SM_Exgauster\\\\[3:152]': 0.0, 'SM_Exgauster\\\\[3:153]': 0.0, 'SM_Exgauster\\\\[3:154]': 0.0, 'SM_Exgauster\\\\[3:155]': 0.0, 'SM_Exgauster\\\\[3:156]': 0.0, 'SM_Exgauster\\\\[3:157]': 0.0, 'SM_Exgauster\\\\[3:158]': 0.0, 'SM_Exgauster\\\\[3:159]': 4.5, 'SM_Exgauster\\\\[3:160]': 4.5, 'SM_Exgauster\\\\[3:161]': 4.5, 'SM_Exgauster\\\\[3:162]': 4.5, 'SM_Exgauster\\\\[3:163]': 4.5, 'SM_Exgauster\\\\[3:164]': 4.5, 'SM_Exgauster\\\\[3:165]': 4.5, 'SM_Exgauster\\\\[3:166]': 4.5, 'SM_Exgauster\\\\[3:167]': 4.5, 'SM_Exgauster\\\\[3:168]': 4.5, 'SM_Exgauster\\\\[3:169]': 4.5, 'SM_Exgauster\\\\[3:170]': 4.5, 'SM_Exgauster\\\\[3:171]': 0.0, 'SM_Exgauster\\\\[3:172]': 0.0, 'SM_Exgauster\\\\[3:173]': 0.0, 'SM_Exgauster\\\\[3:174]': 0.0, 'SM_Exgauster\\\\[3:175]': 0.0, 'SM_Exgauster\\\\[3:176]': 0.0, 'SM_Exgauster\\\\[3:177]': 0.0, 'SM_Exgauster\\\\[3:178]': 0.0, 'SM_Exgauster\\\\[3:179]': 0.0, 'SM_Exgauster\\\\[3:180]': 0.0, 'SM_Exgauster\\\\[3:181]': 0.0, 'SM_Exgauster\\\\[3:182]': 0.0, 'SM_Exgauster\\\\[3:183]': 7.099999904632568, 'SM_Exgauster\\\\[3:184]': 7.099999904632568, 'SM_Exgauster\\\\[3:185]': 7.099999904632568, 'SM_Exgauster\\\\[3:186]': 7.099999904632568, 'SM_Exgauster\\\\[3:187]': 7.099999904632568, 'SM_Exgauster\\\\[3:188]': 7.099999904632568, 'SM_Exgauster\\\\[3:189]': 7.099999904632568, 'SM_Exgauster\\\\[3:190]': 7.099999904632568, 'SM_Exgauster\\\\[3:191]': 7.099999904632568, 'SM_Exgauster\\\\[3:192]': 7.099999904632568, 'SM_Exgauster\\\\[3:193]': 7.099999904632568, 'SM_Exgauster\\\\[3:194]': 7.099999904632568, 'SM_Exgauster\\\\[3:195]': 0.0, 'SM_Exgauster\\\\[3:196]': 0.0, 'SM_Exgauster\\\\[3:197]': 0.0, 'SM_Exgauster\\\\[3:198]': 0.0, 'SM_Exgauster\\\\[3:199]': 0.0, 'SM_Exgauster\\\\[3:200]': 0.0, 'SM_Exgauster\\\\[3:201]': 0.0, 'SM_Exgauster\\\\[3:202]': 0.0, 'SM_Exgauster\\\\[3:203]': 0.0, 'SM_Exgauster\\\\[3:204]': 0.0, 'SM_Exgauster\\\\[3:205]': 0.0, 'SM_Exgauster\\\\[3:206]': 0.0, 'SM_Exgauster\\\\[3:207]': 4.5, 'SM_Exgauster\\\\[3:208]': 4.5, 'SM_Exgauster\\\\[3:209]': 4.5, 'SM_Exgauster\\\\[3:210]': 4.5, 'SM_Exgauster\\\\[3:211]': 4.5, 'SM_Exgauster\\\\[3:212]': 4.5, 'SM_Exgauster\\\\[3:213]': 4.5, 'SM_Exgauster\\\\[3:214]': 4.5, 'SM_Exgauster\\\\[3:215]': 4.5, 'SM_Exgauster\\\\[3:216]': 4.5, 'SM_Exgauster\\\\[3:217]': 4.5, 'SM_Exgauster\\\\[3:218]': 4.5, 'SM_Exgauster\\\\[3:219]': 0.0, 'SM_Exgauster\\\\[3:220]': 0.0, 'SM_Exgauster\\\\[3:221]': 0.0, 'SM_Exgauster\\\\[3:222]': 0.0, 'SM_Exgauster\\\\[3:223]': 0.0, 'SM_Exgauster\\\\[3:224]': 0.0, 'SM_Exgauster\\\\[3:225]': 0.0, 'SM_Exgauster\\\\[3:226]': 0.0, 'SM_Exgauster\\\\[3:227]': 0.0, 'SM_Exgauster\\\\[3:228]': 0.0, 'SM_Exgauster\\\\[3:229]': 0.0, 'SM_Exgauster\\\\[3:230]': 0.0, 'SM_Exgauster\\\\[3.0]': 0.0, 'SM_Exgauster\\\\[3.1]': 0.0, 'SM_Exgauster\\\\[4:0]': 83.54238891601562, 'SM_Exgauster\\\\[4:1]': 2.158696174621582, 'SM_Exgauster\\\\[4:3]': 180.82659912109375, 'SM_Exgauster\\\\[4:7]': 73.47966766357422, 'SM_Exgauster\\\\[4:8]': 2.08935809135437, 'SM_Exgauster\\\\[4:10]': 168.9208221435547, 'SM_Exgauster\\\\[4.0]': 1.0, 'SM_Exgauster\\\\[4.1]': 0.0, 'SM_Exgauster\\\\[4.2]': 1.0, 'SM_Exgauster\\\\[4.3]': 0.0, 'SM_Exgauster\\\\[4.4]': 0.0, 'SM_Exgauster\\\\[4.5]': 1.0, 'SM_Exgauster\\\\[4.6]': 0.0, 'SM_Exgauster\\\\[4.7]': 1.0, 'SM_Exgauster\\\\[4.8]': 0.0, 'SM_Exgauster\\\\[4.9]': 0.0, 'SM_Exgauster\\\\[5:0]': 109.80000305175781, 'SM_Exgauster\\\\[5:1]': -0.07400000095367432, 'SM_Exgauster\\\\[5:2]': 28.0, 'SM_Exgauster\\\\[5:3]': -2.0, 'SM_Exgauster\\\\[5:4]': 0.0, 'SM_Exgauster\\\\[5:5]': 0.0, 'SM_Exgauster\\\\[5:6]': 10.0, 'SM_Exgauster\\\\[5:7]': 86.9000015258789, 'SM_Exgauster\\\\[5:8]': -0.05900000035762787, 'SM_Exgauster\\\\[5:9]': 53.0, 'SM_Exgauster\\\\[5:10]': -1.0, 'SM_Exgauster\\\\[5:11]': 0.0, 'SM_Exgauster\\\\[5:12]': 0.0, 'SM_Exgauster\\\\[5:13]': 10.0, 'SM_Exgauster\\\\[5.0]': 0.0, 'SM_Exgauster\\\\[5.1]': 1.0, 'SM_Exgauster\\\\[5.2]': 1.0, 'SM_Exgauster\\\\[5.3]': 0.0, 'SM_Exgauster\\\\[5.4]': 0.0, 'SM_Exgauster\\\\[5.5]': 0.0, 'SM_Exgauster\\\\[5.6]': 1.0, 'SM_Exgauster\\\\[5.7]': 1.0, 'SM_Exgauster\\\\[5.8]': 0.0, 'SM_Exgauster\\\\[5.9]': 0.0, 'SM_Exgauster\\\\[6:0]': 603.2989501953125, 'SM_Exgauster\\\\[6:1]': 120.65431213378906, 'SM_Exgauster\\\\[6:2]': 2.724813222885132, 'SM_Exgauster\\\\[6.0]': 1.0, 'SM_Exgauster\\\\[7:0]': 618.88232421875, 'SM_Exgauster\\\\[7:1]': 137.3037872314453, 'SM_Exgauster\\\\[7:2]': 3.0916295051574707, 'SM_Exgauster\\\\[7.0]': 1.0, 'SM_Exgauster\\\\[8:0]': 0.723379373550415, 'SM_Exgauster\\\\[8:1]': 15.073722839355469, 'SM_Exgauster\\\\[8:2]': -5.605193857299268e-45, 'SM_Exgauster\\\\[8.0]': 0.0}, headers=[], checksum=None, serialized_key_size=-1, serialized_value_size=26322, serialized_header_size=-1)\n"
     ]
    }
   ],
   "source": [
    "# считывание сообщений\n",
    "for message in consumer:\n",
    "    print(message)\n",
    "    break"
   ]
  },
  {
   "cell_type": "code",
   "execution_count": 53,
   "id": "782d2d17",
   "metadata": {},
   "outputs": [
    {
     "data": {
      "text/plain": [
       "(0, 1674628380616)"
      ]
     },
     "execution_count": 53,
     "metadata": {},
     "output_type": "execute_result"
    }
   ],
   "source": [
    "# парсинг данных\n",
    "message.offset, message.timestamp"
   ]
  },
  {
   "cell_type": "code",
   "execution_count": 47,
   "id": "4df632b8",
   "metadata": {},
   "outputs": [
    {
     "data": {
      "text/plain": [
       "dict_keys(['moment', 'SM_Exgauster\\\\[0:0]', 'SM_Exgauster\\\\[0:1]', 'SM_Exgauster\\\\[0:2]', 'SM_Exgauster\\\\[0:3]', 'SM_Exgauster\\\\[0:4]', 'SM_Exgauster\\\\[0:5]', 'SM_Exgauster\\\\[0:6]', 'SM_Exgauster\\\\[0:7]', 'SM_Exgauster\\\\[0:8]', 'SM_Exgauster\\\\[0:9]', 'SM_Exgauster\\\\[0:10]', 'SM_Exgauster\\\\[0:11]', 'SM_Exgauster\\\\[0:12]', 'SM_Exgauster\\\\[0:13]', 'SM_Exgauster\\\\[0:14]', 'SM_Exgauster\\\\[0:15]', 'SM_Exgauster\\\\[0:16]', 'SM_Exgauster\\\\[0:17]', 'SM_Exgauster\\\\[0:18]', 'SM_Exgauster\\\\[0:19]', 'SM_Exgauster\\\\[0:20]', 'SM_Exgauster\\\\[0:21]', 'SM_Exgauster\\\\[0:22]', 'SM_Exgauster\\\\[0:23]', 'SM_Exgauster\\\\[0:24]', 'SM_Exgauster\\\\[0:25]', 'SM_Exgauster\\\\[0:27]', 'SM_Exgauster\\\\[0:28]', 'SM_Exgauster\\\\[0:29]', 'SM_Exgauster\\\\[0:30]', 'SM_Exgauster\\\\[0:31]', 'SM_Exgauster\\\\[0:32]', 'SM_Exgauster\\\\[0:33]', 'SM_Exgauster\\\\[0:34]', 'SM_Exgauster\\\\[0:35]', 'SM_Exgauster\\\\[0:36]', 'SM_Exgauster\\\\[0:37]', 'SM_Exgauster\\\\[0:41]', 'SM_Exgauster\\\\[0:42]', 'SM_Exgauster\\\\[0:43]', 'SM_Exgauster\\\\[0:44]', 'SM_Exgauster\\\\[0:45]', 'SM_Exgauster\\\\[0:46]', 'SM_Exgauster\\\\[0:47]', 'SM_Exgauster\\\\[0:48]', 'SM_Exgauster\\\\[0:49]', 'SM_Exgauster\\\\[0:50]', 'SM_Exgauster\\\\[0:51]', 'SM_Exgauster\\\\[0:52]', 'SM_Exgauster\\\\[0:53]', 'SM_Exgauster\\\\[0:54]', 'SM_Exgauster\\\\[0:55]', 'SM_Exgauster\\\\[0:56]', 'SM_Exgauster\\\\[0:57]', 'SM_Exgauster\\\\[0:58]', 'SM_Exgauster\\\\[0:59]', 'SM_Exgauster\\\\[0:60]', 'SM_Exgauster\\\\[0:61]', 'SM_Exgauster\\\\[0:62]', 'SM_Exgauster\\\\[0:63]', 'SM_Exgauster\\\\[0:64]', 'SM_Exgauster\\\\[0:65]', 'SM_Exgauster\\\\[0:66]', 'SM_Exgauster\\\\[0:67]', 'SM_Exgauster\\\\[0:68]', 'SM_Exgauster\\\\[0:69]', 'SM_Exgauster\\\\[0:70]', 'SM_Exgauster\\\\[0:71]', 'SM_Exgauster\\\\[0:72]', 'SM_Exgauster\\\\[0:73]', 'SM_Exgauster\\\\[0:74]', 'SM_Exgauster\\\\[0:75]', 'SM_Exgauster\\\\[0:76]', 'SM_Exgauster\\\\[0:77]', 'SM_Exgauster\\\\[0:78]', 'SM_Exgauster\\\\[0:79]', 'SM_Exgauster\\\\[0:80]', 'SM_Exgauster\\\\[0:81]', 'SM_Exgauster\\\\[0:82]', 'SM_Exgauster\\\\[0:83]', 'SM_Exgauster\\\\[0:84]', 'SM_Exgauster\\\\[0:85]', 'SM_Exgauster\\\\[0:86]', 'SM_Exgauster\\\\[0:87]', 'SM_Exgauster\\\\[0:88]', 'SM_Exgauster\\\\[0:89]', 'SM_Exgauster\\\\[0:90]', 'SM_Exgauster\\\\[0:91]', 'SM_Exgauster\\\\[0:92]', 'SM_Exgauster\\\\[0:93]', 'SM_Exgauster\\\\[0:94]', 'SM_Exgauster\\\\[0:95]', 'SM_Exgauster\\\\[0:96]', 'SM_Exgauster\\\\[0:97]', 'SM_Exgauster\\\\[0:98]', 'SM_Exgauster\\\\[0:99]', 'SM_Exgauster\\\\[0:100]', 'SM_Exgauster\\\\[0:101]', 'SM_Exgauster\\\\[0:102]', 'SM_Exgauster\\\\[0:103]', 'SM_Exgauster\\\\[0:104]', 'SM_Exgauster\\\\[0:105]', 'SM_Exgauster\\\\[0:106]', 'SM_Exgauster\\\\[0:107]', 'SM_Exgauster\\\\[0:108]', 'SM_Exgauster\\\\[0:109]', 'SM_Exgauster\\\\[0:110]', 'SM_Exgauster\\\\[0:111]', 'SM_Exgauster\\\\[0:112]', 'SM_Exgauster\\\\[0:113]', 'SM_Exgauster\\\\[0:114]', 'SM_Exgauster\\\\[0:115]', 'SM_Exgauster\\\\[0:116]', 'SM_Exgauster\\\\[0:117]', 'SM_Exgauster\\\\[0:118]', 'SM_Exgauster\\\\[0:119]', 'SM_Exgauster\\\\[0:120]', 'SM_Exgauster\\\\[0:121]', 'SM_Exgauster\\\\[0:122]', 'SM_Exgauster\\\\[0:123]', 'SM_Exgauster\\\\[0:124]', 'SM_Exgauster\\\\[0:125]', 'SM_Exgauster\\\\[0:126]', 'SM_Exgauster\\\\[0:127]', 'SM_Exgauster\\\\[0:128]', 'SM_Exgauster\\\\[0:129]', 'SM_Exgauster\\\\[0:130]', 'SM_Exgauster\\\\[0:131]', 'SM_Exgauster\\\\[0:132]', 'SM_Exgauster\\\\[0:133]', 'SM_Exgauster\\\\[0:134]', 'SM_Exgauster\\\\[0:135]', 'SM_Exgauster\\\\[0:136]', 'SM_Exgauster\\\\[0:137]', 'SM_Exgauster\\\\[0:138]', 'SM_Exgauster\\\\[0:139]', 'SM_Exgauster\\\\[0:140]', 'SM_Exgauster\\\\[0:141]', 'SM_Exgauster\\\\[0:142]', 'SM_Exgauster\\\\[0:143]', 'SM_Exgauster\\\\[0:144]', 'SM_Exgauster\\\\[0:145]', 'SM_Exgauster\\\\[0:146]', 'SM_Exgauster\\\\[0:147]', 'SM_Exgauster\\\\[0:148]', 'SM_Exgauster\\\\[0:149]', 'SM_Exgauster\\\\[0:150]', 'SM_Exgauster\\\\[0:151]', 'SM_Exgauster\\\\[0:152]', 'SM_Exgauster\\\\[0:153]', 'SM_Exgauster\\\\[0:154]', 'SM_Exgauster\\\\[0:155]', 'SM_Exgauster\\\\[0:156]', 'SM_Exgauster\\\\[0:157]', 'SM_Exgauster\\\\[0:158]', 'SM_Exgauster\\\\[0:159]', 'SM_Exgauster\\\\[0:160]', 'SM_Exgauster\\\\[0:161]', 'SM_Exgauster\\\\[0:162]', 'SM_Exgauster\\\\[0:163]', 'SM_Exgauster\\\\[0:164]', 'SM_Exgauster\\\\[0:165]', 'SM_Exgauster\\\\[0:166]', 'SM_Exgauster\\\\[0:167]', 'SM_Exgauster\\\\[0:168]', 'SM_Exgauster\\\\[0:169]', 'SM_Exgauster\\\\[0:170]', 'SM_Exgauster\\\\[0:171]', 'SM_Exgauster\\\\[0:172]', 'SM_Exgauster\\\\[0:173]', 'SM_Exgauster\\\\[0:174]', 'SM_Exgauster\\\\[0:175]', 'SM_Exgauster\\\\[0:176]', 'SM_Exgauster\\\\[0:177]', 'SM_Exgauster\\\\[0:178]', 'SM_Exgauster\\\\[0:179]', 'SM_Exgauster\\\\[0:180]', 'SM_Exgauster\\\\[0:181]', 'SM_Exgauster\\\\[0:182]', 'SM_Exgauster\\\\[0:183]', 'SM_Exgauster\\\\[0:184]', 'SM_Exgauster\\\\[0:185]', 'SM_Exgauster\\\\[0:186]', 'SM_Exgauster\\\\[0:187]', 'SM_Exgauster\\\\[0:188]', 'SM_Exgauster\\\\[0:189]', 'SM_Exgauster\\\\[0:190]', 'SM_Exgauster\\\\[0:191]', 'SM_Exgauster\\\\[0:192]', 'SM_Exgauster\\\\[0:193]', 'SM_Exgauster\\\\[0:194]', 'SM_Exgauster\\\\[0:195]', 'SM_Exgauster\\\\[0:196]', 'SM_Exgauster\\\\[0:197]', 'SM_Exgauster\\\\[0:198]', 'SM_Exgauster\\\\[0:199]', 'SM_Exgauster\\\\[0:200]', 'SM_Exgauster\\\\[0:201]', 'SM_Exgauster\\\\[0:202]', 'SM_Exgauster\\\\[0:203]', 'SM_Exgauster\\\\[0:204]', 'SM_Exgauster\\\\[0:205]', 'SM_Exgauster\\\\[0:206]', 'SM_Exgauster\\\\[0:207]', 'SM_Exgauster\\\\[0:208]', 'SM_Exgauster\\\\[0:209]', 'SM_Exgauster\\\\[0:210]', 'SM_Exgauster\\\\[0:211]', 'SM_Exgauster\\\\[0:212]', 'SM_Exgauster\\\\[0:213]', 'SM_Exgauster\\\\[0:214]', 'SM_Exgauster\\\\[0:215]', 'SM_Exgauster\\\\[0:216]', 'SM_Exgauster\\\\[0:217]', 'SM_Exgauster\\\\[0:218]', 'SM_Exgauster\\\\[0:219]', 'SM_Exgauster\\\\[0:220]', 'SM_Exgauster\\\\[0:221]', 'SM_Exgauster\\\\[0:222]', 'SM_Exgauster\\\\[0:223]', 'SM_Exgauster\\\\[0:224]', 'SM_Exgauster\\\\[0:225]', 'SM_Exgauster\\\\[0:226]', 'SM_Exgauster\\\\[0:227]', 'SM_Exgauster\\\\[0:228]', 'SM_Exgauster\\\\[0:229]', 'SM_Exgauster\\\\[0:230]', 'SM_Exgauster\\\\[0.0]', 'SM_Exgauster\\\\[0.1]', 'SM_Exgauster\\\\[1:0]', 'SM_Exgauster\\\\[1:1]', 'SM_Exgauster\\\\[1:2]', 'SM_Exgauster\\\\[1:3]', 'SM_Exgauster\\\\[1:4]', 'SM_Exgauster\\\\[1:5]', 'SM_Exgauster\\\\[1:6]', 'SM_Exgauster\\\\[1:7]', 'SM_Exgauster\\\\[1:8]', 'SM_Exgauster\\\\[1:9]', 'SM_Exgauster\\\\[1:10]', 'SM_Exgauster\\\\[1:11]', 'SM_Exgauster\\\\[1:12]', 'SM_Exgauster\\\\[1:13]', 'SM_Exgauster\\\\[1.0]', 'SM_Exgauster\\\\[1.1]', 'SM_Exgauster\\\\[1.2]', 'SM_Exgauster\\\\[1.3]', 'SM_Exgauster\\\\[1.4]', 'SM_Exgauster\\\\[1.5]', 'SM_Exgauster\\\\[1.6]', 'SM_Exgauster\\\\[1.7]', 'SM_Exgauster\\\\[1.8]', 'SM_Exgauster\\\\[1.9]', 'SM_Exgauster\\\\[2:0]', 'SM_Exgauster\\\\[2:1]', 'SM_Exgauster\\\\[2:2]', 'SM_Exgauster\\\\[2:3]', 'SM_Exgauster\\\\[2:4]', 'SM_Exgauster\\\\[2:5]', 'SM_Exgauster\\\\[2:6]', 'SM_Exgauster\\\\[2:7]', 'SM_Exgauster\\\\[2:8]', 'SM_Exgauster\\\\[2:9]', 'SM_Exgauster\\\\[2:10]', 'SM_Exgauster\\\\[2:11]', 'SM_Exgauster\\\\[2:12]', 'SM_Exgauster\\\\[2:13]', 'SM_Exgauster\\\\[2:14]', 'SM_Exgauster\\\\[2:15]', 'SM_Exgauster\\\\[2:16]', 'SM_Exgauster\\\\[2:17]', 'SM_Exgauster\\\\[2:18]', 'SM_Exgauster\\\\[2:19]', 'SM_Exgauster\\\\[2:20]', 'SM_Exgauster\\\\[2:21]', 'SM_Exgauster\\\\[2:22]', 'SM_Exgauster\\\\[2:23]', 'SM_Exgauster\\\\[2:24]', 'SM_Exgauster\\\\[2:25]', 'SM_Exgauster\\\\[2:27]', 'SM_Exgauster\\\\[2:28]', 'SM_Exgauster\\\\[2:29]', 'SM_Exgauster\\\\[2:30]', 'SM_Exgauster\\\\[2:31]', 'SM_Exgauster\\\\[2:32]', 'SM_Exgauster\\\\[2:33]', 'SM_Exgauster\\\\[2:34]', 'SM_Exgauster\\\\[2:35]', 'SM_Exgauster\\\\[2:36]', 'SM_Exgauster\\\\[2:37]', 'SM_Exgauster\\\\[2:41]', 'SM_Exgauster\\\\[2:42]', 'SM_Exgauster\\\\[2:43]', 'SM_Exgauster\\\\[2:44]', 'SM_Exgauster\\\\[2:45]', 'SM_Exgauster\\\\[2:46]', 'SM_Exgauster\\\\[2:47]', 'SM_Exgauster\\\\[2:48]', 'SM_Exgauster\\\\[2:49]', 'SM_Exgauster\\\\[2:50]', 'SM_Exgauster\\\\[2:51]', 'SM_Exgauster\\\\[2:52]', 'SM_Exgauster\\\\[2:53]', 'SM_Exgauster\\\\[2:54]', 'SM_Exgauster\\\\[2:55]', 'SM_Exgauster\\\\[2:56]', 'SM_Exgauster\\\\[2:57]', 'SM_Exgauster\\\\[2:58]', 'SM_Exgauster\\\\[2:59]', 'SM_Exgauster\\\\[2:60]', 'SM_Exgauster\\\\[2:61]', 'SM_Exgauster\\\\[2:62]', 'SM_Exgauster\\\\[2:63]', 'SM_Exgauster\\\\[2:64]', 'SM_Exgauster\\\\[2:65]', 'SM_Exgauster\\\\[2:66]', 'SM_Exgauster\\\\[2:67]', 'SM_Exgauster\\\\[2:68]', 'SM_Exgauster\\\\[2:69]', 'SM_Exgauster\\\\[2:70]', 'SM_Exgauster\\\\[2:71]', 'SM_Exgauster\\\\[2:72]', 'SM_Exgauster\\\\[2:73]', 'SM_Exgauster\\\\[2:74]', 'SM_Exgauster\\\\[2:75]', 'SM_Exgauster\\\\[2:76]', 'SM_Exgauster\\\\[2:77]', 'SM_Exgauster\\\\[2:78]', 'SM_Exgauster\\\\[2:79]', 'SM_Exgauster\\\\[2:80]', 'SM_Exgauster\\\\[2:81]', 'SM_Exgauster\\\\[2:82]', 'SM_Exgauster\\\\[2:83]', 'SM_Exgauster\\\\[2:84]', 'SM_Exgauster\\\\[2:85]', 'SM_Exgauster\\\\[2:86]', 'SM_Exgauster\\\\[2:87]', 'SM_Exgauster\\\\[2:88]', 'SM_Exgauster\\\\[2:89]', 'SM_Exgauster\\\\[2:90]', 'SM_Exgauster\\\\[2:91]', 'SM_Exgauster\\\\[2:92]', 'SM_Exgauster\\\\[2:93]', 'SM_Exgauster\\\\[2:94]', 'SM_Exgauster\\\\[2:95]', 'SM_Exgauster\\\\[2:96]', 'SM_Exgauster\\\\[2:97]', 'SM_Exgauster\\\\[2:98]', 'SM_Exgauster\\\\[2:99]', 'SM_Exgauster\\\\[2:100]', 'SM_Exgauster\\\\[2:101]', 'SM_Exgauster\\\\[2:102]', 'SM_Exgauster\\\\[2:103]', 'SM_Exgauster\\\\[2:104]', 'SM_Exgauster\\\\[2:105]', 'SM_Exgauster\\\\[2:106]', 'SM_Exgauster\\\\[2:107]', 'SM_Exgauster\\\\[2:108]', 'SM_Exgauster\\\\[2:109]', 'SM_Exgauster\\\\[2:110]', 'SM_Exgauster\\\\[2:111]', 'SM_Exgauster\\\\[2:112]', 'SM_Exgauster\\\\[2:113]', 'SM_Exgauster\\\\[2:114]', 'SM_Exgauster\\\\[2:115]', 'SM_Exgauster\\\\[2:116]', 'SM_Exgauster\\\\[2:117]', 'SM_Exgauster\\\\[2:118]', 'SM_Exgauster\\\\[2:119]', 'SM_Exgauster\\\\[2:120]', 'SM_Exgauster\\\\[2:121]', 'SM_Exgauster\\\\[2:122]', 'SM_Exgauster\\\\[2:123]', 'SM_Exgauster\\\\[2:124]', 'SM_Exgauster\\\\[2:125]', 'SM_Exgauster\\\\[2:126]', 'SM_Exgauster\\\\[2:127]', 'SM_Exgauster\\\\[2:128]', 'SM_Exgauster\\\\[2:129]', 'SM_Exgauster\\\\[2:130]', 'SM_Exgauster\\\\[2:131]', 'SM_Exgauster\\\\[2:132]', 'SM_Exgauster\\\\[2:133]', 'SM_Exgauster\\\\[2:134]', 'SM_Exgauster\\\\[2:135]', 'SM_Exgauster\\\\[2:136]', 'SM_Exgauster\\\\[2:137]', 'SM_Exgauster\\\\[2:138]', 'SM_Exgauster\\\\[2:139]', 'SM_Exgauster\\\\[2:140]', 'SM_Exgauster\\\\[2:141]', 'SM_Exgauster\\\\[2:142]', 'SM_Exgauster\\\\[2:143]', 'SM_Exgauster\\\\[2:144]', 'SM_Exgauster\\\\[2:145]', 'SM_Exgauster\\\\[2:146]', 'SM_Exgauster\\\\[2:147]', 'SM_Exgauster\\\\[2:148]', 'SM_Exgauster\\\\[2:149]', 'SM_Exgauster\\\\[2:150]', 'SM_Exgauster\\\\[2:151]', 'SM_Exgauster\\\\[2:152]', 'SM_Exgauster\\\\[2:153]', 'SM_Exgauster\\\\[2:154]', 'SM_Exgauster\\\\[2:155]', 'SM_Exgauster\\\\[2:156]', 'SM_Exgauster\\\\[2:157]', 'SM_Exgauster\\\\[2:158]', 'SM_Exgauster\\\\[2:159]', 'SM_Exgauster\\\\[2:160]', 'SM_Exgauster\\\\[2:161]', 'SM_Exgauster\\\\[2:162]', 'SM_Exgauster\\\\[2:163]', 'SM_Exgauster\\\\[2:164]', 'SM_Exgauster\\\\[2:165]', 'SM_Exgauster\\\\[2:166]', 'SM_Exgauster\\\\[2:167]', 'SM_Exgauster\\\\[2:168]', 'SM_Exgauster\\\\[2:169]', 'SM_Exgauster\\\\[2:170]', 'SM_Exgauster\\\\[2:171]', 'SM_Exgauster\\\\[2:172]', 'SM_Exgauster\\\\[2:173]', 'SM_Exgauster\\\\[2:174]', 'SM_Exgauster\\\\[2:175]', 'SM_Exgauster\\\\[2:176]', 'SM_Exgauster\\\\[2:177]', 'SM_Exgauster\\\\[2:178]', 'SM_Exgauster\\\\[2:179]', 'SM_Exgauster\\\\[2:180]', 'SM_Exgauster\\\\[2:181]', 'SM_Exgauster\\\\[2:182]', 'SM_Exgauster\\\\[2:183]', 'SM_Exgauster\\\\[2:184]', 'SM_Exgauster\\\\[2:185]', 'SM_Exgauster\\\\[2:186]', 'SM_Exgauster\\\\[2:187]', 'SM_Exgauster\\\\[2:188]', 'SM_Exgauster\\\\[2:189]', 'SM_Exgauster\\\\[2:190]', 'SM_Exgauster\\\\[2:191]', 'SM_Exgauster\\\\[2:192]', 'SM_Exgauster\\\\[2:193]', 'SM_Exgauster\\\\[2:194]', 'SM_Exgauster\\\\[2:195]', 'SM_Exgauster\\\\[2:196]', 'SM_Exgauster\\\\[2:197]', 'SM_Exgauster\\\\[2:198]', 'SM_Exgauster\\\\[2:199]', 'SM_Exgauster\\\\[2:200]', 'SM_Exgauster\\\\[2:201]', 'SM_Exgauster\\\\[2:202]', 'SM_Exgauster\\\\[2:203]', 'SM_Exgauster\\\\[2:204]', 'SM_Exgauster\\\\[2:205]', 'SM_Exgauster\\\\[2:206]', 'SM_Exgauster\\\\[2:207]', 'SM_Exgauster\\\\[2:208]', 'SM_Exgauster\\\\[2:209]', 'SM_Exgauster\\\\[2:210]', 'SM_Exgauster\\\\[2:211]', 'SM_Exgauster\\\\[2:212]', 'SM_Exgauster\\\\[2:213]', 'SM_Exgauster\\\\[2:214]', 'SM_Exgauster\\\\[2:215]', 'SM_Exgauster\\\\[2:216]', 'SM_Exgauster\\\\[2:217]', 'SM_Exgauster\\\\[2:218]', 'SM_Exgauster\\\\[2:219]', 'SM_Exgauster\\\\[2:220]', 'SM_Exgauster\\\\[2:221]', 'SM_Exgauster\\\\[2:222]', 'SM_Exgauster\\\\[2:223]', 'SM_Exgauster\\\\[2:224]', 'SM_Exgauster\\\\[2:225]', 'SM_Exgauster\\\\[2:226]', 'SM_Exgauster\\\\[2:227]', 'SM_Exgauster\\\\[2:228]', 'SM_Exgauster\\\\[2:229]', 'SM_Exgauster\\\\[2:230]', 'SM_Exgauster\\\\[2:231]', 'SM_Exgauster\\\\[2:232]', 'SM_Exgauster\\\\[2.0]', 'SM_Exgauster\\\\[2.1]', 'SM_Exgauster\\\\[3:0]', 'SM_Exgauster\\\\[3:1]', 'SM_Exgauster\\\\[3:2]', 'SM_Exgauster\\\\[3:3]', 'SM_Exgauster\\\\[3:4]', 'SM_Exgauster\\\\[3:5]', 'SM_Exgauster\\\\[3:6]', 'SM_Exgauster\\\\[3:7]', 'SM_Exgauster\\\\[3:8]', 'SM_Exgauster\\\\[3:9]', 'SM_Exgauster\\\\[3:10]', 'SM_Exgauster\\\\[3:11]', 'SM_Exgauster\\\\[3:12]', 'SM_Exgauster\\\\[3:13]', 'SM_Exgauster\\\\[3:14]', 'SM_Exgauster\\\\[3:15]', 'SM_Exgauster\\\\[3:16]', 'SM_Exgauster\\\\[3:17]', 'SM_Exgauster\\\\[3:18]', 'SM_Exgauster\\\\[3:19]', 'SM_Exgauster\\\\[3:20]', 'SM_Exgauster\\\\[3:21]', 'SM_Exgauster\\\\[3:22]', 'SM_Exgauster\\\\[3:23]', 'SM_Exgauster\\\\[3:24]', 'SM_Exgauster\\\\[3:25]', 'SM_Exgauster\\\\[3:27]', 'SM_Exgauster\\\\[3:28]', 'SM_Exgauster\\\\[3:29]', 'SM_Exgauster\\\\[3:30]', 'SM_Exgauster\\\\[3:31]', 'SM_Exgauster\\\\[3:32]', 'SM_Exgauster\\\\[3:33]', 'SM_Exgauster\\\\[3:34]', 'SM_Exgauster\\\\[3:35]', 'SM_Exgauster\\\\[3:36]', 'SM_Exgauster\\\\[3:37]', 'SM_Exgauster\\\\[3:41]', 'SM_Exgauster\\\\[3:42]', 'SM_Exgauster\\\\[3:43]', 'SM_Exgauster\\\\[3:44]', 'SM_Exgauster\\\\[3:45]', 'SM_Exgauster\\\\[3:46]', 'SM_Exgauster\\\\[3:47]', 'SM_Exgauster\\\\[3:48]', 'SM_Exgauster\\\\[3:49]', 'SM_Exgauster\\\\[3:50]', 'SM_Exgauster\\\\[3:51]', 'SM_Exgauster\\\\[3:52]', 'SM_Exgauster\\\\[3:53]', 'SM_Exgauster\\\\[3:54]', 'SM_Exgauster\\\\[3:55]', 'SM_Exgauster\\\\[3:56]', 'SM_Exgauster\\\\[3:57]', 'SM_Exgauster\\\\[3:58]', 'SM_Exgauster\\\\[3:59]', 'SM_Exgauster\\\\[3:60]', 'SM_Exgauster\\\\[3:61]', 'SM_Exgauster\\\\[3:62]', 'SM_Exgauster\\\\[3:63]', 'SM_Exgauster\\\\[3:64]', 'SM_Exgauster\\\\[3:65]', 'SM_Exgauster\\\\[3:66]', 'SM_Exgauster\\\\[3:67]', 'SM_Exgauster\\\\[3:68]', 'SM_Exgauster\\\\[3:69]', 'SM_Exgauster\\\\[3:70]', 'SM_Exgauster\\\\[3:71]', 'SM_Exgauster\\\\[3:72]', 'SM_Exgauster\\\\[3:73]', 'SM_Exgauster\\\\[3:74]', 'SM_Exgauster\\\\[3:75]', 'SM_Exgauster\\\\[3:76]', 'SM_Exgauster\\\\[3:77]', 'SM_Exgauster\\\\[3:78]', 'SM_Exgauster\\\\[3:79]', 'SM_Exgauster\\\\[3:80]', 'SM_Exgauster\\\\[3:81]', 'SM_Exgauster\\\\[3:82]', 'SM_Exgauster\\\\[3:83]', 'SM_Exgauster\\\\[3:84]', 'SM_Exgauster\\\\[3:85]', 'SM_Exgauster\\\\[3:86]', 'SM_Exgauster\\\\[3:87]', 'SM_Exgauster\\\\[3:88]', 'SM_Exgauster\\\\[3:89]', 'SM_Exgauster\\\\[3:90]', 'SM_Exgauster\\\\[3:91]', 'SM_Exgauster\\\\[3:92]', 'SM_Exgauster\\\\[3:93]', 'SM_Exgauster\\\\[3:94]', 'SM_Exgauster\\\\[3:95]', 'SM_Exgauster\\\\[3:96]', 'SM_Exgauster\\\\[3:97]', 'SM_Exgauster\\\\[3:98]', 'SM_Exgauster\\\\[3:99]', 'SM_Exgauster\\\\[3:100]', 'SM_Exgauster\\\\[3:101]', 'SM_Exgauster\\\\[3:102]', 'SM_Exgauster\\\\[3:103]', 'SM_Exgauster\\\\[3:104]', 'SM_Exgauster\\\\[3:105]', 'SM_Exgauster\\\\[3:106]', 'SM_Exgauster\\\\[3:107]', 'SM_Exgauster\\\\[3:108]', 'SM_Exgauster\\\\[3:109]', 'SM_Exgauster\\\\[3:110]', 'SM_Exgauster\\\\[3:111]', 'SM_Exgauster\\\\[3:112]', 'SM_Exgauster\\\\[3:113]', 'SM_Exgauster\\\\[3:114]', 'SM_Exgauster\\\\[3:115]', 'SM_Exgauster\\\\[3:116]', 'SM_Exgauster\\\\[3:117]', 'SM_Exgauster\\\\[3:118]', 'SM_Exgauster\\\\[3:119]', 'SM_Exgauster\\\\[3:120]', 'SM_Exgauster\\\\[3:121]', 'SM_Exgauster\\\\[3:122]', 'SM_Exgauster\\\\[3:123]', 'SM_Exgauster\\\\[3:124]', 'SM_Exgauster\\\\[3:125]', 'SM_Exgauster\\\\[3:126]', 'SM_Exgauster\\\\[3:127]', 'SM_Exgauster\\\\[3:128]', 'SM_Exgauster\\\\[3:129]', 'SM_Exgauster\\\\[3:130]', 'SM_Exgauster\\\\[3:131]', 'SM_Exgauster\\\\[3:132]', 'SM_Exgauster\\\\[3:133]', 'SM_Exgauster\\\\[3:134]', 'SM_Exgauster\\\\[3:135]', 'SM_Exgauster\\\\[3:136]', 'SM_Exgauster\\\\[3:137]', 'SM_Exgauster\\\\[3:138]', 'SM_Exgauster\\\\[3:139]', 'SM_Exgauster\\\\[3:140]', 'SM_Exgauster\\\\[3:141]', 'SM_Exgauster\\\\[3:142]', 'SM_Exgauster\\\\[3:143]', 'SM_Exgauster\\\\[3:144]', 'SM_Exgauster\\\\[3:145]', 'SM_Exgauster\\\\[3:146]', 'SM_Exgauster\\\\[3:147]', 'SM_Exgauster\\\\[3:148]', 'SM_Exgauster\\\\[3:149]', 'SM_Exgauster\\\\[3:150]', 'SM_Exgauster\\\\[3:151]', 'SM_Exgauster\\\\[3:152]', 'SM_Exgauster\\\\[3:153]', 'SM_Exgauster\\\\[3:154]', 'SM_Exgauster\\\\[3:155]', 'SM_Exgauster\\\\[3:156]', 'SM_Exgauster\\\\[3:157]', 'SM_Exgauster\\\\[3:158]', 'SM_Exgauster\\\\[3:159]', 'SM_Exgauster\\\\[3:160]', 'SM_Exgauster\\\\[3:161]', 'SM_Exgauster\\\\[3:162]', 'SM_Exgauster\\\\[3:163]', 'SM_Exgauster\\\\[3:164]', 'SM_Exgauster\\\\[3:165]', 'SM_Exgauster\\\\[3:166]', 'SM_Exgauster\\\\[3:167]', 'SM_Exgauster\\\\[3:168]', 'SM_Exgauster\\\\[3:169]', 'SM_Exgauster\\\\[3:170]', 'SM_Exgauster\\\\[3:171]', 'SM_Exgauster\\\\[3:172]', 'SM_Exgauster\\\\[3:173]', 'SM_Exgauster\\\\[3:174]', 'SM_Exgauster\\\\[3:175]', 'SM_Exgauster\\\\[3:176]', 'SM_Exgauster\\\\[3:177]', 'SM_Exgauster\\\\[3:178]', 'SM_Exgauster\\\\[3:179]', 'SM_Exgauster\\\\[3:180]', 'SM_Exgauster\\\\[3:181]', 'SM_Exgauster\\\\[3:182]', 'SM_Exgauster\\\\[3:183]', 'SM_Exgauster\\\\[3:184]', 'SM_Exgauster\\\\[3:185]', 'SM_Exgauster\\\\[3:186]', 'SM_Exgauster\\\\[3:187]', 'SM_Exgauster\\\\[3:188]', 'SM_Exgauster\\\\[3:189]', 'SM_Exgauster\\\\[3:190]', 'SM_Exgauster\\\\[3:191]', 'SM_Exgauster\\\\[3:192]', 'SM_Exgauster\\\\[3:193]', 'SM_Exgauster\\\\[3:194]', 'SM_Exgauster\\\\[3:195]', 'SM_Exgauster\\\\[3:196]', 'SM_Exgauster\\\\[3:197]', 'SM_Exgauster\\\\[3:198]', 'SM_Exgauster\\\\[3:199]', 'SM_Exgauster\\\\[3:200]', 'SM_Exgauster\\\\[3:201]', 'SM_Exgauster\\\\[3:202]', 'SM_Exgauster\\\\[3:203]', 'SM_Exgauster\\\\[3:204]', 'SM_Exgauster\\\\[3:205]', 'SM_Exgauster\\\\[3:206]', 'SM_Exgauster\\\\[3:207]', 'SM_Exgauster\\\\[3:208]', 'SM_Exgauster\\\\[3:209]', 'SM_Exgauster\\\\[3:210]', 'SM_Exgauster\\\\[3:211]', 'SM_Exgauster\\\\[3:212]', 'SM_Exgauster\\\\[3:213]', 'SM_Exgauster\\\\[3:214]', 'SM_Exgauster\\\\[3:215]', 'SM_Exgauster\\\\[3:216]', 'SM_Exgauster\\\\[3:217]', 'SM_Exgauster\\\\[3:218]', 'SM_Exgauster\\\\[3:219]', 'SM_Exgauster\\\\[3:220]', 'SM_Exgauster\\\\[3:221]', 'SM_Exgauster\\\\[3:222]', 'SM_Exgauster\\\\[3:223]', 'SM_Exgauster\\\\[3:224]', 'SM_Exgauster\\\\[3:225]', 'SM_Exgauster\\\\[3:226]', 'SM_Exgauster\\\\[3:227]', 'SM_Exgauster\\\\[3:228]', 'SM_Exgauster\\\\[3:229]', 'SM_Exgauster\\\\[3:230]', 'SM_Exgauster\\\\[3.0]', 'SM_Exgauster\\\\[3.1]', 'SM_Exgauster\\\\[4:0]', 'SM_Exgauster\\\\[4:1]', 'SM_Exgauster\\\\[4:3]', 'SM_Exgauster\\\\[4:7]', 'SM_Exgauster\\\\[4:8]', 'SM_Exgauster\\\\[4:10]', 'SM_Exgauster\\\\[4.0]', 'SM_Exgauster\\\\[4.1]', 'SM_Exgauster\\\\[4.2]', 'SM_Exgauster\\\\[4.3]', 'SM_Exgauster\\\\[4.4]', 'SM_Exgauster\\\\[4.5]', 'SM_Exgauster\\\\[4.6]', 'SM_Exgauster\\\\[4.7]', 'SM_Exgauster\\\\[4.8]', 'SM_Exgauster\\\\[4.9]', 'SM_Exgauster\\\\[5:0]', 'SM_Exgauster\\\\[5:1]', 'SM_Exgauster\\\\[5:2]', 'SM_Exgauster\\\\[5:3]', 'SM_Exgauster\\\\[5:4]', 'SM_Exgauster\\\\[5:5]', 'SM_Exgauster\\\\[5:6]', 'SM_Exgauster\\\\[5:7]', 'SM_Exgauster\\\\[5:8]', 'SM_Exgauster\\\\[5:9]', 'SM_Exgauster\\\\[5:10]', 'SM_Exgauster\\\\[5:11]', 'SM_Exgauster\\\\[5:12]', 'SM_Exgauster\\\\[5:13]', 'SM_Exgauster\\\\[5.0]', 'SM_Exgauster\\\\[5.1]', 'SM_Exgauster\\\\[5.2]', 'SM_Exgauster\\\\[5.3]', 'SM_Exgauster\\\\[5.4]', 'SM_Exgauster\\\\[5.5]', 'SM_Exgauster\\\\[5.6]', 'SM_Exgauster\\\\[5.7]', 'SM_Exgauster\\\\[5.8]', 'SM_Exgauster\\\\[5.9]', 'SM_Exgauster\\\\[6:0]', 'SM_Exgauster\\\\[6:1]', 'SM_Exgauster\\\\[6:2]', 'SM_Exgauster\\\\[6.0]', 'SM_Exgauster\\\\[7:0]', 'SM_Exgauster\\\\[7:1]', 'SM_Exgauster\\\\[7:2]', 'SM_Exgauster\\\\[7.0]', 'SM_Exgauster\\\\[8:0]', 'SM_Exgauster\\\\[8:1]', 'SM_Exgauster\\\\[8:2]', 'SM_Exgauster\\\\[8.0]'])"
      ]
     },
     "execution_count": 47,
     "metadata": {},
     "output_type": "execute_result"
    }
   ],
   "source": [
    "# парсинг данных\n",
    "message.value.keys()"
   ]
  },
  {
   "cell_type": "markdown",
   "id": "a9916134",
   "metadata": {},
   "source": [
    "# Запись сигналов в базу данных"
   ]
  },
  {
   "cell_type": "code",
   "execution_count": 5,
   "id": "76701dea",
   "metadata": {},
   "outputs": [],
   "source": [
    "# загрузка библиотек\n",
    "import psycopg2\n",
    "from psycopg2.extras import Json"
   ]
  },
  {
   "cell_type": "code",
   "execution_count": 6,
   "id": "f4ee319f",
   "metadata": {},
   "outputs": [],
   "source": [
    "# загрузка конфигурации доступа к базе данных в облаке\n",
    "with open('DATABASE_URL.txt', 'r') as f:\n",
    "    DATABASE_URL = f.read()"
   ]
  },
  {
   "cell_type": "code",
   "execution_count": 14,
   "id": "fd7b9fc0",
   "metadata": {},
   "outputs": [],
   "source": [
    "# создание подключения к базе данны\n",
    "connect = psycopg2.connect(DATABASE_URL)"
   ]
  },
  {
   "cell_type": "code",
   "execution_count": 15,
   "id": "9baf2dd1",
   "metadata": {},
   "outputs": [],
   "source": [
    "# создание объекта курсора подключения к базе данных\n",
    "cursor = connect.cursor()"
   ]
  },
  {
   "cell_type": "code",
   "execution_count": 9,
   "id": "693f8d2c",
   "metadata": {},
   "outputs": [],
   "source": [
    "# отбор показателей для парсинга\n",
    "cursor.execute(\"SELECT signal_settings_id, place \\\n",
    "                FROM blm.mapping_signals \\\n",
    "                INNER JOIN blm.marks USING(mark_id) \\\n",
    "                INNER JOIN blm.signal_settings USING(signal_settings_id) \\\n",
    "                WHERE mark_name != 'Уставки';\")\n",
    "place_list = cursor.fetchall()"
   ]
  },
  {
   "cell_type": "code",
   "execution_count": 10,
   "id": "afcedf00",
   "metadata": {},
   "outputs": [
    {
     "data": {
      "text/plain": [
       "126"
      ]
     },
     "execution_count": 10,
     "metadata": {},
     "output_type": "execute_result"
    }
   ],
   "source": [
    "# количество атрибутов сигнала\n",
    "len(place_list)"
   ]
  },
  {
   "cell_type": "code",
   "execution_count": 52,
   "id": "cd12d034",
   "metadata": {},
   "outputs": [
    {
     "data": {
      "text/plain": [
       "[(283, 'SM_Exgauster\\\\[2:27]'),\n",
       " (259, 'SM_Exgauster\\\\[2:2]'),\n",
       " (257, 'SM_Exgauster\\\\[2:0]'),\n",
       " (258, 'SM_Exgauster\\\\[2:1]'),\n",
       " (284, 'SM_Exgauster\\\\[2:28]')]"
      ]
     },
     "execution_count": 52,
     "metadata": {},
     "output_type": "execute_result"
    }
   ],
   "source": [
    "# извлечение значений\n",
    "place_list[:5]"
   ]
  },
  {
   "cell_type": "code",
   "execution_count": 53,
   "id": "de4ec2d9",
   "metadata": {},
   "outputs": [
    {
     "data": {
      "text/plain": [
       "(11, 1674629040494, '2023-01-25T06:43:25.125007')"
      ]
     },
     "execution_count": 53,
     "metadata": {},
     "output_type": "execute_result"
    }
   ],
   "source": [
    "# данные для записи в таблицу - 'calendar'\n",
    "message.offset, message.timestamp, message.value['moment']"
   ]
  },
  {
   "cell_type": "code",
   "execution_count": 16,
   "id": "9999379a",
   "metadata": {},
   "outputs": [
    {
     "ename": "UniqueViolation",
     "evalue": "duplicate key value violates unique constraint \"calendar_pkey\"\nDETAIL:  Key (off_set)=(10) already exists.\n",
     "output_type": "error",
     "traceback": [
      "\u001b[1;31m---------------------------------------------------------------------------\u001b[0m",
      "\u001b[1;31mUniqueViolation\u001b[0m                           Traceback (most recent call last)",
      "\u001b[1;32m~\\AppData\\Local\\Temp/ipykernel_7640/2825457190.py\u001b[0m in \u001b[0;36m<module>\u001b[1;34m\u001b[0m\n\u001b[0;32m      1\u001b[0m \u001b[1;31m# запись в таблицу - 'calendar'\u001b[0m\u001b[1;33m\u001b[0m\u001b[1;33m\u001b[0m\u001b[0m\n\u001b[1;32m----> 2\u001b[1;33m cursor.execute(\"INSERT INTO blm.calendar( \\\n\u001b[0m\u001b[0;32m      3\u001b[0m                 off_set, timestamp, moment) \\\n\u001b[0;32m      4\u001b[0m                 VALUES (%s, %s, %s);\", (message.offset, message.timestamp, message.value['moment']))\n\u001b[0;32m      5\u001b[0m \u001b[0mconnect\u001b[0m\u001b[1;33m.\u001b[0m\u001b[0mcommit\u001b[0m\u001b[1;33m(\u001b[0m\u001b[1;33m)\u001b[0m\u001b[1;33m\u001b[0m\u001b[1;33m\u001b[0m\u001b[0m\n",
      "\u001b[1;31mUniqueViolation\u001b[0m: duplicate key value violates unique constraint \"calendar_pkey\"\nDETAIL:  Key (off_set)=(10) already exists.\n"
     ]
    }
   ],
   "source": [
    "# запись в таблицу - 'calendar'\n",
    "cursor.execute(\"INSERT INTO blm.calendar( \\\n",
    "                off_set, timestamp, moment) \\\n",
    "                VALUES (%s, %s, %s);\", (message.offset, message.timestamp, message.value['moment']))\n",
    "connect.commit()"
   ]
  },
  {
   "cell_type": "code",
   "execution_count": 55,
   "id": "66dd5f8a",
   "metadata": {},
   "outputs": [],
   "source": [
    "# данные для записи в таблицу - 'blm.moment_signals'"
   ]
  },
  {
   "cell_type": "code",
   "execution_count": 56,
   "id": "ea6a30be",
   "metadata": {},
   "outputs": [
    {
     "data": {
      "text/plain": [
       "(283, 'SM_Exgauster\\\\[2:27]')"
      ]
     },
     "execution_count": 56,
     "metadata": {},
     "output_type": "execute_result"
    }
   ],
   "source": [
    "signal_settings_id, place = place_list[0]\n",
    "signal_settings_id, place"
   ]
  },
  {
   "cell_type": "code",
   "execution_count": 57,
   "id": "ce68cb98",
   "metadata": {},
   "outputs": [
    {
     "data": {
      "text/plain": [
       "62.80000305175781"
      ]
     },
     "execution_count": 57,
     "metadata": {},
     "output_type": "execute_result"
    }
   ],
   "source": [
    "value = message.value[place]\n",
    "value"
   ]
  },
  {
   "cell_type": "code",
   "execution_count": 58,
   "id": "29ead166",
   "metadata": {},
   "outputs": [],
   "source": [
    "# запись в таблицу - 'moment_signals'\n",
    "cursor.execute(\"INSERT INTO blm.moment_signals( \\\n",
    "                off_set, signal_settings_id, value) \\\n",
    "                VALUES (%s, %s, %s);\", (message.offset, signal_settings_id, value))\n",
    "connect.commit()"
   ]
  },
  {
   "cell_type": "code",
   "execution_count": 59,
   "id": "2b1de837",
   "metadata": {},
   "outputs": [
    {
     "data": {
      "text/plain": [
       "Decimal('62.80000305175781')"
      ]
     },
     "execution_count": 59,
     "metadata": {},
     "output_type": "execute_result"
    }
   ],
   "source": [
    "# запрос последнего значения для сигнала\n",
    "cursor.execute(f\"SELECT value \\\n",
    "                 FROM blm.moment_signals \\\n",
    "                 INNER JOIN blm.signal_settings USING(signal_settings_id) \\\n",
    "                 WHERE place = '{place}' AND \\\n",
    "                 off_set = (SELECT MAX(off_set) FROM blm.moment_signals WHERE place = '{place}');\")\n",
    "cursor.fetchone()[0]"
   ]
  },
  {
   "cell_type": "code",
   "execution_count": 17,
   "id": "14ba04b6",
   "metadata": {},
   "outputs": [],
   "source": [
    "# функция проверки соответствия относительного предыдущего значения сигнала - 'signal_messages'\n",
    "def where_signal_messages(signal_settings_id, place, value):\n",
    "    try:\n",
    "        cursor.execute(f\"SELECT value \\\n",
    "                         FROM blm.moment_signals \\\n",
    "                         INNER JOIN blm.signal_settings USING(signal_settings_id) \\\n",
    "                         WHERE place = '{place}' AND \\\n",
    "                         off_set = (SELECT MAX(off_set) FROM blm.moment_signals WHERE place = '{place}');\")\n",
    "        value_last = cursor.fetchone()[0]\n",
    "        if abs(value - float(value_last)) < 0.5:\n",
    "            return False\n",
    "        else:\n",
    "            return True\n",
    "    except:\n",
    "        return True"
   ]
  },
  {
   "cell_type": "code",
   "execution_count": 61,
   "id": "ca4917df",
   "metadata": {},
   "outputs": [
    {
     "data": {
      "text/plain": [
       "False"
      ]
     },
     "execution_count": 61,
     "metadata": {},
     "output_type": "execute_result"
    }
   ],
   "source": [
    "# проверка работы функции\n",
    "where_signal_messages(signal_settings_id, place, value)"
   ]
  },
  {
   "cell_type": "code",
   "execution_count": 18,
   "id": "75552b7f",
   "metadata": {},
   "outputs": [],
   "source": [
    "# функция записи данных в таблицу - 'signal_messages'\n",
    "def insetr_signal_messages(data, place_list):\n",
    "    try:\n",
    "        cursor.execute(\"INSERT INTO blm.calendar( \\\n",
    "                        off_set, timestamp, moment) \\\n",
    "                        VALUES (%s, %s, %s);\", (data.offset, data.timestamp, data.value['moment']))\n",
    "        connect.commit()\n",
    "    except:\n",
    "        pass\n",
    "    for signal_settings_id, place in place_list:\n",
    "        value = data.value[place]\n",
    "        if where_signal_messages(signal_settings_id, place, value) == True:\n",
    "            try:\n",
    "                cursor.execute(\"INSERT INTO blm.moment_signals( \\\n",
    "                                off_set, signal_settings_id, value) \\\n",
    "                                VALUES (%s, %s, %s);\", (data.offset, signal_settings_id, value))\n",
    "                connect.commit()\n",
    "            except:\n",
    "                pass           "
   ]
  },
  {
   "cell_type": "code",
   "execution_count": null,
   "id": "27d613c8",
   "metadata": {},
   "outputs": [],
   "source": [
    "# запись данных в таблицу - 'signal_messages'\n",
    "for message in consumer:\n",
    "    try:\n",
    "        insetr_signal_messages(message, place_list)\n",
    "    except:\n",
    "        print('Закончилось место в облаке')\n",
    "        break"
   ]
  },
  {
   "cell_type": "code",
   "execution_count": 44,
   "id": "308e6689",
   "metadata": {},
   "outputs": [
    {
     "data": {
      "text/plain": [
       "[(0, '1674628380616', datetime.date(2023, 1, 25)),\n",
       " (1, '1674628440578', datetime.date(2023, 1, 25)),\n",
       " (2, '1674628500598', datetime.date(2023, 1, 25)),\n",
       " (5, '1674628680565', datetime.date(2023, 1, 25)),\n",
       " (6, '1674628740576', datetime.date(2023, 1, 25)),\n",
       " (7, '1674628800577', datetime.date(2023, 1, 25))]"
      ]
     },
     "execution_count": 44,
     "metadata": {},
     "output_type": "execute_result"
    }
   ],
   "source": [
    "# проверка записи данных в таблицу 'measurings'\n",
    "cursor.execute(\"SELECT * FROM blm.calendar;\")\n",
    "cursor.fetchall()"
   ]
  },
  {
   "cell_type": "code",
   "execution_count": 45,
   "id": "73ae4ee4",
   "metadata": {},
   "outputs": [
    {
     "data": {
      "text/plain": [
       "[(403,)]"
      ]
     },
     "execution_count": 45,
     "metadata": {},
     "output_type": "execute_result"
    }
   ],
   "source": [
    "# проверка записи данных в таблицу 'measurings'\n",
    "cursor.execute(\"SELECT COUNT(*) FROM blm.moment_signals;\")\n",
    "cursor.fetchall()"
   ]
  },
  {
   "cell_type": "code",
   "execution_count": null,
   "id": "ccca3134",
   "metadata": {},
   "outputs": [],
   "source": [
    "# закрытие подключения к базе данных 'postgres'\n",
    "connect.close()"
   ]
  },
  {
   "cell_type": "code",
   "execution_count": 102,
   "id": "92275882",
   "metadata": {},
   "outputs": [],
   "source": [
    "# проверка записи данных в таблицу 'measurings'\n",
    "cursor.execute(\"SELECT * FROM stg.signal_messages;\")\n",
    "rows = cursor.fetchall()"
   ]
  },
  {
   "cell_type": "code",
   "execution_count": 61,
   "id": "e3aa80ef",
   "metadata": {},
   "outputs": [],
   "source": [
    "# вывод времени записи данных - 'Timestamp' и имя топика - 'Topic'\n",
    "cursor.execute(\"SELECT message -> 'Timestamp' AS Timestamp, \\\n",
    "                       message -> 'Topic' AS Topic \\\n",
    "                FROM stg.signal_messages LIMIT 10;\")\n",
    "rows = cursor.fetchall()"
   ]
  },
  {
   "cell_type": "code",
   "execution_count": 66,
   "id": "5a9960a3",
   "metadata": {},
   "outputs": [
    {
     "data": {
      "text/plain": [
       "datetime.datetime(2023, 2, 13, 9, 11, 25, 97000)"
      ]
     },
     "execution_count": 66,
     "metadata": {},
     "output_type": "execute_result"
    }
   ],
   "source": [
    "# преобразование формата времени и даты записи в Kafka\n",
    "datetime.fromtimestamp(1676268685097 / 1000)"
   ]
  },
  {
   "cell_type": "code",
   "execution_count": 68,
   "id": "6308661a",
   "metadata": {},
   "outputs": [
    {
     "data": {
      "text/plain": [
       "datetime.datetime(2023, 2, 13, 6, 11, 25)"
      ]
     },
     "execution_count": 68,
     "metadata": {},
     "output_type": "execute_result"
    }
   ],
   "source": [
    "datetime.utcfromtimestamp(1676268685097 // 1000)"
   ]
  },
  {
   "cell_type": "code",
   "execution_count": 28,
   "id": "6266c41a",
   "metadata": {},
   "outputs": [],
   "source": [
    "#from kafka import KafkaConsumer\n",
    "#consumer = KafkaConsumer('tutorialspedia', \\\n",
    "#                         auto_offset_reset='earliest', enable_auto_commit=False, bootstrap_servers=['127.0.0.1:9092'])\n",
    "#for msg in consumer:\n",
    "#    print (msg)\n",
    "#for message in consumer:\n",
    "#    data = datetime.fromtimestamp(message.timestamp / 1000)\n",
    "    #data = datetime.utcfromtimestamp(int(str(message.timestamp)[:-3])).isoformat( sep=' ', timespec='milliseconds')\n",
    "#    print(data, message.value.decode(\"utf-8\"))"
   ]
  },
  {
   "cell_type": "code",
   "execution_count": 29,
   "id": "7dc1e693",
   "metadata": {},
   "outputs": [],
   "source": [
    "#from kafka import KafkaConsumer\n",
    "#consumer = KafkaConsumer('tutorialspedia',bootstrap_servers=['127.0.0.1:9092'])\n",
    "#print(consumer.config)\n",
    "#print(consumer.bootstrap_connected())"
   ]
  },
  {
   "cell_type": "code",
   "execution_count": 30,
   "id": "ba706cdb",
   "metadata": {},
   "outputs": [],
   "source": [
    "#from kafka import KafkaConsumer\n",
    "#consumer = KafkaConsumer('testnum',bootstrap_servers=['127.0.0.1:9092'])\n",
    "#print(consumer.config)\n",
    "#print(consumer.bootstrap_connected())"
   ]
  },
  {
   "cell_type": "code",
   "execution_count": 74,
   "id": "12fd6f9a",
   "metadata": {},
   "outputs": [],
   "source": [
    "#my_producer = KafkaProducer(  \n",
    "#    bootstrap_servers = ['localhost:9092'],  \n",
    "#    value_serializer = lambda x:dumps(x).encode('utf-8')  \n",
    "#    )  "
   ]
  },
  {
   "cell_type": "code",
   "execution_count": 31,
   "id": "06e9fbc0",
   "metadata": {},
   "outputs": [],
   "source": [
    "#for my_data in ['One', 'Two', 'red', 'green']:\n",
    "#    my_producer.send('tutorialspedia', value = my_data)  \n",
    "#    sleep(2) "
   ]
  }
 ],
 "metadata": {
  "kernelspec": {
   "display_name": "Python 3 (ipykernel)",
   "language": "python",
   "name": "python3"
  },
  "language_info": {
   "codemirror_mode": {
    "name": "ipython",
    "version": 3
   },
   "file_extension": ".py",
   "mimetype": "text/x-python",
   "name": "python",
   "nbconvert_exporter": "python",
   "pygments_lexer": "ipython3",
   "version": "3.9.7"
  }
 },
 "nbformat": 4,
 "nbformat_minor": 5
}
