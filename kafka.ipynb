{
 "cells": [
  {
   "cell_type": "markdown",
   "id": "185b7181",
   "metadata": {},
   "source": [
    "## Python (kafka-python)"
   ]
  },
  {
   "cell_type": "code",
   "execution_count": null,
   "id": "3d2f8ad5",
   "metadata": {},
   "outputs": [],
   "source": [
    "#pip install kafka-python  "
   ]
  },
  {
   "cell_type": "code",
   "execution_count": 11,
   "id": "dd94c85b",
   "metadata": {},
   "outputs": [],
   "source": [
    "# загрузка библиотек\n",
    "from kafka import KafkaConsumer\n",
    "from kafka import TopicPartition\n",
    "from datetime import datetime\n",
    "from json import loads"
   ]
  },
  {
   "cell_type": "markdown",
   "id": "c81fbe8d",
   "metadata": {},
   "source": [
    "bootstrap_servers:\n",
    "* 'rc1a-b5e65f36lm3an1d5.mdb.yandexcloud.net:9091'\n",
    "* 'rc1a-2ar1hqnl386tvq7k.mdb.yandexcloud.net:9091'"
   ]
  },
  {
   "cell_type": "code",
   "execution_count": 12,
   "id": "101b567c",
   "metadata": {},
   "outputs": [],
   "source": [
    "# создание объекта подключения к Kafka\n",
    "consumer = KafkaConsumer(\n",
    "    'zsmk-9433-dev-01',\n",
    "    group_id='40+',\n",
    "    auto_offset_reset='earliest', enable_auto_commit=False,\n",
    "    bootstrap_servers='rc1a-b5e65f36lm3an1d5.mdb.yandexcloud.net:9091',\n",
    "    security_protocol='SASL_SSL',\n",
    "    sasl_mechanism='SCRAM-SHA-512',\n",
    "    sasl_plain_username='9433_reader',\n",
    "    sasl_plain_password='eUIpgWu0PWTJaTrjhjQD3.hoyhntiK',\n",
    "    ssl_cafile=\"C:/Users/Ruslan/.kafka/YandexCA.crt\",\n",
    "    value_deserializer=lambda x: loads(x.decode('utf-8')))"
   ]
  },
  {
   "cell_type": "code",
   "execution_count": 15,
   "id": "1f71489a",
   "metadata": {},
   "outputs": [],
   "source": [
    "# reset подключения к Kafka\n",
    "consumer = KafkaConsumer(group_id='40+', \n",
    "    bootstrap_servers='rc1a-b5e65f36lm3an1d5.mdb.yandexcloud.net:9091',\n",
    "    security_protocol='SASL_SSL',\n",
    "    sasl_mechanism='SCRAM-SHA-512',\n",
    "    sasl_plain_username='9433_reader',\n",
    "    sasl_plain_password='eUIpgWu0PWTJaTrjhjQD3.hoyhntiK',\n",
    "    ssl_cafile=\"C:/Users/Ruslan/.kafka/YandexCA.crt\",\n",
    "    value_deserializer=lambda x: loads(x.decode('utf-8')))\n",
    "tp = TopicPartition('zsmk-9433-dev-01', 0)\n",
    "consumer.assign([tp])\n",
    "consumer.seek(tp, 0)\n",
    "consumer.commit()"
   ]
  },
  {
   "cell_type": "code",
   "execution_count": 14,
   "id": "825c45e1",
   "metadata": {},
   "outputs": [
    {
     "name": "stdout",
     "output_type": "stream",
     "text": [
      "ConsumerRecord(topic='zsmk-9433-dev-01', partition=0, offset=0, timestamp=1674628380616, timestamp_type=0, key=None, value={'moment': '2023-01-25T06:32:25.125007', 'SM_Exgauster\\\\[0:0]': 1.2847222089767456, 'SM_Exgauster\\\\[0:1]': 1.689814805984497, 'SM_Exgauster\\\\[0:2]': 0.9646211862564087, 'SM_Exgauster\\\\[0:3]': 1.6145832538604736, 'SM_Exgauster\\\\[0:4]': 2.089120388031006, 'SM_Exgauster\\\\[0:5]': 1.4409722089767456, 'SM_Exgauster\\\\[0:6]': 2.0012078285217285, 'SM_Exgauster\\\\[0:7]': 1.5393518209457397, 'SM_Exgauster\\\\[0:8]': 1.4943851232528687, 'SM_Exgauster\\\\[0:9]': 1.765046238899231, 'SM_Exgauster\\\\[0:10]': 0.9953703880310059, 'SM_Exgauster\\\\[0:11]': 1.0243055820465088, 'SM_Exgauster\\\\[0:12]': 1.2442129850387573, 'SM_Exgauster\\\\[0:13]': 1.5104167461395264, 'SM_Exgauster\\\\[0:14]': 0.41087961196899414, 'SM_Exgauster\\\\[0:15]': 1.0416666269302368, 'SM_Exgauster\\\\[0:16]': 2.002314805984497, 'SM_Exgauster\\\\[0:17]': 1.4409722089767456, 'SM_Exgauster\\\\[0:18]': 0.5902777910232544, 'SM_Exgauster\\\\[0:19]': 0.43981480598449707, 'SM_Exgauster\\\\[0:20]': 1.545138955116272, 'SM_Exgauster\\\\[0:21]': 0.27199074625968933, 'SM_Exgauster\\\\[0:22]': -0.0173611119389534, 'SM_Exgauster\\\\[0:23]': 0.34143519401550293, 'SM_Exgauster\\\\[0:24]': 108.74143981933594, 'SM_Exgauster\\\\[0:25]': 117.74143981933594, 'SM_Exgauster\\\\[0:27]': 47.899993896484375, 'SM_Exgauster\\\\[0:28]': 48.0, 'SM_Exgauster\\\\[0:29]': 43.5, 'SM_Exgauster\\\\[0:30]': 45.70000457763672, 'SM_Exgauster\\\\[0:31]': 42.400001525878906, 'SM_Exgauster\\\\[0:32]': 40.5, 'SM_Exgauster\\\\[0:33]': 35.19999694824219, 'SM_Exgauster\\\\[0:34]': 43.099998474121094, 'SM_Exgauster\\\\[0:35]': 41.0, 'SM_Exgauster\\\\[0:36]': 23.79999542236328, 'SM_Exgauster\\\\[0:37]': 25.800003051757812, 'SM_Exgauster\\\\[0:41]': 37.900001525878906, 'SM_Exgauster\\\\[0:42]': 35.599998474121094, 'SM_Exgauster\\\\[0:43]': 52.400001525878906, 'SM_Exgauster\\\\[0:44]': 54.20000457763672, 'SM_Exgauster\\\\[0:45]': 46.0, 'SM_Exgauster\\\\[0:46]': -3276.800048828125, 'SM_Exgauster\\\\[0:47]': 49.80000305175781, 'SM_Exgauster\\\\[0:48]': 46.80000305175781, 'SM_Exgauster\\\\[0:49]': 44.5, 'SM_Exgauster\\\\[0:50]': 33.20000457763672, 'SM_Exgauster\\\\[0:51]': 49.5, 'SM_Exgauster\\\\[0:52]': 45.099998474121094, 'SM_Exgauster\\\\[0:53]': 25.0, 'SM_Exgauster\\\\[0:54]': 22.79999542236328, 'SM_Exgauster\\\\[0:55]': -118.51851654052734, 'SM_Exgauster\\\\[0:56]': -3276.800048828125, 'SM_Exgauster\\\\[0:57]': -3276.800048828125, 'SM_Exgauster\\\\[0:58]': -3276.800048828125, 'SM_Exgauster\\\\[0:59]': 33.80000305175781, 'SM_Exgauster\\\\[0:60]': 41.0, 'SM_Exgauster\\\\[0:61]': 762.442138671875, 'SM_Exgauster\\\\[0:62]': 784.1434936523438, 'SM_Exgauster\\\\[0:63]': 75.0, 'SM_Exgauster\\\\[0:64]': 75.0, 'SM_Exgauster\\\\[0:65]': 75.0, 'SM_Exgauster\\\\[0:66]': 75.0, 'SM_Exgauster\\\\[0:67]': 75.0, 'SM_Exgauster\\\\[0:68]': 75.0, 'SM_Exgauster\\\\[0:69]': 75.0, 'SM_Exgauster\\\\[0:70]': 75.0, 'SM_Exgauster\\\\[0:71]': 75.0, 'SM_Exgauster\\\\[0:72]': 0.0, 'SM_Exgauster\\\\[0:73]': 0.0, 'SM_Exgauster\\\\[0:74]': 0.0, 'SM_Exgauster\\\\[0:75]': 0.0, 'SM_Exgauster\\\\[0:76]': 0.0, 'SM_Exgauster\\\\[0:77]': 0.0, 'SM_Exgauster\\\\[0:78]': 0.0, 'SM_Exgauster\\\\[0:79]': 0.0, 'SM_Exgauster\\\\[0:80]': 0.0, 'SM_Exgauster\\\\[0:81]': 65.0, 'SM_Exgauster\\\\[0:82]': 65.0, 'SM_Exgauster\\\\[0:83]': 65.0, 'SM_Exgauster\\\\[0:84]': 65.0, 'SM_Exgauster\\\\[0:85]': 65.0, 'SM_Exgauster\\\\[0:86]': 65.0, 'SM_Exgauster\\\\[0:87]': 65.0, 'SM_Exgauster\\\\[0:88]': 65.0, 'SM_Exgauster\\\\[0:89]': 65.0, 'SM_Exgauster\\\\[0:90]': 0.0, 'SM_Exgauster\\\\[0:91]': 0.0, 'SM_Exgauster\\\\[0:92]': 0.0, 'SM_Exgauster\\\\[0:93]': 0.0, 'SM_Exgauster\\\\[0:94]': 0.0, 'SM_Exgauster\\\\[0:95]': 0.0, 'SM_Exgauster\\\\[0:96]': 0.0, 'SM_Exgauster\\\\[0:97]': 0.0, 'SM_Exgauster\\\\[0:98]': 0.0, 'SM_Exgauster\\\\[0:99]': 75.0, 'SM_Exgauster\\\\[0:100]': 75.0, 'SM_Exgauster\\\\[0:101]': 75.0, 'SM_Exgauster\\\\[0:102]': 75.0, 'SM_Exgauster\\\\[0:103]': 75.0, 'SM_Exgauster\\\\[0:104]': 75.0, 'SM_Exgauster\\\\[0:105]': 75.0, 'SM_Exgauster\\\\[0:106]': 75.0, 'SM_Exgauster\\\\[0:107]': 75.0, 'SM_Exgauster\\\\[0:108]': 0.0, 'SM_Exgauster\\\\[0:109]': 0.0, 'SM_Exgauster\\\\[0:110]': 0.0, 'SM_Exgauster\\\\[0:111]': 0.0, 'SM_Exgauster\\\\[0:112]': 0.0, 'SM_Exgauster\\\\[0:113]': 0.0, 'SM_Exgauster\\\\[0:114]': 0.0, 'SM_Exgauster\\\\[0:115]': 0.0, 'SM_Exgauster\\\\[0:116]': 0.0, 'SM_Exgauster\\\\[0:117]': 65.0, 'SM_Exgauster\\\\[0:118]': 65.0, 'SM_Exgauster\\\\[0:119]': 65.0, 'SM_Exgauster\\\\[0:120]': 65.0, 'SM_Exgauster\\\\[0:121]': 65.0, 'SM_Exgauster\\\\[0:122]': 65.0, 'SM_Exgauster\\\\[0:123]': 65.0, 'SM_Exgauster\\\\[0:124]': 65.0, 'SM_Exgauster\\\\[0:125]': 65.0, 'SM_Exgauster\\\\[0:126]': 0.0, 'SM_Exgauster\\\\[0:127]': 0.0, 'SM_Exgauster\\\\[0:128]': 0.0, 'SM_Exgauster\\\\[0:129]': 0.0, 'SM_Exgauster\\\\[0:130]': 0.0, 'SM_Exgauster\\\\[0:131]': 0.0, 'SM_Exgauster\\\\[0:132]': 0.0, 'SM_Exgauster\\\\[0:133]': 0.0, 'SM_Exgauster\\\\[0:134]': 0.0, 'SM_Exgauster\\\\[0:135]': 7.099999904632568, 'SM_Exgauster\\\\[0:136]': 7.099999904632568, 'SM_Exgauster\\\\[0:137]': 7.099999904632568, 'SM_Exgauster\\\\[0:138]': 7.099999904632568, 'SM_Exgauster\\\\[0:139]': 7.099999904632568, 'SM_Exgauster\\\\[0:140]': 7.099999904632568, 'SM_Exgauster\\\\[0:141]': 7.099999904632568, 'SM_Exgauster\\\\[0:142]': 7.099999904632568, 'SM_Exgauster\\\\[0:143]': 7.099999904632568, 'SM_Exgauster\\\\[0:144]': 7.099999904632568, 'SM_Exgauster\\\\[0:145]': 7.099999904632568, 'SM_Exgauster\\\\[0:146]': 7.099999904632568, 'SM_Exgauster\\\\[0:147]': 0.0, 'SM_Exgauster\\\\[0:148]': 0.0, 'SM_Exgauster\\\\[0:149]': 0.0, 'SM_Exgauster\\\\[0:150]': 0.0, 'SM_Exgauster\\\\[0:151]': 0.0, 'SM_Exgauster\\\\[0:152]': 0.0, 'SM_Exgauster\\\\[0:153]': 0.0, 'SM_Exgauster\\\\[0:154]': 0.0, 'SM_Exgauster\\\\[0:155]': 0.0, 'SM_Exgauster\\\\[0:156]': 0.0, 'SM_Exgauster\\\\[0:157]': 0.0, 'SM_Exgauster\\\\[0:158]': 0.0, 'SM_Exgauster\\\\[0:159]': 4.5, 'SM_Exgauster\\\\[0:160]': 4.5, 'SM_Exgauster\\\\[0:161]': 4.5, 'SM_Exgauster\\\\[0:162]': 4.5, 'SM_Exgauster\\\\[0:163]': 4.5, 'SM_Exgauster\\\\[0:164]': 4.5, 'SM_Exgauster\\\\[0:165]': 4.5, 'SM_Exgauster\\\\[0:166]': 4.5, 'SM_Exgauster\\\\[0:167]': 4.5, 'SM_Exgauster\\\\[0:168]': 4.5, 'SM_Exgauster\\\\[0:169]': 4.5, 'SM_Exgauster\\\\[0:170]': 4.5, 'SM_Exgauster\\\\[0:171]': 0.0, 'SM_Exgauster\\\\[0:172]': 0.0, 'SM_Exgauster\\\\[0:173]': 0.0, 'SM_Exgauster\\\\[0:174]': 0.0, 'SM_Exgauster\\\\[0:175]': 0.0, 'SM_Exgauster\\\\[0:176]': 0.0, 'SM_Exgauster\\\\[0:177]': 0.0, 'SM_Exgauster\\\\[0:178]': 0.0, 'SM_Exgauster\\\\[0:179]': 0.0, 'SM_Exgauster\\\\[0:180]': 0.0, 'SM_Exgauster\\\\[0:181]': 0.0, 'SM_Exgauster\\\\[0:182]': 0.0, 'SM_Exgauster\\\\[0:183]': 7.099999904632568, 'SM_Exgauster\\\\[0:184]': 7.099999904632568, 'SM_Exgauster\\\\[0:185]': 7.099999904632568, 'SM_Exgauster\\\\[0:186]': 7.099999904632568, 'SM_Exgauster\\\\[0:187]': 7.099999904632568, 'SM_Exgauster\\\\[0:188]': 7.099999904632568, 'SM_Exgauster\\\\[0:189]': 7.099999904632568, 'SM_Exgauster\\\\[0:190]': 7.099999904632568, 'SM_Exgauster\\\\[0:191]': 7.099999904632568, 'SM_Exgauster\\\\[0:192]': 7.099999904632568, 'SM_Exgauster\\\\[0:193]': 7.099999904632568, 'SM_Exgauster\\\\[0:194]': 7.099999904632568, 'SM_Exgauster\\\\[0:195]': 0.0, 'SM_Exgauster\\\\[0:196]': 0.0, 'SM_Exgauster\\\\[0:197]': 0.0, 'SM_Exgauster\\\\[0:198]': 0.0, 'SM_Exgauster\\\\[0:199]': 0.0, 'SM_Exgauster\\\\[0:200]': 0.0, 'SM_Exgauster\\\\[0:201]': 0.0, 'SM_Exgauster\\\\[0:202]': 0.0, 'SM_Exgauster\\\\[0:203]': 0.0, 'SM_Exgauster\\\\[0:204]': 0.0, 'SM_Exgauster\\\\[0:205]': 0.0, 'SM_Exgauster\\\\[0:206]': 0.0, 'SM_Exgauster\\\\[0:207]': 4.5, 'SM_Exgauster\\\\[0:208]': 4.5, 'SM_Exgauster\\\\[0:209]': 4.5, 'SM_Exgauster\\\\[0:210]': 4.5, 'SM_Exgauster\\\\[0:211]': 4.5, 'SM_Exgauster\\\\[0:212]': 4.5, 'SM_Exgauster\\\\[0:213]': 4.5, 'SM_Exgauster\\\\[0:214]': 4.5, 'SM_Exgauster\\\\[0:215]': 4.5, 'SM_Exgauster\\\\[0:216]': 4.5, 'SM_Exgauster\\\\[0:217]': 4.5, 'SM_Exgauster\\\\[0:218]': 4.5, 'SM_Exgauster\\\\[0:219]': 0.0, 'SM_Exgauster\\\\[0:220]': 0.0, 'SM_Exgauster\\\\[0:221]': 0.0, 'SM_Exgauster\\\\[0:222]': 0.0, 'SM_Exgauster\\\\[0:223]': 0.0, 'SM_Exgauster\\\\[0:224]': 0.0, 'SM_Exgauster\\\\[0:225]': 0.0, 'SM_Exgauster\\\\[0:226]': 0.0, 'SM_Exgauster\\\\[0:227]': 0.0, 'SM_Exgauster\\\\[0:228]': 0.0, 'SM_Exgauster\\\\[0:229]': 0.0, 'SM_Exgauster\\\\[0:230]': 0.0, 'SM_Exgauster\\\\[0.0]': 1.0, 'SM_Exgauster\\\\[0.1]': 1.0, 'SM_Exgauster\\\\[1:0]': 72.69999694824219, 'SM_Exgauster\\\\[1:1]': 0.8220000267028809, 'SM_Exgauster\\\\[1:2]': 1978.0, 'SM_Exgauster\\\\[1:3]': 1823.0, 'SM_Exgauster\\\\[1:4]': -3.0, 'SM_Exgauster\\\\[1:5]': 106.0, 'SM_Exgauster\\\\[1:6]': 10.0, 'SM_Exgauster\\\\[1:7]': 74.80000305175781, 'SM_Exgauster\\\\[1:8]': 0.9070000052452087, 'SM_Exgauster\\\\[1:9]': 1693.0, 'SM_Exgauster\\\\[1:10]': 1897.0, 'SM_Exgauster\\\\[1:11]': 2.0, 'SM_Exgauster\\\\[1:12]': 106.0, 'SM_Exgauster\\\\[1:13]': 10.0, 'SM_Exgauster\\\\[1.0]': 1.0, 'SM_Exgauster\\\\[1.1]': 0.0, 'SM_Exgauster\\\\[1.2]': 1.0, 'SM_Exgauster\\\\[1.3]': 0.0, 'SM_Exgauster\\\\[1.4]': 0.0, 'SM_Exgauster\\\\[1.5]': 1.0, 'SM_Exgauster\\\\[1.6]': 0.0, 'SM_Exgauster\\\\[1.7]': 1.0, 'SM_Exgauster\\\\[1.8]': 0.0, 'SM_Exgauster\\\\[1.9]': 0.0, 'SM_Exgauster\\\\[2:0]': 0.5902777910232544, 'SM_Exgauster\\\\[2:1]': 0.28356480598449707, 'SM_Exgauster\\\\[2:2]': 0.3819444477558136, 'SM_Exgauster\\\\[2:3]': 0.7600734829902649, 'SM_Exgauster\\\\[2:4]': 0.5844907760620117, 'SM_Exgauster\\\\[2:5]': 0.23148147761821747, 'SM_Exgauster\\\\[2:6]': 1.4004629850387573, 'SM_Exgauster\\\\[2:7]': 2.110995054244995, 'SM_Exgauster\\\\[2:8]': 2.2048611640930176, 'SM_Exgauster\\\\[2:9]': 1.545138955116272, 'SM_Exgauster\\\\[2:10]': 1.0069444179534912, 'SM_Exgauster\\\\[2:11]': 2.34375, 'SM_Exgauster\\\\[2:12]': 1.2731481790542603, 'SM_Exgauster\\\\[2:13]': 1.7881944179534912, 'SM_Exgauster\\\\[2:14]': 2.5520834922790527, 'SM_Exgauster\\\\[2:15]': 1.0763888359069824, 'SM_Exgauster\\\\[2:16]': 1.8344907760620117, 'SM_Exgauster\\\\[2:17]': 1.9733797311782837, 'SM_Exgauster\\\\[2:18]': 0.35300925374031067, 'SM_Exgauster\\\\[2:19]': 0.4050925672054291, 'SM_Exgauster\\\\[2:20]': 0.31828704476356506, 'SM_Exgauster\\\\[2:21]': 0.7928240895271301, 'SM_Exgauster\\\\[2:22]': 0.43981480598449707, 'SM_Exgauster\\\\[2:23]': 0.5787037014961243, 'SM_Exgauster\\\\[2:24]': 109.74698638916016, 'SM_Exgauster\\\\[2:25]': 111.44698333740234, 'SM_Exgauster\\\\[2:27]': 62.80000305175781, 'SM_Exgauster\\\\[2:28]': 56.599998474121094, 'SM_Exgauster\\\\[2:29]': 48.29999542236328, 'SM_Exgauster\\\\[2:30]': 51.19999694824219, 'SM_Exgauster\\\\[2:31]': 41.399993896484375, 'SM_Exgauster\\\\[2:32]': 41.5, 'SM_Exgauster\\\\[2:33]': 38.0, 'SM_Exgauster\\\\[2:34]': 42.5, 'SM_Exgauster\\\\[2:35]': 42.900001525878906, 'SM_Exgauster\\\\[2:36]': 25.000001907348633, 'SM_Exgauster\\\\[2:37]': 26.0, 'SM_Exgauster\\\\[2:41]': 30.400001525878906, 'SM_Exgauster\\\\[2:42]': 33.400001525878906, 'SM_Exgauster\\\\[2:43]': 54.29999542236328, 'SM_Exgauster\\\\[2:44]': 64.5, 'SM_Exgauster\\\\[2:45]': 46.0, 'SM_Exgauster\\\\[2:46]': 56.0, 'SM_Exgauster\\\\[2:47]': 45.400001525878906, 'SM_Exgauster\\\\[2:48]': 36.69999694824219, 'SM_Exgauster\\\\[2:49]': 37.0, 'SM_Exgauster\\\\[2:50]': 33.30000305175781, 'SM_Exgauster\\\\[2:51]': 39.400001525878906, 'SM_Exgauster\\\\[2:52]': 50.30000305175781, 'SM_Exgauster\\\\[2:53]': 24.699996948242188, 'SM_Exgauster\\\\[2:54]': 25.0, 'SM_Exgauster\\\\[2:55]': -118.51851654052734, 'SM_Exgauster\\\\[2:56]': 25.0, 'SM_Exgauster\\\\[2:57]': 3276.69970703125, 'SM_Exgauster\\\\[2:58]': 3276.69970703125, 'SM_Exgauster\\\\[2:59]': 26.20000457763672, 'SM_Exgauster\\\\[2:60]': 30.599998474121094, 'SM_Exgauster\\\\[2:61]': 770.3992919921875, 'SM_Exgauster\\\\[2:62]': 759.5486450195312, 'SM_Exgauster\\\\[2:63]': 1.8634259700775146, 'SM_Exgauster\\\\[2:64]': 1.841435194015503, 'SM_Exgauster\\\\[2:65]': 75.0, 'SM_Exgauster\\\\[2:66]': 75.0, 'SM_Exgauster\\\\[2:67]': 75.0, 'SM_Exgauster\\\\[2:68]': 75.0, 'SM_Exgauster\\\\[2:69]': 75.0, 'SM_Exgauster\\\\[2:70]': 75.0, 'SM_Exgauster\\\\[2:71]': 75.0, 'SM_Exgauster\\\\[2:72]': 75.0, 'SM_Exgauster\\\\[2:73]': 75.0, 'SM_Exgauster\\\\[2:74]': 0.0, 'SM_Exgauster\\\\[2:75]': 0.0, 'SM_Exgauster\\\\[2:76]': 0.0, 'SM_Exgauster\\\\[2:77]': 0.0, 'SM_Exgauster\\\\[2:78]': 0.0, 'SM_Exgauster\\\\[2:79]': 10.0, 'SM_Exgauster\\\\[2:80]': 0.0, 'SM_Exgauster\\\\[2:81]': 0.0, 'SM_Exgauster\\\\[2:82]': 0.0, 'SM_Exgauster\\\\[2:83]': 65.0, 'SM_Exgauster\\\\[2:84]': 65.0, 'SM_Exgauster\\\\[2:85]': 65.0, 'SM_Exgauster\\\\[2:86]': 65.0, 'SM_Exgauster\\\\[2:87]': 65.0, 'SM_Exgauster\\\\[2:88]': 65.0, 'SM_Exgauster\\\\[2:89]': 65.0, 'SM_Exgauster\\\\[2:90]': 65.0, 'SM_Exgauster\\\\[2:91]': 65.0, 'SM_Exgauster\\\\[2:92]': 0.0, 'SM_Exgauster\\\\[2:93]': 0.0, 'SM_Exgauster\\\\[2:94]': 0.0, 'SM_Exgauster\\\\[2:95]': 0.0, 'SM_Exgauster\\\\[2:96]': 0.0, 'SM_Exgauster\\\\[2:97]': 20.0, 'SM_Exgauster\\\\[2:98]': 0.0, 'SM_Exgauster\\\\[2:99]': 0.0, 'SM_Exgauster\\\\[2:100]': 0.0, 'SM_Exgauster\\\\[2:101]': 75.0, 'SM_Exgauster\\\\[2:102]': 75.0, 'SM_Exgauster\\\\[2:103]': 75.0, 'SM_Exgauster\\\\[2:104]': 75.0, 'SM_Exgauster\\\\[2:105]': 75.0, 'SM_Exgauster\\\\[2:106]': 75.0, 'SM_Exgauster\\\\[2:107]': 75.0, 'SM_Exgauster\\\\[2:108]': 75.0, 'SM_Exgauster\\\\[2:109]': 75.0, 'SM_Exgauster\\\\[2:110]': 0.0, 'SM_Exgauster\\\\[2:111]': 0.0, 'SM_Exgauster\\\\[2:112]': 0.0, 'SM_Exgauster\\\\[2:113]': 0.0, 'SM_Exgauster\\\\[2:114]': 0.0, 'SM_Exgauster\\\\[2:115]': 0.0, 'SM_Exgauster\\\\[2:116]': 0.0, 'SM_Exgauster\\\\[2:117]': 0.0, 'SM_Exgauster\\\\[2:118]': 0.0, 'SM_Exgauster\\\\[2:119]': 65.0, 'SM_Exgauster\\\\[2:120]': 65.0, 'SM_Exgauster\\\\[2:121]': 65.0, 'SM_Exgauster\\\\[2:122]': 65.0, 'SM_Exgauster\\\\[2:123]': 65.0, 'SM_Exgauster\\\\[2:124]': 105.0, 'SM_Exgauster\\\\[2:125]': 65.0, 'SM_Exgauster\\\\[2:126]': 65.0, 'SM_Exgauster\\\\[2:127]': 65.0, 'SM_Exgauster\\\\[2:128]': 0.0, 'SM_Exgauster\\\\[2:129]': 0.0, 'SM_Exgauster\\\\[2:130]': 0.0, 'SM_Exgauster\\\\[2:131]': 0.0, 'SM_Exgauster\\\\[2:132]': 0.0, 'SM_Exgauster\\\\[2:133]': 0.0, 'SM_Exgauster\\\\[2:134]': 0.0, 'SM_Exgauster\\\\[2:135]': 0.0, 'SM_Exgauster\\\\[2:136]': 0.0, 'SM_Exgauster\\\\[2:137]': 7.099999904632568, 'SM_Exgauster\\\\[2:138]': 7.099999904632568, 'SM_Exgauster\\\\[2:139]': 7.099999904632568, 'SM_Exgauster\\\\[2:140]': 7.099999904632568, 'SM_Exgauster\\\\[2:141]': 7.099999904632568, 'SM_Exgauster\\\\[2:142]': 7.099999904632568, 'SM_Exgauster\\\\[2:143]': 7.099999904632568, 'SM_Exgauster\\\\[2:144]': 7.099999904632568, 'SM_Exgauster\\\\[2:145]': 7.099999904632568, 'SM_Exgauster\\\\[2:146]': 7.099999904632568, 'SM_Exgauster\\\\[2:147]': 7.099999904632568, 'SM_Exgauster\\\\[2:148]': 7.099999904632568, 'SM_Exgauster\\\\[2:149]': 0.0, 'SM_Exgauster\\\\[2:150]': 0.0, 'SM_Exgauster\\\\[2:151]': 0.0, 'SM_Exgauster\\\\[2:152]': 0.0, 'SM_Exgauster\\\\[2:153]': 0.0, 'SM_Exgauster\\\\[2:154]': 0.0, 'SM_Exgauster\\\\[2:155]': 0.0, 'SM_Exgauster\\\\[2:156]': 0.0, 'SM_Exgauster\\\\[2:157]': 0.0, 'SM_Exgauster\\\\[2:158]': 0.0, 'SM_Exgauster\\\\[2:159]': 0.0, 'SM_Exgauster\\\\[2:160]': 0.0, 'SM_Exgauster\\\\[2:161]': 4.5, 'SM_Exgauster\\\\[2:162]': 4.5, 'SM_Exgauster\\\\[2:163]': 4.5, 'SM_Exgauster\\\\[2:164]': 4.5, 'SM_Exgauster\\\\[2:165]': 4.5, 'SM_Exgauster\\\\[2:166]': 4.5, 'SM_Exgauster\\\\[2:167]': 4.5, 'SM_Exgauster\\\\[2:168]': 4.5, 'SM_Exgauster\\\\[2:169]': 4.5, 'SM_Exgauster\\\\[2:170]': 4.5, 'SM_Exgauster\\\\[2:171]': 4.5, 'SM_Exgauster\\\\[2:172]': 4.5, 'SM_Exgauster\\\\[2:173]': 0.0, 'SM_Exgauster\\\\[2:174]': 0.0, 'SM_Exgauster\\\\[2:175]': 0.0, 'SM_Exgauster\\\\[2:176]': 0.0, 'SM_Exgauster\\\\[2:177]': 0.0, 'SM_Exgauster\\\\[2:178]': 0.0, 'SM_Exgauster\\\\[2:179]': 0.0, 'SM_Exgauster\\\\[2:180]': 0.0, 'SM_Exgauster\\\\[2:181]': 0.0, 'SM_Exgauster\\\\[2:182]': 0.0, 'SM_Exgauster\\\\[2:183]': 0.0, 'SM_Exgauster\\\\[2:184]': 0.0, 'SM_Exgauster\\\\[2:185]': 7.099999904632568, 'SM_Exgauster\\\\[2:186]': 7.099999904632568, 'SM_Exgauster\\\\[2:187]': 7.099999904632568, 'SM_Exgauster\\\\[2:188]': 7.099999904632568, 'SM_Exgauster\\\\[2:189]': 7.099999904632568, 'SM_Exgauster\\\\[2:190]': 7.099999904632568, 'SM_Exgauster\\\\[2:191]': 10.0, 'SM_Exgauster\\\\[2:192]': 10.0, 'SM_Exgauster\\\\[2:193]': 7.099999904632568, 'SM_Exgauster\\\\[2:194]': 10.0, 'SM_Exgauster\\\\[2:195]': 10.0, 'SM_Exgauster\\\\[2:196]': 7.099999904632568, 'SM_Exgauster\\\\[2:197]': 0.0, 'SM_Exgauster\\\\[2:198]': 0.0, 'SM_Exgauster\\\\[2:199]': 0.0, 'SM_Exgauster\\\\[2:200]': 0.0, 'SM_Exgauster\\\\[2:201]': 0.0, 'SM_Exgauster\\\\[2:202]': 0.0, 'SM_Exgauster\\\\[2:203]': 0.0, 'SM_Exgauster\\\\[2:204]': 0.0, 'SM_Exgauster\\\\[2:205]': 0.0, 'SM_Exgauster\\\\[2:206]': 0.0, 'SM_Exgauster\\\\[2:207]': 0.0, 'SM_Exgauster\\\\[2:208]': 0.0, 'SM_Exgauster\\\\[2:209]': 4.5, 'SM_Exgauster\\\\[2:210]': 4.5, 'SM_Exgauster\\\\[2:211]': 4.5, 'SM_Exgauster\\\\[2:212]': 4.5, 'SM_Exgauster\\\\[2:213]': 4.5, 'SM_Exgauster\\\\[2:214]': 4.5, 'SM_Exgauster\\\\[2:215]': 4.5, 'SM_Exgauster\\\\[2:216]': 4.5, 'SM_Exgauster\\\\[2:217]': 4.5, 'SM_Exgauster\\\\[2:218]': 4.5, 'SM_Exgauster\\\\[2:219]': 4.5, 'SM_Exgauster\\\\[2:220]': 4.5, 'SM_Exgauster\\\\[2:221]': 0.0, 'SM_Exgauster\\\\[2:222]': 0.0, 'SM_Exgauster\\\\[2:223]': 0.0, 'SM_Exgauster\\\\[2:224]': 0.0, 'SM_Exgauster\\\\[2:225]': 0.0, 'SM_Exgauster\\\\[2:226]': 0.0, 'SM_Exgauster\\\\[2:227]': 0.0, 'SM_Exgauster\\\\[2:228]': 0.0, 'SM_Exgauster\\\\[2:229]': 0.0, 'SM_Exgauster\\\\[2:230]': 0.0, 'SM_Exgauster\\\\[2:231]': 0.0, 'SM_Exgauster\\\\[2:232]': 0.0, 'SM_Exgauster\\\\[2.0]': 1.0, 'SM_Exgauster\\\\[2.1]': 1.0, 'SM_Exgauster\\\\[3:0]': 0.0347222238779068, 'SM_Exgauster\\\\[3:1]': 0.023148149251937866, 'SM_Exgauster\\\\[3:2]': 0.04050925746560097, 'SM_Exgauster\\\\[3:3]': 0.0057870373129844666, 'SM_Exgauster\\\\[3:4]': 0.06365740299224854, 'SM_Exgauster\\\\[3:5]': 0.05787036940455437, 'SM_Exgauster\\\\[3:6]': 0.08674648404121399, 'SM_Exgauster\\\\[3:7]': 0.11574073880910873, 'SM_Exgauster\\\\[3:8]': 0.1215277761220932, 'SM_Exgauster\\\\[3:9]': 0.06951551884412766, 'SM_Exgauster\\\\[3:10]': 0.06365740299224854, 'SM_Exgauster\\\\[3:11]': 0.14467592537403107, 'SM_Exgauster\\\\[3:12]': 0.04050925746560097, 'SM_Exgauster\\\\[3:13]': 0.0347222238779068, 'SM_Exgauster\\\\[3:14]': 0.023148149251937866, 'SM_Exgauster\\\\[3:15]': 0.0347222238779068, 'SM_Exgauster\\\\[3:16]': 0.04050925746560097, 'SM_Exgauster\\\\[3:17]': 0.05787036940455437, 'SM_Exgauster\\\\[3:18]': 0.086805559694767, 'SM_Exgauster\\\\[3:19]': 0.11574073880910873, 'SM_Exgauster\\\\[3:20]': 0.09259259700775146, 'SM_Exgauster\\\\[3:21]': 0.0520833358168602, 'SM_Exgauster\\\\[3:22]': 0.037458594888448715, 'SM_Exgauster\\\\[3:23]': 0.04050925746560097, 'SM_Exgauster\\\\[3:24]': -3.8611271381378174, 'SM_Exgauster\\\\[3:25]': 16.638893127441406, 'SM_Exgauster\\\\[3:27]': 16.699996948242188, 'SM_Exgauster\\\\[3:28]': 17.099998474121094, 'SM_Exgauster\\\\[3:29]': 4.000003814697266, 'SM_Exgauster\\\\[3:30]': 24.900001525878906, 'SM_Exgauster\\\\[3:31]': 22.0, 'SM_Exgauster\\\\[3:32]': 23.400001525878906, 'SM_Exgauster\\\\[3:33]': 3.5999984741210938, 'SM_Exgauster\\\\[3:34]': -0.5999984741210938, 'SM_Exgauster\\\\[3:35]': -0.5999984741210938, 'SM_Exgauster\\\\[3:36]': 22.899993896484375, 'SM_Exgauster\\\\[3:37]': -3276.800048828125, 'SM_Exgauster\\\\[3:41]': 8.89999771118164, 'SM_Exgauster\\\\[3:42]': 8.89999771118164, 'SM_Exgauster\\\\[3:43]': 19.599998474121094, 'SM_Exgauster\\\\[3:44]': 23.199996948242188, 'SM_Exgauster\\\\[3:45]': 30.099998474121094, 'SM_Exgauster\\\\[3:46]': -3276.800048828125, 'SM_Exgauster\\\\[3:47]': 26.5, 'SM_Exgauster\\\\[3:48]': 30.400001525878906, 'SM_Exgauster\\\\[3:49]': 28.899993896484375, 'SM_Exgauster\\\\[3:50]': 15.5, 'SM_Exgauster\\\\[3:51]': 17.0, 'SM_Exgauster\\\\[3:52]': 19.599998474121094, 'SM_Exgauster\\\\[3:53]': 20.5, 'SM_Exgauster\\\\[3:54]': -3276.800048828125, 'SM_Exgauster\\\\[3:55]': -3276.800048828125, 'SM_Exgauster\\\\[3:56]': -3276.800048828125, 'SM_Exgauster\\\\[3:57]': -3276.800048828125, 'SM_Exgauster\\\\[3:58]': -3276.800048828125, 'SM_Exgauster\\\\[3:59]': 12.5, 'SM_Exgauster\\\\[3:60]': 1.3000030517578125, 'SM_Exgauster\\\\[3:61]': -25.31828498840332, 'SM_Exgauster\\\\[3:62]': -18.084489822387695, 'SM_Exgauster\\\\[3:63]': 75.0, 'SM_Exgauster\\\\[3:64]': 75.0, 'SM_Exgauster\\\\[3:65]': 75.0, 'SM_Exgauster\\\\[3:66]': 75.0, 'SM_Exgauster\\\\[3:67]': 75.0, 'SM_Exgauster\\\\[3:68]': 75.0, 'SM_Exgauster\\\\[3:69]': 75.0, 'SM_Exgauster\\\\[3:70]': 75.0, 'SM_Exgauster\\\\[3:71]': 75.0, 'SM_Exgauster\\\\[3:72]': 0.0, 'SM_Exgauster\\\\[3:73]': 0.0, 'SM_Exgauster\\\\[3:74]': 0.0, 'SM_Exgauster\\\\[3:75]': 0.0, 'SM_Exgauster\\\\[3:76]': 0.0, 'SM_Exgauster\\\\[3:77]': 0.0, 'SM_Exgauster\\\\[3:78]': 0.0, 'SM_Exgauster\\\\[3:79]': 0.0, 'SM_Exgauster\\\\[3:80]': 0.0, 'SM_Exgauster\\\\[3:81]': 65.0, 'SM_Exgauster\\\\[3:82]': 65.0, 'SM_Exgauster\\\\[3:83]': 65.0, 'SM_Exgauster\\\\[3:84]': 65.0, 'SM_Exgauster\\\\[3:85]': 65.0, 'SM_Exgauster\\\\[3:86]': 65.0, 'SM_Exgauster\\\\[3:87]': 65.0, 'SM_Exgauster\\\\[3:88]': 65.0, 'SM_Exgauster\\\\[3:89]': 65.0, 'SM_Exgauster\\\\[3:90]': 0.0, 'SM_Exgauster\\\\[3:91]': 0.0, 'SM_Exgauster\\\\[3:92]': 0.0, 'SM_Exgauster\\\\[3:93]': 0.0, 'SM_Exgauster\\\\[3:94]': 0.0, 'SM_Exgauster\\\\[3:95]': 0.0, 'SM_Exgauster\\\\[3:96]': 0.0, 'SM_Exgauster\\\\[3:97]': 0.0, 'SM_Exgauster\\\\[3:98]': 0.0, 'SM_Exgauster\\\\[3:99]': 75.0, 'SM_Exgauster\\\\[3:100]': 75.0, 'SM_Exgauster\\\\[3:101]': 75.0, 'SM_Exgauster\\\\[3:102]': 75.0, 'SM_Exgauster\\\\[3:103]': 75.0, 'SM_Exgauster\\\\[3:104]': 75.0, 'SM_Exgauster\\\\[3:105]': 75.0, 'SM_Exgauster\\\\[3:106]': 75.0, 'SM_Exgauster\\\\[3:107]': 75.0, 'SM_Exgauster\\\\[3:108]': 0.0, 'SM_Exgauster\\\\[3:109]': 0.0, 'SM_Exgauster\\\\[3:110]': 0.0, 'SM_Exgauster\\\\[3:111]': 0.0, 'SM_Exgauster\\\\[3:112]': 0.0, 'SM_Exgauster\\\\[3:113]': 0.0, 'SM_Exgauster\\\\[3:114]': 0.0, 'SM_Exgauster\\\\[3:115]': 0.0, 'SM_Exgauster\\\\[3:116]': 0.0, 'SM_Exgauster\\\\[3:117]': 65.0, 'SM_Exgauster\\\\[3:118]': 65.0, 'SM_Exgauster\\\\[3:119]': 65.0, 'SM_Exgauster\\\\[3:120]': 65.0, 'SM_Exgauster\\\\[3:121]': 65.0, 'SM_Exgauster\\\\[3:122]': 65.0, 'SM_Exgauster\\\\[3:123]': 65.0, 'SM_Exgauster\\\\[3:124]': 65.0, 'SM_Exgauster\\\\[3:125]': 65.0, 'SM_Exgauster\\\\[3:126]': 0.0, 'SM_Exgauster\\\\[3:127]': 0.0, 'SM_Exgauster\\\\[3:128]': 0.0, 'SM_Exgauster\\\\[3:129]': 0.0, 'SM_Exgauster\\\\[3:130]': 0.0, 'SM_Exgauster\\\\[3:131]': 0.0, 'SM_Exgauster\\\\[3:132]': 0.0, 'SM_Exgauster\\\\[3:133]': 0.0, 'SM_Exgauster\\\\[3:134]': 0.0, 'SM_Exgauster\\\\[3:135]': 7.099999904632568, 'SM_Exgauster\\\\[3:136]': 7.099999904632568, 'SM_Exgauster\\\\[3:137]': 7.099999904632568, 'SM_Exgauster\\\\[3:138]': 7.099999904632568, 'SM_Exgauster\\\\[3:139]': 7.099999904632568, 'SM_Exgauster\\\\[3:140]': 7.099999904632568, 'SM_Exgauster\\\\[3:141]': 7.099999904632568, 'SM_Exgauster\\\\[3:142]': 7.099999904632568, 'SM_Exgauster\\\\[3:143]': 7.099999904632568, 'SM_Exgauster\\\\[3:144]': 7.099999904632568, 'SM_Exgauster\\\\[3:145]': 7.099999904632568, 'SM_Exgauster\\\\[3:146]': 7.099999904632568, 'SM_Exgauster\\\\[3:147]': 0.0, 'SM_Exgauster\\\\[3:148]': 0.0, 'SM_Exgauster\\\\[3:149]': 0.0, 'SM_Exgauster\\\\[3:150]': 0.0, 'SM_Exgauster\\\\[3:151]': 0.0, 'SM_Exgauster\\\\[3:152]': 0.0, 'SM_Exgauster\\\\[3:153]': 0.0, 'SM_Exgauster\\\\[3:154]': 0.0, 'SM_Exgauster\\\\[3:155]': 0.0, 'SM_Exgauster\\\\[3:156]': 0.0, 'SM_Exgauster\\\\[3:157]': 0.0, 'SM_Exgauster\\\\[3:158]': 0.0, 'SM_Exgauster\\\\[3:159]': 4.5, 'SM_Exgauster\\\\[3:160]': 4.5, 'SM_Exgauster\\\\[3:161]': 4.5, 'SM_Exgauster\\\\[3:162]': 4.5, 'SM_Exgauster\\\\[3:163]': 4.5, 'SM_Exgauster\\\\[3:164]': 4.5, 'SM_Exgauster\\\\[3:165]': 4.5, 'SM_Exgauster\\\\[3:166]': 4.5, 'SM_Exgauster\\\\[3:167]': 4.5, 'SM_Exgauster\\\\[3:168]': 4.5, 'SM_Exgauster\\\\[3:169]': 4.5, 'SM_Exgauster\\\\[3:170]': 4.5, 'SM_Exgauster\\\\[3:171]': 0.0, 'SM_Exgauster\\\\[3:172]': 0.0, 'SM_Exgauster\\\\[3:173]': 0.0, 'SM_Exgauster\\\\[3:174]': 0.0, 'SM_Exgauster\\\\[3:175]': 0.0, 'SM_Exgauster\\\\[3:176]': 0.0, 'SM_Exgauster\\\\[3:177]': 0.0, 'SM_Exgauster\\\\[3:178]': 0.0, 'SM_Exgauster\\\\[3:179]': 0.0, 'SM_Exgauster\\\\[3:180]': 0.0, 'SM_Exgauster\\\\[3:181]': 0.0, 'SM_Exgauster\\\\[3:182]': 0.0, 'SM_Exgauster\\\\[3:183]': 7.099999904632568, 'SM_Exgauster\\\\[3:184]': 7.099999904632568, 'SM_Exgauster\\\\[3:185]': 7.099999904632568, 'SM_Exgauster\\\\[3:186]': 7.099999904632568, 'SM_Exgauster\\\\[3:187]': 7.099999904632568, 'SM_Exgauster\\\\[3:188]': 7.099999904632568, 'SM_Exgauster\\\\[3:189]': 7.099999904632568, 'SM_Exgauster\\\\[3:190]': 7.099999904632568, 'SM_Exgauster\\\\[3:191]': 7.099999904632568, 'SM_Exgauster\\\\[3:192]': 7.099999904632568, 'SM_Exgauster\\\\[3:193]': 7.099999904632568, 'SM_Exgauster\\\\[3:194]': 7.099999904632568, 'SM_Exgauster\\\\[3:195]': 0.0, 'SM_Exgauster\\\\[3:196]': 0.0, 'SM_Exgauster\\\\[3:197]': 0.0, 'SM_Exgauster\\\\[3:198]': 0.0, 'SM_Exgauster\\\\[3:199]': 0.0, 'SM_Exgauster\\\\[3:200]': 0.0, 'SM_Exgauster\\\\[3:201]': 0.0, 'SM_Exgauster\\\\[3:202]': 0.0, 'SM_Exgauster\\\\[3:203]': 0.0, 'SM_Exgauster\\\\[3:204]': 0.0, 'SM_Exgauster\\\\[3:205]': 0.0, 'SM_Exgauster\\\\[3:206]': 0.0, 'SM_Exgauster\\\\[3:207]': 4.5, 'SM_Exgauster\\\\[3:208]': 4.5, 'SM_Exgauster\\\\[3:209]': 4.5, 'SM_Exgauster\\\\[3:210]': 4.5, 'SM_Exgauster\\\\[3:211]': 4.5, 'SM_Exgauster\\\\[3:212]': 4.5, 'SM_Exgauster\\\\[3:213]': 4.5, 'SM_Exgauster\\\\[3:214]': 4.5, 'SM_Exgauster\\\\[3:215]': 4.5, 'SM_Exgauster\\\\[3:216]': 4.5, 'SM_Exgauster\\\\[3:217]': 4.5, 'SM_Exgauster\\\\[3:218]': 4.5, 'SM_Exgauster\\\\[3:219]': 0.0, 'SM_Exgauster\\\\[3:220]': 0.0, 'SM_Exgauster\\\\[3:221]': 0.0, 'SM_Exgauster\\\\[3:222]': 0.0, 'SM_Exgauster\\\\[3:223]': 0.0, 'SM_Exgauster\\\\[3:224]': 0.0, 'SM_Exgauster\\\\[3:225]': 0.0, 'SM_Exgauster\\\\[3:226]': 0.0, 'SM_Exgauster\\\\[3:227]': 0.0, 'SM_Exgauster\\\\[3:228]': 0.0, 'SM_Exgauster\\\\[3:229]': 0.0, 'SM_Exgauster\\\\[3:230]': 0.0, 'SM_Exgauster\\\\[3.0]': 0.0, 'SM_Exgauster\\\\[3.1]': 0.0, 'SM_Exgauster\\\\[4:0]': 83.54798889160156, 'SM_Exgauster\\\\[4:1]': 2.156743049621582, 'SM_Exgauster\\\\[4:3]': 180.85093688964844, 'SM_Exgauster\\\\[4:7]': 73.55247497558594, 'SM_Exgauster\\\\[4:8]': 2.091372489929199, 'SM_Exgauster\\\\[4:10]': 167.53302001953125, 'SM_Exgauster\\\\[4.0]': 1.0, 'SM_Exgauster\\\\[4.1]': 0.0, 'SM_Exgauster\\\\[4.2]': 1.0, 'SM_Exgauster\\\\[4.3]': 0.0, 'SM_Exgauster\\\\[4.4]': 0.0, 'SM_Exgauster\\\\[4.5]': 1.0, 'SM_Exgauster\\\\[4.6]': 0.0, 'SM_Exgauster\\\\[4.7]': 1.0, 'SM_Exgauster\\\\[4.8]': 0.0, 'SM_Exgauster\\\\[4.9]': 0.0, 'SM_Exgauster\\\\[5:0]': 109.80000305175781, 'SM_Exgauster\\\\[5:1]': -0.07599999755620956, 'SM_Exgauster\\\\[5:2]': 75.0, 'SM_Exgauster\\\\[5:3]': 0.0, 'SM_Exgauster\\\\[5:4]': -2.0, 'SM_Exgauster\\\\[5:5]': 0.0, 'SM_Exgauster\\\\[5:6]': 10.0, 'SM_Exgauster\\\\[5:7]': 86.9000015258789, 'SM_Exgauster\\\\[5:8]': -0.057999998331069946, 'SM_Exgauster\\\\[5:9]': 73.0, 'SM_Exgauster\\\\[5:10]': -1.0, 'SM_Exgauster\\\\[5:11]': 0.0, 'SM_Exgauster\\\\[5:12]': 0.0, 'SM_Exgauster\\\\[5:13]': 10.0, 'SM_Exgauster\\\\[5.0]': 0.0, 'SM_Exgauster\\\\[5.1]': 1.0, 'SM_Exgauster\\\\[5.2]': 1.0, 'SM_Exgauster\\\\[5.3]': 0.0, 'SM_Exgauster\\\\[5.4]': 0.0, 'SM_Exgauster\\\\[5.5]': 0.0, 'SM_Exgauster\\\\[5.6]': 1.0, 'SM_Exgauster\\\\[5.7]': 1.0, 'SM_Exgauster\\\\[5.8]': 0.0, 'SM_Exgauster\\\\[5.9]': 0.0, 'SM_Exgauster\\\\[6:0]': 620.6513671875, 'SM_Exgauster\\\\[6:1]': 119.55760192871094, 'SM_Exgauster\\\\[6:2]': 2.6005892753601074, 'SM_Exgauster\\\\[6.0]': 1.0, 'SM_Exgauster\\\\[7:0]': 625.0, 'SM_Exgauster\\\\[7:1]': 138.3726348876953, 'SM_Exgauster\\\\[7:2]': 3.0981380939483643, 'SM_Exgauster\\\\[7.0]': 1.0, 'SM_Exgauster\\\\[8:0]': 0.723379373550415, 'SM_Exgauster\\\\[8:1]': 15.567305564880371, 'SM_Exgauster\\\\[8:2]': -5.605193857299268e-45, 'SM_Exgauster\\\\[8.0]': 0.0}, headers=[], checksum=None, serialized_key_size=-1, serialized_value_size=26259, serialized_header_size=-1)\n"
     ]
    }
   ],
   "source": [
    "# считывание сообщений\n",
    "for message in consumer:\n",
    "    print(message)\n",
    "    break"
   ]
  },
  {
   "cell_type": "code",
   "execution_count": 53,
   "id": "500ed8cc",
   "metadata": {},
   "outputs": [
    {
     "data": {
      "text/plain": [
       "(0, 1674628380616)"
      ]
     },
     "execution_count": 53,
     "metadata": {},
     "output_type": "execute_result"
    }
   ],
   "source": [
    "# парсинг данных\n",
    "message.offset, message.timestamp"
   ]
  },
  {
   "cell_type": "code",
   "execution_count": 47,
   "id": "ad5c1038",
   "metadata": {},
   "outputs": [
    {
     "data": {
      "text/plain": [
       "dict_keys(['moment', 'SM_Exgauster\\\\[0:0]', 'SM_Exgauster\\\\[0:1]', 'SM_Exgauster\\\\[0:2]', 'SM_Exgauster\\\\[0:3]', 'SM_Exgauster\\\\[0:4]', 'SM_Exgauster\\\\[0:5]', 'SM_Exgauster\\\\[0:6]', 'SM_Exgauster\\\\[0:7]', 'SM_Exgauster\\\\[0:8]', 'SM_Exgauster\\\\[0:9]', 'SM_Exgauster\\\\[0:10]', 'SM_Exgauster\\\\[0:11]', 'SM_Exgauster\\\\[0:12]', 'SM_Exgauster\\\\[0:13]', 'SM_Exgauster\\\\[0:14]', 'SM_Exgauster\\\\[0:15]', 'SM_Exgauster\\\\[0:16]', 'SM_Exgauster\\\\[0:17]', 'SM_Exgauster\\\\[0:18]', 'SM_Exgauster\\\\[0:19]', 'SM_Exgauster\\\\[0:20]', 'SM_Exgauster\\\\[0:21]', 'SM_Exgauster\\\\[0:22]', 'SM_Exgauster\\\\[0:23]', 'SM_Exgauster\\\\[0:24]', 'SM_Exgauster\\\\[0:25]', 'SM_Exgauster\\\\[0:27]', 'SM_Exgauster\\\\[0:28]', 'SM_Exgauster\\\\[0:29]', 'SM_Exgauster\\\\[0:30]', 'SM_Exgauster\\\\[0:31]', 'SM_Exgauster\\\\[0:32]', 'SM_Exgauster\\\\[0:33]', 'SM_Exgauster\\\\[0:34]', 'SM_Exgauster\\\\[0:35]', 'SM_Exgauster\\\\[0:36]', 'SM_Exgauster\\\\[0:37]', 'SM_Exgauster\\\\[0:41]', 'SM_Exgauster\\\\[0:42]', 'SM_Exgauster\\\\[0:43]', 'SM_Exgauster\\\\[0:44]', 'SM_Exgauster\\\\[0:45]', 'SM_Exgauster\\\\[0:46]', 'SM_Exgauster\\\\[0:47]', 'SM_Exgauster\\\\[0:48]', 'SM_Exgauster\\\\[0:49]', 'SM_Exgauster\\\\[0:50]', 'SM_Exgauster\\\\[0:51]', 'SM_Exgauster\\\\[0:52]', 'SM_Exgauster\\\\[0:53]', 'SM_Exgauster\\\\[0:54]', 'SM_Exgauster\\\\[0:55]', 'SM_Exgauster\\\\[0:56]', 'SM_Exgauster\\\\[0:57]', 'SM_Exgauster\\\\[0:58]', 'SM_Exgauster\\\\[0:59]', 'SM_Exgauster\\\\[0:60]', 'SM_Exgauster\\\\[0:61]', 'SM_Exgauster\\\\[0:62]', 'SM_Exgauster\\\\[0:63]', 'SM_Exgauster\\\\[0:64]', 'SM_Exgauster\\\\[0:65]', 'SM_Exgauster\\\\[0:66]', 'SM_Exgauster\\\\[0:67]', 'SM_Exgauster\\\\[0:68]', 'SM_Exgauster\\\\[0:69]', 'SM_Exgauster\\\\[0:70]', 'SM_Exgauster\\\\[0:71]', 'SM_Exgauster\\\\[0:72]', 'SM_Exgauster\\\\[0:73]', 'SM_Exgauster\\\\[0:74]', 'SM_Exgauster\\\\[0:75]', 'SM_Exgauster\\\\[0:76]', 'SM_Exgauster\\\\[0:77]', 'SM_Exgauster\\\\[0:78]', 'SM_Exgauster\\\\[0:79]', 'SM_Exgauster\\\\[0:80]', 'SM_Exgauster\\\\[0:81]', 'SM_Exgauster\\\\[0:82]', 'SM_Exgauster\\\\[0:83]', 'SM_Exgauster\\\\[0:84]', 'SM_Exgauster\\\\[0:85]', 'SM_Exgauster\\\\[0:86]', 'SM_Exgauster\\\\[0:87]', 'SM_Exgauster\\\\[0:88]', 'SM_Exgauster\\\\[0:89]', 'SM_Exgauster\\\\[0:90]', 'SM_Exgauster\\\\[0:91]', 'SM_Exgauster\\\\[0:92]', 'SM_Exgauster\\\\[0:93]', 'SM_Exgauster\\\\[0:94]', 'SM_Exgauster\\\\[0:95]', 'SM_Exgauster\\\\[0:96]', 'SM_Exgauster\\\\[0:97]', 'SM_Exgauster\\\\[0:98]', 'SM_Exgauster\\\\[0:99]', 'SM_Exgauster\\\\[0:100]', 'SM_Exgauster\\\\[0:101]', 'SM_Exgauster\\\\[0:102]', 'SM_Exgauster\\\\[0:103]', 'SM_Exgauster\\\\[0:104]', 'SM_Exgauster\\\\[0:105]', 'SM_Exgauster\\\\[0:106]', 'SM_Exgauster\\\\[0:107]', 'SM_Exgauster\\\\[0:108]', 'SM_Exgauster\\\\[0:109]', 'SM_Exgauster\\\\[0:110]', 'SM_Exgauster\\\\[0:111]', 'SM_Exgauster\\\\[0:112]', 'SM_Exgauster\\\\[0:113]', 'SM_Exgauster\\\\[0:114]', 'SM_Exgauster\\\\[0:115]', 'SM_Exgauster\\\\[0:116]', 'SM_Exgauster\\\\[0:117]', 'SM_Exgauster\\\\[0:118]', 'SM_Exgauster\\\\[0:119]', 'SM_Exgauster\\\\[0:120]', 'SM_Exgauster\\\\[0:121]', 'SM_Exgauster\\\\[0:122]', 'SM_Exgauster\\\\[0:123]', 'SM_Exgauster\\\\[0:124]', 'SM_Exgauster\\\\[0:125]', 'SM_Exgauster\\\\[0:126]', 'SM_Exgauster\\\\[0:127]', 'SM_Exgauster\\\\[0:128]', 'SM_Exgauster\\\\[0:129]', 'SM_Exgauster\\\\[0:130]', 'SM_Exgauster\\\\[0:131]', 'SM_Exgauster\\\\[0:132]', 'SM_Exgauster\\\\[0:133]', 'SM_Exgauster\\\\[0:134]', 'SM_Exgauster\\\\[0:135]', 'SM_Exgauster\\\\[0:136]', 'SM_Exgauster\\\\[0:137]', 'SM_Exgauster\\\\[0:138]', 'SM_Exgauster\\\\[0:139]', 'SM_Exgauster\\\\[0:140]', 'SM_Exgauster\\\\[0:141]', 'SM_Exgauster\\\\[0:142]', 'SM_Exgauster\\\\[0:143]', 'SM_Exgauster\\\\[0:144]', 'SM_Exgauster\\\\[0:145]', 'SM_Exgauster\\\\[0:146]', 'SM_Exgauster\\\\[0:147]', 'SM_Exgauster\\\\[0:148]', 'SM_Exgauster\\\\[0:149]', 'SM_Exgauster\\\\[0:150]', 'SM_Exgauster\\\\[0:151]', 'SM_Exgauster\\\\[0:152]', 'SM_Exgauster\\\\[0:153]', 'SM_Exgauster\\\\[0:154]', 'SM_Exgauster\\\\[0:155]', 'SM_Exgauster\\\\[0:156]', 'SM_Exgauster\\\\[0:157]', 'SM_Exgauster\\\\[0:158]', 'SM_Exgauster\\\\[0:159]', 'SM_Exgauster\\\\[0:160]', 'SM_Exgauster\\\\[0:161]', 'SM_Exgauster\\\\[0:162]', 'SM_Exgauster\\\\[0:163]', 'SM_Exgauster\\\\[0:164]', 'SM_Exgauster\\\\[0:165]', 'SM_Exgauster\\\\[0:166]', 'SM_Exgauster\\\\[0:167]', 'SM_Exgauster\\\\[0:168]', 'SM_Exgauster\\\\[0:169]', 'SM_Exgauster\\\\[0:170]', 'SM_Exgauster\\\\[0:171]', 'SM_Exgauster\\\\[0:172]', 'SM_Exgauster\\\\[0:173]', 'SM_Exgauster\\\\[0:174]', 'SM_Exgauster\\\\[0:175]', 'SM_Exgauster\\\\[0:176]', 'SM_Exgauster\\\\[0:177]', 'SM_Exgauster\\\\[0:178]', 'SM_Exgauster\\\\[0:179]', 'SM_Exgauster\\\\[0:180]', 'SM_Exgauster\\\\[0:181]', 'SM_Exgauster\\\\[0:182]', 'SM_Exgauster\\\\[0:183]', 'SM_Exgauster\\\\[0:184]', 'SM_Exgauster\\\\[0:185]', 'SM_Exgauster\\\\[0:186]', 'SM_Exgauster\\\\[0:187]', 'SM_Exgauster\\\\[0:188]', 'SM_Exgauster\\\\[0:189]', 'SM_Exgauster\\\\[0:190]', 'SM_Exgauster\\\\[0:191]', 'SM_Exgauster\\\\[0:192]', 'SM_Exgauster\\\\[0:193]', 'SM_Exgauster\\\\[0:194]', 'SM_Exgauster\\\\[0:195]', 'SM_Exgauster\\\\[0:196]', 'SM_Exgauster\\\\[0:197]', 'SM_Exgauster\\\\[0:198]', 'SM_Exgauster\\\\[0:199]', 'SM_Exgauster\\\\[0:200]', 'SM_Exgauster\\\\[0:201]', 'SM_Exgauster\\\\[0:202]', 'SM_Exgauster\\\\[0:203]', 'SM_Exgauster\\\\[0:204]', 'SM_Exgauster\\\\[0:205]', 'SM_Exgauster\\\\[0:206]', 'SM_Exgauster\\\\[0:207]', 'SM_Exgauster\\\\[0:208]', 'SM_Exgauster\\\\[0:209]', 'SM_Exgauster\\\\[0:210]', 'SM_Exgauster\\\\[0:211]', 'SM_Exgauster\\\\[0:212]', 'SM_Exgauster\\\\[0:213]', 'SM_Exgauster\\\\[0:214]', 'SM_Exgauster\\\\[0:215]', 'SM_Exgauster\\\\[0:216]', 'SM_Exgauster\\\\[0:217]', 'SM_Exgauster\\\\[0:218]', 'SM_Exgauster\\\\[0:219]', 'SM_Exgauster\\\\[0:220]', 'SM_Exgauster\\\\[0:221]', 'SM_Exgauster\\\\[0:222]', 'SM_Exgauster\\\\[0:223]', 'SM_Exgauster\\\\[0:224]', 'SM_Exgauster\\\\[0:225]', 'SM_Exgauster\\\\[0:226]', 'SM_Exgauster\\\\[0:227]', 'SM_Exgauster\\\\[0:228]', 'SM_Exgauster\\\\[0:229]', 'SM_Exgauster\\\\[0:230]', 'SM_Exgauster\\\\[0.0]', 'SM_Exgauster\\\\[0.1]', 'SM_Exgauster\\\\[1:0]', 'SM_Exgauster\\\\[1:1]', 'SM_Exgauster\\\\[1:2]', 'SM_Exgauster\\\\[1:3]', 'SM_Exgauster\\\\[1:4]', 'SM_Exgauster\\\\[1:5]', 'SM_Exgauster\\\\[1:6]', 'SM_Exgauster\\\\[1:7]', 'SM_Exgauster\\\\[1:8]', 'SM_Exgauster\\\\[1:9]', 'SM_Exgauster\\\\[1:10]', 'SM_Exgauster\\\\[1:11]', 'SM_Exgauster\\\\[1:12]', 'SM_Exgauster\\\\[1:13]', 'SM_Exgauster\\\\[1.0]', 'SM_Exgauster\\\\[1.1]', 'SM_Exgauster\\\\[1.2]', 'SM_Exgauster\\\\[1.3]', 'SM_Exgauster\\\\[1.4]', 'SM_Exgauster\\\\[1.5]', 'SM_Exgauster\\\\[1.6]', 'SM_Exgauster\\\\[1.7]', 'SM_Exgauster\\\\[1.8]', 'SM_Exgauster\\\\[1.9]', 'SM_Exgauster\\\\[2:0]', 'SM_Exgauster\\\\[2:1]', 'SM_Exgauster\\\\[2:2]', 'SM_Exgauster\\\\[2:3]', 'SM_Exgauster\\\\[2:4]', 'SM_Exgauster\\\\[2:5]', 'SM_Exgauster\\\\[2:6]', 'SM_Exgauster\\\\[2:7]', 'SM_Exgauster\\\\[2:8]', 'SM_Exgauster\\\\[2:9]', 'SM_Exgauster\\\\[2:10]', 'SM_Exgauster\\\\[2:11]', 'SM_Exgauster\\\\[2:12]', 'SM_Exgauster\\\\[2:13]', 'SM_Exgauster\\\\[2:14]', 'SM_Exgauster\\\\[2:15]', 'SM_Exgauster\\\\[2:16]', 'SM_Exgauster\\\\[2:17]', 'SM_Exgauster\\\\[2:18]', 'SM_Exgauster\\\\[2:19]', 'SM_Exgauster\\\\[2:20]', 'SM_Exgauster\\\\[2:21]', 'SM_Exgauster\\\\[2:22]', 'SM_Exgauster\\\\[2:23]', 'SM_Exgauster\\\\[2:24]', 'SM_Exgauster\\\\[2:25]', 'SM_Exgauster\\\\[2:27]', 'SM_Exgauster\\\\[2:28]', 'SM_Exgauster\\\\[2:29]', 'SM_Exgauster\\\\[2:30]', 'SM_Exgauster\\\\[2:31]', 'SM_Exgauster\\\\[2:32]', 'SM_Exgauster\\\\[2:33]', 'SM_Exgauster\\\\[2:34]', 'SM_Exgauster\\\\[2:35]', 'SM_Exgauster\\\\[2:36]', 'SM_Exgauster\\\\[2:37]', 'SM_Exgauster\\\\[2:41]', 'SM_Exgauster\\\\[2:42]', 'SM_Exgauster\\\\[2:43]', 'SM_Exgauster\\\\[2:44]', 'SM_Exgauster\\\\[2:45]', 'SM_Exgauster\\\\[2:46]', 'SM_Exgauster\\\\[2:47]', 'SM_Exgauster\\\\[2:48]', 'SM_Exgauster\\\\[2:49]', 'SM_Exgauster\\\\[2:50]', 'SM_Exgauster\\\\[2:51]', 'SM_Exgauster\\\\[2:52]', 'SM_Exgauster\\\\[2:53]', 'SM_Exgauster\\\\[2:54]', 'SM_Exgauster\\\\[2:55]', 'SM_Exgauster\\\\[2:56]', 'SM_Exgauster\\\\[2:57]', 'SM_Exgauster\\\\[2:58]', 'SM_Exgauster\\\\[2:59]', 'SM_Exgauster\\\\[2:60]', 'SM_Exgauster\\\\[2:61]', 'SM_Exgauster\\\\[2:62]', 'SM_Exgauster\\\\[2:63]', 'SM_Exgauster\\\\[2:64]', 'SM_Exgauster\\\\[2:65]', 'SM_Exgauster\\\\[2:66]', 'SM_Exgauster\\\\[2:67]', 'SM_Exgauster\\\\[2:68]', 'SM_Exgauster\\\\[2:69]', 'SM_Exgauster\\\\[2:70]', 'SM_Exgauster\\\\[2:71]', 'SM_Exgauster\\\\[2:72]', 'SM_Exgauster\\\\[2:73]', 'SM_Exgauster\\\\[2:74]', 'SM_Exgauster\\\\[2:75]', 'SM_Exgauster\\\\[2:76]', 'SM_Exgauster\\\\[2:77]', 'SM_Exgauster\\\\[2:78]', 'SM_Exgauster\\\\[2:79]', 'SM_Exgauster\\\\[2:80]', 'SM_Exgauster\\\\[2:81]', 'SM_Exgauster\\\\[2:82]', 'SM_Exgauster\\\\[2:83]', 'SM_Exgauster\\\\[2:84]', 'SM_Exgauster\\\\[2:85]', 'SM_Exgauster\\\\[2:86]', 'SM_Exgauster\\\\[2:87]', 'SM_Exgauster\\\\[2:88]', 'SM_Exgauster\\\\[2:89]', 'SM_Exgauster\\\\[2:90]', 'SM_Exgauster\\\\[2:91]', 'SM_Exgauster\\\\[2:92]', 'SM_Exgauster\\\\[2:93]', 'SM_Exgauster\\\\[2:94]', 'SM_Exgauster\\\\[2:95]', 'SM_Exgauster\\\\[2:96]', 'SM_Exgauster\\\\[2:97]', 'SM_Exgauster\\\\[2:98]', 'SM_Exgauster\\\\[2:99]', 'SM_Exgauster\\\\[2:100]', 'SM_Exgauster\\\\[2:101]', 'SM_Exgauster\\\\[2:102]', 'SM_Exgauster\\\\[2:103]', 'SM_Exgauster\\\\[2:104]', 'SM_Exgauster\\\\[2:105]', 'SM_Exgauster\\\\[2:106]', 'SM_Exgauster\\\\[2:107]', 'SM_Exgauster\\\\[2:108]', 'SM_Exgauster\\\\[2:109]', 'SM_Exgauster\\\\[2:110]', 'SM_Exgauster\\\\[2:111]', 'SM_Exgauster\\\\[2:112]', 'SM_Exgauster\\\\[2:113]', 'SM_Exgauster\\\\[2:114]', 'SM_Exgauster\\\\[2:115]', 'SM_Exgauster\\\\[2:116]', 'SM_Exgauster\\\\[2:117]', 'SM_Exgauster\\\\[2:118]', 'SM_Exgauster\\\\[2:119]', 'SM_Exgauster\\\\[2:120]', 'SM_Exgauster\\\\[2:121]', 'SM_Exgauster\\\\[2:122]', 'SM_Exgauster\\\\[2:123]', 'SM_Exgauster\\\\[2:124]', 'SM_Exgauster\\\\[2:125]', 'SM_Exgauster\\\\[2:126]', 'SM_Exgauster\\\\[2:127]', 'SM_Exgauster\\\\[2:128]', 'SM_Exgauster\\\\[2:129]', 'SM_Exgauster\\\\[2:130]', 'SM_Exgauster\\\\[2:131]', 'SM_Exgauster\\\\[2:132]', 'SM_Exgauster\\\\[2:133]', 'SM_Exgauster\\\\[2:134]', 'SM_Exgauster\\\\[2:135]', 'SM_Exgauster\\\\[2:136]', 'SM_Exgauster\\\\[2:137]', 'SM_Exgauster\\\\[2:138]', 'SM_Exgauster\\\\[2:139]', 'SM_Exgauster\\\\[2:140]', 'SM_Exgauster\\\\[2:141]', 'SM_Exgauster\\\\[2:142]', 'SM_Exgauster\\\\[2:143]', 'SM_Exgauster\\\\[2:144]', 'SM_Exgauster\\\\[2:145]', 'SM_Exgauster\\\\[2:146]', 'SM_Exgauster\\\\[2:147]', 'SM_Exgauster\\\\[2:148]', 'SM_Exgauster\\\\[2:149]', 'SM_Exgauster\\\\[2:150]', 'SM_Exgauster\\\\[2:151]', 'SM_Exgauster\\\\[2:152]', 'SM_Exgauster\\\\[2:153]', 'SM_Exgauster\\\\[2:154]', 'SM_Exgauster\\\\[2:155]', 'SM_Exgauster\\\\[2:156]', 'SM_Exgauster\\\\[2:157]', 'SM_Exgauster\\\\[2:158]', 'SM_Exgauster\\\\[2:159]', 'SM_Exgauster\\\\[2:160]', 'SM_Exgauster\\\\[2:161]', 'SM_Exgauster\\\\[2:162]', 'SM_Exgauster\\\\[2:163]', 'SM_Exgauster\\\\[2:164]', 'SM_Exgauster\\\\[2:165]', 'SM_Exgauster\\\\[2:166]', 'SM_Exgauster\\\\[2:167]', 'SM_Exgauster\\\\[2:168]', 'SM_Exgauster\\\\[2:169]', 'SM_Exgauster\\\\[2:170]', 'SM_Exgauster\\\\[2:171]', 'SM_Exgauster\\\\[2:172]', 'SM_Exgauster\\\\[2:173]', 'SM_Exgauster\\\\[2:174]', 'SM_Exgauster\\\\[2:175]', 'SM_Exgauster\\\\[2:176]', 'SM_Exgauster\\\\[2:177]', 'SM_Exgauster\\\\[2:178]', 'SM_Exgauster\\\\[2:179]', 'SM_Exgauster\\\\[2:180]', 'SM_Exgauster\\\\[2:181]', 'SM_Exgauster\\\\[2:182]', 'SM_Exgauster\\\\[2:183]', 'SM_Exgauster\\\\[2:184]', 'SM_Exgauster\\\\[2:185]', 'SM_Exgauster\\\\[2:186]', 'SM_Exgauster\\\\[2:187]', 'SM_Exgauster\\\\[2:188]', 'SM_Exgauster\\\\[2:189]', 'SM_Exgauster\\\\[2:190]', 'SM_Exgauster\\\\[2:191]', 'SM_Exgauster\\\\[2:192]', 'SM_Exgauster\\\\[2:193]', 'SM_Exgauster\\\\[2:194]', 'SM_Exgauster\\\\[2:195]', 'SM_Exgauster\\\\[2:196]', 'SM_Exgauster\\\\[2:197]', 'SM_Exgauster\\\\[2:198]', 'SM_Exgauster\\\\[2:199]', 'SM_Exgauster\\\\[2:200]', 'SM_Exgauster\\\\[2:201]', 'SM_Exgauster\\\\[2:202]', 'SM_Exgauster\\\\[2:203]', 'SM_Exgauster\\\\[2:204]', 'SM_Exgauster\\\\[2:205]', 'SM_Exgauster\\\\[2:206]', 'SM_Exgauster\\\\[2:207]', 'SM_Exgauster\\\\[2:208]', 'SM_Exgauster\\\\[2:209]', 'SM_Exgauster\\\\[2:210]', 'SM_Exgauster\\\\[2:211]', 'SM_Exgauster\\\\[2:212]', 'SM_Exgauster\\\\[2:213]', 'SM_Exgauster\\\\[2:214]', 'SM_Exgauster\\\\[2:215]', 'SM_Exgauster\\\\[2:216]', 'SM_Exgauster\\\\[2:217]', 'SM_Exgauster\\\\[2:218]', 'SM_Exgauster\\\\[2:219]', 'SM_Exgauster\\\\[2:220]', 'SM_Exgauster\\\\[2:221]', 'SM_Exgauster\\\\[2:222]', 'SM_Exgauster\\\\[2:223]', 'SM_Exgauster\\\\[2:224]', 'SM_Exgauster\\\\[2:225]', 'SM_Exgauster\\\\[2:226]', 'SM_Exgauster\\\\[2:227]', 'SM_Exgauster\\\\[2:228]', 'SM_Exgauster\\\\[2:229]', 'SM_Exgauster\\\\[2:230]', 'SM_Exgauster\\\\[2:231]', 'SM_Exgauster\\\\[2:232]', 'SM_Exgauster\\\\[2.0]', 'SM_Exgauster\\\\[2.1]', 'SM_Exgauster\\\\[3:0]', 'SM_Exgauster\\\\[3:1]', 'SM_Exgauster\\\\[3:2]', 'SM_Exgauster\\\\[3:3]', 'SM_Exgauster\\\\[3:4]', 'SM_Exgauster\\\\[3:5]', 'SM_Exgauster\\\\[3:6]', 'SM_Exgauster\\\\[3:7]', 'SM_Exgauster\\\\[3:8]', 'SM_Exgauster\\\\[3:9]', 'SM_Exgauster\\\\[3:10]', 'SM_Exgauster\\\\[3:11]', 'SM_Exgauster\\\\[3:12]', 'SM_Exgauster\\\\[3:13]', 'SM_Exgauster\\\\[3:14]', 'SM_Exgauster\\\\[3:15]', 'SM_Exgauster\\\\[3:16]', 'SM_Exgauster\\\\[3:17]', 'SM_Exgauster\\\\[3:18]', 'SM_Exgauster\\\\[3:19]', 'SM_Exgauster\\\\[3:20]', 'SM_Exgauster\\\\[3:21]', 'SM_Exgauster\\\\[3:22]', 'SM_Exgauster\\\\[3:23]', 'SM_Exgauster\\\\[3:24]', 'SM_Exgauster\\\\[3:25]', 'SM_Exgauster\\\\[3:27]', 'SM_Exgauster\\\\[3:28]', 'SM_Exgauster\\\\[3:29]', 'SM_Exgauster\\\\[3:30]', 'SM_Exgauster\\\\[3:31]', 'SM_Exgauster\\\\[3:32]', 'SM_Exgauster\\\\[3:33]', 'SM_Exgauster\\\\[3:34]', 'SM_Exgauster\\\\[3:35]', 'SM_Exgauster\\\\[3:36]', 'SM_Exgauster\\\\[3:37]', 'SM_Exgauster\\\\[3:41]', 'SM_Exgauster\\\\[3:42]', 'SM_Exgauster\\\\[3:43]', 'SM_Exgauster\\\\[3:44]', 'SM_Exgauster\\\\[3:45]', 'SM_Exgauster\\\\[3:46]', 'SM_Exgauster\\\\[3:47]', 'SM_Exgauster\\\\[3:48]', 'SM_Exgauster\\\\[3:49]', 'SM_Exgauster\\\\[3:50]', 'SM_Exgauster\\\\[3:51]', 'SM_Exgauster\\\\[3:52]', 'SM_Exgauster\\\\[3:53]', 'SM_Exgauster\\\\[3:54]', 'SM_Exgauster\\\\[3:55]', 'SM_Exgauster\\\\[3:56]', 'SM_Exgauster\\\\[3:57]', 'SM_Exgauster\\\\[3:58]', 'SM_Exgauster\\\\[3:59]', 'SM_Exgauster\\\\[3:60]', 'SM_Exgauster\\\\[3:61]', 'SM_Exgauster\\\\[3:62]', 'SM_Exgauster\\\\[3:63]', 'SM_Exgauster\\\\[3:64]', 'SM_Exgauster\\\\[3:65]', 'SM_Exgauster\\\\[3:66]', 'SM_Exgauster\\\\[3:67]', 'SM_Exgauster\\\\[3:68]', 'SM_Exgauster\\\\[3:69]', 'SM_Exgauster\\\\[3:70]', 'SM_Exgauster\\\\[3:71]', 'SM_Exgauster\\\\[3:72]', 'SM_Exgauster\\\\[3:73]', 'SM_Exgauster\\\\[3:74]', 'SM_Exgauster\\\\[3:75]', 'SM_Exgauster\\\\[3:76]', 'SM_Exgauster\\\\[3:77]', 'SM_Exgauster\\\\[3:78]', 'SM_Exgauster\\\\[3:79]', 'SM_Exgauster\\\\[3:80]', 'SM_Exgauster\\\\[3:81]', 'SM_Exgauster\\\\[3:82]', 'SM_Exgauster\\\\[3:83]', 'SM_Exgauster\\\\[3:84]', 'SM_Exgauster\\\\[3:85]', 'SM_Exgauster\\\\[3:86]', 'SM_Exgauster\\\\[3:87]', 'SM_Exgauster\\\\[3:88]', 'SM_Exgauster\\\\[3:89]', 'SM_Exgauster\\\\[3:90]', 'SM_Exgauster\\\\[3:91]', 'SM_Exgauster\\\\[3:92]', 'SM_Exgauster\\\\[3:93]', 'SM_Exgauster\\\\[3:94]', 'SM_Exgauster\\\\[3:95]', 'SM_Exgauster\\\\[3:96]', 'SM_Exgauster\\\\[3:97]', 'SM_Exgauster\\\\[3:98]', 'SM_Exgauster\\\\[3:99]', 'SM_Exgauster\\\\[3:100]', 'SM_Exgauster\\\\[3:101]', 'SM_Exgauster\\\\[3:102]', 'SM_Exgauster\\\\[3:103]', 'SM_Exgauster\\\\[3:104]', 'SM_Exgauster\\\\[3:105]', 'SM_Exgauster\\\\[3:106]', 'SM_Exgauster\\\\[3:107]', 'SM_Exgauster\\\\[3:108]', 'SM_Exgauster\\\\[3:109]', 'SM_Exgauster\\\\[3:110]', 'SM_Exgauster\\\\[3:111]', 'SM_Exgauster\\\\[3:112]', 'SM_Exgauster\\\\[3:113]', 'SM_Exgauster\\\\[3:114]', 'SM_Exgauster\\\\[3:115]', 'SM_Exgauster\\\\[3:116]', 'SM_Exgauster\\\\[3:117]', 'SM_Exgauster\\\\[3:118]', 'SM_Exgauster\\\\[3:119]', 'SM_Exgauster\\\\[3:120]', 'SM_Exgauster\\\\[3:121]', 'SM_Exgauster\\\\[3:122]', 'SM_Exgauster\\\\[3:123]', 'SM_Exgauster\\\\[3:124]', 'SM_Exgauster\\\\[3:125]', 'SM_Exgauster\\\\[3:126]', 'SM_Exgauster\\\\[3:127]', 'SM_Exgauster\\\\[3:128]', 'SM_Exgauster\\\\[3:129]', 'SM_Exgauster\\\\[3:130]', 'SM_Exgauster\\\\[3:131]', 'SM_Exgauster\\\\[3:132]', 'SM_Exgauster\\\\[3:133]', 'SM_Exgauster\\\\[3:134]', 'SM_Exgauster\\\\[3:135]', 'SM_Exgauster\\\\[3:136]', 'SM_Exgauster\\\\[3:137]', 'SM_Exgauster\\\\[3:138]', 'SM_Exgauster\\\\[3:139]', 'SM_Exgauster\\\\[3:140]', 'SM_Exgauster\\\\[3:141]', 'SM_Exgauster\\\\[3:142]', 'SM_Exgauster\\\\[3:143]', 'SM_Exgauster\\\\[3:144]', 'SM_Exgauster\\\\[3:145]', 'SM_Exgauster\\\\[3:146]', 'SM_Exgauster\\\\[3:147]', 'SM_Exgauster\\\\[3:148]', 'SM_Exgauster\\\\[3:149]', 'SM_Exgauster\\\\[3:150]', 'SM_Exgauster\\\\[3:151]', 'SM_Exgauster\\\\[3:152]', 'SM_Exgauster\\\\[3:153]', 'SM_Exgauster\\\\[3:154]', 'SM_Exgauster\\\\[3:155]', 'SM_Exgauster\\\\[3:156]', 'SM_Exgauster\\\\[3:157]', 'SM_Exgauster\\\\[3:158]', 'SM_Exgauster\\\\[3:159]', 'SM_Exgauster\\\\[3:160]', 'SM_Exgauster\\\\[3:161]', 'SM_Exgauster\\\\[3:162]', 'SM_Exgauster\\\\[3:163]', 'SM_Exgauster\\\\[3:164]', 'SM_Exgauster\\\\[3:165]', 'SM_Exgauster\\\\[3:166]', 'SM_Exgauster\\\\[3:167]', 'SM_Exgauster\\\\[3:168]', 'SM_Exgauster\\\\[3:169]', 'SM_Exgauster\\\\[3:170]', 'SM_Exgauster\\\\[3:171]', 'SM_Exgauster\\\\[3:172]', 'SM_Exgauster\\\\[3:173]', 'SM_Exgauster\\\\[3:174]', 'SM_Exgauster\\\\[3:175]', 'SM_Exgauster\\\\[3:176]', 'SM_Exgauster\\\\[3:177]', 'SM_Exgauster\\\\[3:178]', 'SM_Exgauster\\\\[3:179]', 'SM_Exgauster\\\\[3:180]', 'SM_Exgauster\\\\[3:181]', 'SM_Exgauster\\\\[3:182]', 'SM_Exgauster\\\\[3:183]', 'SM_Exgauster\\\\[3:184]', 'SM_Exgauster\\\\[3:185]', 'SM_Exgauster\\\\[3:186]', 'SM_Exgauster\\\\[3:187]', 'SM_Exgauster\\\\[3:188]', 'SM_Exgauster\\\\[3:189]', 'SM_Exgauster\\\\[3:190]', 'SM_Exgauster\\\\[3:191]', 'SM_Exgauster\\\\[3:192]', 'SM_Exgauster\\\\[3:193]', 'SM_Exgauster\\\\[3:194]', 'SM_Exgauster\\\\[3:195]', 'SM_Exgauster\\\\[3:196]', 'SM_Exgauster\\\\[3:197]', 'SM_Exgauster\\\\[3:198]', 'SM_Exgauster\\\\[3:199]', 'SM_Exgauster\\\\[3:200]', 'SM_Exgauster\\\\[3:201]', 'SM_Exgauster\\\\[3:202]', 'SM_Exgauster\\\\[3:203]', 'SM_Exgauster\\\\[3:204]', 'SM_Exgauster\\\\[3:205]', 'SM_Exgauster\\\\[3:206]', 'SM_Exgauster\\\\[3:207]', 'SM_Exgauster\\\\[3:208]', 'SM_Exgauster\\\\[3:209]', 'SM_Exgauster\\\\[3:210]', 'SM_Exgauster\\\\[3:211]', 'SM_Exgauster\\\\[3:212]', 'SM_Exgauster\\\\[3:213]', 'SM_Exgauster\\\\[3:214]', 'SM_Exgauster\\\\[3:215]', 'SM_Exgauster\\\\[3:216]', 'SM_Exgauster\\\\[3:217]', 'SM_Exgauster\\\\[3:218]', 'SM_Exgauster\\\\[3:219]', 'SM_Exgauster\\\\[3:220]', 'SM_Exgauster\\\\[3:221]', 'SM_Exgauster\\\\[3:222]', 'SM_Exgauster\\\\[3:223]', 'SM_Exgauster\\\\[3:224]', 'SM_Exgauster\\\\[3:225]', 'SM_Exgauster\\\\[3:226]', 'SM_Exgauster\\\\[3:227]', 'SM_Exgauster\\\\[3:228]', 'SM_Exgauster\\\\[3:229]', 'SM_Exgauster\\\\[3:230]', 'SM_Exgauster\\\\[3.0]', 'SM_Exgauster\\\\[3.1]', 'SM_Exgauster\\\\[4:0]', 'SM_Exgauster\\\\[4:1]', 'SM_Exgauster\\\\[4:3]', 'SM_Exgauster\\\\[4:7]', 'SM_Exgauster\\\\[4:8]', 'SM_Exgauster\\\\[4:10]', 'SM_Exgauster\\\\[4.0]', 'SM_Exgauster\\\\[4.1]', 'SM_Exgauster\\\\[4.2]', 'SM_Exgauster\\\\[4.3]', 'SM_Exgauster\\\\[4.4]', 'SM_Exgauster\\\\[4.5]', 'SM_Exgauster\\\\[4.6]', 'SM_Exgauster\\\\[4.7]', 'SM_Exgauster\\\\[4.8]', 'SM_Exgauster\\\\[4.9]', 'SM_Exgauster\\\\[5:0]', 'SM_Exgauster\\\\[5:1]', 'SM_Exgauster\\\\[5:2]', 'SM_Exgauster\\\\[5:3]', 'SM_Exgauster\\\\[5:4]', 'SM_Exgauster\\\\[5:5]', 'SM_Exgauster\\\\[5:6]', 'SM_Exgauster\\\\[5:7]', 'SM_Exgauster\\\\[5:8]', 'SM_Exgauster\\\\[5:9]', 'SM_Exgauster\\\\[5:10]', 'SM_Exgauster\\\\[5:11]', 'SM_Exgauster\\\\[5:12]', 'SM_Exgauster\\\\[5:13]', 'SM_Exgauster\\\\[5.0]', 'SM_Exgauster\\\\[5.1]', 'SM_Exgauster\\\\[5.2]', 'SM_Exgauster\\\\[5.3]', 'SM_Exgauster\\\\[5.4]', 'SM_Exgauster\\\\[5.5]', 'SM_Exgauster\\\\[5.6]', 'SM_Exgauster\\\\[5.7]', 'SM_Exgauster\\\\[5.8]', 'SM_Exgauster\\\\[5.9]', 'SM_Exgauster\\\\[6:0]', 'SM_Exgauster\\\\[6:1]', 'SM_Exgauster\\\\[6:2]', 'SM_Exgauster\\\\[6.0]', 'SM_Exgauster\\\\[7:0]', 'SM_Exgauster\\\\[7:1]', 'SM_Exgauster\\\\[7:2]', 'SM_Exgauster\\\\[7.0]', 'SM_Exgauster\\\\[8:0]', 'SM_Exgauster\\\\[8:1]', 'SM_Exgauster\\\\[8:2]', 'SM_Exgauster\\\\[8.0]'])"
      ]
     },
     "execution_count": 47,
     "metadata": {},
     "output_type": "execute_result"
    }
   ],
   "source": [
    "# парсинг данных\n",
    "message.value.keys()"
   ]
  },
  {
   "cell_type": "markdown",
   "id": "a9916134",
   "metadata": {},
   "source": [
    "# Запись сигналов в базу данных"
   ]
  },
  {
   "cell_type": "code",
   "execution_count": 16,
   "id": "76701dea",
   "metadata": {},
   "outputs": [],
   "source": [
    "# загрузка библиотек\n",
    "import psycopg2\n",
    "from psycopg2.extras import Json"
   ]
  },
  {
   "cell_type": "code",
   "execution_count": 17,
   "id": "f4ee319f",
   "metadata": {},
   "outputs": [],
   "source": [
    "# загрузка конфигурации доступа к базе данных в облаке\n",
    "with open('DATABASE_URL.txt', 'r') as f:\n",
    "    DATABASE_URL = f.read()"
   ]
  },
  {
   "cell_type": "code",
   "execution_count": 18,
   "id": "fd7b9fc0",
   "metadata": {},
   "outputs": [],
   "source": [
    "# создание подключения к базе данны\n",
    "connect = psycopg2.connect(DATABASE_URL)"
   ]
  },
  {
   "cell_type": "code",
   "execution_count": 19,
   "id": "9baf2dd1",
   "metadata": {},
   "outputs": [],
   "source": [
    "# создание объекта курсора подключения к базе данных\n",
    "cursor = connect.cursor()"
   ]
  },
  {
   "cell_type": "code",
   "execution_count": 20,
   "id": "e41ac3ac",
   "metadata": {},
   "outputs": [],
   "source": [
    "# отбор показателей для парсинга\n",
    "cursor.execute(\"SELECT signal_settings_id, place \\\n",
    "                FROM blm.mapping_signals \\\n",
    "                INNER JOIN blm.marks USING(mark_id) \\\n",
    "                INNER JOIN blm.signal_settings USING(signal_settings_id) \\\n",
    "                WHERE mark_name != 'Уставки';\")\n",
    "place_list = cursor.fetchall()"
   ]
  },
  {
   "cell_type": "code",
   "execution_count": 21,
   "id": "2bfe7c1e",
   "metadata": {},
   "outputs": [
    {
     "data": {
      "text/plain": [
       "126"
      ]
     },
     "execution_count": 21,
     "metadata": {},
     "output_type": "execute_result"
    }
   ],
   "source": [
    "# количество атрибутов сигнала\n",
    "len(place_list)"
   ]
  },
  {
   "cell_type": "code",
   "execution_count": 22,
   "id": "c4a919eb",
   "metadata": {},
   "outputs": [
    {
     "data": {
      "text/plain": [
       "[(283, 'SM_Exgauster\\\\[2:27]'),\n",
       " (259, 'SM_Exgauster\\\\[2:2]'),\n",
       " (257, 'SM_Exgauster\\\\[2:0]'),\n",
       " (258, 'SM_Exgauster\\\\[2:1]'),\n",
       " (284, 'SM_Exgauster\\\\[2:28]')]"
      ]
     },
     "execution_count": 22,
     "metadata": {},
     "output_type": "execute_result"
    }
   ],
   "source": [
    "# извлечение значений\n",
    "place_list[:5]"
   ]
  },
  {
   "cell_type": "code",
   "execution_count": 23,
   "id": "ed0a9fa5",
   "metadata": {},
   "outputs": [
    {
     "data": {
      "text/plain": [
       "(0, 1674628380616, '2023-01-25T06:32:25.125007')"
      ]
     },
     "execution_count": 23,
     "metadata": {},
     "output_type": "execute_result"
    }
   ],
   "source": [
    "# данные для записи в таблицу - 'calendar'\n",
    "message.offset, message.timestamp, message.value['moment']"
   ]
  },
  {
   "cell_type": "code",
   "execution_count": 189,
   "id": "ab4d1e2d",
   "metadata": {},
   "outputs": [],
   "source": [
    "# запись в таблицу - 'calendar'\n",
    "cursor.execute(\"INSERT INTO blm.calendar( \\\n",
    "                off_set, timestamp, moment) \\\n",
    "                VALUES (%s, %s, %s);\", (message.offset, message.timestamp, message.value['moment']))\n",
    "connect.commit()"
   ]
  },
  {
   "cell_type": "code",
   "execution_count": null,
   "id": "8a51f86a",
   "metadata": {},
   "outputs": [],
   "source": [
    "# данные для записи в таблицу - 'blm.moment_signals'"
   ]
  },
  {
   "cell_type": "code",
   "execution_count": 196,
   "id": "1dbc7836",
   "metadata": {},
   "outputs": [
    {
     "data": {
      "text/plain": [
       "(283, 'SM_Exgauster\\\\[2:27]')"
      ]
     },
     "execution_count": 196,
     "metadata": {},
     "output_type": "execute_result"
    }
   ],
   "source": [
    "signal_settings_id, place = place_list[0]\n",
    "signal_settings_id, place"
   ]
  },
  {
   "cell_type": "code",
   "execution_count": 197,
   "id": "c7f543fb",
   "metadata": {},
   "outputs": [
    {
     "data": {
      "text/plain": [
       "62.80000305175781"
      ]
     },
     "execution_count": 197,
     "metadata": {},
     "output_type": "execute_result"
    }
   ],
   "source": [
    "value = message.value[place]\n",
    "value"
   ]
  },
  {
   "cell_type": "code",
   "execution_count": 195,
   "id": "7ee7c422",
   "metadata": {},
   "outputs": [],
   "source": [
    "# запись в таблицу - 'moment_signals'\n",
    "cursor.execute(\"INSERT INTO blm.moment_signals( \\\n",
    "                off_set, signal_settings_id, value) \\\n",
    "                VALUES (%s, %s, %s);\", (message.offset, signal_settings_id, value))\n",
    "connect.commit()"
   ]
  },
  {
   "cell_type": "code",
   "execution_count": 205,
   "id": "9a429661",
   "metadata": {},
   "outputs": [
    {
     "data": {
      "text/plain": [
       "Decimal('62.80000305175781')"
      ]
     },
     "execution_count": 205,
     "metadata": {},
     "output_type": "execute_result"
    }
   ],
   "source": [
    "# запрос последнего значения для сигнала\n",
    "cursor.execute(f\"SELECT value \\\n",
    "                 FROM blm.moment_signals \\\n",
    "                 INNER JOIN blm.signal_settings USING(signal_settings_id) \\\n",
    "                 WHERE place = '{place}' AND \\\n",
    "                 off_set = (SELECT MAX(off_set) FROM blm.moment_signals WHERE place = '{place}');\")\n",
    "cursor.fetchone()[0]"
   ]
  },
  {
   "cell_type": "code",
   "execution_count": 24,
   "id": "83145af0",
   "metadata": {},
   "outputs": [],
   "source": [
    "# функция проверки соответствия относительного предыдущего значения сигнала - 'signal_messages'\n",
    "def where_signal_messages(signal_settings_id, place, value):\n",
    "    try:\n",
    "        cursor.execute(f\"SELECT value \\\n",
    "                         FROM blm.moment_signals \\\n",
    "                         INNER JOIN blm.signal_settings USING(signal_settings_id) \\\n",
    "                         WHERE place = '{place}' AND \\\n",
    "                         off_set = (SELECT MAX(off_set) FROM blm.moment_signals WHERE place = '{place}');\")\n",
    "        value_last = cursor.fetchone()[0]\n",
    "        if abs(value - float(value_last)) < 0.5:\n",
    "            return False\n",
    "        else:\n",
    "            return True\n",
    "    except:\n",
    "        return True"
   ]
  },
  {
   "cell_type": "code",
   "execution_count": 207,
   "id": "d39826c7",
   "metadata": {},
   "outputs": [
    {
     "data": {
      "text/plain": [
       "False"
      ]
     },
     "execution_count": 207,
     "metadata": {},
     "output_type": "execute_result"
    }
   ],
   "source": [
    "# проверка работы функции\n",
    "where_signal_messages(signal_settings_id, place, value)"
   ]
  },
  {
   "cell_type": "code",
   "execution_count": 25,
   "id": "75552b7f",
   "metadata": {},
   "outputs": [],
   "source": [
    "# функция записи данных в таблицу - 'signal_messages'\n",
    "def insetr_signal_messages(data, place_list):\n",
    "    try:\n",
    "        cursor.execute(\"INSERT INTO blm.calendar( \\\n",
    "                        off_set, timestamp, moment) \\\n",
    "                        VALUES (%s, %s, %s);\", (data.offset, data.timestamp, data.value['moment']))\n",
    "        connect.commit()\n",
    "    except:\n",
    "        pass\n",
    "    for signal_settings_id, place in place_list:\n",
    "        value = data.value[place]\n",
    "        if where_signal_messages(signal_settings_id, place, value) == True:\n",
    "            try:\n",
    "                cursor.execute(\"INSERT INTO blm.moment_signals( \\\n",
    "                                off_set, signal_settings_id, value) \\\n",
    "                                VALUES (%s, %s, %s);\", (data.offset, signal_settings_id, value))\n",
    "                connect.commit()\n",
    "            except:\n",
    "                pass           "
   ]
  },
  {
   "cell_type": "code",
   "execution_count": null,
   "id": "becf58ad",
   "metadata": {},
   "outputs": [],
   "source": [
    "# запись данных в таблицу - 'signal_messages'\n",
    "for message in consumer:\n",
    "    try:\n",
    "        insetr_signal_messages(message, place_list)\n",
    "    except:\n",
    "        print('Закончилось место в облаке')\n",
    "        break"
   ]
  },
  {
   "cell_type": "code",
   "execution_count": 8,
   "id": "308e6689",
   "metadata": {},
   "outputs": [
    {
     "data": {
      "text/plain": [
       "[(0, '1674628380616', datetime.date(2023, 1, 25)),\n",
       " (1, '1674628440578', datetime.date(2023, 1, 25)),\n",
       " (2, '1674628500598', datetime.date(2023, 1, 25))]"
      ]
     },
     "execution_count": 8,
     "metadata": {},
     "output_type": "execute_result"
    }
   ],
   "source": [
    "# проверка записи данных в таблицу 'measurings'\n",
    "cursor.execute(\"SELECT * FROM blm.calendar;\")\n",
    "cursor.fetchall()"
   ]
  },
  {
   "cell_type": "code",
   "execution_count": 9,
   "id": "1c226d0e",
   "metadata": {},
   "outputs": [
    {
     "data": {
      "text/plain": [
       "[(0, 283, Decimal('62.80000305175781')),\n",
       " (0, 259, Decimal('0.3819444477558136')),\n",
       " (1, 257, Decimal('0.5844907760620117')),\n",
       " (1, 258, Decimal('0.28356480598449707')),\n",
       " (1, 284, Decimal('56.599998474121094')),\n",
       " (1, 262, Decimal('0.21412037312984467')),\n",
       " (1, 260, Decimal('0.7724161744117737')),\n",
       " (1, 261, Decimal('0.5844907760620117')),\n",
       " (1, 285, Decimal('48.19999694824219')),\n",
       " (1, 286, Decimal('51.19999694824219')),\n",
       " (1, 287, Decimal('41.399993896484375')),\n",
       " (1, 288, Decimal('41.5')),\n",
       " (1, 289, Decimal('38.0')),\n",
       " (1, 265, Decimal('2.2280092239379883')),\n",
       " (1, 263, Decimal('1.4178240299224854')),\n",
       " (1, 264, Decimal('2.1007566452026367')),\n",
       " (1, 290, Decimal('42.5')),\n",
       " (1, 268, Decimal('2.3958332538604736')),\n",
       " (1, 266, Decimal('1.5393518209457397')),\n",
       " (1, 267, Decimal('1.0243055820465088')),\n",
       " (1, 291, Decimal('42.900001525878906')),\n",
       " (1, 299, Decimal('54.20000457763672')),\n",
       " (1, 271, Decimal('2.528934955596924')),\n",
       " (1, 269, Decimal('1.2268518209457397')),\n",
       " (1, 270, Decimal('1.7708332538604736')),\n",
       " (1, 300, Decimal('64.5')),\n",
       " (1, 274, Decimal('1.9791667461395264')),\n",
       " (1, 272, Decimal('1.064814805984497')),\n",
       " (1, 273, Decimal('1.8229167461395264')),\n",
       " (1, 301, Decimal('46.0')),\n",
       " (1, 303, Decimal('45.400001525878906')),\n",
       " (1, 304, Decimal('36.69999694824219')),\n",
       " (1, 305, Decimal('37.0')),\n",
       " (1, 306, Decimal('33.30000305175781')),\n",
       " (1, 277, Decimal('0.3125')),\n",
       " (1, 275, Decimal('0.35879629850387573')),\n",
       " (1, 276, Decimal('0.41087961196899414')),\n",
       " (1, 307, Decimal('39.400001525878906')),\n",
       " (1, 280, Decimal('0.7638888955116272')),\n",
       " (1, 278, Decimal('0.7581018805503845')),\n",
       " (1, 279, Decimal('0.42824074625968933')),\n",
       " (1, 308, Decimal('50.19999694824219')),\n",
       " (1, 27, Decimal('48.0')),\n",
       " (1, 3, Decimal('0.9621726274490356')),\n",
       " (1, 1, Decimal('1.267361044883728')),\n",
       " (1, 2, Decimal('1.689814805984497')),\n",
       " (1, 28, Decimal('48.0')),\n",
       " (1, 6, Decimal('1.4178240299224854')),\n",
       " (1, 4, Decimal('1.626157522201538')),\n",
       " (1, 5, Decimal('2.065972328186035')),\n",
       " (1, 29, Decimal('43.5')),\n",
       " (1, 30, Decimal('45.70000457763672')),\n",
       " (1, 31, Decimal('42.400001525878906')),\n",
       " (1, 32, Decimal('40.5')),\n",
       " (1, 33, Decimal('35.19999694824219')),\n",
       " (1, 9, Decimal('1.4822078943252563')),\n",
       " (1, 7, Decimal('1.997886300086975')),\n",
       " (1, 8, Decimal('1.5567129850387573')),\n",
       " (1, 34, Decimal('43.099998474121094')),\n",
       " (1, 12, Decimal('1.0706018209457397')),\n",
       " (1, 10, Decimal('1.7418981790542603')),\n",
       " (1, 11, Decimal('0.983796238899231')),\n",
       " (1, 35, Decimal('41.0')),\n",
       " (1, 43, Decimal('52.400001525878906')),\n",
       " (1, 15, Decimal('0.4166666865348816')),\n",
       " (1, 13, Decimal('1.2442129850387573')),\n",
       " (1, 14, Decimal('1.5046297311782837')),\n",
       " (1, 44, Decimal('54.20000457763672')),\n",
       " (1, 18, Decimal('1.4120370149612427')),\n",
       " (1, 16, Decimal('1.0243055820465088')),\n",
       " (1, 17, Decimal('1.9965277910232544')),\n",
       " (1, 45, Decimal('46.0')),\n",
       " (1, 47, Decimal('49.80000305175781')),\n",
       " (1, 48, Decimal('46.80000305175781')),\n",
       " (1, 49, Decimal('44.5')),\n",
       " (1, 50, Decimal('33.20000457763672')),\n",
       " (1, 21, Decimal('1.5856481790542603')),\n",
       " (1, 19, Decimal('0.5844907760620117')),\n",
       " (1, 20, Decimal('0.4456018805503845')),\n",
       " (1, 51, Decimal('49.5')),\n",
       " (1, 24, Decimal('0.3298611044883728')),\n",
       " (1, 22, Decimal('0.28356480598449707')),\n",
       " (1, 23, Decimal('-0.0173611119389534')),\n",
       " (1, 52, Decimal('45.099998474121094')),\n",
       " (1, 517, Decimal('16.699996948242188')),\n",
       " (1, 493, Decimal('0.05787036940455437')),\n",
       " (1, 491, Decimal('0.0347222238779068')),\n",
       " (1, 492, Decimal('0.023148149251937866')),\n",
       " (1, 518, Decimal('17.099998474121094')),\n",
       " (1, 496, Decimal('0.06365740299224854')),\n",
       " (1, 494, Decimal('0.0057870373129844666')),\n",
       " (1, 495, Decimal('0.0694444477558136')),\n",
       " (1, 519, Decimal('3.8999977111816406')),\n",
       " (1, 520, Decimal('24.800003051757812')),\n",
       " (1, 521, Decimal('22.0')),\n",
       " (1, 522, Decimal('23.400001525878906')),\n",
       " (1, 523, Decimal('3.5999984741210938')),\n",
       " (1, 499, Decimal('0.14467592537403107')),\n",
       " (1, 497, Decimal('0.0859488993883133')),\n",
       " (1, 498, Decimal('0.10995370149612427')),\n",
       " (1, 524, Decimal('-0.5999984741210938')),\n",
       " (1, 502, Decimal('0.15046297013759613')),\n",
       " (1, 500, Decimal('0.0552925243973732')),\n",
       " (1, 501, Decimal('0.06365740299224854')),\n",
       " (1, 525, Decimal('-0.5999984741210938')),\n",
       " (1, 533, Decimal('19.5')),\n",
       " (1, 505, Decimal('0.011574074625968933')),\n",
       " (1, 503, Decimal('0.0347222238779068')),\n",
       " (1, 504, Decimal('0.0347222238779068')),\n",
       " (1, 534, Decimal('23.199996948242188')),\n",
       " (1, 508, Decimal('0.06365740299224854')),\n",
       " (1, 506, Decimal('0.0347222238779068')),\n",
       " (1, 507, Decimal('0.04050925746560097')),\n",
       " (1, 535, Decimal('30.099998474121094')),\n",
       " (1, 537, Decimal('26.5')),\n",
       " (1, 538, Decimal('30.400001525878906')),\n",
       " (1, 539, Decimal('28.899993896484375')),\n",
       " (1, 540, Decimal('15.5')),\n",
       " (1, 511, Decimal('0.09837962687015533')),\n",
       " (1, 509, Decimal('0.086805559694767')),\n",
       " (1, 510, Decimal('0.11574073880910873')),\n",
       " (1, 541, Decimal('17.0')),\n",
       " (1, 514, Decimal('0.05787036940455437')),\n",
       " (1, 512, Decimal('0.04050925746560097')),\n",
       " (1, 513, Decimal('0.03493233025074005')),\n",
       " (1, 542, Decimal('19.599998474121094')),\n",
       " (2, 283, Decimal('62.80000305175781')),\n",
       " (2, 259, Decimal('0.38773149251937866')),\n",
       " (2, 257, Decimal('0.6076388955116272')),\n",
       " (2, 258, Decimal('0.27199074625968933')),\n",
       " (2, 284, Decimal('56.599998474121094')),\n",
       " (2, 262, Decimal('0.2256944477558136')),\n",
       " (2, 260, Decimal('0.7689629793167114')),\n",
       " (2, 261, Decimal('0.5844907760620117')),\n",
       " (2, 285, Decimal('48.19999694824219')),\n",
       " (2, 286, Decimal('51.19999694824219')),\n",
       " (2, 287, Decimal('41.399993896484375')),\n",
       " (2, 288, Decimal('41.5')),\n",
       " (2, 289, Decimal('38.0')),\n",
       " (2, 265, Decimal('2.256944417953491')),\n",
       " (2, 263, Decimal('1.4120370149612427')),\n",
       " (2, 264, Decimal('2.117100715637207')),\n",
       " (2, 290, Decimal('42.5')),\n",
       " (2, 268, Decimal('2.378472328186035')),\n",
       " (2, 266, Decimal('1.5393518209457397')),\n",
       " (2, 267, Decimal('1.047453761100769')),\n",
       " (2, 291, Decimal('42.900001525878906')),\n",
       " (2, 299, Decimal('54.20000457763672')),\n",
       " (2, 271, Decimal('2.586805582046509')),\n",
       " (2, 269, Decimal('1.278935194015503')),\n",
       " (2, 270, Decimal('1.8344907760620117')),\n",
       " (2, 300, Decimal('64.5')),\n",
       " (2, 274, Decimal('1.9791667461395264')),\n",
       " (2, 272, Decimal('1.082175850868225')),\n",
       " (2, 273, Decimal('1.875')),\n",
       " (2, 301, Decimal('46.0')),\n",
       " (2, 303, Decimal('45.400001525878906')),\n",
       " (2, 304, Decimal('36.69999694824219')),\n",
       " (2, 305, Decimal('36.900001525878906')),\n",
       " (2, 306, Decimal('33.30000305175781')),\n",
       " (2, 277, Decimal('0.30092594027519226')),\n",
       " (2, 275, Decimal('0.35879629850387573')),\n",
       " (2, 276, Decimal('0.4050925672054291')),\n",
       " (2, 307, Decimal('39.400001525878906')),\n",
       " (2, 280, Decimal('0.694444477558136')),\n",
       " (2, 278, Decimal('0.7870370149612427')),\n",
       " (2, 279, Decimal('0.46296295523643494')),\n",
       " (2, 308, Decimal('50.19999694824219')),\n",
       " (2, 27, Decimal('48.0')),\n",
       " (2, 3, Decimal('0.9714293479919434')),\n",
       " (2, 1, Decimal('1.296296238899231')),\n",
       " (2, 2, Decimal('1.701388955116272')),\n",
       " (2, 28, Decimal('48.0')),\n",
       " (2, 6, Decimal('1.4293981790542603')),\n",
       " (2, 4, Decimal('1.6203702688217163')),\n",
       " (2, 5, Decimal('2.0833332538604736')),\n",
       " (2, 29, Decimal('43.5')),\n",
       " (2, 30, Decimal('45.70000457763672')),\n",
       " (2, 31, Decimal('42.400001525878906')),\n",
       " (2, 32, Decimal('40.5')),\n",
       " (2, 33, Decimal('35.19999694824219')),\n",
       " (2, 9, Decimal('1.4898688793182373')),\n",
       " (2, 7, Decimal('1.9907578229904175')),\n",
       " (2, 8, Decimal('1.5277777910232544')),\n",
       " (2, 34, Decimal('43.099998474121094')),\n",
       " (2, 12, Decimal('1.064814805984497')),\n",
       " (2, 10, Decimal('1.7129629850387573')),\n",
       " (2, 11, Decimal('0.9664351344108582')),\n",
       " (2, 35, Decimal('41.0')),\n",
       " (2, 43, Decimal('52.400001525878906')),\n",
       " (2, 15, Decimal('0.4166666865348816')),\n",
       " (2, 13, Decimal('1.221064805984497')),\n",
       " (2, 14, Decimal('1.516203761100769')),\n",
       " (2, 44, Decimal('54.20000457763672')),\n",
       " (2, 18, Decimal('1.4004629850387573'))]"
      ]
     },
     "execution_count": 9,
     "metadata": {},
     "output_type": "execute_result"
    }
   ],
   "source": [
    "# проверка записи данных в таблицу 'measurings'\n",
    "cursor.execute(\"SELECT * FROM blm.moment_signals;\")\n",
    "cursor.fetchall()"
   ]
  },
  {
   "cell_type": "code",
   "execution_count": null,
   "id": "80c70c1a",
   "metadata": {},
   "outputs": [],
   "source": [
    "# закрытие подключения к базе данных 'postgres'\n",
    "connect.close()"
   ]
  },
  {
   "cell_type": "code",
   "execution_count": 102,
   "id": "92275882",
   "metadata": {},
   "outputs": [],
   "source": [
    "# проверка записи данных в таблицу 'measurings'\n",
    "cursor.execute(\"SELECT * FROM stg.signal_messages;\")\n",
    "rows = cursor.fetchall()"
   ]
  },
  {
   "cell_type": "code",
   "execution_count": 61,
   "id": "e3aa80ef",
   "metadata": {},
   "outputs": [],
   "source": [
    "# вывод времени записи данных - 'Timestamp' и имя топика - 'Topic'\n",
    "cursor.execute(\"SELECT message -> 'Timestamp' AS Timestamp, \\\n",
    "                       message -> 'Topic' AS Topic \\\n",
    "                FROM stg.signal_messages LIMIT 2000;\")\n",
    "rows = cursor.fetchall()"
   ]
  },
  {
   "cell_type": "code",
   "execution_count": 66,
   "id": "5a9960a3",
   "metadata": {},
   "outputs": [
    {
     "data": {
      "text/plain": [
       "datetime.datetime(2023, 2, 13, 9, 11, 25, 97000)"
      ]
     },
     "execution_count": 66,
     "metadata": {},
     "output_type": "execute_result"
    }
   ],
   "source": [
    "# преобразование формата времени и даты записи в Kafka\n",
    "datetime.fromtimestamp(1676268685097 / 1000)"
   ]
  },
  {
   "cell_type": "code",
   "execution_count": 68,
   "id": "6308661a",
   "metadata": {},
   "outputs": [
    {
     "data": {
      "text/plain": [
       "datetime.datetime(2023, 2, 13, 6, 11, 25)"
      ]
     },
     "execution_count": 68,
     "metadata": {},
     "output_type": "execute_result"
    }
   ],
   "source": [
    "datetime.utcfromtimestamp(1676268685097 // 1000)"
   ]
  },
  {
   "cell_type": "code",
   "execution_count": 28,
   "id": "6266c41a",
   "metadata": {},
   "outputs": [],
   "source": [
    "#from kafka import KafkaConsumer\n",
    "#consumer = KafkaConsumer('tutorialspedia', \\\n",
    "#                         auto_offset_reset='earliest', enable_auto_commit=False, bootstrap_servers=['127.0.0.1:9092'])\n",
    "#for msg in consumer:\n",
    "#    print (msg)\n",
    "#for message in consumer:\n",
    "#    data = datetime.fromtimestamp(message.timestamp / 1000)\n",
    "    #data = datetime.utcfromtimestamp(int(str(message.timestamp)[:-3])).isoformat( sep=' ', timespec='milliseconds')\n",
    "#    print(data, message.value.decode(\"utf-8\"))"
   ]
  },
  {
   "cell_type": "code",
   "execution_count": 29,
   "id": "7dc1e693",
   "metadata": {},
   "outputs": [],
   "source": [
    "#from kafka import KafkaConsumer\n",
    "#consumer = KafkaConsumer('tutorialspedia',bootstrap_servers=['127.0.0.1:9092'])\n",
    "#print(consumer.config)\n",
    "#print(consumer.bootstrap_connected())"
   ]
  },
  {
   "cell_type": "code",
   "execution_count": 30,
   "id": "ba706cdb",
   "metadata": {},
   "outputs": [],
   "source": [
    "#from kafka import KafkaConsumer\n",
    "#consumer = KafkaConsumer('testnum',bootstrap_servers=['127.0.0.1:9092'])\n",
    "#print(consumer.config)\n",
    "#print(consumer.bootstrap_connected())"
   ]
  },
  {
   "cell_type": "code",
   "execution_count": 74,
   "id": "12fd6f9a",
   "metadata": {},
   "outputs": [],
   "source": [
    "#my_producer = KafkaProducer(  \n",
    "#    bootstrap_servers = ['localhost:9092'],  \n",
    "#    value_serializer = lambda x:dumps(x).encode('utf-8')  \n",
    "#    )  "
   ]
  },
  {
   "cell_type": "code",
   "execution_count": 31,
   "id": "06e9fbc0",
   "metadata": {},
   "outputs": [],
   "source": [
    "#for my_data in ['One', 'Two', 'red', 'green']:\n",
    "#    my_producer.send('tutorialspedia', value = my_data)  \n",
    "#    sleep(2) "
   ]
  }
 ],
 "metadata": {
  "kernelspec": {
   "display_name": "Python 3 (ipykernel)",
   "language": "python",
   "name": "python3"
  },
  "language_info": {
   "codemirror_mode": {
    "name": "ipython",
    "version": 3
   },
   "file_extension": ".py",
   "mimetype": "text/x-python",
   "name": "python",
   "nbconvert_exporter": "python",
   "pygments_lexer": "ipython3",
   "version": "3.9.7"
  }
 },
 "nbformat": 4,
 "nbformat_minor": 5
}
